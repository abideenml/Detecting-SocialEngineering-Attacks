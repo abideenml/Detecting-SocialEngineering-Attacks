{
  "nbformat": 4,
  "nbformat_minor": 0,
  "metadata": {
    "colab": {
      "provenance": [],
      "collapsed_sections": []
    },
    "kernelspec": {
      "name": "python3",
      "display_name": "Python 3"
    },
    "language_info": {
      "name": "python"
    }
  },
  "cells": [
    {
      "cell_type": "markdown",
      "source": [
        "# Doc To Vec To K-Means"
      ],
      "metadata": {
        "id": "-_Cl_AYu6wbf"
      }
    },
    {
      "cell_type": "code",
      "source": [
        "from google.colab import drive\n",
        "drive.mount('/content/drive/')"
      ],
      "metadata": {
        "colab": {
          "base_uri": "https://localhost:8080/"
        },
        "id": "5QKxb760DtZr",
        "outputId": "62489a31-ce3b-4d00-9c3b-d97222fb6155"
      },
      "execution_count": null,
      "outputs": [
        {
          "output_type": "stream",
          "name": "stdout",
          "text": [
            "Mounted at /content/drive/\n"
          ]
        }
      ]
    },
    {
      "cell_type": "markdown",
      "source": [
        "## Combining all the spam and Non spam into single dataframe"
      ],
      "metadata": {
        "id": "n2zCHTYfDRj3"
      }
    },
    {
      "cell_type": "code",
      "source": [
        "import pickle\n",
        "import pandas as pd\n",
        "import numpy\n",
        "import re\n",
        "import os\n",
        "import glob\n",
        "import numpy as np\n",
        "import gensim\n",
        "from sklearn.cluster import KMeans\n",
        "from sklearn.decomposition import PCA\n",
        "from gensim.models import Doc2Vec"
      ],
      "metadata": {
        "id": "YwPOsneQ601W"
      },
      "execution_count": null,
      "outputs": []
    },
    {
      "cell_type": "code",
      "source": [
        "spam_path = \"/content/drive/MyDrive/Projects/Thuiraj/clean_spam/\"\n",
        "\n",
        "files = os.path.join(\"/content/drive/MyDrive/Projects/Thuiraj/clean_spam/\", \"*.csv\")\n",
        "\n",
        "files = glob.glob(files)\n",
        "\n",
        "\n",
        "df_spam = pd.concat(map(pd.read_csv, files), ignore_index=True)\n",
        "\n",
        "\n"
      ],
      "metadata": {
        "id": "bTj7H-lv7DAE"
      },
      "execution_count": null,
      "outputs": []
    },
    {
      "cell_type": "code",
      "source": [
        "# type(df_spam)\n",
        "\n",
        "labels_spam = []\n",
        "\n",
        "for i in range(len(df_spam.index)):\n",
        "  labels_spam.append(0)\n",
        "\n",
        "# labels_spam = pd.Series(labels_spam)\n",
        "# labels_spam"
      ],
      "metadata": {
        "id": "DEfG-41K2pJu"
      },
      "execution_count": null,
      "outputs": []
    },
    {
      "cell_type": "code",
      "source": [
        "# len(df_spam.index)\n",
        "df_spam = df_spam.assign(labels=labels_spam)\n",
        "\n",
        "# df_spam['0']\n",
        "\n"
      ],
      "metadata": {
        "id": "t_wzaJfTASkO"
      },
      "execution_count": null,
      "outputs": []
    },
    {
      "cell_type": "code",
      "source": [
        "df_spam"
      ],
      "metadata": {
        "colab": {
          "base_uri": "https://localhost:8080/",
          "height": 424
        },
        "id": "lH_EtzPbFMTp",
        "outputId": "e1afc613-ba51-4399-90ee-8d32ce8132b3"
      },
      "execution_count": null,
      "outputs": [
        {
          "output_type": "execute_result",
          "data": {
            "text/plain": [
              "     Unnamed: 0                                                  0  labels\n",
              "0             0  Your social security number has been suspended...       0\n",
              "1             1                          Hello, is this Bob Smith?       0\n",
              "2             2  Hi. I’m a representative of the Social Securit...       0\n",
              "3             3  Hello Mr/Mrs. X, my name is Y and I work with ...       0\n",
              "4             4  I'm speaking from the Department of Homeland S...       0\n",
              "..          ...                                                ...     ...\n",
              "195          70  I can give you all the information that you ne...       0\n",
              "196          71  The truth, Mrs. Johnson, is that CDs are for s...       0\n",
              "197          72  Is Our information very clear? I can say lots ...       0\n",
              "198          73  Our information is very clear or not. I have p...       0\n",
              "199          74  have I done my job and our information is very...       0\n",
              "\n",
              "[200 rows x 3 columns]"
            ],
            "text/html": [
              "\n",
              "  <div id=\"df-4fdc3406-7c81-4f47-adda-e8b27a5e67d5\">\n",
              "    <div class=\"colab-df-container\">\n",
              "      <div>\n",
              "<style scoped>\n",
              "    .dataframe tbody tr th:only-of-type {\n",
              "        vertical-align: middle;\n",
              "    }\n",
              "\n",
              "    .dataframe tbody tr th {\n",
              "        vertical-align: top;\n",
              "    }\n",
              "\n",
              "    .dataframe thead th {\n",
              "        text-align: right;\n",
              "    }\n",
              "</style>\n",
              "<table border=\"1\" class=\"dataframe\">\n",
              "  <thead>\n",
              "    <tr style=\"text-align: right;\">\n",
              "      <th></th>\n",
              "      <th>Unnamed: 0</th>\n",
              "      <th>0</th>\n",
              "      <th>labels</th>\n",
              "    </tr>\n",
              "  </thead>\n",
              "  <tbody>\n",
              "    <tr>\n",
              "      <th>0</th>\n",
              "      <td>0</td>\n",
              "      <td>Your social security number has been suspended...</td>\n",
              "      <td>0</td>\n",
              "    </tr>\n",
              "    <tr>\n",
              "      <th>1</th>\n",
              "      <td>1</td>\n",
              "      <td>Hello, is this Bob Smith?</td>\n",
              "      <td>0</td>\n",
              "    </tr>\n",
              "    <tr>\n",
              "      <th>2</th>\n",
              "      <td>2</td>\n",
              "      <td>Hi. I’m a representative of the Social Securit...</td>\n",
              "      <td>0</td>\n",
              "    </tr>\n",
              "    <tr>\n",
              "      <th>3</th>\n",
              "      <td>3</td>\n",
              "      <td>Hello Mr/Mrs. X, my name is Y and I work with ...</td>\n",
              "      <td>0</td>\n",
              "    </tr>\n",
              "    <tr>\n",
              "      <th>4</th>\n",
              "      <td>4</td>\n",
              "      <td>I'm speaking from the Department of Homeland S...</td>\n",
              "      <td>0</td>\n",
              "    </tr>\n",
              "    <tr>\n",
              "      <th>...</th>\n",
              "      <td>...</td>\n",
              "      <td>...</td>\n",
              "      <td>...</td>\n",
              "    </tr>\n",
              "    <tr>\n",
              "      <th>195</th>\n",
              "      <td>70</td>\n",
              "      <td>I can give you all the information that you ne...</td>\n",
              "      <td>0</td>\n",
              "    </tr>\n",
              "    <tr>\n",
              "      <th>196</th>\n",
              "      <td>71</td>\n",
              "      <td>The truth, Mrs. Johnson, is that CDs are for s...</td>\n",
              "      <td>0</td>\n",
              "    </tr>\n",
              "    <tr>\n",
              "      <th>197</th>\n",
              "      <td>72</td>\n",
              "      <td>Is Our information very clear? I can say lots ...</td>\n",
              "      <td>0</td>\n",
              "    </tr>\n",
              "    <tr>\n",
              "      <th>198</th>\n",
              "      <td>73</td>\n",
              "      <td>Our information is very clear or not. I have p...</td>\n",
              "      <td>0</td>\n",
              "    </tr>\n",
              "    <tr>\n",
              "      <th>199</th>\n",
              "      <td>74</td>\n",
              "      <td>have I done my job and our information is very...</td>\n",
              "      <td>0</td>\n",
              "    </tr>\n",
              "  </tbody>\n",
              "</table>\n",
              "<p>200 rows × 3 columns</p>\n",
              "</div>\n",
              "      <button class=\"colab-df-convert\" onclick=\"convertToInteractive('df-4fdc3406-7c81-4f47-adda-e8b27a5e67d5')\"\n",
              "              title=\"Convert this dataframe to an interactive table.\"\n",
              "              style=\"display:none;\">\n",
              "        \n",
              "  <svg xmlns=\"http://www.w3.org/2000/svg\" height=\"24px\"viewBox=\"0 0 24 24\"\n",
              "       width=\"24px\">\n",
              "    <path d=\"M0 0h24v24H0V0z\" fill=\"none\"/>\n",
              "    <path d=\"M18.56 5.44l.94 2.06.94-2.06 2.06-.94-2.06-.94-.94-2.06-.94 2.06-2.06.94zm-11 1L8.5 8.5l.94-2.06 2.06-.94-2.06-.94L8.5 2.5l-.94 2.06-2.06.94zm10 10l.94 2.06.94-2.06 2.06-.94-2.06-.94-.94-2.06-.94 2.06-2.06.94z\"/><path d=\"M17.41 7.96l-1.37-1.37c-.4-.4-.92-.59-1.43-.59-.52 0-1.04.2-1.43.59L10.3 9.45l-7.72 7.72c-.78.78-.78 2.05 0 2.83L4 21.41c.39.39.9.59 1.41.59.51 0 1.02-.2 1.41-.59l7.78-7.78 2.81-2.81c.8-.78.8-2.07 0-2.86zM5.41 20L4 18.59l7.72-7.72 1.47 1.35L5.41 20z\"/>\n",
              "  </svg>\n",
              "      </button>\n",
              "      \n",
              "  <style>\n",
              "    .colab-df-container {\n",
              "      display:flex;\n",
              "      flex-wrap:wrap;\n",
              "      gap: 12px;\n",
              "    }\n",
              "\n",
              "    .colab-df-convert {\n",
              "      background-color: #E8F0FE;\n",
              "      border: none;\n",
              "      border-radius: 50%;\n",
              "      cursor: pointer;\n",
              "      display: none;\n",
              "      fill: #1967D2;\n",
              "      height: 32px;\n",
              "      padding: 0 0 0 0;\n",
              "      width: 32px;\n",
              "    }\n",
              "\n",
              "    .colab-df-convert:hover {\n",
              "      background-color: #E2EBFA;\n",
              "      box-shadow: 0px 1px 2px rgba(60, 64, 67, 0.3), 0px 1px 3px 1px rgba(60, 64, 67, 0.15);\n",
              "      fill: #174EA6;\n",
              "    }\n",
              "\n",
              "    [theme=dark] .colab-df-convert {\n",
              "      background-color: #3B4455;\n",
              "      fill: #D2E3FC;\n",
              "    }\n",
              "\n",
              "    [theme=dark] .colab-df-convert:hover {\n",
              "      background-color: #434B5C;\n",
              "      box-shadow: 0px 1px 3px 1px rgba(0, 0, 0, 0.15);\n",
              "      filter: drop-shadow(0px 1px 2px rgba(0, 0, 0, 0.3));\n",
              "      fill: #FFFFFF;\n",
              "    }\n",
              "  </style>\n",
              "\n",
              "      <script>\n",
              "        const buttonEl =\n",
              "          document.querySelector('#df-4fdc3406-7c81-4f47-adda-e8b27a5e67d5 button.colab-df-convert');\n",
              "        buttonEl.style.display =\n",
              "          google.colab.kernel.accessAllowed ? 'block' : 'none';\n",
              "\n",
              "        async function convertToInteractive(key) {\n",
              "          const element = document.querySelector('#df-4fdc3406-7c81-4f47-adda-e8b27a5e67d5');\n",
              "          const dataTable =\n",
              "            await google.colab.kernel.invokeFunction('convertToInteractive',\n",
              "                                                     [key], {});\n",
              "          if (!dataTable) return;\n",
              "\n",
              "          const docLinkHtml = 'Like what you see? Visit the ' +\n",
              "            '<a target=\"_blank\" href=https://colab.research.google.com/notebooks/data_table.ipynb>data table notebook</a>'\n",
              "            + ' to learn more about interactive tables.';\n",
              "          element.innerHTML = '';\n",
              "          dataTable['output_type'] = 'display_data';\n",
              "          await google.colab.output.renderOutput(dataTable, element);\n",
              "          const docLink = document.createElement('div');\n",
              "          docLink.innerHTML = docLinkHtml;\n",
              "          element.appendChild(docLink);\n",
              "        }\n",
              "      </script>\n",
              "    </div>\n",
              "  </div>\n",
              "  "
            ]
          },
          "metadata": {},
          "execution_count": 6
        }
      ]
    },
    {
      "cell_type": "code",
      "source": [
        "non_spam_path = \"/content/drive/MyDrive/Projects/Thuiraj/clean_non_spam/\"\n",
        "\n",
        "files = os.path.join(\"/content/drive/MyDrive/Projects/Thuiraj/clean_non_spam/\", \"*.csv\")\n",
        "\n",
        "files = glob.glob(files)\n",
        "\n",
        "df_non_spam = pd.concat(map(pd.read_csv, files), ignore_index=True)\n"
      ],
      "metadata": {
        "id": "CRtppfquBWq7"
      },
      "execution_count": null,
      "outputs": []
    },
    {
      "cell_type": "code",
      "source": [
        "df_non_spam = df_non_spam[:200]\n",
        "\n",
        "df_non_spam"
      ],
      "metadata": {
        "colab": {
          "base_uri": "https://localhost:8080/",
          "height": 424
        },
        "id": "xPvRd3jvCC-k",
        "outputId": "928f7ba9-345b-4d2c-ff62-f17c02b8f36e"
      },
      "execution_count": null,
      "outputs": [
        {
          "output_type": "execute_result",
          "data": {
            "text/plain": [
              "     Unnamed: 0                                             0\n",
              "0             0                                        solar \n",
              "1             1                                           mm \n",
              "2             2                                              \n",
              "3             3                              lipsmack anyway \n",
              "4             4                                          xxx \n",
              "..          ...                                           ...\n",
              "195         195                              lipsmack breath \n",
              "196         196   so I will be picking you up November first \n",
              "197         197                                  oh okay xxx \n",
              "198         198                            Three twenty five \n",
              "199         199                                          xxx \n",
              "\n",
              "[200 rows x 2 columns]"
            ],
            "text/html": [
              "\n",
              "  <div id=\"df-f415c707-e610-4d70-ac30-0532683a36ca\">\n",
              "    <div class=\"colab-df-container\">\n",
              "      <div>\n",
              "<style scoped>\n",
              "    .dataframe tbody tr th:only-of-type {\n",
              "        vertical-align: middle;\n",
              "    }\n",
              "\n",
              "    .dataframe tbody tr th {\n",
              "        vertical-align: top;\n",
              "    }\n",
              "\n",
              "    .dataframe thead th {\n",
              "        text-align: right;\n",
              "    }\n",
              "</style>\n",
              "<table border=\"1\" class=\"dataframe\">\n",
              "  <thead>\n",
              "    <tr style=\"text-align: right;\">\n",
              "      <th></th>\n",
              "      <th>Unnamed: 0</th>\n",
              "      <th>0</th>\n",
              "    </tr>\n",
              "  </thead>\n",
              "  <tbody>\n",
              "    <tr>\n",
              "      <th>0</th>\n",
              "      <td>0</td>\n",
              "      <td>solar</td>\n",
              "    </tr>\n",
              "    <tr>\n",
              "      <th>1</th>\n",
              "      <td>1</td>\n",
              "      <td>mm</td>\n",
              "    </tr>\n",
              "    <tr>\n",
              "      <th>2</th>\n",
              "      <td>2</td>\n",
              "      <td></td>\n",
              "    </tr>\n",
              "    <tr>\n",
              "      <th>3</th>\n",
              "      <td>3</td>\n",
              "      <td>lipsmack anyway</td>\n",
              "    </tr>\n",
              "    <tr>\n",
              "      <th>4</th>\n",
              "      <td>4</td>\n",
              "      <td>xxx</td>\n",
              "    </tr>\n",
              "    <tr>\n",
              "      <th>...</th>\n",
              "      <td>...</td>\n",
              "      <td>...</td>\n",
              "    </tr>\n",
              "    <tr>\n",
              "      <th>195</th>\n",
              "      <td>195</td>\n",
              "      <td>lipsmack breath</td>\n",
              "    </tr>\n",
              "    <tr>\n",
              "      <th>196</th>\n",
              "      <td>196</td>\n",
              "      <td>so I will be picking you up November first</td>\n",
              "    </tr>\n",
              "    <tr>\n",
              "      <th>197</th>\n",
              "      <td>197</td>\n",
              "      <td>oh okay xxx</td>\n",
              "    </tr>\n",
              "    <tr>\n",
              "      <th>198</th>\n",
              "      <td>198</td>\n",
              "      <td>Three twenty five</td>\n",
              "    </tr>\n",
              "    <tr>\n",
              "      <th>199</th>\n",
              "      <td>199</td>\n",
              "      <td>xxx</td>\n",
              "    </tr>\n",
              "  </tbody>\n",
              "</table>\n",
              "<p>200 rows × 2 columns</p>\n",
              "</div>\n",
              "      <button class=\"colab-df-convert\" onclick=\"convertToInteractive('df-f415c707-e610-4d70-ac30-0532683a36ca')\"\n",
              "              title=\"Convert this dataframe to an interactive table.\"\n",
              "              style=\"display:none;\">\n",
              "        \n",
              "  <svg xmlns=\"http://www.w3.org/2000/svg\" height=\"24px\"viewBox=\"0 0 24 24\"\n",
              "       width=\"24px\">\n",
              "    <path d=\"M0 0h24v24H0V0z\" fill=\"none\"/>\n",
              "    <path d=\"M18.56 5.44l.94 2.06.94-2.06 2.06-.94-2.06-.94-.94-2.06-.94 2.06-2.06.94zm-11 1L8.5 8.5l.94-2.06 2.06-.94-2.06-.94L8.5 2.5l-.94 2.06-2.06.94zm10 10l.94 2.06.94-2.06 2.06-.94-2.06-.94-.94-2.06-.94 2.06-2.06.94z\"/><path d=\"M17.41 7.96l-1.37-1.37c-.4-.4-.92-.59-1.43-.59-.52 0-1.04.2-1.43.59L10.3 9.45l-7.72 7.72c-.78.78-.78 2.05 0 2.83L4 21.41c.39.39.9.59 1.41.59.51 0 1.02-.2 1.41-.59l7.78-7.78 2.81-2.81c.8-.78.8-2.07 0-2.86zM5.41 20L4 18.59l7.72-7.72 1.47 1.35L5.41 20z\"/>\n",
              "  </svg>\n",
              "      </button>\n",
              "      \n",
              "  <style>\n",
              "    .colab-df-container {\n",
              "      display:flex;\n",
              "      flex-wrap:wrap;\n",
              "      gap: 12px;\n",
              "    }\n",
              "\n",
              "    .colab-df-convert {\n",
              "      background-color: #E8F0FE;\n",
              "      border: none;\n",
              "      border-radius: 50%;\n",
              "      cursor: pointer;\n",
              "      display: none;\n",
              "      fill: #1967D2;\n",
              "      height: 32px;\n",
              "      padding: 0 0 0 0;\n",
              "      width: 32px;\n",
              "    }\n",
              "\n",
              "    .colab-df-convert:hover {\n",
              "      background-color: #E2EBFA;\n",
              "      box-shadow: 0px 1px 2px rgba(60, 64, 67, 0.3), 0px 1px 3px 1px rgba(60, 64, 67, 0.15);\n",
              "      fill: #174EA6;\n",
              "    }\n",
              "\n",
              "    [theme=dark] .colab-df-convert {\n",
              "      background-color: #3B4455;\n",
              "      fill: #D2E3FC;\n",
              "    }\n",
              "\n",
              "    [theme=dark] .colab-df-convert:hover {\n",
              "      background-color: #434B5C;\n",
              "      box-shadow: 0px 1px 3px 1px rgba(0, 0, 0, 0.15);\n",
              "      filter: drop-shadow(0px 1px 2px rgba(0, 0, 0, 0.3));\n",
              "      fill: #FFFFFF;\n",
              "    }\n",
              "  </style>\n",
              "\n",
              "      <script>\n",
              "        const buttonEl =\n",
              "          document.querySelector('#df-f415c707-e610-4d70-ac30-0532683a36ca button.colab-df-convert');\n",
              "        buttonEl.style.display =\n",
              "          google.colab.kernel.accessAllowed ? 'block' : 'none';\n",
              "\n",
              "        async function convertToInteractive(key) {\n",
              "          const element = document.querySelector('#df-f415c707-e610-4d70-ac30-0532683a36ca');\n",
              "          const dataTable =\n",
              "            await google.colab.kernel.invokeFunction('convertToInteractive',\n",
              "                                                     [key], {});\n",
              "          if (!dataTable) return;\n",
              "\n",
              "          const docLinkHtml = 'Like what you see? Visit the ' +\n",
              "            '<a target=\"_blank\" href=https://colab.research.google.com/notebooks/data_table.ipynb>data table notebook</a>'\n",
              "            + ' to learn more about interactive tables.';\n",
              "          element.innerHTML = '';\n",
              "          dataTable['output_type'] = 'display_data';\n",
              "          await google.colab.output.renderOutput(dataTable, element);\n",
              "          const docLink = document.createElement('div');\n",
              "          docLink.innerHTML = docLinkHtml;\n",
              "          element.appendChild(docLink);\n",
              "        }\n",
              "      </script>\n",
              "    </div>\n",
              "  </div>\n",
              "  "
            ]
          },
          "metadata": {},
          "execution_count": 8
        }
      ]
    },
    {
      "cell_type": "code",
      "source": [
        "\n",
        "labels_non_spam = []\n",
        "\n",
        "for i in range(len(df_non_spam.index)):\n",
        "  labels_non_spam.append(1)\n"
      ],
      "metadata": {
        "id": "G6R1SdxVFV3x"
      },
      "execution_count": null,
      "outputs": []
    },
    {
      "cell_type": "code",
      "source": [
        "df_non_spam = df_non_spam.assign(labels=labels_non_spam)\n"
      ],
      "metadata": {
        "id": "T8Uf_x-6FiR7"
      },
      "execution_count": null,
      "outputs": []
    },
    {
      "cell_type": "code",
      "source": [
        "df_non_spam"
      ],
      "metadata": {
        "colab": {
          "base_uri": "https://localhost:8080/",
          "height": 424
        },
        "id": "oQ4phWImFs6i",
        "outputId": "39874516-983d-4368-846f-fed8fa0d1ee7"
      },
      "execution_count": null,
      "outputs": [
        {
          "output_type": "execute_result",
          "data": {
            "text/plain": [
              "     Unnamed: 0                                             0  labels\n",
              "0             0                                        solar        1\n",
              "1             1                                           mm        1\n",
              "2             2                                                     1\n",
              "3             3                              lipsmack anyway        1\n",
              "4             4                                          xxx        1\n",
              "..          ...                                           ...     ...\n",
              "195         195                              lipsmack breath        1\n",
              "196         196   so I will be picking you up November first        1\n",
              "197         197                                  oh okay xxx        1\n",
              "198         198                            Three twenty five        1\n",
              "199         199                                          xxx        1\n",
              "\n",
              "[200 rows x 3 columns]"
            ],
            "text/html": [
              "\n",
              "  <div id=\"df-59087b4c-60b8-46b5-8054-8fac65d8fce3\">\n",
              "    <div class=\"colab-df-container\">\n",
              "      <div>\n",
              "<style scoped>\n",
              "    .dataframe tbody tr th:only-of-type {\n",
              "        vertical-align: middle;\n",
              "    }\n",
              "\n",
              "    .dataframe tbody tr th {\n",
              "        vertical-align: top;\n",
              "    }\n",
              "\n",
              "    .dataframe thead th {\n",
              "        text-align: right;\n",
              "    }\n",
              "</style>\n",
              "<table border=\"1\" class=\"dataframe\">\n",
              "  <thead>\n",
              "    <tr style=\"text-align: right;\">\n",
              "      <th></th>\n",
              "      <th>Unnamed: 0</th>\n",
              "      <th>0</th>\n",
              "      <th>labels</th>\n",
              "    </tr>\n",
              "  </thead>\n",
              "  <tbody>\n",
              "    <tr>\n",
              "      <th>0</th>\n",
              "      <td>0</td>\n",
              "      <td>solar</td>\n",
              "      <td>1</td>\n",
              "    </tr>\n",
              "    <tr>\n",
              "      <th>1</th>\n",
              "      <td>1</td>\n",
              "      <td>mm</td>\n",
              "      <td>1</td>\n",
              "    </tr>\n",
              "    <tr>\n",
              "      <th>2</th>\n",
              "      <td>2</td>\n",
              "      <td></td>\n",
              "      <td>1</td>\n",
              "    </tr>\n",
              "    <tr>\n",
              "      <th>3</th>\n",
              "      <td>3</td>\n",
              "      <td>lipsmack anyway</td>\n",
              "      <td>1</td>\n",
              "    </tr>\n",
              "    <tr>\n",
              "      <th>4</th>\n",
              "      <td>4</td>\n",
              "      <td>xxx</td>\n",
              "      <td>1</td>\n",
              "    </tr>\n",
              "    <tr>\n",
              "      <th>...</th>\n",
              "      <td>...</td>\n",
              "      <td>...</td>\n",
              "      <td>...</td>\n",
              "    </tr>\n",
              "    <tr>\n",
              "      <th>195</th>\n",
              "      <td>195</td>\n",
              "      <td>lipsmack breath</td>\n",
              "      <td>1</td>\n",
              "    </tr>\n",
              "    <tr>\n",
              "      <th>196</th>\n",
              "      <td>196</td>\n",
              "      <td>so I will be picking you up November first</td>\n",
              "      <td>1</td>\n",
              "    </tr>\n",
              "    <tr>\n",
              "      <th>197</th>\n",
              "      <td>197</td>\n",
              "      <td>oh okay xxx</td>\n",
              "      <td>1</td>\n",
              "    </tr>\n",
              "    <tr>\n",
              "      <th>198</th>\n",
              "      <td>198</td>\n",
              "      <td>Three twenty five</td>\n",
              "      <td>1</td>\n",
              "    </tr>\n",
              "    <tr>\n",
              "      <th>199</th>\n",
              "      <td>199</td>\n",
              "      <td>xxx</td>\n",
              "      <td>1</td>\n",
              "    </tr>\n",
              "  </tbody>\n",
              "</table>\n",
              "<p>200 rows × 3 columns</p>\n",
              "</div>\n",
              "      <button class=\"colab-df-convert\" onclick=\"convertToInteractive('df-59087b4c-60b8-46b5-8054-8fac65d8fce3')\"\n",
              "              title=\"Convert this dataframe to an interactive table.\"\n",
              "              style=\"display:none;\">\n",
              "        \n",
              "  <svg xmlns=\"http://www.w3.org/2000/svg\" height=\"24px\"viewBox=\"0 0 24 24\"\n",
              "       width=\"24px\">\n",
              "    <path d=\"M0 0h24v24H0V0z\" fill=\"none\"/>\n",
              "    <path d=\"M18.56 5.44l.94 2.06.94-2.06 2.06-.94-2.06-.94-.94-2.06-.94 2.06-2.06.94zm-11 1L8.5 8.5l.94-2.06 2.06-.94-2.06-.94L8.5 2.5l-.94 2.06-2.06.94zm10 10l.94 2.06.94-2.06 2.06-.94-2.06-.94-.94-2.06-.94 2.06-2.06.94z\"/><path d=\"M17.41 7.96l-1.37-1.37c-.4-.4-.92-.59-1.43-.59-.52 0-1.04.2-1.43.59L10.3 9.45l-7.72 7.72c-.78.78-.78 2.05 0 2.83L4 21.41c.39.39.9.59 1.41.59.51 0 1.02-.2 1.41-.59l7.78-7.78 2.81-2.81c.8-.78.8-2.07 0-2.86zM5.41 20L4 18.59l7.72-7.72 1.47 1.35L5.41 20z\"/>\n",
              "  </svg>\n",
              "      </button>\n",
              "      \n",
              "  <style>\n",
              "    .colab-df-container {\n",
              "      display:flex;\n",
              "      flex-wrap:wrap;\n",
              "      gap: 12px;\n",
              "    }\n",
              "\n",
              "    .colab-df-convert {\n",
              "      background-color: #E8F0FE;\n",
              "      border: none;\n",
              "      border-radius: 50%;\n",
              "      cursor: pointer;\n",
              "      display: none;\n",
              "      fill: #1967D2;\n",
              "      height: 32px;\n",
              "      padding: 0 0 0 0;\n",
              "      width: 32px;\n",
              "    }\n",
              "\n",
              "    .colab-df-convert:hover {\n",
              "      background-color: #E2EBFA;\n",
              "      box-shadow: 0px 1px 2px rgba(60, 64, 67, 0.3), 0px 1px 3px 1px rgba(60, 64, 67, 0.15);\n",
              "      fill: #174EA6;\n",
              "    }\n",
              "\n",
              "    [theme=dark] .colab-df-convert {\n",
              "      background-color: #3B4455;\n",
              "      fill: #D2E3FC;\n",
              "    }\n",
              "\n",
              "    [theme=dark] .colab-df-convert:hover {\n",
              "      background-color: #434B5C;\n",
              "      box-shadow: 0px 1px 3px 1px rgba(0, 0, 0, 0.15);\n",
              "      filter: drop-shadow(0px 1px 2px rgba(0, 0, 0, 0.3));\n",
              "      fill: #FFFFFF;\n",
              "    }\n",
              "  </style>\n",
              "\n",
              "      <script>\n",
              "        const buttonEl =\n",
              "          document.querySelector('#df-59087b4c-60b8-46b5-8054-8fac65d8fce3 button.colab-df-convert');\n",
              "        buttonEl.style.display =\n",
              "          google.colab.kernel.accessAllowed ? 'block' : 'none';\n",
              "\n",
              "        async function convertToInteractive(key) {\n",
              "          const element = document.querySelector('#df-59087b4c-60b8-46b5-8054-8fac65d8fce3');\n",
              "          const dataTable =\n",
              "            await google.colab.kernel.invokeFunction('convertToInteractive',\n",
              "                                                     [key], {});\n",
              "          if (!dataTable) return;\n",
              "\n",
              "          const docLinkHtml = 'Like what you see? Visit the ' +\n",
              "            '<a target=\"_blank\" href=https://colab.research.google.com/notebooks/data_table.ipynb>data table notebook</a>'\n",
              "            + ' to learn more about interactive tables.';\n",
              "          element.innerHTML = '';\n",
              "          dataTable['output_type'] = 'display_data';\n",
              "          await google.colab.output.renderOutput(dataTable, element);\n",
              "          const docLink = document.createElement('div');\n",
              "          docLink.innerHTML = docLinkHtml;\n",
              "          element.appendChild(docLink);\n",
              "        }\n",
              "      </script>\n",
              "    </div>\n",
              "  </div>\n",
              "  "
            ]
          },
          "metadata": {},
          "execution_count": 11
        }
      ]
    },
    {
      "cell_type": "code",
      "source": [
        "final_df = pd.concat([df_spam, df_non_spam], axis=0)\n",
        "\n",
        "final_df = final_df[['0','labels']]\n",
        "\n",
        "final_df = final_df.dropna()"
      ],
      "metadata": {
        "id": "tI1FPbucCFI1"
      },
      "execution_count": null,
      "outputs": []
    },
    {
      "cell_type": "code",
      "source": [
        "final_df"
      ],
      "metadata": {
        "colab": {
          "base_uri": "https://localhost:8080/",
          "height": 424
        },
        "id": "hBDzo3BJCY00",
        "outputId": "e1255f4a-a9ac-40dd-a238-faef9b062ad6"
      },
      "execution_count": null,
      "outputs": [
        {
          "output_type": "execute_result",
          "data": {
            "text/plain": [
              "                                                     0  labels\n",
              "0    Your social security number has been suspended...       0\n",
              "1                            Hello, is this Bob Smith?       0\n",
              "2    Hi. I’m a representative of the Social Securit...       0\n",
              "3    Hello Mr/Mrs. X, my name is Y and I work with ...       0\n",
              "4    I'm speaking from the Department of Homeland S...       0\n",
              "..                                                 ...     ...\n",
              "195                                   lipsmack breath        1\n",
              "196        so I will be picking you up November first        1\n",
              "197                                       oh okay xxx        1\n",
              "198                                 Three twenty five        1\n",
              "199                                               xxx        1\n",
              "\n",
              "[400 rows x 2 columns]"
            ],
            "text/html": [
              "\n",
              "  <div id=\"df-a7263909-166c-45f6-ae66-211bdf0e2b46\">\n",
              "    <div class=\"colab-df-container\">\n",
              "      <div>\n",
              "<style scoped>\n",
              "    .dataframe tbody tr th:only-of-type {\n",
              "        vertical-align: middle;\n",
              "    }\n",
              "\n",
              "    .dataframe tbody tr th {\n",
              "        vertical-align: top;\n",
              "    }\n",
              "\n",
              "    .dataframe thead th {\n",
              "        text-align: right;\n",
              "    }\n",
              "</style>\n",
              "<table border=\"1\" class=\"dataframe\">\n",
              "  <thead>\n",
              "    <tr style=\"text-align: right;\">\n",
              "      <th></th>\n",
              "      <th>0</th>\n",
              "      <th>labels</th>\n",
              "    </tr>\n",
              "  </thead>\n",
              "  <tbody>\n",
              "    <tr>\n",
              "      <th>0</th>\n",
              "      <td>Your social security number has been suspended...</td>\n",
              "      <td>0</td>\n",
              "    </tr>\n",
              "    <tr>\n",
              "      <th>1</th>\n",
              "      <td>Hello, is this Bob Smith?</td>\n",
              "      <td>0</td>\n",
              "    </tr>\n",
              "    <tr>\n",
              "      <th>2</th>\n",
              "      <td>Hi. I’m a representative of the Social Securit...</td>\n",
              "      <td>0</td>\n",
              "    </tr>\n",
              "    <tr>\n",
              "      <th>3</th>\n",
              "      <td>Hello Mr/Mrs. X, my name is Y and I work with ...</td>\n",
              "      <td>0</td>\n",
              "    </tr>\n",
              "    <tr>\n",
              "      <th>4</th>\n",
              "      <td>I'm speaking from the Department of Homeland S...</td>\n",
              "      <td>0</td>\n",
              "    </tr>\n",
              "    <tr>\n",
              "      <th>...</th>\n",
              "      <td>...</td>\n",
              "      <td>...</td>\n",
              "    </tr>\n",
              "    <tr>\n",
              "      <th>195</th>\n",
              "      <td>lipsmack breath</td>\n",
              "      <td>1</td>\n",
              "    </tr>\n",
              "    <tr>\n",
              "      <th>196</th>\n",
              "      <td>so I will be picking you up November first</td>\n",
              "      <td>1</td>\n",
              "    </tr>\n",
              "    <tr>\n",
              "      <th>197</th>\n",
              "      <td>oh okay xxx</td>\n",
              "      <td>1</td>\n",
              "    </tr>\n",
              "    <tr>\n",
              "      <th>198</th>\n",
              "      <td>Three twenty five</td>\n",
              "      <td>1</td>\n",
              "    </tr>\n",
              "    <tr>\n",
              "      <th>199</th>\n",
              "      <td>xxx</td>\n",
              "      <td>1</td>\n",
              "    </tr>\n",
              "  </tbody>\n",
              "</table>\n",
              "<p>400 rows × 2 columns</p>\n",
              "</div>\n",
              "      <button class=\"colab-df-convert\" onclick=\"convertToInteractive('df-a7263909-166c-45f6-ae66-211bdf0e2b46')\"\n",
              "              title=\"Convert this dataframe to an interactive table.\"\n",
              "              style=\"display:none;\">\n",
              "        \n",
              "  <svg xmlns=\"http://www.w3.org/2000/svg\" height=\"24px\"viewBox=\"0 0 24 24\"\n",
              "       width=\"24px\">\n",
              "    <path d=\"M0 0h24v24H0V0z\" fill=\"none\"/>\n",
              "    <path d=\"M18.56 5.44l.94 2.06.94-2.06 2.06-.94-2.06-.94-.94-2.06-.94 2.06-2.06.94zm-11 1L8.5 8.5l.94-2.06 2.06-.94-2.06-.94L8.5 2.5l-.94 2.06-2.06.94zm10 10l.94 2.06.94-2.06 2.06-.94-2.06-.94-.94-2.06-.94 2.06-2.06.94z\"/><path d=\"M17.41 7.96l-1.37-1.37c-.4-.4-.92-.59-1.43-.59-.52 0-1.04.2-1.43.59L10.3 9.45l-7.72 7.72c-.78.78-.78 2.05 0 2.83L4 21.41c.39.39.9.59 1.41.59.51 0 1.02-.2 1.41-.59l7.78-7.78 2.81-2.81c.8-.78.8-2.07 0-2.86zM5.41 20L4 18.59l7.72-7.72 1.47 1.35L5.41 20z\"/>\n",
              "  </svg>\n",
              "      </button>\n",
              "      \n",
              "  <style>\n",
              "    .colab-df-container {\n",
              "      display:flex;\n",
              "      flex-wrap:wrap;\n",
              "      gap: 12px;\n",
              "    }\n",
              "\n",
              "    .colab-df-convert {\n",
              "      background-color: #E8F0FE;\n",
              "      border: none;\n",
              "      border-radius: 50%;\n",
              "      cursor: pointer;\n",
              "      display: none;\n",
              "      fill: #1967D2;\n",
              "      height: 32px;\n",
              "      padding: 0 0 0 0;\n",
              "      width: 32px;\n",
              "    }\n",
              "\n",
              "    .colab-df-convert:hover {\n",
              "      background-color: #E2EBFA;\n",
              "      box-shadow: 0px 1px 2px rgba(60, 64, 67, 0.3), 0px 1px 3px 1px rgba(60, 64, 67, 0.15);\n",
              "      fill: #174EA6;\n",
              "    }\n",
              "\n",
              "    [theme=dark] .colab-df-convert {\n",
              "      background-color: #3B4455;\n",
              "      fill: #D2E3FC;\n",
              "    }\n",
              "\n",
              "    [theme=dark] .colab-df-convert:hover {\n",
              "      background-color: #434B5C;\n",
              "      box-shadow: 0px 1px 3px 1px rgba(0, 0, 0, 0.15);\n",
              "      filter: drop-shadow(0px 1px 2px rgba(0, 0, 0, 0.3));\n",
              "      fill: #FFFFFF;\n",
              "    }\n",
              "  </style>\n",
              "\n",
              "      <script>\n",
              "        const buttonEl =\n",
              "          document.querySelector('#df-a7263909-166c-45f6-ae66-211bdf0e2b46 button.colab-df-convert');\n",
              "        buttonEl.style.display =\n",
              "          google.colab.kernel.accessAllowed ? 'block' : 'none';\n",
              "\n",
              "        async function convertToInteractive(key) {\n",
              "          const element = document.querySelector('#df-a7263909-166c-45f6-ae66-211bdf0e2b46');\n",
              "          const dataTable =\n",
              "            await google.colab.kernel.invokeFunction('convertToInteractive',\n",
              "                                                     [key], {});\n",
              "          if (!dataTable) return;\n",
              "\n",
              "          const docLinkHtml = 'Like what you see? Visit the ' +\n",
              "            '<a target=\"_blank\" href=https://colab.research.google.com/notebooks/data_table.ipynb>data table notebook</a>'\n",
              "            + ' to learn more about interactive tables.';\n",
              "          element.innerHTML = '';\n",
              "          dataTable['output_type'] = 'display_data';\n",
              "          await google.colab.output.renderOutput(dataTable, element);\n",
              "          const docLink = document.createElement('div');\n",
              "          docLink.innerHTML = docLinkHtml;\n",
              "          element.appendChild(docLink);\n",
              "        }\n",
              "      </script>\n",
              "    </div>\n",
              "  </div>\n",
              "  "
            ]
          },
          "metadata": {},
          "execution_count": 13
        }
      ]
    },
    {
      "cell_type": "markdown",
      "source": [
        "## Doc To Vec"
      ],
      "metadata": {
        "id": "rYefOJ1RDY--"
      }
    },
    {
      "cell_type": "code",
      "source": [
        "from sklearn.model_selection import train_test_split\n",
        "\n",
        "y = final_df.pop('labels')\n",
        "X = final_df\n",
        "\n",
        "\n",
        "X_train,X_test,y_train,y_test = train_test_split(X['0'],y,test_size=0.2, random_state=200, shuffle=True)\n",
        "\n"
      ],
      "metadata": {
        "id": "BeYL7xRUHLaP"
      },
      "execution_count": null,
      "outputs": []
    },
    {
      "cell_type": "code",
      "source": [
        "final_df.to_csv('final_data.csv')"
      ],
      "metadata": {
        "id": "1hZOE2yXb6HQ"
      },
      "execution_count": null,
      "outputs": []
    },
    {
      "cell_type": "markdown",
      "source": [
        "# Tokenization"
      ],
      "metadata": {
        "id": "Jb2880Qzbqa_"
      }
    },
    {
      "cell_type": "code",
      "source": [
        "from gensim.test.utils import common_texts\n",
        "from gensim.models.doc2vec import Doc2Vec, TaggedDocument\n",
        "from sklearn.metrics import accuracy_score, f1_score\n",
        "from sklearn.model_selection import train_test_split\n",
        "from sklearn.linear_model import LogisticRegression\n",
        "from sklearn import utils\n",
        "import csv\n",
        "from tqdm import tqdm\n",
        "import multiprocessing\n",
        "import nltk\n",
        "from nltk.corpus import stopwords\n",
        "nltk.download('punkt')"
      ],
      "metadata": {
        "colab": {
          "base_uri": "https://localhost:8080/"
        },
        "id": "wBweBatUbkfB",
        "outputId": "4bb66c01-c7bd-43cb-f069-33763cc39a2e"
      },
      "execution_count": null,
      "outputs": [
        {
          "output_type": "stream",
          "name": "stderr",
          "text": [
            "[nltk_data] Downloading package punkt to /root/nltk_data...\n",
            "[nltk_data]   Unzipping tokenizers/punkt.zip.\n"
          ]
        },
        {
          "output_type": "execute_result",
          "data": {
            "text/plain": [
              "True"
            ]
          },
          "metadata": {},
          "execution_count": 16
        }
      ]
    },
    {
      "cell_type": "markdown",
      "source": [
        "# For Train Documents"
      ],
      "metadata": {
        "id": "7yE9EnSQHDE_"
      }
    },
    {
      "cell_type": "code",
      "source": [
        "tqdm.pandas(desc=\"progress-bar\")\n",
        "\n",
        "\n",
        "# Function for tokenizing\n",
        "def tokenize_text(text):\n",
        "    tokens = []\n",
        "    for sent in nltk.sent_tokenize(text):\n",
        "        for word in nltk.word_tokenize(sent):\n",
        "            if len(word) < 2:\n",
        "                continue\n",
        "            tokens.append(word.lower())\n",
        "    return tokens\n",
        "\n",
        "\n",
        "# Initializing the variables\n",
        "train_documents = []\n",
        "test_documents = []\n",
        "i = 0\n",
        "\n",
        "\n",
        "only_words = []\n",
        "only_tags = []\n",
        "\n",
        "\n",
        "#Reading the file\n",
        "for row in X_train:\n",
        "  only_words.append(tokenize_text(row))\n",
        "\n",
        "for row in y_train:\n",
        "  only_tags.append(row)\n",
        "\n",
        "for i in range(len(only_words)):\n",
        "  # print(type(y_train[i]))\n",
        "  train_documents.append(TaggedDocument(words=only_words[i], tags=[only_tags[i]]))\n",
        "#         print(type(X_train[i]))\n",
        "\n",
        "\n"
      ],
      "metadata": {
        "id": "aFoVpEI1buKF"
      },
      "execution_count": null,
      "outputs": []
    },
    {
      "cell_type": "code",
      "source": [
        "train_documents"
      ],
      "metadata": {
        "colab": {
          "base_uri": "https://localhost:8080/"
        },
        "id": "NxIGDVcOcp6b",
        "outputId": "3bc30237-24f2-4d7b-a7fc-fd417c8271db"
      },
      "execution_count": null,
      "outputs": [
        {
          "output_type": "execute_result",
          "data": {
            "text/plain": [
              "[TaggedDocument(words=['please', 'listen', 'closely', 'you', 'are', 'being', 'notified', 'that', 'your', 'bank', 'accounts', 'and', 'tax', 'returns', 'are', 'being', 'suspended', 'to', 'review', 'your', 'rights', 'and', 'to', 'avoid', 'further', 'action', 'please', 'call', 'out', 'fir', 'at', '1844898xxx', 'or', 'press', 'to', 'speak', 'to', 'your', 'case', 'manager', 'immediately'], tags=[0]),\n",
              " TaggedDocument(words=['do', 'you', 'want', 'more', 'information', 'about', 'it'], tags=[0]),\n",
              " TaggedDocument(words=[\"'m\", 'speaking', 'from', 'the', 'department', 'of', 'homeland', 'security', 'you', 'have', 'received', 'this', 'call', 'because', 'we', 'have', 'found', 'suspicious', 'activity', 'related', 'to', 'your', 'social', 'security', 'number', 'and', 'we', 'have', 'temporarily', 'suspended', 'your', 'account', 'the', 'moment', 'you', 'get', 'this', 'call', 'kindly', 'reach', 'back', 'to', 'me', 'on', '1-888-952-5554', 'repeat', '1-888-952-5554', 'when', 'you', 'do', 'call', 'us', 'provide', 'us', 'with', 'the', 'last', 'digits', 'of', 'your', 'social', 'security', 'number', 'so', 'that', 'we', 'can', 'better', 'assist', 'you', 'with', 'this', 'issue', 'if', 'we', 'do', 'not', 'receive', 'call', 'from', 'you', 'by', 'this', 'sunday', 'your', 'bank', 'account', 'will', 'be', 'put', 'on', 'hold'], tags=[0]),\n",
              " TaggedDocument(words=['lipsmack', 'anyway'], tags=[1]),\n",
              " TaggedDocument(words=['you', 'know'], tags=[1]),\n",
              " TaggedDocument(words=['you', 'don', 'have', 'to', 'know', 'anything', 'about', 'it', 'just', 'like', 'you', 'don', 'need', 'to', 'know', 'how', 'to', 'build', 'car', 'to', 'invest', 'in', 'general', 'motors', 'leave', 'that', 'to', 'us', 'while', 'you', 'just', 'look', 'at', 'the', 'money', 'rolling', 'in', 'back', 'to', 'you'], tags=[0]),\n",
              " TaggedDocument(words=['okay', 'an', 'audit', 'of', 'your', 'taxes', 'between', 'the', 'year', 'of', '2009', 'and', '2014', 'show', 'that', 'you', 'have', 'unpaid', 'taxes', 'amount', 'to', '5,821', 'so', 'you', 'owe', '5,821', '..', 'inaudible', 'after', 'the', 'case', 'will', 'be', 'done', 'within', 'the', 'courthouse', 'your', 'bank', 'account', 'state', 'id', 'and', 'passport', 'will', 'be', 'seized', 'along', 'with', 'all', 'the', 'credit', 'cards', 'under', 'your', 'name'], tags=[0]),\n",
              " TaggedDocument(words=['um'], tags=[1]),\n",
              " TaggedDocument(words=['sir', 'did', 'you', 'got', 'anything', 'showing', '5,812.00'], tags=[0]),\n",
              " TaggedDocument(words=['go', 'back', 'to', 'china', 'now', 'and', 'teach', 'japanese'], tags=[1]),\n",
              " TaggedDocument(words=['regretting', 'it'], tags=[1]),\n",
              " TaggedDocument(words=['hi', 'amy', 'it', 'so', 'nice', 'to', 'meet', 'you', 'as', 'mentioned', 'josie', 'with', 'the', 'heartwarming', 'hearth', 'and', 'home', 'organization', 'and', 'we', 'have', 'some', 'exciting', 'news', 'we', 'just', 'received', 'sponsorship', 'that', 'will', 'allow', 'us', 'to', 'sell', 'investment', 'units', 'essentially', 'bonds', 'with', 'an', 'extremely', 'high', 'guaranteed', 'rate', 'of', 'return', 'for', 'every', '2,500', 'you', 'put', 'in', 'you', 'll', 'get', '10,000', 'back', 'this', 'is', 'zero', 'risk', 'investment', 'so', 'you', 'are', 'guaranteed', 'to', 'get', 'the', 'money', 'you', 'deserve', 'is', 'this', 'something', 'you', 'are', 'interested', 'in'], tags=[0]),\n",
              " TaggedDocument(words=['breath', 'yeah'], tags=[1]),\n",
              " TaggedDocument(words=['mhm'], tags=[1]),\n",
              " TaggedDocument(words=['ended', 'up', 'costing', 'us', 'ten', 'thousand', 'dollars'], tags=[1]),\n",
              " TaggedDocument(words=['good'], tags=[1]),\n",
              " TaggedDocument(words=['he', 'genkii', 'jpn', 'guy'], tags=[1]),\n",
              " TaggedDocument(words=['so', 'talked', 'to', 'him', 'today'], tags=[1]),\n",
              " TaggedDocument(words=['sir', 'you', 'did', 'not', 'get', 'something', 'that', 'shows', '5,821.00'], tags=[0]),\n",
              " TaggedDocument(words=['yeah', 'that', 'that', 'don', 'don', 'know', 'if', 'that', 'breath'], tags=[1]),\n",
              " TaggedDocument(words=['even', 'if', 'future', 'she', 'works'], tags=[1]),\n",
              " TaggedDocument(words=['please', 'listen', 'to', 'this', 'message', 'carefully', 'all', 'bank', 'accounts', 'and', 'tax', 'returns', 'bearing', 'your', 'name', 'have', 'been', 'suspended', 'and', 'this', 'also', 'includes', 'your', 'social', 'security', 'number', 'to', 'get', 'more', 'information', 'about', 'your', 'rights', 'and', 'details', 'on', 'this', 'action', 'and', 'also', 'to', 'avoid', 'all', 'further', 'proceedings', 'contact', 'our', 'firm', 'at', '1-848-898-xxxx', 'or', 'you', 'can', 'press', '``', 'one', \"''\", 'to', 'get', 'transferred', 'to', 'your', 'case', 'manager', 'as', 'soon', 'as', 'possible'], tags=[0]),\n",
              " TaggedDocument(words=['yeah'], tags=[1]),\n",
              " TaggedDocument(words=['am', 'with', 'the', 'international', 'mining', 'company', 'and', 'for', 'limited', 'time', 'we', 'are', 'selling', 'stock', 'in', 'high-yield', 'gold', 'and', 'silver', 'mines', 'in', 'southern', 'texas', 'we', 'guarantee', 'that', 'for', 'each', '1,000', 'you', 'invest', 'you', 'will', 'receive', '3,000', 'return', 'on', 'your', 'money', 'in', 'just', 'six', 'months', 'there', 'is', 'no', 'risk', 'of', 'loss', 'how', 'does', 'that', 'sound'], tags=[0]),\n",
              " TaggedDocument(words=['please', 'contact', 'us', 'immediately', 'on', 'our', 'number', 'which', 'is', '804-207-xxxx', 'repeat', '804-207-xxxx', 'before', 'we', 'get', 'legal', 'proceedings', 'started', 'thank', 'you', 'and', 'have', 'nice', 'day', 'if', 'you', 'like', 'to', 'speak', 'to', 'our', 'executive', 'then', 'press', '``', 'one', \"''\", 'now'], tags=[0]),\n",
              " TaggedDocument(words=['so', 'laughs', 'he', 'll', 'be', 'home', 'very', 'late'], tags=[1]),\n",
              " TaggedDocument(words=['mhm'], tags=[1]),\n",
              " TaggedDocument(words=['that', 'that', 'good'], tags=[1]),\n",
              " TaggedDocument(words=['tell', 'him', 'to', 'call', 'yeah', 'the', 'later', 'the', 'better', 'because'], tags=[1]),\n",
              " TaggedDocument(words=['and', 'he', 'said', 'oh', 'yeah', 'sure', 'you', 'you', 'don', 'have', 'to', 'be', 'here', 'you', 'just'], tags=[1]),\n",
              " TaggedDocument(words=['you', 'll', 'get', 'arrested', 'and', 'everything', 'you', 'have', 'will', 'be', 'seized', 'this', 'includes', 'your', 'bank', 'accounts', 'your', 'credit', 'cards', 'property', 'you', 'own', 'and', 'things', 'like', 'that'], tags=[0]),\n",
              " TaggedDocument(words=['hello', 'mr/mrs', 'my', 'name', 'is', 'and', 'work', 'in', 'the', 'irs', 'you', 'are', 'being', 'charged', 'with', 'reporting', 'false', 'taxes', 'and', 'this', 'is', 'courtesy', 'call', 'to', 'make', 'you', 'aware', 'of', 'this', 'please', 'call', 'me', 'back', 'at', 'phone-number', 'as', 'soon', 'as', 'you', 'can', 'or', 'elsei', 'will', 'need', 'to', 'pursue', 'with', 'legal', 'action'], tags=[0]),\n",
              " TaggedDocument(words=['this', 'message', 'means', 'that', 'legal', 'action', 'has', 'been', 'taken', 'against', 'you', 'for', 'more', 'information', 'about', 'how', 'to', 'avoid', 'the', 'consequences', 'call', 'the', 'number', 'xxx', 'immediately'], tags=[0]),\n",
              " TaggedDocument(words=['this', 'is', 'an', 'official', 'notification', 'that', 'legal', 'action', 'has', 'been', 'taken', 'against', 'you', 'please', 'get', 'back', 'to', 'us', 'immediately', 'at', '804-209-1005', 'for', 'more', 'information', 'and', 'next', 'steps', 'press', 'one', 'now', 'to', 'speak', 'with', 'our', 'executive'], tags=[0]),\n",
              " TaggedDocument(words=['that', 'is', 'not', 'the', 'priority', 'right', 'now', 'you', 'need', 'to', 'listen', 'to', 'me'], tags=[0]),\n",
              " TaggedDocument(words=['transferring', 'to', 'merica'], tags=[1]),\n",
              " TaggedDocument(words=['sir', 'are', 'you', 'sure', 'you', 'never', 'received', 'anything', 'showing', '5281.00'], tags=[0]),\n",
              " TaggedDocument(words=['hello', 'may', 'speak', 'to', 'mrs.', 'johnson', 'tim', 'thayer', 'my', 'friends', 'call', 'me', 'tim', 'reaching', 'out', 'to', 'offer', 'you', 'the', 'chance', 'of', 'lifetime', 'if', 'you', 'have', 'minute', 'can', 'tell', 'you', 'how', 'you', 'can', 'make', 'lot', 'of', 'money', 'in', 'only', 'few', 'months'], tags=[0]),\n",
              " TaggedDocument(words=['our', 'information', 'is', 'very', 'clear', 'or', 'not', 'have', 'plenty', 'of', 'research', 'information', 'to', 'help', 'you', 'make', 'an', 'smart', 'decision', 'if', 'you', 'are', 'serious', 'investor', 'you', 'can', 'check', 'everything', 'out', 'our', 'company', 'has', 'business', 'offices', 'throughout', 'the', 'united', 'states', 'europe', 'and', 'the', 'pacific', 'rim', 'we', 'enjoy', 'an', 'international', 'reputation', 'for', 'good', 'management', 'fact', 'is', 'the', 'securities', 'and', 'exchange', 'commission', 'recently', 'listed', 'our', 'company', 'as', 'the', 'first', 'rank', 'investment', 'company', 'in', 'safety', 'and', 'yield', 'over', 'the', 'next', '10', 'years', 'so', 'do', 'you', 'want', 'to', 'make', 'decision', 'to', 'invest', 'today'], tags=[0]),\n",
              " TaggedDocument(words=['are', 'you', 'telling', 'me', 'that', 'you', 'never', 'received', 'any', 'document', 'from', 'irs', 'stating', 'that', 'you', 'owe', '5821.00'], tags=[0]),\n",
              " TaggedDocument(words=['making', 'money', 'and', 'la', 'la', 'la', 'la'], tags=[1]),\n",
              " TaggedDocument(words=['could', 'explain', 'this', 'to', 'you', 'again', 'sir'], tags=[0]),\n",
              " TaggedDocument(words=['please', 'listen', 'to', 'this', 'message', 'in', 'its', 'entirety', 'there', 'is', 'currently', 'motion', 'being', 'filed', 'to', 'suspend', 'all', 'bank', 'accounts', 'and', 'tax', 'returns', 'bearing', 'your', 'name', 'and', 'social', 'security', 'number', 'to', 'review', 'immediate', 'rights', 'and', 'details', 'and', 'avoid', 'all', 'further', 'proceedings', 'please', 'contact', 'our', 'firm', 'at', '1-844-898-xxxx', 'or', 'you', 'may', 'press', '``', 'one', \"''\", 'to', 'be', 'transferred', 'to', 'your', 'case', 'manager', 'immediately'], tags=[0]),\n",
              " TaggedDocument(words=['mrs.', 'johnson', 'if', 'being', 'honest', 'with', 'you', 'cds', 'suck', 'and', 'so', 'do', 'other', 'kinds', 'of', 'mainstream', 'investment', 'options', 'these', 'options', 'will', 'only', 'give', 'you', 'crumbs', 'while', 'the', 'companies', 'benefit', 'from', 'your', 'hard-earned', 'money', 'if', 'you', 'really', 'want', 'to', 'move', 'up', 'the', 'social', 'ladder', 'you', 'have', 'to', 'seize', 'lifetime', 'opportunity', 'when', 'it', 'presents', 'itself'], tags=[0]),\n",
              " TaggedDocument(words=['it', 'just', 'the', 'accomplishment'], tags=[1]),\n",
              " TaggedDocument(words=['yeah', 'xxx'], tags=[1]),\n",
              " TaggedDocument(words=['credibility'], tags=[1]),\n",
              " TaggedDocument(words=['degree', 'from', 'japan', 'will', 'give', 'her', 'cr'], tags=[1]),\n",
              " TaggedDocument(words=['mm'], tags=[1]),\n",
              " TaggedDocument(words=['um', 'or', 'don', 'know', 'that', 'uh', 'that', 'her', 'education', 'that', 'certificate'], tags=[1]),\n",
              " TaggedDocument(words=['sir', 'can', 'hear', 'you', 'please', 'stop', 'walking', 'and', 'talk', 'to', 'me', 'first'], tags=[0]),\n",
              " TaggedDocument(words=['we', 'can', 'talk', 'and', 'oh', 'whatever'], tags=[1]),\n",
              " TaggedDocument(words=['pretty', 'sure', 'it', 'won'], tags=[1]),\n",
              " TaggedDocument(words=['yeah'], tags=[1]),\n",
              " TaggedDocument(words=['it', 'ok', 'sir', 'we', 'have', 'ways', 'of', 'handling', 'situations', 'like', 'these', 'you', 'will', 'need', 'to', 'call', 'the', 'department', 'that', 'handles', 'identity', 'theft', 'directly', 'so', 'they', 'can', 'assist', 'you', 'are', 'you', 'ready', 'for', 'their', 'number'], tags=[0]),\n",
              " TaggedDocument(words=['please', 'listen', 'to', 'this', 'message', 'in', 'its', 'entirety', 'you', 'are', 'receiving', 'this', 'call', 'from', 'bank', 'of', 'america', 'regarding', 'your', 'credit', 'card', 'bills', 'it', 'has', 'been', 'noticed', 'by', 'our', 'systems', 'that', 'you', 'have', \"n't\", 'paid', 'your', 'credit', 'card', 'bill', 'for', 'the', 'last', 'months', 'you', 'are', 'currently', '25000', 'in', 'debt', 'if', 'we', 'do', 'not', 'hear', 'back', 'from', 'you', 'by', 'this', 'sunday', 'we', 'will', 'start', 'legal', 'proceedings', 'for', 'the', 'time', 'being', 'your', 'bank', 'account', 'as', 'well', 'as', 'your', 'tax', 'return', 'in', 'your', 'name', 'have', 'been', 'frozen', 'if', 'you', 'want', 'to', 'avoid', 'these', 'legal', 'proceedings', 'kindly', 'reach', 'back', 'to', 'us', 'at', '1-844-898-xxxx', 'or', 'you', 'may', 'press', '``', 'one', \"''\", 'to', 'be', 'transferred', 'to', 'your', 'case', 'manager', 'immediately'], tags=[0]),\n",
              " TaggedDocument(words=['mm'], tags=[1]),\n",
              " TaggedDocument(words=['breath'], tags=[1]),\n",
              " TaggedDocument(words=['mm'], tags=[1]),\n",
              " TaggedDocument(words=['better'], tags=[0]),\n",
              " TaggedDocument(words=['that', 'understandable', 'it', 'tough', 'to', 'make', 'decision', 'without', 'enough', 'info', 'but', 'even', 'if', 'you', 'don', 'know', 'how', 'mining', 'gold', 'and', 'silver', 'works', 'it', 'doesn', 'mean', 'that', 'you', 'can', 'benefit', 'from', 'this', 'opportunity', 'we', 're', 'experts', 'in', 'this', 'so', 'you', 'can', 'trust', 'us', 'to', 'do', 'our', 'jobs'], tags=[0]),\n",
              " TaggedDocument(words=['good', 'afternoon', 'mrs.', 'johnson', 'this', 'is', 'tim', 'thayer', 'from', 'the', 'international', 'mining', 'company', 'we', 'are', 'looking', 'for', 'smart', 'and', 'qualified', 'individuals', 'to', 'invest', 'in', 'our', 'company', 'today', 'would', 'you', 'be', 'interested', 'in', 'making', 'thousands', 'of', 'dollars', 'without', 'having', 'to', 'work'], tags=[0]),\n",
              " TaggedDocument(words=['excuse', 'me', 'sir', 'could', 'you', 'stop', 'walking', 'and', 'talk', 'to', 'me', 'can', 'not', 'hear', 'you', 'well'], tags=[0]),\n",
              " TaggedDocument(words=['okay'], tags=[1]),\n",
              " TaggedDocument(words=['tuition'], tags=[1]),\n",
              " TaggedDocument(words=['good', 'idea', 'laughs'], tags=[1]),\n",
              " TaggedDocument(words=['do', 'you', 'want', 'to', 'know', 'more', 'about', 'it'], tags=[0]),\n",
              " TaggedDocument(words=['look', 'mrs.', 'johnson', 'the', 'dvds', 'have', 'seen', 'better', 'days', 'everyone', 'is', 'moving', 'to', 'digital', 'content', 'this', 'will', 'not', 'help', 'you', 'take', 'giant', 'leap', 'and', 'don', 'get', 'me', 'started', 'on', 'savings', 'deposits', 'treasury', 'bills', 'and', 'other', 'low', 'key', 'ideas', 'the', 'pitiful', 'to', 'percent', 'profit', 'will', 'not', 'help', 'you', 'at', 'all', 'you', 'have', 'to', 'think', 'big', 'think', 'about', 'all', 'those', 'fools', 'who', 'missed', 'out', 'on', 'an', 'opportunity', 'to', 'invest', 'at', 'microsoft', 'or', 'apple', 'in', 'their', 'early', 'days', 'this', 'is', 'your', 'chance', 'mam', 'break', 'out', 'of', 'the', 'system', 'and', 'take', 'the', 'opportunity', 'the', 'hardest', 'thing', 'about', 'getting', 'to', 'place', 'is', 'to', 'make', 'your', 'mind', 'for', 'starting', 'towards', 'your', 'destination', 'all', 'you', 'have', 'to', 'do', 'is', 'start'], tags=[0]),\n",
              " TaggedDocument(words=['yes', 'thank', 'you'], tags=[0]),\n",
              " TaggedDocument(words=['ma', 'am', 'sorry', 'to', 'tell', 'you', 'but', 'in', 'this', 'day', 'and', 'age', 'you', 'can', 'expect', 'to', 'find', 'financial', 'stability', 'if', 'you', 'do', 'not', 'invest', 'your', 'money', 'investing', 'is', 'the', 'only', 'way', 'that', 'allows', 'the', 'average', 'worker', 'to', 'climb', 'up', 'in', 'society', 'with', 'our', 'company', 'not', 'only', 'will', 'you', 'begin', 'your', 'investing', 'career', 'but', 'you', 'can', 'also', 'rest', 'assured', 'that', 'you', 'will', 'not', 'lose', 'your', 'money', 'on', 'the', 'contrary', 'you', 'will', 'triple', 'your', 'investments'], tags=[0]),\n",
              " TaggedDocument(words=['mhm'], tags=[1]),\n",
              " TaggedDocument(words=['you', 'see', 'for', 'limited', 'time', 'we', 'are', 'allowing', 'select', 'members', 'of', 'the', 'general', 'public', 'to', 'invest', 'in', 'our', 'gold', 'and', 'silver', 'mines', 'located', 'in', 'texas', 'we', 'are', 'sure', 'that', 'our', 'investors', 'will', 'make', 'large', 'amount', 'of', 'profit', 'from', 'investments', 'in', 'our', 'company', 'so', 'much', 'that', 'we', 'can', 'guarantee', 'that', 'you', 'll', 'triple', 'your', 'investments', 'in', 'six', 'months', 'there', 'are', 'no', 'strings', 'attached', 'to', 'this', 'offer', 'are', 'you', 'interested', 'in', 'making', 'thousands', 'of', 'dollars', 'with', 'us'], tags=[0]),\n",
              " TaggedDocument(words=['we', 'encourage', 'you', 'to', 'listen', 'to', 'this', 'message', 'with', 'caution', 'we', 'have', 'noticed', 'some', 'dubious', 'activity', 'in', 'your', 'bank', 'account', 'and', 'hence', 'we', \"'ve\", 'filed', 'motion', 'to', 'suspend', 'your', 'bank', 'account', 'and', 'tax', 'returns', 'under', 'your', 'name', 'and', 'social', 'security', 'number', 'until', 'further', 'notice', 'to', 'review', 'immediate', 'rights', 'details', 'and', 'to', 'avoid', 'further', 'proceedings', 'please', 'contact', 'our', 'firm', 'at', '1-844-898-xxxx', 'or', 'press', '``', 'one', \"''\", 'to', 'be', 'transferred', 'to', 'your', 'case', 'manager', 'immediately'], tags=[0]),\n",
              " TaggedDocument(words=['you', 'know', 'that', 'she', 'has', 'completed', 'it'], tags=[1]),\n",
              " TaggedDocument(words=['ecause', 'if', 'she', 'doesn', 'she', 'always', 'going', 'to', 'remember', 'that'], tags=[1]),\n",
              " TaggedDocument(words=[], tags=[1]),\n",
              " TaggedDocument(words=['haven', 'done', 'my', 'job', 'if', 'any', 'of', 'the', 'information', 've', 'provided', 'isn', 'clear', 'have', 'plenty', 'more', 'that', 'you', 'can', 'check', 'out', 'to', 'help', 'you', 'make', 'an', 'intelligent', 'choice', 'our', 'company', 'has', 'an', 'international', 'reputation', 'for', 'good', 'management', 'we', 'even', 'have', 'offices', 'throughout', 'the', 'united', 'states', 'europe', 'and', 'the', 'pacific', 'rim', 'the', 'securities', 'and', 'exchange', 'commission', 'even', 'listed', 'us', 'as', 'the', 'investment', 'company', 'with', 'respect', 'to', 'both', 'safety', 'and', 'yield', 'over', 'the', 'next', '10', 'years', 'with', 'all', 'this', 'in', 'mind', 'can', 'you', 'make', 'the', 'decision', 'to', 'invest', 'today'], tags=[0]),\n",
              " TaggedDocument(words=['she', 'can'], tags=[1]),\n",
              " TaggedDocument(words=[], tags=[1]),\n",
              " TaggedDocument(words=['totally', 'different', 'kind', 'of', 'experience'], tags=[1]),\n",
              " TaggedDocument(words=['well', 'he', 'didn', 'say', 'it', 'that', 'way', 'he', 'said', 'that', 'jas', 'japanese'], tags=[1]),\n",
              " TaggedDocument(words=['should', 'explain', 'again', 'sir'], tags=[0]),\n",
              " TaggedDocument(words=['hi', 'mrs.', 'johnson', 'my', 'name', 'is', 'tim', 'thayer', 'other', 'call', 'me', 'tim', 'so', 'you', 'can', 'call', 'me', 'tim', 'too', \"'m\", 'calling', 'now', 'to', 'offer', 'you', 'the', 'chance', 'of', 'lifetime', 'do', 'you', 'want', 'to', 'hear', 'how', 'you', 'can', 'make', 'lot', 'of', 'money', 'in', 'couple', 'months'], tags=[0]),\n",
              " TaggedDocument(words=['just', 'going', 'to', 'make', 'her', 'feel', 'breath'], tags=[1]),\n",
              " TaggedDocument(words=['yeah', 'know'], tags=[1]),\n",
              " TaggedDocument(words=['ecause', 'that', 'something', 'that', 'll', 'stay', 'forever'], tags=[1]),\n",
              " TaggedDocument(words=['there', 'has', 'been', 'lawsuit', 'filed', 'against', 'you', 'please', 'call', 'us', 'as', 'soon', 'as', 'possible', 'before', 'we', 'begin', 'with', 'the', 'legal', 'proceedings', 'our', 'number', 'is', '804-207-xxxx', 'again', 'that', '804-207-xxxx', 'we', 'look', 'forward', 'to', 'speaking', 'with', 'you', 'if', 'you', 'wish', 'you', 'wish', 'to', 'speak', 'with', 'your', 'representative', 'now', 'press', 'one'], tags=[0]),\n",
              " TaggedDocument(words=['am', 'talking', 'on', 'behalf', 'of', 'zhaizang', 'silver', 'and', 'gold', 'mining', 'company', 'for', 'limited', 'time', 'the', 'company', 'is', 'selling', 'stock', 'units', 'at', 'generous', 'rate', 'for', 'every', 'thousand', 'dollars', 'you', 'invest', 'you', 'get', 'return', 'of', '3000', 'with', 'no', 'risk', 'of', 'loss', 'do', 'you', 'want', 'to', 'invest'], tags=[0]),\n",
              " TaggedDocument(words=['why'], tags=[1]),\n",
              " TaggedDocument(words=['have', 'the', 'information', 'up', 'in', 'front', 'of', 'me', 'll', 'walk', 'you', 'through', 'it', 'we', 'have', 'an', 'audit', 'of', 'your', 'taxes', 'for', 'the', '2018', 'fiscal', 'year', 'you', 'owed', '4,008', 'but', 'since', 'you', 'did', 'not', 'pay', 'it', 'by', 'the', 'deadline', 'there', 'is', 'an', 'added', 'late', 'fee', 'of', '300', 'so', 'altogether', 'you', 'owe', '4,308', 'the', 'irs', 'filed', 'case', 'against', 'you', 'in', 'february', 'and', 'the', 'court', 'approved', 'it', 'last', 'week'], tags=[0]),\n",
              " TaggedDocument(words=['possibly'], tags=[1]),\n",
              " TaggedDocument(words=['nd', 'uh', 'you', 'know', 'it', 'like', 'double', 'edged', 'sword', 'breath'], tags=[1]),\n",
              " TaggedDocument(words=['he', 'he'], tags=[1]),\n",
              " TaggedDocument(words=['breath', 'yeah', 'distortion'], tags=[1]),\n",
              " TaggedDocument(words=['sir', 'can', 'not', 'hear', 'you', 'clearly', 'could', 'you', 'stop', 'walking'], tags=[0]),\n",
              " TaggedDocument(words=['this', 'call', 'is', 'from', 'bret', 'and', 'johansson', 'law', 'firm', 'to', 'inform', 'you', 'that', 'we', 'are', 'filing', 'lawsuit', 'against', 'you', 'to', 'get', 'more', 'information', 'on', 'this', 'please', 'dial', '804-207-xxxx', 'repeat', '804-207-xxxx', 'if', 'we', 'do', 'not', 'hear', 'back', 'from', 'you', 'within', 'the', 'next', '24', 'hours', 'we', 'will', 'begin', 'with', 'the', 'legal', 'proceedings', 'immediately', 'thank', 'you'], tags=[0]),\n",
              " TaggedDocument(words=['we', 'have', 'audited', 'your', 'tax', 'returns', 'between', 'the', 'years', '2009', 'and', '2014', 'unfortunately', 'you', 'owe', '5,821', 'in', 'federal', 'taxes', 'your', 'case', 'will', 'be', 'handled', 'by', 'the', 'court', 'of', 'law', 'if', 'you', 'do', 'not', 'comply', 'your', 'bank', 'account', 'will', 'be', 'seized', 'your', 'credit', 'report', 'will', 'be', 'spoiled', 'and', 'your', 'passport', 'and', 'drivers', 'license', 'will', 'be', 'suspended'], tags=[0]),\n",
              " TaggedDocument(words=['this', 'is', 'call', 'regarding', 'your', 'social', 'security', 'number', 'we', 'have', 'found', 'some', 'illicit', 'activity', 'under', 'your', 'name', 'and', 'have', 'forwarded', 'the', 'information', 'to', 'law', 'enforcement', 'agencies', 'to', 'suspend', 'your', 'social', 'security', 'number', 'we', 'require', 'you', 'to', 'immediately', 'call', 'our', 'representative', 'to', 'toll-free', 'number', 'that', 'is', '1-888-952-5554', 'repeat', '1-888-952-5554', 'they', 'will', 'want', 'you', 'to', 'verify', 'the', 'last', 'four', 'digits', 'of', 'your', 'social', 'security', 'number', 'we', 'request', 'an', 'immediate', 'response', 'or', 'you', \"'ll\", 'be', 'issued', 'warrant', 'for', 'arrest', 'thank', 'you'], tags=[0]),\n",
              " TaggedDocument(words=['you', 'know'], tags=[1]),\n",
              " TaggedDocument(words=['sir', 'this', 'is', 'an', 'important', 'matter', 'please', 'cooperate', 'with', 'me'], tags=[0]),\n",
              " TaggedDocument(words=['okay', 'good'], tags=[1]),\n",
              " TaggedDocument(words=['okay', 'their', 'number', 'is', '1-888-925-1212', 'that', '1-888-925-1212', 'when', 'you', 'call', 'press', 'to', 'go', 'directly', 'to', 'the', 'identity', 'theft', 'reporting', 'line', 'and', 'then', 'enter', 'the', 'last', 'digits', 'of', 'your', 'social', 'security', 'number', 'they', 'will', 'be', 'able', 'to', 'help', 'you', 'from', 'there', 'to', 'handle', 'the', 'theft', 'and', 'resume', 'your', 'accounts', 'without', 'the', 'record', 'of', 'illicit', 'activity', 'on', 'them', 'am', 'marking', 'in', 'your', 'record', 'that', 'we', 'had', 'this', 'conversation', 'which', 'will', 'give', 'you', 'days', 'to', 'get', 'everything', 'sorted', 'out', 'with', 'the', 'identity', 'theft', 'department', 'if', 'it', 'is', 'not', 'sorted', 'out', 'by', 'then', 'we', 'will', 'unfortunately', 'have', 'to', 'issue', 'warrant', 'for', 'your', 'arrest'], tags=[0]),\n",
              " TaggedDocument(words=['do', 'you', 'have', 'the', 'money', 'with', 'you'], tags=[0]),\n",
              " TaggedDocument(words=['sir', 'you', 'never', 'received', 'any', 'documentation', 'showing', 'you', 'owe', '5,821.00'], tags=[0]),\n",
              " TaggedDocument(words=['good'], tags=[1]),\n",
              " TaggedDocument(words=['appreciate', 'your', 'concern', 'however', 'you', 'probably', 'do', \"n't\", 'know', 'how', 'to', 'build', 'car', 'but', 'if', 'we', 'knew', 'we', 'would', 'earn', 'lot', 'of', 'money', 'that', 'would', \"n't\", 'keep', 'us', 'from', 'investing', 'in', 'general', 'motors', 'or', 'ford', 'stock', 'does', \"n't\", 'it', 'make', 'sense', 'mrs.', 'johnson', 'to', 'just', 'look', 'at', 'the', 'return', 'on', 'your', 'investment', 'and', 'leave', 'the', 'mining', 'to', 'us'], tags=[0]),\n",
              " TaggedDocument(words=['yeah'], tags=[1]),\n",
              " TaggedDocument(words=['please', 'listen', 'to', 'the', 'entirety', 'of', 'this', 'message', 'motion', 'has', 'been', 'filed', 'to', 'suspend', 'all', 'bank', 'accounts', 'and', 'tax', 'returns', 'with', 'your', 'name', 'and', 'social', 'security', 'number', 'in', 'order', 'to', 'avoid', 'all', 'proceedings', 'and', 'review', 'case', 'details', 'please', 'contact', 'our', 'firm', 'at', '1-844-898-xxxx', 'or', 'press', 'one', 'to', 'speak', 'with', 'your', 'case', 'manager', 'now'], tags=[0]),\n",
              " TaggedDocument(words=['thank', 'you', 'for', 'listening', 'sir', 'miss', 'you', 'need', 'to', 'send', 'us', 'the', 'money', 'immediately', 'via', 'moneygram', 'or', 'western', 'union', 'bank', 'this', 'can', 'be', 'obtained', 'by', 'going', 'to', 'your', 'local', 'convinience', 'store', 'and', 'asking', 'to', 'transfer', 'xxxx.xx', 'from', 'your', 'bank', 'account', 'to', 'the', 'account', 'tell', 'you', 'does', 'this', 'make', 'sense'], tags=[0]),\n",
              " TaggedDocument(words=[], tags=[1]),\n",
              " TaggedDocument(words=['complete', 'and', 'satisfied'], tags=[1]),\n",
              " TaggedDocument(words=['you', 'need', 'they', 're', 'so', 'easy', 'breath'], tags=[1]),\n",
              " TaggedDocument(words=['it', 'has', 'come', 'to', 'our', 'attention', 'that', 'you', 'haven', 'filled', 'taxes', 'during', 'the', 'years', '2011', 'to', '2016'], tags=[0]),\n",
              " TaggedDocument(words=['that', 'she', 'gets', 'or', 'degree', 'or', 'whatever', 'it', 'is'], tags=[1]),\n",
              " TaggedDocument(words=['power', 'spray', 'the', 'floor'], tags=[1]),\n",
              " TaggedDocument(words=['right'], tags=[1]),\n",
              " TaggedDocument(words=['excuse', 'me', 'can', 'not', 'hear', 'you', 'clearly', 'could', 'you', 'stop', 'and', 'talk', 'to', 'me'], tags=[0]),\n",
              " TaggedDocument(words=['or', 'just', 'having'], tags=[1]),\n",
              " TaggedDocument(words=['is', 'our', 'information', 'very', 'clear', 'can', 'say', 'lots', 'of', 'information', 'to', 'help', 'you', 'make', 'good', 'decision', 'if', 'you', 'are', 'serious', 'investor', 'you', 'can', 'check', 'everything', 'out', 'our', 'company', 'has', 'business', 'offices', 'throughout', 'the', 'united', 'states', 'europe', 'and', 'the', 'pacific', 'rim', 'we', 'enjoy', 'an', 'international', 'reputation', 'for', 'good', 'management', 'as', 'matter', 'of', 'fact', 'the', 'securities', 'and', 'exchange', 'commission', 'recently', 'listed', 'our', 'company', 'as', 'the', 'first', 'rank', 'investment', 'company', 'in', 'safety', 'and', 'yield', 'over', 'the', 'next', '10', 'years', 'so', 'could', 'you', 'make', 'decision', 'to', 'invest', 'today'], tags=[0]),\n",
              " TaggedDocument(words=['it', 'is', 'better', 'now'], tags=[0]),\n",
              " TaggedDocument(words=['nd', 'here', 'you', 're', 'coming', 'from', 'japan', 'to', 'an', 'merican', 'university'], tags=[1]),\n",
              " TaggedDocument(words=['ok', 'please', 'call', 'me', 'back', 'within', 'an', 'hour', 'at', 'phone-number', 'with', 'the', 'money', 'please', 'note', 'that', 'if', 'do', 'not', 'recieve', 'call', 'within', 'the', 'next', 'hour', 'then', 'will', 'be', 'activating', 'the', 'arrest', 'warrant', 'thank', 'you'], tags=[0]),\n",
              " TaggedDocument(words=['right'], tags=[1]),\n",
              " TaggedDocument(words=['hello', 'we', 'have', 'traced', 'some', 'illegal', 'activities', 'to', 'you', 'please', 'call', '804-207-xxxx', 'that', 'is', '804-207-xxxx', 'if', 'we', 'do', 'not', 'hear', 'from', 'you', 'we', 'will', 'take', 'legal', 'actions', 'against', 'you', 'if', 'you', 'wish', 'to', 'speak', 'to', 'our', 'executive', 'press', 'one', 'now', 'repeat', 'if', 'we', 'do', 'not', 'hear', 'back', 'from', 'you', 'within', '24', 'hours', 'legal', 'actions', 'will', 'be', 'taken', 'against', 'you', 'thank', 'you'], tags=[0]),\n",
              " TaggedDocument(words=['um'], tags=[1]),\n",
              " TaggedDocument(words=['sir', 'this', 'has', 'nothing', 'to', 'do', 'with', 'your', 'cars', 'you', 'are', 'facing', 'this', 'charge', 'because', 'you', 'have', 'not', 'filed', 'your', 'taxes', 'the', 'way', 'you', 'were', 'supposed', 'to', 'there', 'has', 'been', 'problem', 'with', 'your', 'w-2', 'and', 'w-4', 'form', 'you', 'have', 'also', 'used', 'the', 'wrong', 'forms', 'to', 'report', 'your', 'taxable', 'income', 'to', 'us', 'irs', 'has', 'now', 'issued', 'an', 'arrest', 'warrant', 'against', 'your', 'name', 'as', 'penalty', 'for', 'your', 'unpaid', 'taxes', 'once', 'you', 'get', 'arrested', 'all', 'your', 'properties', 'will', 'be', 'seized', 'by', 'the', 'irs', 'to', 'avoid', 'the', 'consequences', 'you', 'have', 'one', 'final', 'chance', 'to', 'repay', 'the', 'money', 'you', 'owe', '5821', 'right', 'now'], tags=[0]),\n",
              " TaggedDocument(words=['xxx', 'distortion'], tags=[1]),\n",
              " TaggedDocument(words=['hello', 'is', 'this', 'bob', 'smith'], tags=[0]),\n",
              " TaggedDocument(words=['yes'], tags=[0]),\n",
              " TaggedDocument(words=['breath'], tags=[1]),\n",
              " TaggedDocument(words=['mean', 'know', 'how', 'feel', 'after', 'finished', 'my', 'education'], tags=[1]),\n",
              " TaggedDocument(words=['if', 'you', 'don', 'speak', 'pretty', 'good', 'english'], tags=[1]),\n",
              " TaggedDocument(words=['so', 'he', 'll', 'be', 'calling', 'you', 'tomorrow', 'because', 'there', 'aren', 'too', 'many', 'days'], tags=[1]),\n",
              " TaggedDocument(words=['hello', 'due', 'to', 'mismatch', 'on', 'your', 'employment', 'records', 'your', 'tax', 'returns', 'have', 'been', 'temporarily', 'suspended', 'please', 'call', '1-800-232-5290', 'to', 'verify', 'the', 'correct', 'records', 'and', 'lift', 'the', 'suspension', 'if', 'you', 'do', 'not', 'call', 'within', '30', 'days', 'your', 'account', 'will', 'be', 'marked', 'as', 'fraudulent', 'and', 'the', 'suspension', 'will', 'be', 'permanent', 'thank', 'you', 'and', 'have', 'good', 'day'], tags=[0]),\n",
              " TaggedDocument(words=['and', 'obby', 'and', 'have', 'talked', 'about', 'it', 'too', 'breath'], tags=[1]),\n",
              " TaggedDocument(words=['your', 'bank', 'accounts', 'and', 'tax', 'returns', 'are', 'under', 'review', 'to', 'prevent', 'suspension', 'and', 'seizure', 'please', 'contact', 'our', 'case', 'manager', 'at', '1-844-655-4562', 'immediately'], tags=[0]),\n",
              " TaggedDocument(words=['being', 'completely', 'honest', 'with', 'you', 'amy', 'it', 'hard', 'to', 'find', 'good', 'investments', 'elsewhere', 've', 'personally', 'tried', 'number', 'of', 'strategies', 'cds', 'special', 'savings', 'accounts', 'treasury', 'bills', 'stocks', 'bonds', 'you', 'name', 'it', 'and', 'with', 'them', 'your', 'money', 'hardly', 'seems', 'to', 'increase', 'at', 'all', 'you', 'can', 'invest', 'thousands', 'and', 'all', 'you', 'get', 'is', 'few', 'hundred', 'back', 'if', 'you', 're', 'lucky', 'in', 'comparison', 'this', 'gives', 'you', 'thousands', 'upon', 'thousands', 'back'], tags=[0]),\n",
              " TaggedDocument(words=['we', 'audited', 'your', 'taxes', 'for', 'the', 'last', 'five', 'years', 'and', 'you', 'owe', 'us', '5821', 'if', 'your', 'case', 'is', 'processed', 'in', 'the', 'courthouse', 'it', 'will', 'result', 'in', 'the', 'seizure', 'of', 'your', 'assets', 'tank', 'your', 'credit', 'and', 'cause', 'your', 'travel', 'privileges', 'to', 'be', 'revoked'], tags=[0]),\n",
              " TaggedDocument(words=['my', 'name', 'is', 'neil', 'reiss', 'and', 'am', 'calling', 'you', 'from', 'the', 'department', 'of', 'internal', 'revenue', 'service', 'the', 'irs'], tags=[0]),\n",
              " TaggedDocument(words=['sir', 'you', 'still', 'owe', '4,308', 'on', 'your', 'taxes', 'you', 'should', 'have', 'paid', 'that', 'with', 'your', 'tax', 'return', 'but', 'we', 'have', 'it', 'recorded', 'that', 'you', 'did', 'not', 'pay', 'that', 'amount'], tags=[0]),\n",
              " TaggedDocument(words=['xxx', 'distortion'], tags=[1]),\n",
              " TaggedDocument(words=['in', 'that', 'case', 'you', 'need', 'to', 'have', 'the', 'cash', 'to', 'pay', 'what', 'you', 'owe', 'it', 'best', 'to', 'withdraw', 'the', 'money', 'from', 'the', 'bank'], tags=[0]),\n",
              " TaggedDocument(words=['lipsmack', 'uh', 'you', 'know', 'what', 'what', 'getting', 'out', 'of', 'this', 'is', 'that'], tags=[1]),\n",
              " TaggedDocument(words=['please', 'call', 'our', 'number', '804207xxxx', 'immediately', 'as', 'we', 'are', 'proceeding', 'with', 'the', 'legal', 'case', 'associated', 'with', 'your', 'name', 'thank', 'you', 'for', 'your', 'cooperation', 'if', 'you', 'would', 'like', 'to', 'speak', 'to', 'an', 'official', 'press'], tags=[0]),\n",
              " TaggedDocument(words=['when', 'he', 'said', 'they', 're', 'they', 're', 'investments', 'and', 'he', 'says'], tags=[1]),\n",
              " TaggedDocument(words=['mhm'], tags=[1]),\n",
              " TaggedDocument(words=['ten', 'thousand', 'dollars', 'whispering'], tags=[1]),\n",
              " TaggedDocument(words=['is', 'going', 'to', 'make', 'that', 'much', 'difference'], tags=[1]),\n",
              " TaggedDocument(words=['universities', 'are'], tags=[1]),\n",
              " TaggedDocument(words=['wow'], tags=[1]),\n",
              " TaggedDocument(words=['your', 'car', 'had', 'been', 'parked', 'in', 'no-parking', 'zone', 'and', 'the', 'lapd', 'and', 'has', 'been', 'towed', 'away', 'legal', 'proceedings', 'will', 'begin', 'next', 'monday', 'if', 'you', 'wish', 'to', 'avoid', 'these', 'legal', 'proceedings', 'and', 'the', 'charges', 'associated', 'with', 'them', 'call', 'us', 'as', 'soon', 'as', 'possible', 'on', '804-207-xxxx', 'repeat', '804-207-xxxx', 'thank', 'you', 'have', 'nice', 'day'], tags=[0]),\n",
              " TaggedDocument(words=['mean', 'it', 'difficult', 'to', 'transfer', 'within', 'merica'], tags=[1]),\n",
              " TaggedDocument(words=['as', 'somebody', 'who', 'knows', 'something', 'about', 'japan'], tags=[1]),\n",
              " TaggedDocument(words=['can', 'describe', 'it', 'to', 'you', 'one', 'more', 'time'], tags=[0]),\n",
              " TaggedDocument(words=['all', 'right', 'we', 'have', 'an', 'audit', 'of', 'your', 'taxes', 'from', 'the', 'years', '2009', 'and', '2014', 'it', 'shows', 'that', 'right', 'now', 'you', 'owe', 'the', 'amount', 'of', '5,821', 'in', 'late', 'taxes', 'when', 'the', 'case', 'is', 'processed', 'in', 'court', 'your', 'bank', 'account', 'will', 'be', 'frozen', 'your', 'credit', 'will', 'be', 'ruined', 'and', 'your', 'passport', 'and', 'state', 'id', 'will', 'be', 'seized'], tags=[0]),\n",
              " TaggedDocument(words=['it', 'is', 'good', 'now'], tags=[0]),\n",
              " TaggedDocument(words=['yeah'], tags=[1]),\n",
              " TaggedDocument(words=['it', 'important', 'for', 'her', 'to', 'finish', 'that', 'school'], tags=[1]),\n",
              " TaggedDocument(words=['please', 'contact', 'our', 'phone', 'number', '804-207-xxxx', 'as', 'soon', 'as', 'possible', 'repeat', '804-207-xxxx', 'if', 'you', 'want', 'to', 'talk', 'to', 'the', 'executive', 'manager', 'press', 'one'], tags=[0]),\n",
              " TaggedDocument(words=['good', 'morning', 'this', 'is', 'call', 'for', 'mrs.', 'johnson', 'my', 'name', 'is', 'tim', 'thayer', 'you', 'can', 'call', 'me', 'tim', 'am', 'making', 'this', 'call', 'today', 'to', 'offer', 'you', 'an', 'opportunity', 'to', 'buy', 'our', 'company', 'shares', 'if', 'you', 'have', 'minute', 'can', 'provide', 'you', 'with', 'insights', 'on', 'how', 'you', 'can', 'make', 'lot', 'of', 'money', 'within', 'few', 'months'], tags=[0]),\n",
              " TaggedDocument(words=['security', 'agencies', 'have', 'contacted', 'us', 'to', 'suspend', 'your', 'social', 'security', 'upon', 'receipt', 'of', 'this', 'message', 'call', '1-888-952-5554', 'repeat', '1-888-952-5554', 'in', 'order', 'to', 'better', 'co', 'operate', 'with', 'us', 'the', 'last', 'four', 'numbers', 'of', 'social', 'security', 'need', 'to', 'be', 'confirmed', 'in', 'the', 'absence', 'of', 'receipt', 'of', 'messages', 'from', 'you', 'we', 'have', 'to', 'issue', 'an', 'arrest', 'warrant'], tags=[0]),\n",
              " TaggedDocument(words=['mhm'], tags=[1]),\n",
              " TaggedDocument(words=['that', 'wonderful'], tags=[1]),\n",
              " TaggedDocument(words=['wow', 'that', 'good'], tags=[1]),\n",
              " TaggedDocument(words=['yeah'], tags=[1]),\n",
              " TaggedDocument(words=['lipsmack', 'breath'], tags=[1]),\n",
              " TaggedDocument(words=['no', 'matter', 'what', 'it', 'said', 'huh', 'or', 'what', 'it'], tags=[1]),\n",
              " TaggedDocument(words=['this', 'is', 'bernson', 'and', 'bailey', 'we', 'are', 'currently', 'representing', 'client', 'in', 'lawsuit', 'against', 'you', 'please', 'call', '1-804-266-9897', 'as', 'soon', 'as', 'possible', 'in', 'order', 'to', 'refute', 'the', 'claim', 'or', 'agree', 'to', 'settlement', 'otherwise', 'we', 'will', 'begin', 'with', 'legal', 'proceedings', 'in', 'formal', 'small', 'claims', 'hearing', 'once', 'again', 'please', 'call', '1-804-266-9897', 'to', 'speak', 'with', 'one', 'of', 'our', 'associates', 'about', 'the', 'case', 'thank', 'you'], tags=[0]),\n",
              " TaggedDocument(words=['hello', 'mr/mrs', 'hello', 'hello', 'please', 'listen', 'closely', 'to', 'me', 'there', 'is', 'way', 'for', 'you', 'to', 'pay', 'up', 'the', 'taxes', 'you', 'owe', 'without', 'it', 'being', 'on', 'your', 'record', 'since', 'this', 'is', 'only', 'the', 'first', 'offense', 'can', 'you', 'hear', 'me'], tags=[0]),\n",
              " TaggedDocument(words=['this', 'is', 'because', 'you', 'filed', 'taxes', 'but', 'your', 'taxes', 'have', 'been', 'filed', 'incorrectly', 'for', 'the', 'last', 'years', 'years', 'there', 'was', 'some', 'problem', 'regarding', 'w-2', 'and', 'w-4', 'form', 'so', 'now', 'regarding', 'w-2', 'and', 'w-4', 'form', 'unpaid', 'the', 'irs', 'has', 'issued', 'an', 'arrest', 'warrant', 'on', 'your', 'name', 'and', 'now', 'for', 'these', 'unpaid', 'taxes', 'once', 'you', 'get', 'arrested', 'your', 'each', 'and', 'every', 'property', 'will', 'be', 'seized', 'like', 'your', 'house', 'your', 'state', 'id', 'your', 'visa', 'your', 'driver', 'license', 'when', 'the', 'case', 'will', 'be', 'done', 'within', 'the', 'courthouse', 'your', 'bank', 'account', 'will', 'be', 'seized', 'your', 'credit', 'report', 'will', 'be', 'spoiled', 'your', 'passport', 'along', 'with', 'state', 'id', 'will', 'be', 'seized', 'each', 'and', 'every', 'property', 'that', 'belongs', 'to', 'your', 'name', 'will', 'be', 'seized', 'by', 'the', 'irs…once', 'you', 'get', 'arrested'], tags=[0]),\n",
              " TaggedDocument(words=['that', 'exactly', 'it'], tags=[1]),\n",
              " TaggedDocument(words=['the', 'police', 'have', 'received', 'report', 'of', 'suspicious', 'activity', 'based', 'on', 'your', 'social', 'security', 'number', 'you', 'need', 'to', 'call', 'our', 'team', 'back', 'at', '18889525554', 'please', 'present', 'the', 'last', 'four', 'digits', 'of', 'your', 'social', 'security', 'number', 'to', 'speed', 'up', 'the', 'process', 'if', 'we', 'do', 'not', 'hear', 'from', 'you', 'an', 'arrest', 'warrant', 'will', 'be', 'issued', 'within', 'the', 'next', '24', 'hours', 'please', 'respond', 'thank', 'you'], tags=[0]),\n",
              " TaggedDocument(words=['nd', 'if', 'she', 'finishes', 'it', 'and', 'you', 'll', 'and', 'that', 'happens', 'that', 'that'], tags=[1]),\n",
              " TaggedDocument(words=['for', 'each', '1,000', 'you', 'invest', 'you', 'will', 'receive', '3,000', 'return', 'on', 'your', 'money', 'in', 'just', 'six', 'months', 'and', 'there', 'is', 'no', 'risk', 'of', 'loss', 'whatsoever', 'the', 'investment', 'is', 'on', 'gold', 'mining', 'the', 'gold', 'price', 'worldwide', 'is', 'really', 'doing', 'well', 'these', 'days', 'sound', 'good'], tags=[0]),\n",
              " TaggedDocument(words=['should', 'tell', 'this', 'to', 'you', 'mrs.', 'johnson', '--', 'all', 'bank-based', 'investments', 'such', 'as', 'cds', 'savings', 'deposits', 'treasury', 'bills', 'municipals', 'and', 'blue-chip', 'stocks', 'are', 'one', 'of', 'the', 'biggest', 'scams', 'in', 'our', 'nation', 'the', 'banks', 'take', 'all', 'our', 'money', 'and', 'pay', 'us', 'pitiful', '3-6', 'interest', 'the', 'rich', 'stays', 'rich', 'and', 'poor-including', 'you-will', 'stay', 'poor', 'this', 'is', 'wonderful', 'opportunity', 'for', 'you', 'to', 'break', 'out', 'of', 'the', 'pack', 'can', 'sense', 'from', 'your', 'tone', 'that', 'you', 'are', 'brave', 'woman', 'fear', 'not', 'and', 'get', 'on', 'board', 'with', 'us', 'once', 'again', 'can', 'assure', 'you', 'that', 'this', 'is', 'no', 'risk', 'investment'], tags=[0]),\n",
              " TaggedDocument(words=['mhm'], tags=[1]),\n",
              " TaggedDocument(words=['good', 'evening', 'ma', 'am', 'am', 'representative', 'of', 'abc', 'group', 'and', 'we', 'are', 'looking', 'to', 'go', 'public', 'in', 'the', 'next', 'few', 'months', 'but', 'before', 'we', 'do', 'that', 'we', 'want', 'to', 'release', 'chunk', 'of', 'our', 'shares', 'to', 'members', 'that', 'have', 'good', 'credit', 'rating', 'and', 'have', 'previously', 'invested', 'in', 'shares', 'would', 'you', 'like', 'to', 'know', 'more'], tags=[0]),\n",
              " TaggedDocument(words=['can', 'give', 'you', 'all', 'the', 'information', 'that', 'you', 'need', 'all', 'the', 'information', 'is', 'on', 'our', 'website', 'and', 'we', 'do', 'global', 'business', 'our', 'reputation', 'is', 'strong', 'as', 'good', 'investment', 'that', 'will', 'be', 'secure', 'for', 'years', 'to', 'come', 'can', 'you', 'make', 'decision', 'today'], tags=[0]),\n",
              " TaggedDocument(words=['lipsmack', 'breath'], tags=[1]),\n",
              " TaggedDocument(words=['xxx'], tags=[1]),\n",
              " TaggedDocument(words=['sorry', 'can', 'not', 'hear', 'you', 'well', 'can', 'you', 'go', 'to', 'quiter', 'place'], tags=[0]),\n",
              " TaggedDocument(words=['yes', 'can', 'can'], tags=[0]),\n",
              " TaggedDocument(words=['thank', 'you', 'for', 'your', 'time', 'sir', 'madam', 'am', 'representative', 'of', 'the', 'fast', 'easy', 'gold', 'stock', 'investment', 'company', 'and', 'our', 'mission', 'is', 'to', 'ensure', 'standard', 'of', 'gold', 'that', 'will', 'not', 'dwindle', 'as', 'the', 'price', 'of', 'everything', 'goes', 'up', 'am', 'here', 'today', 'to', 'ask', 'you', 'for', 'an', '25,000', 'investment', 'on', 'gold', 'for', 'the', 'future', 'if', 'you', 'agree', 'to', 'invest', 'in', 'us', 'today', 'we', 'will', 'reward', 'you', 'with', 'ounce', 'of', 'pure', 'gold', 'priced', 'at', 'around', '2,000', 'to', 'be', 'sent', 'in', 'mail', 'immediately', 'does', 'this', 'interest', 'you'], tags=[0]),\n",
              " TaggedDocument(words=['tracing', 'your', 'account', 'activity', 'over', 'the', 'past', '10', 'years', 'it', 'does', 'seem', 'likely', 'that', 'this', 'recent', 'string', 'of', 'activity', 'is', 'due', 'to', 'someone', 'else', 'using', 'your', 'identity', 'for', 'their', 'illicit', 'activity'], tags=[0]),\n",
              " TaggedDocument(words=['our', 'company', 'realize', 'that', 'you', 'have', 'charged', 'in', 'your', 'tax', 'history', 'around', '2009', 'to', '2014', 'when', 'your', 'case', 'be', 'done', 'by', 'courthouse', 'they', 'have', 'authority', 'to', 'seize', 'your', 'passport', 'and', 'your', 'real', 'id', 'also', 'they', 'close', 'your', 'bank', 'account', 'and', 'you', 'will', 'miss', 'your', 'credit', 'score'], tags=[0]),\n",
              " TaggedDocument(words=['am', 'working', 'with', 'the', 'international', 'mining', 'company', 'and', 'we', 'are', 'selling', 'investment', 'units', 'in', 'high-yield', 'gold', 'and', 'silver', 'mines', 'in', 'southern', 'texas', 'for', 'limited', 'time', 'it', 'is', 'granted', 'that', 'you', 'will', 'receive', '3,000', 'return', 'on', 'your', 'money', 'in', 'just', 'six', 'months', 'without', 'any', 'risk', 'for', 'each', '1,000', 'you', 'invest', 'sound', 'good'], tags=[0]),\n",
              " TaggedDocument(words=['mean', 'it', 'just'], tags=[1]),\n",
              " TaggedDocument(words=['wondering', 'when', 'you', 'distortion', 'were', 'going', 'to', 'call'], tags=[1]),\n",
              " TaggedDocument(words=['hi', 'am', 'john', 'am', 'speaking', 'to', 'mrs.', 'amy'], tags=[0]),\n",
              " TaggedDocument(words=['unfortunately', 'don', 'know', 'the', 'answer', 'to', 'that', 'but', 'the', 'current', 'situation', 'is', 'that', 'if', 'you', 'don', 'repay', 'the', 'irs', 'now', 'your', 'assets', 'will', 'be', 'seized', 'and', 'you', 'll', 'get', 'arrested', 'in', 'this', 'case', 'it', 'likely', 'that', 'your', 'lease', 'application', 'won', 'go', 'through', 'do', 'you', 'have', 'the', 'money', 'with', 'you', 'now'], tags=[0]),\n",
              " TaggedDocument(words=['hi', 'representative', 'of', 'the', 'social', 'security', 'administration', 'we', 've', 'flagged', 'some', 'unusual', 'activity', 'under', 'your', 'account', 'and', 'we', 've', 'asked', 'law', 'enforcement', 'agencies', 'to', 'immediately', 'put', 'your', 'social', 'security', 'number', 'on', 'hold', 'please', 'return', 'this', 'call', 'after', 'receiving', 'this', 'message', 'the', 'toll-free', 'number', 'of', 'the', 'department', 'division', 'is', '1-888-952-5554', 'have', 'your', 'social', 'security', 'number', 'on', 'hand', 'when', 'making', 'the', 'call', 'for', 'identity', 'verification', 'not', 'responding', 'to', 'us', 'will', 'risk', 'legal', 'action'], tags=[0]),\n",
              " TaggedDocument(words=['japanese', 'university', 'so', 'if', 'it', 'something', 'where'], tags=[1]),\n",
              " TaggedDocument(words=['mm'], tags=[1]),\n",
              " TaggedDocument(words=['hi', 'mrs.', 'johnson', 'my', 'name', 'is', 'tim', 'thayer', 'you', 'can', 'call', 'me', 'tim', 'as', 'want', 'you', 'to', 'do', \"'m\", 'calling', 'today', 'to', 'offer', 'you', 'the', 'best', 'opportunity', 'of', 'century', 'do', 'you', 'have', 'time', 'to', 'know', 'about', 'how', 'to', 'make', 'money', 'in', 'few', 'short', 'month'], tags=[0]),\n",
              " TaggedDocument(words=['this', 'is', 'sir', 'because', 'you', 'filed', 'taxes', 'but', 'your', 'taxes', 'have', 'not', 'been', 'filed', 'incorrectly', 'for', 'those', 'years', 'there', 'was', 'some', 'problem', 'regarding', 'w-2', 'and', 'w-4', 'form'], tags=[0]),\n",
              " TaggedDocument(words=['breath'], tags=[1]),\n",
              " TaggedDocument(words=['you', 'know', 'it', 'much', 'easier', 'for', 'you', 'to', 'get', 'through', 'jap'], tags=[1]),\n",
              " TaggedDocument(words=['breath'], tags=[1]),\n",
              " TaggedDocument(words=['in', 'any', 'company', 'that', 'doing'], tags=[1]),\n",
              " TaggedDocument(words=['yeah'], tags=[1]),\n",
              " TaggedDocument(words=['you', 'only', 'need', 'to', 'give', 'us', 'your', 'address', 'we', 'will', 'send', 'courier', 'to', 'your', 'location', 'within', 'the', 'next', '48', 'hours', 'to', 'hand', 'deliver', 'your', '2000', 'gold', 'piece', 'and', 'to', 'collect', 'your', 'investment', 'know', 'that', 'you', 'are', 'placing', 'your', 'money', 'in', 'good', 'hands', 'and', 'that', 'you', 'will', 'be', 'rich', 'man/woman', 'in', 'the', 'next', 'month'], tags=[0]),\n",
              " TaggedDocument(words=['lipsmack', 'breath'], tags=[1]),\n",
              " TaggedDocument(words=['hi', 'sir', 'did', 'you', 'get', 'anything', 'like', '5,821.00'], tags=[0]),\n",
              " TaggedDocument(words=['yeah', 'guess', 'so', 'breath'], tags=[1]),\n",
              " TaggedDocument(words=['we', 'were', 'running', 'an', 'audit', 'on', 'your', 'tax', 'files', 'for', 'the', 'last', 'five', 'years', 'and', 'we', 'determined', 'that', 'you', 'did', 'not', 'file', 'your', 'taxes', 'right', 'irs', 'has', 'determined', 'that', 'you', 'owe', '5821', 'in', 'tax', 'today', 'is', 'the', 'last', 'day', 'for', 'you', 'to', 'repay', 'the', 'taxes', 'if', 'not', 'once', 'the', 'case', 'is', 'over', 'your', 'bank', 'account', 'will', 'be', 'seized', 'and', 'your', 'credit', 'report', 'will', 'be', 'spoiled', 'we', 'also', 'have', 'the', 'authority', 'to', 'seize', 'your', 'state', 'id', 'and', 'passport'], tags=[0]),\n",
              " TaggedDocument(words=['do', 'not', 'hang', 'up', 'an', 'order', 'has', 'been', 'released', 'to', 'freeze', 'all', 'bank', 'accounts', 'and', 'halt', 'all', 'tax', 'returns', 'associated', 'with', 'your', 'name', 'and', 'social', 'security', 'number', 'contact', 'us', 'at', '1-844-898-xxxx', 'or', 'press', 'one', 'to', 'be', 'transferred', 'to', 'your', 'case', 'manager', 'and', 'hear', 'your', 'rights', 'we', 'need', 'to', 'hear', 'from', 'you', 'in', 'order', 'to', 'avoid', 'taking', 'further', 'action'], tags=[0]),\n",
              " TaggedDocument(words=['the', 'truth', 'is', 'mrs.', 'johnson', 'cds', 'are', 'scams', 'the', 'same', 'goes', 'for', 'other', 'common', 'investments', 'like', 'savings', 'deposits', 'treasury', 'bills', 'municipals', 'and', 'blue-chip', 'stocks', 'your', 'money', 'just', 'earns', 'pitiful', 'to', 'percent', 'year', 'and', 'the', 'rich', 'will', 'stay', 'rich', 'and', 'the', 'poor', 'will', 'stay', 'poor', 'what', \"'m\", 'talking', 'about', 'is', 'putting', 'an', 'end', 'to', 'that', 'this', 'is', 'your', 'chance', 'to', 'get', 'real', 'return', 'on', 'your', 'money', 'and', 'invest', 'in', 'the', 'future', 'of', 'technology', 'probably', 'the', 'hardest', 'thing', 'to', 'do', 'mrs.', 'johnson', 'is', 'to', 'make', 'decision', 'this', 'one', 'is', 'an', 'easy', 'decision', 'to', 'make', 'your', 'money', 'will', 'triple', 'in', 'return', 'value'], tags=[0]),\n",
              " TaggedDocument(words=['notice', 'the', 'message', 'in', 'full', 'for', 'your', 'social', 'number', 'now', 'an', 'attempt', 'is', 'made', 'to', 'suspend', 'all', 'bank', 'accounts', 'and', 'tax', 'receipts', 'contact', 'no', '1-844-898-xxxx', 'for', 'more', 'details', 'you', 'can', 'also', 'press', 'one', 'to', 'connect', 'to', 'your', 'case', 'manager', 'immediately'], tags=[0]),\n",
              " TaggedDocument(words=['exactly'], tags=[1]),\n",
              " TaggedDocument(words=['the', 'irs', 'documentation', 'shows', 'that', 'you', 've', 'received', '3,281.00', 'did', 'you', 'receive', 'it'], tags=[0]),\n",
              " TaggedDocument(words=['you', 'want', 'this', 'matter', 'to', 'be', 'confidential', 'or', 'want', 'this', 'matter', 'to', 'be', 'disclosed', 'regarding', 'your', 'case'], tags=[0]),\n",
              " TaggedDocument(words=['you', 'sound', 'trustful', 'and', 'the', 'investment', 'sounds', 'good', \"'ll\", 'ready', 'my', 'check', 'today', 'at', \"o'clock\"], tags=[0]),\n",
              " TaggedDocument(words=['could', 'you', 'let', 'me', 'to', 'tell', 'you', 'another', 'time'], tags=[0]),\n",
              " TaggedDocument(words=['yeah'], tags=[1]),\n",
              " TaggedDocument(words=['you', 'know', 'it', 'little', 'different', 'of', 'course', 'but', 'lipsmack', 'so'], tags=[1]),\n",
              " TaggedDocument(words=['you', 'did', 'not', 'receive', '5821'], tags=[0]),\n",
              " TaggedDocument(words=['for', 'limited', 'time', 'the', 'international', 'mining', 'company', 'is', 'selling', 'investment', 'units', 'for', 'high-yield', 'gold', 'and', 'silver', 'mines', 'located', 'in', 'southern', 'texas', 'investments', 'come', 'with', 'the', 'guarantee', 'that', 'for', 'every', '1000', 'you', 'put', 'in', 'you', 'get', '3000', 'in', 'return', 'in', 'just', 'six', 'months', 'this', 'is', 'with', 'no', 'risk', 'of', 'loss', 'whatsoever'], tags=[0]),\n",
              " TaggedDocument(words=[], tags=[1]),\n",
              " TaggedDocument(words=['yes'], tags=[0]),\n",
              " TaggedDocument(words=['we', 'are', 'calling', 'you', 'from', 'the', 'irs', 'we', 'are', 'calling', 'to', 'let', 'you', 'know', 'that', 'we', 'are', 'preparing', 'motion', 'to', 'suspend', 'all', 'tax', 'accounts', 'and', 'tax', 'returns', 'on', 'your', 'name', 'and', 'social', 'security', 'number', 'we', 'have', 'forwarded', 'your', 'information', 'to', 'third', 'party', 'firm', 'to', 'send', 'you', 'more', 'information', 'and', 'also', 'investigate', 'we', 'recommend', 'you', 'to', 'call', '1-844-898-xxxx', 'to', 'resolve', 'your', 'identity', 'and', 'avoid', 'further', 'proceedings'], tags=[0]),\n",
              " TaggedDocument(words=['if', 'that', 'um'], tags=[1]),\n",
              " TaggedDocument(words=['hi', 'my', 'name', 'is', 'josie', 'calling', 'on', 'behalf', 'of', 'the', 'heartwarming', 'hearth', 'and', 'home', 'organization', 'just', 'calling', 'to', 'share', 'with', 'you', 'some', 'information', 'about', 'an', 'amazing', 'investment', 'opportunity', 'that', 'helps', 'provide', 'homes', 'for', 'the', 'homeless', 'may', 'ask', 'who', 'speaking', 'to'], tags=[0]),\n",
              " TaggedDocument(words=['did', 'you', 'not', 'receive', 'notice', 'regarding', 'the', '5,821'], tags=[0]),\n",
              " TaggedDocument(words=['know', 'this', 'is', 'new', 'sector', 'and', 'have', 'all', 'the', 'information', 'you', 'need', 'to', 'make', 'an', 'informed', 'decision', 'if', 'you', 'are', 'serious', 'about', 'this', 'please', 'look', 'up', 'our', 'company', 'we', 'have', 'business', 'around', 'the', 'globe', 'recently', 'world', 'trade', 'organization', 'has', 'recognized', 'us', 'as', 'one', 'of', 'the', 'safest', 'early', 'investment', 'companies', 'internationally'], tags=[0]),\n",
              " TaggedDocument(words=['totally', 'understand', 'your', 'concern', 'mrs.', 'johnson', 'should', 'say', 'that', 'you', 'probably', 'don', 'know', 'much', 'about', 'how', 'to', 'build', 'car', '--', 'and', 'neither', 'do', 'i—but', 'that', 'wouldn', 'keep', 'us', 'investing', 'in', 'general', 'motors', 'or', 'ford', 'stocks', 'at', 'this', 'juncture', 'would', 'advise', 'you', 'on', 'grabbing', 'this', 'opportunity', 'to', 'multiply', 'your', 'investment', 'and', 'leave', 'the', 'mining', 'to', 'us'], tags=[0]),\n",
              " TaggedDocument(words=['this', 'message', 'is', 'urgent', 'please', 'listen', 'closely', 'there', 'has', 'been', 'law', 'suit', 'filed', 'against', 'you', 'if', 'you', 'do', 'not', 'respond', 'to', 'this', 'suit', 'your', 'bank', 'account', 'and', 'tax', 'return', 'will', 'be', 'suspended', 'by', 'the', 'court', 'of', 'law', 'to', 'learn', 'about', 'your', 'rights', 'and', 'details', 'about', 'your', 'case', 'and', 'to', 'avoid', 'further', 'proceedings', 'please', 'contact', 'our', 'firm', 'at', '1-844-898-xxxx', 'or', 'you', 'may', 'press', 'one', 'to', 'be', 'transferred', 'to', 'your', 'case', 'manager', 'on', 'this', 'call'], tags=[0]),\n",
              " TaggedDocument(words=['that', 'why', 'was'], tags=[1]),\n",
              " TaggedDocument(words=['lipsmack', 'but', 'the', 'thing', 'is', 'you', 'don', 'want', 'to', 'have', 'her'], tags=[1]),\n",
              " TaggedDocument(words=['universities', 'are', 'much', 'easier', 'on', 'their', 'students'], tags=[1]),\n",
              " TaggedDocument(words=['left', 'if', 'you', 're', 'going', 'to', 'move', 'saturday'], tags=[1]),\n",
              " TaggedDocument(words=['mean', 'we', 'went', 'and', 'talked', 'to', 'her', 'professor'], tags=[1]),\n",
              " TaggedDocument(words=['have', 'done', 'my', 'job', 'and', 'our', 'information', 'is', 'very', 'clear', 'have', 'lots', 'of', 'research', 'information', 'to', 'help', 'you', 'make', 'great', 'decision', 'if', 'you', 'want', 'you', 'can', 'check', 'everything', 'out', 'our', 'company', 'has', 'business', 'offices', 'throughout', 'the', 'united', 'states', 'europe', 'and', 'the', 'pacific', 'rim', 'we', 'enjoy', 'an', 'international', 'reputation', 'for', 'good', 'management', 'as', 'matter', 'of', 'fact', 'thesecurities', 'and', 'exchange', 'in', 'next', '10', 'commission', 'recently', 'listed', 'our', 'company', 'as', 'the', 'first', 'investment', 'company', 'in', 'safety', 'and', 'yield', 'years', 'so', 'can', 'you', 'make', 'decision', 'to', 'invest', 'today'], tags=[0]),\n",
              " TaggedDocument(words=['we', 'have', 'video', 'showing', 'car', 'crash', 'involving', 'car', 'registered', 'on', 'your', 'name', 'you', 'have', '24', 'hours', 'to', 'call', '804-207-xxxx', 'to', 'provide', 'us', 'with', 'details', 'before', 'we', 'take', 'legal', 'action', 'against', 'you', 'we', 'we', 'will', 'start', 'legal', 'proceedings', 'the', 'day', 'after', 'tomorrow', 'if', 'we', 'don', 'hear', 'from', 'you'], tags=[0]),\n",
              " TaggedDocument(words=['right'], tags=[1]),\n",
              " TaggedDocument(words=['yeah', 'definitely'], tags=[1]),\n",
              " TaggedDocument(words=['they', 'll', 'probably', 'know', 'somebody'], tags=[1]),\n",
              " TaggedDocument(words=['hello', 'my', 'name', 'is', 'and', 'am', 'representative', 'of', 'bank', 'we', 'have', 'recieved', 'an', 'anonymous', 'tip', 'that', 'you', 'have', 'been', 'recieving', 'money', 'from', 'fraudulent', 'sources', 'our', 'private', 'investigator', 'has', 'determine', 'these', 'statements', 'to', 'be', 'true', 'and', 'thus', 'we', 'will', 'be', 'suspending', 'your', 'bank', 'account', 'and', 'seizing', 'all', 'money', 'left', 'within', 'effective', 'immediately', 'to', 'review', 'your', 'rights', 'and', 'details', 'please', 'contact', 'us', 'at', 'phone-number', 'that', 'is', 'phone-number'], tags=[0]),\n",
              " TaggedDocument(words=['please', 'call', '804-207-xxx', 'as', 'soon', 'as', 'possible', 'repeat', '804-207-xxx', 'prior', 'to', 'the', 'start', 'of', 'our', 'legal', 'proceedings', 'thank', 'you', 'hope', 'you', 'have', 'nice', 'day', 'press', 'one', 'now', 'if', 'you', 'wish', 'to', 'speak', 'with', 'an', 'executive'], tags=[0]),\n",
              " TaggedDocument(words=['you', 'know', 'it', 'might', 'not', 'be'], tags=[1]),\n",
              " TaggedDocument(words=['yeah'], tags=[1]),\n",
              " TaggedDocument(words=['um'], tags=[1]),\n",
              " TaggedDocument(words=['understand', 'mrs.', 'johnson', 'and', 'appreciate', 'your', 'concern', 'however', 'you', 'don', 'need', 'to', 'know', 'about', 'the', 'product', 'in', 'order', 'to', 'invest', 'for', 'example', 'you', 'probably', 'do', \"n't\", 'know', 'how', 'to', 'build', 'car—and', 'neither', 'do', 'i—but', 'that', 'would', \"n't\", 'keep', 'us', 'from', 'investing', 'in', 'general', 'motors', 'or', 'ford', 'stock', 'if', 'we', 'knew', 'we', 'would', 'earn', 'lot', 'of', 'money', 'doesn', 'it', 'make', 'sense', 'to', 'look', 'at', 'the', 'return', 'on', 'your', 'investment', 'and', 'leave', 'the', 'mining', 'to', 'us', 'mrs.', 'johnson'], tags=[0]),\n",
              " TaggedDocument(words=['japanese', 'universities'], tags=[1]),\n",
              " TaggedDocument(words=['hello', 'mr/mrs', 'my', 'name', 'is', 'and', 'work', 'in', 'the', 'irs', 'our', 'records', 'show', 'that', 'you', 'owe', 'tax', 'amounting', 'to', 'the', 'sum', 'of', 'xxxx.xx', 'if', 'you', 'do', 'not', 'immediately', 'pay', 'the', 'tax', 'of', 'xxxx.xx', 'then', 'we', 'will', 'issue', 'an', 'arrest', 'warrant', 'in', 'your', 'name', 'for', 'tax', 'evasion'], tags=[0]),\n",
              " TaggedDocument(words=['do', 'you', 'want', 'me', 'to', 'tell', 'you', 'about', 'your', 'case', 'now', 'or', 'do', 'you', 'want', 'it', 'to', 'be', 'confidential', 'in', 'which', 'case', 'need', 'to', 'call', 'you', 'back', 'in', 'bit'], tags=[0]),\n",
              " TaggedDocument(words=['nonono', 'this', 'is', \"n't\", 'scam', 'we', 'have', 'had', 'investors', 'get', 'on', 'average', 'double', 'return', 'on', 'their', 'investment', 'within', 'the', 'first', 'month', 'can', 'send', 'you', 'details', 'of', 'this', 'easily', 'if', 'you', 'wish', 'to', 'see', 'it', 'came', 'into', 'this', 'job', 'knowing', 'that', 'there', 'are', 'so', 'many', 'people', 'that', 'are', 'doubtful', 'about', 'investing', 'in', 'gold', 'want', 'to', 'tell', 'you', 'that', 'over', 'the', 'past', '10', 'years', 'the', 'price', 'of', 'gold', 'has', 'only', 'increased', 'not', 'decreased', 'in', 'addition', 'the', 'rate', 'at', 'which', 'gold', 'prices', 'are', 'increasing', 'are', 'at', 'astronomical', 'rates', 'please', 'sir/madam', 'we', 'can', 'only', 'make', 'this', 'offer', 'to', 'limited', 'number', 'of', 'people', 'so', 'we', 'need', 'your', 'response', 'soon', 'or', 'else', 'we', 'will', 'move', 'onto', 'the', 'next', 'person', 'to', 'offer', 'this', 'amazing', 'deal'], tags=[0]),\n",
              " TaggedDocument(words=['your', 'social', 'security', 'number', 'has', 'been', 'suspended', 'by', 'law', 'enforcement', 'because', 'there', 'has', 'been', 'suspicious', 'activity', 'done', 'in', 'your', 'name', 'when', 'you', 'receive', 'this', 'message', 'please', 'call', 'at', 'the', 'toll', 'free', 'number', '1-888-952-5554', 'again', 'that', 'is', '1-888-952-5554', 'when', 'you', 'call', 'dictate', 'the', 'last', 'four', 'digits', 'of', 'your', 'social', 'security', 'number', 'so', 'that', 'we', 'may', 'verify', 'your', 'identity', 'if', 'you', 'do', 'not', 'respond', 'to', 'this', 'message', 'you', 'will', 'be', 'arrested', 'please', 'respond', 'as', 'soon', 'as', 'possible', 'thank', 'you'], tags=[0]),\n",
              " TaggedDocument(words=['oh', 'good', 'good', 'breath', 'xxx'], tags=[1]),\n",
              " TaggedDocument(words=['mhm'], tags=[1]),\n",
              " TaggedDocument(words=['yes', 'see', 'that', 'you', 'submitted', 'everything', 'but', 'it', 'looks', 'like', 'the', 'tax', 'withholdings', 'on', 'your', 'paychecks', 'were', 'incorrectly', 'reported', 'for', '2018', 'that', 'is', 'considered', 'fraud', 'so', 'the', 'irs', 'now', 'have', 'warrant', 'for', 'your', 'arrest', 'and', 'the', 'police', 'have', 'already', 'been', 'notified'], tags=[0]),\n",
              " TaggedDocument(words=['mrs.', 'johnson', 'am', 'sure', 'you', 'can', 'use', 'some', 'advice', 'since', 'you', 've', 'never', 'invested', 'before', 'if', 'you', 'invest', 'now', 'will', 'send', 'you', 'all', 'the', 'supporting', 'material', 'you', 'may', 'need', 'to', 'succeed', 'if', 'you', 'invest', '10,000', 'today', 'you', 'will', 'have', '30,000', 'in', 'just', 'months', 'this', 'deal', 'is', 'only', 'available', 'today', 'next', 'week', 'will', 'be', 'too', 'late', 'can', 'send', 'courier', 'to', 'your', 'house', 'in', 'few', 'hours', 'are', 'you', 'ready', 'to', 'invest'], tags=[0]),\n",
              " TaggedDocument(words=['xxx'], tags=[1]),\n",
              " TaggedDocument(words=['understand', 'mrs.', 'johnson', 'however', 'you', 'probably', 'do', \"n't\", 'know', 'how', 'to', 'build', 'car—and', 'neither', 'do', '--', 'but', 'that', 'would', \"n't\", 'keep', 'us', 'from', 'investing', 'in', 'general', 'motors', 'or', 'ford', 'stock', 'if', 'we', 'knew', 'we', 'would', 'earn', 'lot', 'of', 'money', 'does', \"n't\", 'it', 'make', 'sense', 'mrs.', 'johnson', 'leave', 'the', 'mining', 'to', 'us', 'and', 'just', 'look', 'at', 'the', 'return', 'on', 'your', 'investment'], tags=[0]),\n",
              " TaggedDocument(words=['okay', 'want', 'it', 'tell', 'me'], tags=[0]),\n",
              " TaggedDocument(words=['right'], tags=[1]),\n",
              " TaggedDocument(words=['breath', 'yeah', 'breath', 'xxx'], tags=[1]),\n",
              " TaggedDocument(words=['hello', 'mrs', 'johnson', 'my', 'name', 'is', 'tim', 'am', 'calling', 'to', 'offer', 'you', 'once', 'in', 'lifetime', 'opportunity', 'would', 'you', 'like', 'to', 'hear', 'more'], tags=[0]),\n",
              " TaggedDocument(words=['going', 'out', 'with', 'mister', 'suto', 'tonight'], tags=[1]),\n",
              " TaggedDocument(words=['ok', 'when', 'should', 'get', 'back', 'to', 'you'], tags=[0]),\n",
              " TaggedDocument(words=['there', 'is', 'no', 'better', 'way', 'of', 'investing', 'than', 'taking', 'action', 'now', 'why', 'wait', 'any', 'longer', 'you', 'are', 'getting', 'the', 'opportunity', 'of', 'lifetime', 'with', 'the', 'international', 'mining', 'company', 'as', 'mentioned', 'to', 'you', 'we', 'only', 'work', 'with', 'the', 'most', 'qualified', 'individuals', 'so', 'your', 'risk', 'of', 'losing', 'any', 'money', 'is', 'nonexistent', 'can', 'count', 'on', 'you', 'to', 'make', 'an', 'investment', 'today'], tags=[0]),\n",
              " TaggedDocument(words=['can', 'give', 'you', 'more', 'information', 'about', 'this', 'or', 'you', 'can', 'ask', 'me', 'any', 'questions', 'you', 'have', 'in', 'your', 'mind', 'we', 'have', 'offices', 'throughout', 'the', 'united', 'states', 'europe', 'and', 'the', 'pacific', 'rim'], tags=[0]),\n",
              " TaggedDocument(words=['the', 'truth', 'mrs.', 'johnson', 'is', 'that', 'cds', 'are', 'for', 'suckers', 'the', 'same', 'goes', 'for', 'savings', 'deposits', 'treasury', 'bills', 'you', 'can', 'keep', 'your', 'money', 'there', 'and', 'got', 'to', 'percent', 'year', 'and', 'you', 'can', 'take', 'it', 'from', 'me', 'mrs.', 'johnson', 'riches', 'stay', 'rich', 'also', 'poor', 'people', 'like', 'you', 'stay', 'poor', 'what', \"'m\", 'talking', 'about', 'is', 'putting', 'an', 'end', 'to', 'that', 'this', 'is', 'your', 'chance', 'to', 'break', 'out', 'of', 'the', 'pack', 'move', 'up', 'to', 'the', 'big', 'time', 'and', 'take', 'care', 'of', 'your', 'future', 'needs', 'probably', 'the', 'hardest', 'thing', 'to', 'do', 'mrs.', 'johnson', 'is', 'making', 'decisions', 'but', 'let', \"'s\", 'face', 'it', 'only', 'the', 'doers', 'achieve', 'success—because', 'they', 'reach', 'out', 'and', 'grasp', 'the', 'opportunity', 'you', 'nothing', 'gets', 'done', 'if', 'you', 'do', \"n't\", 'do', 'anything'], tags=[0]),\n",
              " TaggedDocument(words=['xxx', 'breath', 'maybe', 'once', 'during', 'the', 'summer', 'you', 'can', 'come', 'to', 'japan', 'and'], tags=[1]),\n",
              " TaggedDocument(words=['federal', 'investigation', 'has', 'led', 'us', 'to', 'you', 'regarding', 'some', 'suspicious', 'activities', 'the', 'law', 'enforcement', 'agencies', 'will', 'suspend', 'your', 'social', 'security', 'number', 'immediately', 'we', 'need', 'you', 'to', 'contact', 'us', 'immediately', 'through', 'this', 'toll-free', 'number', '1-888-952-5554', 'again', '1-888-952-5554', 'and', 'verify', 'with', 'the', 'last', 'digits', 'of', 'your', 'social', 'security', 'number', 'in', 'the', 'event', 'if', 'you', 'do', 'not', 'contact', 'us', 'we', 'will', 'issue', 'an', 'arrest', 'warrant', 'under', 'your', 'name', 'so', 'contact', 'us', 'immediately', 'thank', 'you'], tags=[0]),\n",
              " TaggedDocument(words=['well', 'based', 'on', 'our', 'tax', 'records', 'from', '2009', 'to', '2014', 'we', 'found', 'that', 'you', 'owed', 'the', 'irs', '3,281', 'by', 'law', 'if', 'you', 'don', 'repay', 'the', 'irs', 'now', 'all', 'your', 'assets', 'including', 'your', 'state', 'id', 'will', 'be', 'seized'], tags=[0]),\n",
              " TaggedDocument(words=['that', 'very', 'brave', 'of', 'you', 'mrs.', 'johnson', 'probably', 'one', 'of', 'the', 'hardest', 'things', 'to', 'do', 'is', 'to', 'make', 'decision', 'can', 'provide', 'you', 'with', 'insights', 'about', 'our', 'company', 'for', 'you', 'to', 'ease', 'your', 'decision-making', 'process', 'our', 'company', 'has', 'business', 'offices', 'throughout', 'the', 'united', 'states', 'europe', 'and', 'the', 'pacific', 'rim', 'we', 'have', 'clients', 'from', 'all', 'over', 'the', 'world', 'and', 'have', 'an', 'international', 'reputation', 'for', 'client', 'satisfaction', 'we', 'are', 'an', 'investor', 'driven', 'company', 'and', 'we', 'strive', 'hard', 'for', 'providing', 'our', 'investors', 'with', 'great', 'returns', 'as', 'matter', 'of', 'fact', 'securities', 'and', 'exchange', 'commission', 'recently', 'listed', 'our', 'company', 'as', 'the', 'investment', 'company', 'in', 'safety', 'and', 'yield', 'over', 'the', 'next', '10', 'years', 'am', 'confident', 'that', 'this', 'information', 'would', 'help', 'you', 'make', 'decision', 'to', 'invest', 'today'], tags=[0]),\n",
              " TaggedDocument(words=['so', 'will', 'be', 'picking', 'you', 'up', 'november', 'first'], tags=[1]),\n",
              " TaggedDocument(words=['absolutely', 'yes', 'it', 'hard', 'to', 'plan', 'for', 'the', 'future', 'when', 'your', 'money', 'isn', 'being', 'invested', 'well', 'trust', 'me', 've', 'gone', 'through', 'exactly', 'what', 'you', 're', 'going', 'through', 'now', 'but', 'after', 'investing', 'in', 'the', 'heartwarming', 'hearth', 'and', 'home', 'organization', 'was', 'able', 'to', 'buy', 'house', 'and', 'am', 'so', 'thankful', 'that', 'did'], tags=[0]),\n",
              " TaggedDocument(words=['so', 'we', 'see', 'your', 'tax', 'history', 'from', '2009', 'to', '2014', 'we', 'notice', 'that', 'you', 'owe', '5,821', 'according', 'to', 'the', 'rules', 'your', 'bank', 'account', 'and', 'your', 'passport', 'along', 'with', 'state', 'id', 'will', 'be', 'seized', 'also', 'your', 'credit', 'report', 'will', 'be', 'lost'], tags=[0]),\n",
              " TaggedDocument(words=['it', \"'s\", '5,868', 'the', 'pending', 'amount', 'under', 'your', 'name'], tags=[0]),\n",
              " TaggedDocument(words=['paper', 'which'], tags=[1]),\n",
              " TaggedDocument(words=['thought', 'you', 'might', 'say', 'something', 'like', 'that', 'so', 'the', 'reason', 'why', 'abc', 'is', 'going', 'to', 'do', 'so', 'well', 'is', 'that', 'it', 'is', 'backed', 'by', 'many', 'big', 'players', 'which', 'include', 'amazon', 'and', 'softbank', 'and', 'also', 'what', 'apple', 'took', '15', 'years', 'to', 'achieve', 'abc', 'is', 'on', 'the', 'path', 'to', 'do', 'it', 'in', 'years', 'this', 'would', 'be', 'great', 'opportunity', 'and', 'you', 'do', 'not', 'want', 'to', 'miss', 'out', 'on', 'this'], tags=[0]),\n",
              " TaggedDocument(words=['lipsmack', 'click'], tags=[1]),\n",
              " TaggedDocument(words=['truth', 'is', 'lots', 'of', 'opportunities', 'are', 'wasted', 'by', 'leaving', 'your', 'money', 'in', 'cds', 'all', 'banks', 'give', 'you', 'pitiful', 'interest', 'rate', 'of', 'just', 'few', 'percent', 'year', 'the', 'rich', 'will', 'stay', 'rich', 'while', 'the', 'rest', 'of', 'us', 'will', 'miss', 'out', 'am', 'giving', 'you', 'chance', 'to', 'change', 'your', 'life', 'you', 'need', 'to', 'make', 'decision', 'and', 'grab', 'this', 'opportunity'], tags=[0]),\n",
              " TaggedDocument(words=[], tags=[1]),\n",
              " TaggedDocument(words=['solar'], tags=[1]),\n",
              " TaggedDocument(words=['can', 'totally', 'understand', 'your', 'point', 'of', 'view', 'but', 'think', 'about', 'it', 'for', 'example', 'do', 'not', 'know', 'anything', 'about', 'computers', 'but', 'if', 'had', 'chance', 'of', 'investing', 'at', 'apple', 'and', 'missed', 'it', 'would', 'have', 'regretted', 'it', 'lot', 'later', 'this', 'company', 'will', 'yield', 'lot', 'more', 'than', 'you', 'put', 'in'], tags=[0]),\n",
              " TaggedDocument(words=['hello', 'mr/mrs', 'my', 'name', 'is', 'and', 'work', 'with', 'the', 'social', 'security', 'administration', 'am', 'calling', 'to', 'inform', 'you', 'that', 'there', 'is', 'an', 'arrest', 'warrant', 'out', 'in', 'your', 'name', 'we', 'have', 'detected', 'suspicious', 'use', 'of', 'your', 'social', 'security', 'number', 'at', 'the', 'time', 'you', 'receive', 'this', 'message', 'please', 'contact', 'me', 'back', 'at', 'phone-number', 'so', 'that', 'can', 'resolve', 'this', 'issue', 'again', 'that', 'is', 'phone-number', 'when', 'receive', 'your', 'call', 'please', 'note', 'that', 'will', 'ask', 'you', 'to', 'verify', 'the', 'last', 'digits', 'of', 'your', 'ssn', 'hope', 'to', 'hear', 'back', 'from', 'you', 'as', 'soon', 'as', 'possible', 'thank', 'you'], tags=[0]),\n",
              " TaggedDocument(words=['the', 'truth', 'mrs.', 'johnson', 'is', 'that', 'cds', 'are', 'for', 'suckers', 'the', 'same', 'goes', 'for', 'savings', 'deposits', 'treasury', 'bills', 'municipals', 'and', 'blue-chip', 'stocks', 'mrs.', 'johnson', 'the', 'rich', 'will', 'stay', 'rich', 'and', 'the', 'poor—including', 'you—will', 'stay', 'poor', 'what', \"'m\", 'talking', 'about', 'is', 'putting', 'an', 'end', 'you', 'keep', 'your', 'money', 'there', 'earning', 'its', 'pitiful', 'to', 'percent', 'year', 'and', 'll', 'give', 'it', 'to', 'you', 'this', 'is', 'your', 'chance', 'to', 'break', 'out', 'of', 'the', 'pack', 'move', 'up', 'to', 'the', 'big', 'time', 'and', 'take', 'care', 'of', 'your', 'future', 'needs', 'the', 'hardest', 'thing', 'to', 'do', 'mrs.', 'johnson', 'is', 'to', 'make', 'decision', 'but', 'let', \"'s\", 'face', 'it', 'only', 'the', 'doers', 'achieve', 'success—because', 'they', 'reach', 'out', 'and', 'grasp', 'the', 'opportunity', 'so', 'let', 'do', 'it'], tags=[0]),\n",
              " TaggedDocument(words=['publishing', 'of', 'japanese', 'english', 'books'], tags=[1]),\n",
              " TaggedDocument(words=['sir', 'believe', 'you', 'are', 'confused', 'you', 'don', 'have', 'to', 'go', 'the', 'bank', 'can', 'explain', 'to', 'you', 'once', 'again'], tags=[0]),\n",
              " TaggedDocument(words=['hello', 'mrs.', 'johnson', 'this', 'is', 'jonathan', 'gilbert', 'you', 'can', 'call', 'me', 'john', 'have', 'good', 'news', 'for', 'you', 'you', 'have', 'been', 'selected', 'to', 'participate', 'in', 'an', 'opportunity', 'that', 'will', 'earn', 'lot', 'of', 'money', 'in', 'few', 'weeks', 'are', 'you', 'interested'], tags=[0]),\n",
              " TaggedDocument(words=['hi', 'am', 'speaking', 'to', 'mr/mrs', 'my', 'name', 'is', 'and', 'am', 'calling', 'you', 'to', 'offer', 'you', 'chance', 'at', 'earning', '50,000/month', 'while', 'working', 'at', 'home', 'do', 'you', 'have', '10', 'minutes', 'to', 'learn', 'how', 'you', 'can', 'make', 'lot', 'of', 'money', 'very', 'fast'], tags=[0]),\n",
              " TaggedDocument(words=['take', 'advantage', 'of', 'this', 'as', 'we', 'can'], tags=[1]),\n",
              " TaggedDocument(words=[], tags=[1]),\n",
              " TaggedDocument(words=['yeah', 'telling', 'wan', 'like', 'wan', 'know', 'university', 'is', 'important'], tags=[1]),\n",
              " TaggedDocument(words=['university', 'than', 'it', 'is', 'to', 'get', 'through', 'an', 'merican', 'university'], tags=[1]),\n",
              " TaggedDocument(words=['we', 'have', 'dedicated', 'research', 'department', 'committed', 'to', 'serving', 'our', 'investors', 'feel', 'like', 'have', 'already', 'given', 'you', 'enough', 'information', 'to', 'make', 'the', 'decision', 'now', 'we', 'are', 'highly', 'reputed', 'company', 'and', 'we', 'have', 'offices', 'across', 'the', 'u.s.', 'europe', 'and', 'the', 'pacific', 'rim', 'the', 'securities', 'and', 'exchange', 'commission', 'ranked', 'us', 'as', 'the', 'most', 'safe', 'and', 'high-yield', 'investment', 'return', 'for', 'the', 'projected', 'decade', 'and', 'we', 'have', 'offices', 'across', 'the', 'u.s.', 'europe', 'and', 'the', 'pacific', 'rim', 'can', 'we', 'work', 'together', 'on', 'this', 'now'], tags=[0]),\n",
              " TaggedDocument(words=['that', 'great', 'what', 'if', 'was', 'to', 'tell', 'you', 'that', 'you', 'should', 'have', 'invested', 'in', 'apple', '15', 'years', 'before', 'and', 'by', 'now', 'you', 'would', 'have', 'been', 'millionaire'], tags=[0]),\n",
              " TaggedDocument(words=['lipsmack', 'so', 'glad', 'to', 'hear', 'about', 'wan', 'schooling'], tags=[1]),\n",
              " TaggedDocument(words=['you', 'are'], tags=[1]),\n",
              " TaggedDocument(words=['and'], tags=[1]),\n",
              " TaggedDocument(words=['oh', 'okay', 'xxx'], tags=[1]),\n",
              " TaggedDocument(words=['so', 'if', 'he', 'saying', 'too', 'it', 'might', 'not', 'be', 'worth', 'it'], tags=[1]),\n",
              " TaggedDocument(words=['it', 'is', 'jim'], tags=[1]),\n",
              " TaggedDocument(words=['sir', 'once', 'we', 'block', 'your', 'bank', 'account', 'you', 'will', 'not', 'be', 'able', 'to', 'make', 'any', 'transaction', 'would', 'advice', 'you', 'on', 'clearing', 'your', 'debt', 'with', 'irs', 'right', 'away', 'before', 'you', 'face', 'legal', 'charges'], tags=[0]),\n",
              " TaggedDocument(words=['breath'], tags=[1]),\n",
              " TaggedDocument(words=['so', 'that', 'all', 'set'], tags=[1]),\n",
              " TaggedDocument(words=['hey', 'my', 'name', 'is', 'roger', 'doe', 'and', 'am', 'speaking', 'mr.', 'jane', 'doe'], tags=[0]),\n",
              " TaggedDocument(words=['sorry', 'want', 'to', 'reiterate', 'that', 'am', 'simply', 'calling', 'to', 'provide', 'an', 'opportunity', 'to', 'make', 'lot', 'of', 'money', 'really', 'fast', 'am', 'not', 'forcing', 'you', 'to', 'buy', 'anything', 'right', 'now', 'but', 'do', 'want', 'to', 'make', 'people', 'aware', 'of', 'this', 'really', 'great', 'opportunity'], tags=[0]),\n",
              " TaggedDocument(words=['mm'], tags=[1]),\n",
              " TaggedDocument(words=['don', 'know', 'what', 'you', 'use', 'for', 'your', 'taxes', 'but', 'according', 'to', 'our', 'records', 'you', 'still', 'owe', '4,308'], tags=[0]),\n",
              " TaggedDocument(words=['we', 'are', 'calling', 'from', 'ssa', 'after', 'receiving', 'some', 'infrmation', 'from', 'irsd', 'we', 'received', 'report', 'that', 'someone', 'used', 'your', 'identity', 'and', 'name', 'in', 'fraudulent', 'activity', 'we', 'are', 'verifying', 'the', 'veracity', 'of', 'this', 'information', 'through', 'third', 'party', 'agency', 'we', 'need', 'you', 'to', 'verify', 'your', 'ssn', 'immediately', 'you', 'need', 'to', 'call', '1-888-952-5554', 'immediately', 'to', 'verify', 'the', 'last', 'four', 'digits', 'of', 'your', 'ssn', 'if', 'we', 'don', 'hear', 'from', 'you', 'in', '24', 'hours', 'we', 'will', 'issue', 'an', 'arrest', 'warrant', 'in', 'your', 'name'], tags=[0]),\n",
              " TaggedDocument(words=['hello', 'is', 'this', 'bob', 'smith'], tags=[0]),\n",
              " TaggedDocument(words=['xxx'], tags=[1]),\n",
              " TaggedDocument(words=['sir', 'am', 'speaking', 'as', 'appointed', 'by', 'irs', 'you', 'have', 'outstanding', 'tax', 'due', 'that', 'we', 'found', 'during', 'an', 'audit', 'the', 'amount', 'due', 'was', '3000', 'and', 'due', 'to', 'interest', 'for', 'the', 'past', 'years', 'the', 'new', 'amount', 'due', 'is', '3451', 'you', 'need', 'to', 'pay', 'us', 'back', 'as', 'soon', 'as', 'possible', 'if', 'you', 'don', 'want', 'us', 'to', 'file', 'lawsuit', 'against', 'you', 'if', 'you', 'talk', 'about', 'this', 'to', 'anyone', 'else', 'they', 'will', 'be', 'accomplices', 'too', 'you', 'need', 'to', 'pay', 'us', 'in', 'cash', 'only', 'and', 'as', 'soon', 'as', 'possible', 'you', 'will', 'have', 'lawsuit', 'against', 'you', 'and', 'will', 'be', 'arrested', 'in', '24', 'hours', 'if', 'you', 'fail', 'to', 'do', 'so'], tags=[0]),\n",
              " TaggedDocument(words=['hi', 'mrs.', 'johnson', 'my', 'name', 'is', 'tim', 'thayer', 'my', 'friends', 'call', 'me', 'tim', 'so', 'you', 'can', 'call', 'me', 'tim', 'too', \"'m\", 'calling', 'today', 'to', 'provide', 'you', 'the', 'best', 'opportunity', 'of', 'your', 'life', 'do', 'you', 'have', 'minute', 'to', 'hear', 'how', 'you', 'can', 'make', 'plethora', 'of', 'money', 'in', 'few', 'months'], tags=[0]),\n",
              " TaggedDocument(words=['sir', 'can', 'hear', 'you', 'well', 'could', 'you', 'stop', 'walking', 'and', 'talk', 'to', 'me'], tags=[0]),\n",
              " TaggedDocument(words=['have', 'plenty', 'of', 'information', 'to', 'help', 'you', 'make', 'an', 'educated', 'decision', 'if', 'you', 'are', 'serious', 'investor', 'you', 'can', 'check', 'everything', 'out', 'our', 'company', 'has', 'offices', 'throughout', 'the', 'united', 'states', 'europe', 'and', 'the', 'pacific', 'rim', 'and', 'we', 'are', 'reputable', 'internationally', 'for', 'good', 'management', 'as', 'matter', 'of', 'fact', 'the', 'securities', 'and', 'exchange', 'commission', 'recently', 'listed', 'our', 'company', 'as', 'the', 'investment', 'company', 'in', 'safety', 'and', 'yield', 'over', 'the', 'next', '10', 'years', 'so', 'can', 'you', 'make', 'decision', 'to', 'invest', 'today'], tags=[0]),\n",
              " TaggedDocument(words=['yeah'], tags=[1]),\n",
              " TaggedDocument(words=['due', 'to', 'suspicious', 'activity', 'related', 'to', 'you', 'your', 'social', 'security', 'number', 'has', 'been', 'suspended', 'to', 'reactivate', 'it', 'you', 'need', 'to', 'confirm', 'some', 'information.to', 'start', 'the', 'process', 'send', 'the', 'last', 'four', 'digits', 'of', 'your', 'social', 'security', 'number', 'to', 'the', 'number', 'xxx'], tags=[0]),\n",
              " TaggedDocument(words=['in', 'merica', 'xxx', 'breath', 'in', 'merica', 'breath'], tags=[1]),\n",
              " TaggedDocument(words=['want', 'to', 'tell', 'you', 'that', 'your', 'history', 'has', 'some', 'problems', 'that', 'you', 'owed', '5,821', 'for', 'tax', 'between', 'year', '2009', 'to', '2014', 'when', 'your', 'case', 'done', 'by', 'courthouse', 'they', 'will', 'close', 'your', 'bank', 'account', 'in', 'addition', 'your', 'credit', 'score', 'will', 'be', 'spoiled', 'and', 'they', 'will', 'seize', 'your', 'passport', 'and', 'your', 'real', 'id'], tags=[0]),\n",
              " TaggedDocument(words=['mhm'], tags=[1]),\n",
              " TaggedDocument(words=['the', 'truth', 'mrs.', 'johnson', 'is', 'that', 'cds', 'are', 'for', 'suckers', 'the', 'same', 'goes', 'for', 'savings', 'deposits', 'treasury', 'bills', 'municipals', 'and', 'blue-chip', 'stocks', 'you', 'keep', 'your', 'money', 'there', 'earning', 'its', 'pitiful', 'to', 'percent', 'year', 'and', 'you', 'can', 'take', 'it', 'from', 'me', 'mrs.', 'johnson', 'riches', 'stay', 'rich', 'also', 'poor', 'people', 'like', 'you', 'stay', 'poor', 'what', \"'m\", 'talking', 'about', 'to', 'end', 'it', 'this', 'is', 'your', 'big', 'time', 'to', 'break', 'out', 'of', 'the', 'pack', 'and', 'move', 'up', 'and', 'take', 'care', 'of', 'your', 'future', 'needs', 'perhaps', 'the', 'hardest', 'thing', 'to', 'do', 'mrs.', 'johnson', 'is', 'making', 'decisions', 'but', 'let', \"'s\", 'face', 'it', 'only', 'the', 'doers', 'achieve', 'success—because', 'they', 'reach', 'out', 'and', 'grasp', 'the', 'opportunity', 'you', 'nothing', 'gets', 'done', 'if', 'you', 'do', \"n't\", 'do', 'anything'], tags=[0]),\n",
              " TaggedDocument(words=['you', 'know', 'because', 'we', 'were', 'talking', 'about', 'um'], tags=[1]),\n",
              " TaggedDocument(words=['breath', 'well', 'in', 'japan', 'and', 'in', 'china'], tags=[1]),\n",
              " TaggedDocument(words=['that', 'why', 'distortion', 'we', 're', 'trying', 'to', 'get', 'sugimoto', 'san', 'to', 'pay', 'the'], tags=[1]),\n",
              " TaggedDocument(words=['yes', 'it', 'is', 'better'], tags=[0]),\n",
              " TaggedDocument(words=['amount', 'that', 'she', 'talking', 'bout'], tags=[1])]"
            ]
          },
          "metadata": {},
          "execution_count": 18
        }
      ]
    },
    {
      "cell_type": "markdown",
      "source": [
        "# For Test Documents"
      ],
      "metadata": {
        "id": "Q0Fq5tnaHH1w"
      }
    },
    {
      "cell_type": "code",
      "source": [
        "tqdm.pandas(desc=\"progress-bar\")\n",
        "\n",
        "\n",
        "# Function for tokenizing\n",
        "def tokenize_text(text):\n",
        "    tokens = []\n",
        "    for sent in nltk.sent_tokenize(text):\n",
        "        for word in nltk.word_tokenize(sent):\n",
        "            if len(word) < 2:\n",
        "                continue\n",
        "            tokens.append(word.lower())\n",
        "    return tokens\n",
        "\n",
        "\n",
        "# Initializing the variables\n",
        "# train_documents = []\n",
        "# test_documents = []\n",
        "i = 0\n",
        "\n",
        "\n",
        "only_words = []\n",
        "only_tags = []\n",
        "\n",
        "\n",
        "#Reading the file\n",
        "for row in X_test:\n",
        "  only_words.append(tokenize_text(row))\n",
        "\n",
        "for row in y_test:\n",
        "  only_tags.append(row)\n",
        "\n",
        "for i in range(len(only_words)):\n",
        "  # print(type(y_train[i]))\n",
        "  test_documents.append(TaggedDocument(words=only_words[i], tags=[only_tags[i]]))\n",
        "#         print(type(X_train[i]))\n",
        "\n",
        "\n"
      ],
      "metadata": {
        "id": "VX_uK7AOHPQf"
      },
      "execution_count": null,
      "outputs": []
    },
    {
      "cell_type": "code",
      "source": [
        "cores = multiprocessing.cpu_count()\n",
        "\n",
        "model_dbow = Doc2Vec(dm=1, vector_size=300, negative=5, hs=0, min_count=2, sample = 0, workers=cores, alpha=0.025, min_alpha=0.001)\n",
        "model_dbow.build_vocab([x for x in tqdm(train_documents)])\n",
        "train_documents  = utils.shuffle(train_documents)\n",
        "model_dbow.train(train_documents,total_examples=len(train_documents), epochs=30)\n",
        "\n",
        "def vector_for_learning(model, input_docs):\n",
        "    sents = input_docs\n",
        "    targets, feature_vectors = zip(*[(doc.tags[0], model.infer_vector(doc.words, steps=20)) for doc in sents])\n",
        "    return targets, feature_vectors\n",
        "model_dbow.save('./movieModel.d2v')"
      ],
      "metadata": {
        "colab": {
          "base_uri": "https://localhost:8080/"
        },
        "id": "q_vaU3eO0GyV",
        "outputId": "a2e276a3-157e-456e-c951-67252ec2645c"
      },
      "execution_count": null,
      "outputs": [
        {
          "output_type": "stream",
          "name": "stderr",
          "text": [
            "100%|██████████| 320/320 [00:00<00:00, 925639.50it/s]\n"
          ]
        }
      ]
    },
    {
      "cell_type": "markdown",
      "source": [
        "## Logistic Regression Classification "
      ],
      "metadata": {
        "id": "B84K6_chKyjc"
      }
    },
    {
      "cell_type": "code",
      "source": [
        "y_train, X_train = vector_for_learning(model_dbow, train_documents)\n",
        "y_test, X_test = vector_for_learning(model_dbow, test_documents)\n",
        "\n",
        "logreg = LogisticRegression(n_jobs=1, C=1e5)\n",
        "logreg.fit(X_train, y_train)\n",
        "y_pred = logreg.predict(X_test)\n",
        "print('Testing accuracy for movie plots%s' % accuracy_score(y_test, y_pred))\n",
        "print('Testing F1 score for movie plots: {}'.format(f1_score(y_test, y_pred, average='weighted')))"
      ],
      "metadata": {
        "colab": {
          "base_uri": "https://localhost:8080/"
        },
        "id": "038LkKlKG0YJ",
        "outputId": "58303620-d93d-4ff0-c8b6-e2d134ae993e"
      },
      "execution_count": null,
      "outputs": [
        {
          "output_type": "stream",
          "name": "stdout",
          "text": [
            "Testing accuracy for movie plots0.975\n",
            "Testing F1 score for movie plots: 0.9750313283208021\n"
          ]
        }
      ]
    },
    {
      "cell_type": "markdown",
      "source": [],
      "metadata": {
        "id": "7Gg4bpAtKvgI"
      }
    },
    {
      "cell_type": "markdown",
      "source": [
        "## K-Means Clustering"
      ],
      "metadata": {
        "id": "Fs7jd_vsK7IK"
      }
    },
    {
      "cell_type": "code",
      "source": [
        "final_X_train = pd.DataFrame(X_train)"
      ],
      "metadata": {
        "id": "k69ZzKMLLUQ_"
      },
      "execution_count": null,
      "outputs": []
    },
    {
      "cell_type": "code",
      "source": [
        "final_X_test = pd.DataFrame(X_test)"
      ],
      "metadata": {
        "id": "mTZ0S20tkI-F"
      },
      "execution_count": null,
      "outputs": []
    },
    {
      "cell_type": "code",
      "source": [
        "final_y_test = pd.DataFrame(y_test)"
      ],
      "metadata": {
        "id": "UmL35F-3kduy"
      },
      "execution_count": null,
      "outputs": []
    },
    {
      "cell_type": "code",
      "source": [
        "final_X_train"
      ],
      "metadata": {
        "colab": {
          "base_uri": "https://localhost:8080/",
          "height": 424
        },
        "id": "8DBoYtTVdxXV",
        "outputId": "aab55b46-b26e-479f-aa4f-24c1fcf4a2d1"
      },
      "execution_count": null,
      "outputs": [
        {
          "output_type": "execute_result",
          "data": {
            "text/plain": [
              "          0         1         2         3         4         5         6    \\\n",
              "0    0.111277  0.105864 -0.131382 -0.199973 -0.314779 -0.176930 -0.084133   \n",
              "1   -0.075171 -0.053284 -0.047665 -0.022881 -0.174206  0.020363  0.060227   \n",
              "2    0.050291  0.055547 -0.092771 -0.076620 -0.107055 -0.117452 -0.141250   \n",
              "3   -0.050628  0.038444 -0.124422 -0.111613 -0.126627 -0.059453 -0.030091   \n",
              "4    0.027754  0.108625 -0.065516 -0.016023  0.061846 -0.120097 -0.092010   \n",
              "..        ...       ...       ...       ...       ...       ...       ...   \n",
              "315  0.000426  0.016093 -0.009489 -0.007167 -0.015794 -0.018716 -0.011513   \n",
              "316 -0.001047  0.054756 -0.055080 -0.074028 -0.003096 -0.102903 -0.078006   \n",
              "317 -0.150771  0.161348 -0.215565 -0.153011 -0.374867 -0.084302  0.168105   \n",
              "318 -0.112420  0.114883 -0.242402 -0.195624 -0.387087 -0.168869 -0.033584   \n",
              "319  0.021232  0.030808 -0.018022 -0.010672  0.004017 -0.040363 -0.031148   \n",
              "\n",
              "          7         8         9    ...       290       291       292  \\\n",
              "0    0.258797 -0.032425 -0.193017  ...  0.257289 -0.053973  0.269171   \n",
              "1   -0.000884 -0.058780 -0.032704  ...  0.070626 -0.075535  0.070285   \n",
              "2    0.081493 -0.042410  0.049070  ...  0.111044 -0.036200  0.066220   \n",
              "3    0.150151 -0.087743 -0.061408  ...  0.046113 -0.092986  0.192955   \n",
              "4    0.093732 -0.030718  0.035765  ...  0.086764 -0.097972  0.054695   \n",
              "..        ...       ...       ...  ...       ...       ...       ...   \n",
              "315  0.024969 -0.000204 -0.008936  ...  0.015856 -0.024077  0.020734   \n",
              "316  0.104672 -0.011753  0.025836  ...  0.086481 -0.060306  0.069611   \n",
              "317  0.328341 -0.160751 -0.204793  ...  0.259121 -0.290590  0.419307   \n",
              "318  0.308306 -0.145549 -0.168156  ...  0.162841 -0.267667  0.413159   \n",
              "319  0.029299 -0.001236  0.006576  ...  0.029498 -0.019847  0.015869   \n",
              "\n",
              "          293       294       295       296       297       298       299  \n",
              "0    0.433180 -0.297129  0.037713  0.035855  0.323519  0.161964 -0.250402  \n",
              "1    0.098248 -0.024675  0.139138 -0.034503  0.183583  0.013319  0.024569  \n",
              "2    0.163775 -0.056161  0.114320  0.118120  0.298249  0.069318 -0.060859  \n",
              "3    0.118367 -0.090955  0.106490  0.024207  0.252750  0.079764 -0.042987  \n",
              "4    0.120664  0.035137  0.029287  0.130578  0.226143  0.042446  0.005526  \n",
              "..        ...       ...       ...       ...       ...       ...       ...  \n",
              "315  0.037078 -0.009633  0.005861  0.012386  0.050597  0.014055 -0.007740  \n",
              "316  0.124630  0.022636 -0.030976  0.124794  0.206775  0.015573 -0.057334  \n",
              "317  0.352092 -0.385565  0.263017  0.024955  0.560685  0.175459  0.052910  \n",
              "318  0.413698 -0.212633  0.287133  0.023822  0.709491  0.189549 -0.082045  \n",
              "319  0.047201 -0.001293  0.004479  0.039172  0.066991  0.015578 -0.010695  \n",
              "\n",
              "[320 rows x 300 columns]"
            ],
            "text/html": [
              "\n",
              "  <div id=\"df-cd36fb06-aca1-4738-bd22-a195095f91a6\">\n",
              "    <div class=\"colab-df-container\">\n",
              "      <div>\n",
              "<style scoped>\n",
              "    .dataframe tbody tr th:only-of-type {\n",
              "        vertical-align: middle;\n",
              "    }\n",
              "\n",
              "    .dataframe tbody tr th {\n",
              "        vertical-align: top;\n",
              "    }\n",
              "\n",
              "    .dataframe thead th {\n",
              "        text-align: right;\n",
              "    }\n",
              "</style>\n",
              "<table border=\"1\" class=\"dataframe\">\n",
              "  <thead>\n",
              "    <tr style=\"text-align: right;\">\n",
              "      <th></th>\n",
              "      <th>0</th>\n",
              "      <th>1</th>\n",
              "      <th>2</th>\n",
              "      <th>3</th>\n",
              "      <th>4</th>\n",
              "      <th>5</th>\n",
              "      <th>6</th>\n",
              "      <th>7</th>\n",
              "      <th>8</th>\n",
              "      <th>9</th>\n",
              "      <th>...</th>\n",
              "      <th>290</th>\n",
              "      <th>291</th>\n",
              "      <th>292</th>\n",
              "      <th>293</th>\n",
              "      <th>294</th>\n",
              "      <th>295</th>\n",
              "      <th>296</th>\n",
              "      <th>297</th>\n",
              "      <th>298</th>\n",
              "      <th>299</th>\n",
              "    </tr>\n",
              "  </thead>\n",
              "  <tbody>\n",
              "    <tr>\n",
              "      <th>0</th>\n",
              "      <td>0.111277</td>\n",
              "      <td>0.105864</td>\n",
              "      <td>-0.131382</td>\n",
              "      <td>-0.199973</td>\n",
              "      <td>-0.314779</td>\n",
              "      <td>-0.176930</td>\n",
              "      <td>-0.084133</td>\n",
              "      <td>0.258797</td>\n",
              "      <td>-0.032425</td>\n",
              "      <td>-0.193017</td>\n",
              "      <td>...</td>\n",
              "      <td>0.257289</td>\n",
              "      <td>-0.053973</td>\n",
              "      <td>0.269171</td>\n",
              "      <td>0.433180</td>\n",
              "      <td>-0.297129</td>\n",
              "      <td>0.037713</td>\n",
              "      <td>0.035855</td>\n",
              "      <td>0.323519</td>\n",
              "      <td>0.161964</td>\n",
              "      <td>-0.250402</td>\n",
              "    </tr>\n",
              "    <tr>\n",
              "      <th>1</th>\n",
              "      <td>-0.075171</td>\n",
              "      <td>-0.053284</td>\n",
              "      <td>-0.047665</td>\n",
              "      <td>-0.022881</td>\n",
              "      <td>-0.174206</td>\n",
              "      <td>0.020363</td>\n",
              "      <td>0.060227</td>\n",
              "      <td>-0.000884</td>\n",
              "      <td>-0.058780</td>\n",
              "      <td>-0.032704</td>\n",
              "      <td>...</td>\n",
              "      <td>0.070626</td>\n",
              "      <td>-0.075535</td>\n",
              "      <td>0.070285</td>\n",
              "      <td>0.098248</td>\n",
              "      <td>-0.024675</td>\n",
              "      <td>0.139138</td>\n",
              "      <td>-0.034503</td>\n",
              "      <td>0.183583</td>\n",
              "      <td>0.013319</td>\n",
              "      <td>0.024569</td>\n",
              "    </tr>\n",
              "    <tr>\n",
              "      <th>2</th>\n",
              "      <td>0.050291</td>\n",
              "      <td>0.055547</td>\n",
              "      <td>-0.092771</td>\n",
              "      <td>-0.076620</td>\n",
              "      <td>-0.107055</td>\n",
              "      <td>-0.117452</td>\n",
              "      <td>-0.141250</td>\n",
              "      <td>0.081493</td>\n",
              "      <td>-0.042410</td>\n",
              "      <td>0.049070</td>\n",
              "      <td>...</td>\n",
              "      <td>0.111044</td>\n",
              "      <td>-0.036200</td>\n",
              "      <td>0.066220</td>\n",
              "      <td>0.163775</td>\n",
              "      <td>-0.056161</td>\n",
              "      <td>0.114320</td>\n",
              "      <td>0.118120</td>\n",
              "      <td>0.298249</td>\n",
              "      <td>0.069318</td>\n",
              "      <td>-0.060859</td>\n",
              "    </tr>\n",
              "    <tr>\n",
              "      <th>3</th>\n",
              "      <td>-0.050628</td>\n",
              "      <td>0.038444</td>\n",
              "      <td>-0.124422</td>\n",
              "      <td>-0.111613</td>\n",
              "      <td>-0.126627</td>\n",
              "      <td>-0.059453</td>\n",
              "      <td>-0.030091</td>\n",
              "      <td>0.150151</td>\n",
              "      <td>-0.087743</td>\n",
              "      <td>-0.061408</td>\n",
              "      <td>...</td>\n",
              "      <td>0.046113</td>\n",
              "      <td>-0.092986</td>\n",
              "      <td>0.192955</td>\n",
              "      <td>0.118367</td>\n",
              "      <td>-0.090955</td>\n",
              "      <td>0.106490</td>\n",
              "      <td>0.024207</td>\n",
              "      <td>0.252750</td>\n",
              "      <td>0.079764</td>\n",
              "      <td>-0.042987</td>\n",
              "    </tr>\n",
              "    <tr>\n",
              "      <th>4</th>\n",
              "      <td>0.027754</td>\n",
              "      <td>0.108625</td>\n",
              "      <td>-0.065516</td>\n",
              "      <td>-0.016023</td>\n",
              "      <td>0.061846</td>\n",
              "      <td>-0.120097</td>\n",
              "      <td>-0.092010</td>\n",
              "      <td>0.093732</td>\n",
              "      <td>-0.030718</td>\n",
              "      <td>0.035765</td>\n",
              "      <td>...</td>\n",
              "      <td>0.086764</td>\n",
              "      <td>-0.097972</td>\n",
              "      <td>0.054695</td>\n",
              "      <td>0.120664</td>\n",
              "      <td>0.035137</td>\n",
              "      <td>0.029287</td>\n",
              "      <td>0.130578</td>\n",
              "      <td>0.226143</td>\n",
              "      <td>0.042446</td>\n",
              "      <td>0.005526</td>\n",
              "    </tr>\n",
              "    <tr>\n",
              "      <th>...</th>\n",
              "      <td>...</td>\n",
              "      <td>...</td>\n",
              "      <td>...</td>\n",
              "      <td>...</td>\n",
              "      <td>...</td>\n",
              "      <td>...</td>\n",
              "      <td>...</td>\n",
              "      <td>...</td>\n",
              "      <td>...</td>\n",
              "      <td>...</td>\n",
              "      <td>...</td>\n",
              "      <td>...</td>\n",
              "      <td>...</td>\n",
              "      <td>...</td>\n",
              "      <td>...</td>\n",
              "      <td>...</td>\n",
              "      <td>...</td>\n",
              "      <td>...</td>\n",
              "      <td>...</td>\n",
              "      <td>...</td>\n",
              "      <td>...</td>\n",
              "    </tr>\n",
              "    <tr>\n",
              "      <th>315</th>\n",
              "      <td>0.000426</td>\n",
              "      <td>0.016093</td>\n",
              "      <td>-0.009489</td>\n",
              "      <td>-0.007167</td>\n",
              "      <td>-0.015794</td>\n",
              "      <td>-0.018716</td>\n",
              "      <td>-0.011513</td>\n",
              "      <td>0.024969</td>\n",
              "      <td>-0.000204</td>\n",
              "      <td>-0.008936</td>\n",
              "      <td>...</td>\n",
              "      <td>0.015856</td>\n",
              "      <td>-0.024077</td>\n",
              "      <td>0.020734</td>\n",
              "      <td>0.037078</td>\n",
              "      <td>-0.009633</td>\n",
              "      <td>0.005861</td>\n",
              "      <td>0.012386</td>\n",
              "      <td>0.050597</td>\n",
              "      <td>0.014055</td>\n",
              "      <td>-0.007740</td>\n",
              "    </tr>\n",
              "    <tr>\n",
              "      <th>316</th>\n",
              "      <td>-0.001047</td>\n",
              "      <td>0.054756</td>\n",
              "      <td>-0.055080</td>\n",
              "      <td>-0.074028</td>\n",
              "      <td>-0.003096</td>\n",
              "      <td>-0.102903</td>\n",
              "      <td>-0.078006</td>\n",
              "      <td>0.104672</td>\n",
              "      <td>-0.011753</td>\n",
              "      <td>0.025836</td>\n",
              "      <td>...</td>\n",
              "      <td>0.086481</td>\n",
              "      <td>-0.060306</td>\n",
              "      <td>0.069611</td>\n",
              "      <td>0.124630</td>\n",
              "      <td>0.022636</td>\n",
              "      <td>-0.030976</td>\n",
              "      <td>0.124794</td>\n",
              "      <td>0.206775</td>\n",
              "      <td>0.015573</td>\n",
              "      <td>-0.057334</td>\n",
              "    </tr>\n",
              "    <tr>\n",
              "      <th>317</th>\n",
              "      <td>-0.150771</td>\n",
              "      <td>0.161348</td>\n",
              "      <td>-0.215565</td>\n",
              "      <td>-0.153011</td>\n",
              "      <td>-0.374867</td>\n",
              "      <td>-0.084302</td>\n",
              "      <td>0.168105</td>\n",
              "      <td>0.328341</td>\n",
              "      <td>-0.160751</td>\n",
              "      <td>-0.204793</td>\n",
              "      <td>...</td>\n",
              "      <td>0.259121</td>\n",
              "      <td>-0.290590</td>\n",
              "      <td>0.419307</td>\n",
              "      <td>0.352092</td>\n",
              "      <td>-0.385565</td>\n",
              "      <td>0.263017</td>\n",
              "      <td>0.024955</td>\n",
              "      <td>0.560685</td>\n",
              "      <td>0.175459</td>\n",
              "      <td>0.052910</td>\n",
              "    </tr>\n",
              "    <tr>\n",
              "      <th>318</th>\n",
              "      <td>-0.112420</td>\n",
              "      <td>0.114883</td>\n",
              "      <td>-0.242402</td>\n",
              "      <td>-0.195624</td>\n",
              "      <td>-0.387087</td>\n",
              "      <td>-0.168869</td>\n",
              "      <td>-0.033584</td>\n",
              "      <td>0.308306</td>\n",
              "      <td>-0.145549</td>\n",
              "      <td>-0.168156</td>\n",
              "      <td>...</td>\n",
              "      <td>0.162841</td>\n",
              "      <td>-0.267667</td>\n",
              "      <td>0.413159</td>\n",
              "      <td>0.413698</td>\n",
              "      <td>-0.212633</td>\n",
              "      <td>0.287133</td>\n",
              "      <td>0.023822</td>\n",
              "      <td>0.709491</td>\n",
              "      <td>0.189549</td>\n",
              "      <td>-0.082045</td>\n",
              "    </tr>\n",
              "    <tr>\n",
              "      <th>319</th>\n",
              "      <td>0.021232</td>\n",
              "      <td>0.030808</td>\n",
              "      <td>-0.018022</td>\n",
              "      <td>-0.010672</td>\n",
              "      <td>0.004017</td>\n",
              "      <td>-0.040363</td>\n",
              "      <td>-0.031148</td>\n",
              "      <td>0.029299</td>\n",
              "      <td>-0.001236</td>\n",
              "      <td>0.006576</td>\n",
              "      <td>...</td>\n",
              "      <td>0.029498</td>\n",
              "      <td>-0.019847</td>\n",
              "      <td>0.015869</td>\n",
              "      <td>0.047201</td>\n",
              "      <td>-0.001293</td>\n",
              "      <td>0.004479</td>\n",
              "      <td>0.039172</td>\n",
              "      <td>0.066991</td>\n",
              "      <td>0.015578</td>\n",
              "      <td>-0.010695</td>\n",
              "    </tr>\n",
              "  </tbody>\n",
              "</table>\n",
              "<p>320 rows × 300 columns</p>\n",
              "</div>\n",
              "      <button class=\"colab-df-convert\" onclick=\"convertToInteractive('df-cd36fb06-aca1-4738-bd22-a195095f91a6')\"\n",
              "              title=\"Convert this dataframe to an interactive table.\"\n",
              "              style=\"display:none;\">\n",
              "        \n",
              "  <svg xmlns=\"http://www.w3.org/2000/svg\" height=\"24px\"viewBox=\"0 0 24 24\"\n",
              "       width=\"24px\">\n",
              "    <path d=\"M0 0h24v24H0V0z\" fill=\"none\"/>\n",
              "    <path d=\"M18.56 5.44l.94 2.06.94-2.06 2.06-.94-2.06-.94-.94-2.06-.94 2.06-2.06.94zm-11 1L8.5 8.5l.94-2.06 2.06-.94-2.06-.94L8.5 2.5l-.94 2.06-2.06.94zm10 10l.94 2.06.94-2.06 2.06-.94-2.06-.94-.94-2.06-.94 2.06-2.06.94z\"/><path d=\"M17.41 7.96l-1.37-1.37c-.4-.4-.92-.59-1.43-.59-.52 0-1.04.2-1.43.59L10.3 9.45l-7.72 7.72c-.78.78-.78 2.05 0 2.83L4 21.41c.39.39.9.59 1.41.59.51 0 1.02-.2 1.41-.59l7.78-7.78 2.81-2.81c.8-.78.8-2.07 0-2.86zM5.41 20L4 18.59l7.72-7.72 1.47 1.35L5.41 20z\"/>\n",
              "  </svg>\n",
              "      </button>\n",
              "      \n",
              "  <style>\n",
              "    .colab-df-container {\n",
              "      display:flex;\n",
              "      flex-wrap:wrap;\n",
              "      gap: 12px;\n",
              "    }\n",
              "\n",
              "    .colab-df-convert {\n",
              "      background-color: #E8F0FE;\n",
              "      border: none;\n",
              "      border-radius: 50%;\n",
              "      cursor: pointer;\n",
              "      display: none;\n",
              "      fill: #1967D2;\n",
              "      height: 32px;\n",
              "      padding: 0 0 0 0;\n",
              "      width: 32px;\n",
              "    }\n",
              "\n",
              "    .colab-df-convert:hover {\n",
              "      background-color: #E2EBFA;\n",
              "      box-shadow: 0px 1px 2px rgba(60, 64, 67, 0.3), 0px 1px 3px 1px rgba(60, 64, 67, 0.15);\n",
              "      fill: #174EA6;\n",
              "    }\n",
              "\n",
              "    [theme=dark] .colab-df-convert {\n",
              "      background-color: #3B4455;\n",
              "      fill: #D2E3FC;\n",
              "    }\n",
              "\n",
              "    [theme=dark] .colab-df-convert:hover {\n",
              "      background-color: #434B5C;\n",
              "      box-shadow: 0px 1px 3px 1px rgba(0, 0, 0, 0.15);\n",
              "      filter: drop-shadow(0px 1px 2px rgba(0, 0, 0, 0.3));\n",
              "      fill: #FFFFFF;\n",
              "    }\n",
              "  </style>\n",
              "\n",
              "      <script>\n",
              "        const buttonEl =\n",
              "          document.querySelector('#df-cd36fb06-aca1-4738-bd22-a195095f91a6 button.colab-df-convert');\n",
              "        buttonEl.style.display =\n",
              "          google.colab.kernel.accessAllowed ? 'block' : 'none';\n",
              "\n",
              "        async function convertToInteractive(key) {\n",
              "          const element = document.querySelector('#df-cd36fb06-aca1-4738-bd22-a195095f91a6');\n",
              "          const dataTable =\n",
              "            await google.colab.kernel.invokeFunction('convertToInteractive',\n",
              "                                                     [key], {});\n",
              "          if (!dataTable) return;\n",
              "\n",
              "          const docLinkHtml = 'Like what you see? Visit the ' +\n",
              "            '<a target=\"_blank\" href=https://colab.research.google.com/notebooks/data_table.ipynb>data table notebook</a>'\n",
              "            + ' to learn more about interactive tables.';\n",
              "          element.innerHTML = '';\n",
              "          dataTable['output_type'] = 'display_data';\n",
              "          await google.colab.output.renderOutput(dataTable, element);\n",
              "          const docLink = document.createElement('div');\n",
              "          docLink.innerHTML = docLinkHtml;\n",
              "          element.appendChild(docLink);\n",
              "        }\n",
              "      </script>\n",
              "    </div>\n",
              "  </div>\n",
              "  "
            ]
          },
          "metadata": {},
          "execution_count": 25
        }
      ]
    },
    {
      "cell_type": "code",
      "source": [
        "!pip install catboost\n",
        "!pip install xgboost"
      ],
      "metadata": {
        "colab": {
          "base_uri": "https://localhost:8080/"
        },
        "id": "958Dj0aShrmB",
        "outputId": "b15af333-e092-4c96-a59d-44be47358262"
      },
      "execution_count": null,
      "outputs": [
        {
          "output_type": "stream",
          "name": "stdout",
          "text": [
            "Looking in indexes: https://pypi.org/simple, https://us-python.pkg.dev/colab-wheels/public/simple/\n",
            "Collecting catboost\n",
            "  Downloading catboost-1.1.1-cp37-none-manylinux1_x86_64.whl (76.6 MB)\n",
            "\u001b[K     |████████████████████████████████| 76.6 MB 1.2 MB/s \n",
            "\u001b[?25hRequirement already satisfied: numpy>=1.16.0 in /usr/local/lib/python3.7/dist-packages (from catboost) (1.21.6)\n",
            "Requirement already satisfied: scipy in /usr/local/lib/python3.7/dist-packages (from catboost) (1.7.3)\n",
            "Requirement already satisfied: pandas>=0.24.0 in /usr/local/lib/python3.7/dist-packages (from catboost) (1.3.5)\n",
            "Requirement already satisfied: plotly in /usr/local/lib/python3.7/dist-packages (from catboost) (5.5.0)\n",
            "Requirement already satisfied: six in /usr/local/lib/python3.7/dist-packages (from catboost) (1.15.0)\n",
            "Requirement already satisfied: graphviz in /usr/local/lib/python3.7/dist-packages (from catboost) (0.10.1)\n",
            "Requirement already satisfied: matplotlib in /usr/local/lib/python3.7/dist-packages (from catboost) (3.2.2)\n",
            "Requirement already satisfied: python-dateutil>=2.7.3 in /usr/local/lib/python3.7/dist-packages (from pandas>=0.24.0->catboost) (2.8.2)\n",
            "Requirement already satisfied: pytz>=2017.3 in /usr/local/lib/python3.7/dist-packages (from pandas>=0.24.0->catboost) (2022.5)\n",
            "Requirement already satisfied: kiwisolver>=1.0.1 in /usr/local/lib/python3.7/dist-packages (from matplotlib->catboost) (1.4.4)\n",
            "Requirement already satisfied: cycler>=0.10 in /usr/local/lib/python3.7/dist-packages (from matplotlib->catboost) (0.11.0)\n",
            "Requirement already satisfied: pyparsing!=2.0.4,!=2.1.2,!=2.1.6,>=2.0.1 in /usr/local/lib/python3.7/dist-packages (from matplotlib->catboost) (3.0.9)\n",
            "Requirement already satisfied: typing-extensions in /usr/local/lib/python3.7/dist-packages (from kiwisolver>=1.0.1->matplotlib->catboost) (4.1.1)\n",
            "Requirement already satisfied: tenacity>=6.2.0 in /usr/local/lib/python3.7/dist-packages (from plotly->catboost) (8.1.0)\n",
            "Installing collected packages: catboost\n",
            "Successfully installed catboost-1.1.1\n",
            "Looking in indexes: https://pypi.org/simple, https://us-python.pkg.dev/colab-wheels/public/simple/\n",
            "Requirement already satisfied: xgboost in /usr/local/lib/python3.7/dist-packages (0.90)\n",
            "Requirement already satisfied: scipy in /usr/local/lib/python3.7/dist-packages (from xgboost) (1.7.3)\n",
            "Requirement already satisfied: numpy in /usr/local/lib/python3.7/dist-packages (from xgboost) (1.21.6)\n"
          ]
        }
      ]
    },
    {
      "cell_type": "code",
      "source": [
        "import numpy as np\n",
        "import pandas as pd\n",
        "from sklearn.model_selection import train_test_split\n",
        "from sklearn.linear_model import LogisticRegression\n",
        "from sklearn.cluster import KMeans\n",
        "from sklearn.metrics import accuracy_score, precision_score, recall_score, f1_score\n",
        "from sklearn.ensemble import RandomForestClassifier\n",
        "from sklearn.naive_bayes import GaussianNB\n",
        "from sklearn.neighbors import KNeighborsClassifier\n",
        "from sklearn.ensemble import GradientBoostingClassifier\n",
        "from xgboost import XGBClassifier\n",
        "from catboost import CatBoostClassifier\n",
        "import matplotlib.pyplot as plt\n",
        "from sklearn.metrics import plot_confusion_matrix\n",
        "\n",
        "\n",
        "class clust():\n",
        "    def _load_data(self, sklearn_load_ds):\n",
        "        data = sklearn_load_ds\n",
        "        # X = pd.DataFrame(data.data)\n",
        "        # X = data\n",
        "        self.X_train, self.X_test, self.y_train, self.y_test = train_test_split(final_X_train, y_train, test_size=0.2, random_state=42)\n",
        "        \n",
        "        \n",
        "    def __init__(self, sklearn_load_ds):\n",
        "        self._load_data(sklearn_load_ds)\n",
        "    \n",
        "    # Logistic Regression\n",
        "    def classify_logreg(self, model=LogisticRegression(random_state=42)):\n",
        "        model.fit(self.X_train, self.y_train)\n",
        "        y_pred = model.predict(self.X_test)\n",
        "        print(\"\\n\\nLOGISTIC REGRESSION CLASSIFIER\")\n",
        "        print(\"Accuracy: %1.3f \\tPrecision: %1.3f \\tRecall: %1.3f \\t F1 Score: %1.3f\" % (accuracy_score(self.y_test, y_pred), precision_score(self.y_test, y_pred, average='weighted'), recall_score(self. y_test, y_pred, average='weighted'), (f1_score(self.y_test, y_pred, average='weighted'))))\n",
        "\n",
        "        plot_confusion_matrix(model, self.X_test, self.y_test)  \n",
        "        plt.show()\n",
        "\n",
        "    # Naive Bayes\n",
        "    def classify_nb(self, model=GaussianNB()):\n",
        "        model.fit(self.X_train, self.y_train)\n",
        "        y_pred = model.predict(self.X_test)\n",
        "        print(\"\\n\\nNAIVE BAYES CLASSIFIER\")\n",
        "        print(\"Accuracy: %1.3f \\tPrecision: %1.3f \\tRecall: %1.3f \\t F1 Score: %1.3f\" % (accuracy_score(self.y_test, y_pred), precision_score(self.y_test, y_pred, average='weighted'), recall_score(self. y_test, y_pred, average='weighted'), (f1_score(self.y_test, y_pred, average='weighted'))))\n",
        "\n",
        "        plot_confusion_matrix(model, self.X_test, self.y_test)  \n",
        "        plt.show()\n",
        "\n",
        "    # KNN \n",
        "    def classify_knn(self, model=KNeighborsClassifier(n_neighbors=5)):\n",
        "        model.fit(self.X_train, self.y_train)\n",
        "        y_pred = model.predict(self.X_test)\n",
        "        print(\"\\n\\nKNN CLASSIFIER\")\n",
        "        print(\"Accuracy: %1.3f \\tPrecision: %1.3f \\tRecall: %1.3f \\t F1 Score: %1.3f\" % (accuracy_score(self.y_test, y_pred), precision_score(self.y_test, y_pred, average='weighted'), recall_score(self. y_test, y_pred, average='weighted'), (f1_score(self.y_test, y_pred, average='weighted'))))\n",
        "\n",
        "        plot_confusion_matrix(model, self.X_test, self.y_test)  \n",
        "        plt.show()\n",
        "\n",
        "    # Random Forest \n",
        "    def classify_rf(self, model=RandomForestClassifier(max_depth=2, random_state=0)):\n",
        "        model.fit(self.X_train, self.y_train)\n",
        "        y_pred = model.predict(self.X_test)\n",
        "        print(\"\\n\\nRANDOM FOREST CLASSIFIER\")\n",
        "        print(\"Accuracy: %1.3f \\tPrecision: %1.3f \\tRecall: %1.3f \\t F1 Score: %1.3f\" % (accuracy_score(self.y_test, y_pred), precision_score(self.y_test, y_pred, average='weighted'), recall_score(self. y_test, y_pred, average='weighted'), (f1_score(self.y_test, y_pred, average='weighted'))))\n",
        "\n",
        "        plot_confusion_matrix(model, self.X_test, self.y_test)  \n",
        "        plt.show()\n",
        "\n",
        "    # XG Boost \n",
        "    def classify_xg(self, model=XGBClassifier()):\n",
        "        model.fit(self.X_train, self.y_train)\n",
        "        y_pred = model.predict(self.X_test)\n",
        "        print(\"\\n\\nXG BOOST CLASSIFIER\")\n",
        "        print(\"Accuracy: %1.3f \\tPrecision: %1.3f \\tRecall: %1.3f \\t F1 Score: %1.3f\" % (accuracy_score(self.y_test, y_pred), precision_score(self.y_test, y_pred, average='weighted'), recall_score(self. y_test, y_pred, average='weighted'), (f1_score(self.y_test, y_pred, average='weighted'))))\n",
        "\n",
        "        plot_confusion_matrix(model, self.X_test, self.y_test)  \n",
        "        plt.show()\n",
        "\n",
        "    # Cat Boost\n",
        "    def classify_cat(self, model=CatBoostClassifier(verbose=0, n_estimators=100)):\n",
        "        model.fit(self.X_train, self.y_train)\n",
        "        y_pred = model.predict(self.X_test)\n",
        "        print(\"\\n\\nCAT BOOST CLASSIFIER\")\n",
        "        print(\"Accuracy: %1.3f \\tPrecision: %1.3f \\tRecall: %1.3f \\t F1 Score: %1.3f\" % (accuracy_score(self.y_test, y_pred), precision_score(self.y_test, y_pred, average='weighted'), recall_score(self. y_test, y_pred, average='weighted'), (f1_score(self.y_test, y_pred, average='weighted'))))\n",
        "\n",
        "        plot_confusion_matrix(model, self.X_test, self.y_test)  \n",
        "        plt.show()\n",
        "\n",
        "\n",
        "    def Kmeans(self, output='add'):\n",
        "        n_clusters = len(np.unique(self.y_train))\n",
        "        clf = KMeans(n_clusters = n_clusters, random_state=42)\n",
        "        clf.fit(self.X_train)\n",
        "        y_labels_train = clf.labels_\n",
        "        y_labels_test = clf.predict(self.X_test)\n",
        "\n",
        "        # print(self.X_train['clust'])\n",
        "\n",
        "        if output == 'add':\n",
        "            self.X_train['km_clust'] = y_labels_train\n",
        "            self.X_test['km_clust'] = y_labels_test\n",
        "        elif output == 'replace':\n",
        "            self.X_train = y_labels_train[:, np.newaxis]\n",
        "            self.X_test = y_labels_test[:, np.newaxis]\n",
        "        else:\n",
        "            raise ValueError('output should be either add or replace')\n",
        "        return self"
      ],
      "metadata": {
        "id": "TajGAtTwr954"
      },
      "execution_count": null,
      "outputs": []
    },
    {
      "cell_type": "markdown",
      "source": [
        "# KMEANS CLUSTERING AND THEN CLASSIFICATIONS WITHOUT ADDING THE LABELS AS FEATURES"
      ],
      "metadata": {
        "id": "qWQpIg9Ai5JK"
      }
    },
    {
      "cell_type": "code",
      "source": [
        "clust(X_train).Kmeans(output='replace').classify_logreg()\n",
        "clust(X_train).Kmeans(output='replace').classify_nb()\n",
        "clust(X_train).Kmeans(output='replace').classify_knn()\n",
        "clust(X_train).Kmeans(output='replace').classify_rf()\n",
        "clust(X_train).Kmeans(output='replace').classify_xg()\n",
        "clust(X_train).Kmeans(output='replace').classify_cat()"
      ],
      "metadata": {
        "colab": {
          "base_uri": "https://localhost:8080/",
          "height": 1000
        },
        "id": "bFnAIGVSK9pa",
        "outputId": "43bfbb70-e878-4176-ea7a-1c671f60aff9"
      },
      "execution_count": null,
      "outputs": [
        {
          "output_type": "stream",
          "name": "stdout",
          "text": [
            "\n",
            "\n",
            "LOGISTIC REGRESSION CLASSIFIER\n",
            "Accuracy: 0.828 \tPrecision: 0.872 \tRecall: 0.828 \t F1 Score: 0.823\n"
          ]
        },
        {
          "output_type": "stream",
          "name": "stderr",
          "text": [
            "/usr/local/lib/python3.7/dist-packages/sklearn/utils/deprecation.py:87: FutureWarning: Function plot_confusion_matrix is deprecated; Function `plot_confusion_matrix` is deprecated in 1.0 and will be removed in 1.2. Use one of the class methods: ConfusionMatrixDisplay.from_predictions or ConfusionMatrixDisplay.from_estimator.\n",
            "  warnings.warn(msg, category=FutureWarning)\n"
          ]
        },
        {
          "output_type": "display_data",
          "data": {
            "text/plain": [
              "<Figure size 432x288 with 2 Axes>"
            ],
            "image/png": "[encoded data removed]"
          },
          "metadata": {
            "needs_background": "light"
          }
        },
        {
          "output_type": "stream",
          "name": "stdout",
          "text": [
            "\n",
            "\n",
            "NAIVE BAYES CLASSIFIER\n",
            "Accuracy: 0.828 \tPrecision: 0.872 \tRecall: 0.828 \t F1 Score: 0.823\n"
          ]
        },
        {
          "output_type": "stream",
          "name": "stderr",
          "text": [
            "/usr/local/lib/python3.7/dist-packages/sklearn/utils/deprecation.py:87: FutureWarning: Function plot_confusion_matrix is deprecated; Function `plot_confusion_matrix` is deprecated in 1.0 and will be removed in 1.2. Use one of the class methods: ConfusionMatrixDisplay.from_predictions or ConfusionMatrixDisplay.from_estimator.\n",
            "  warnings.warn(msg, category=FutureWarning)\n"
          ]
        },
        {
          "output_type": "display_data",
          "data": {
            "text/plain": [
              "<Figure size 432x288 with 2 Axes>"
            ],
            "image/png": "[encoded data removed]"
          },
          "metadata": {
            "needs_background": "light"
          }
        },
        {
          "output_type": "stream",
          "name": "stdout",
          "text": [
            "\n",
            "\n",
            "KNN CLASSIFIER\n",
            "Accuracy: 0.828 \tPrecision: 0.872 \tRecall: 0.828 \t F1 Score: 0.823\n"
          ]
        },
        {
          "output_type": "stream",
          "name": "stderr",
          "text": [
            "/usr/local/lib/python3.7/dist-packages/sklearn/utils/deprecation.py:87: FutureWarning: Function plot_confusion_matrix is deprecated; Function `plot_confusion_matrix` is deprecated in 1.0 and will be removed in 1.2. Use one of the class methods: ConfusionMatrixDisplay.from_predictions or ConfusionMatrixDisplay.from_estimator.\n",
            "  warnings.warn(msg, category=FutureWarning)\n"
          ]
        },
        {
          "output_type": "display_data",
          "data": {
            "text/plain": [
              "<Figure size 432x288 with 2 Axes>"
            ],
            "image/png": "[encoded data removed]"
          },
          "metadata": {
            "needs_background": "light"
          }
        },
        {
          "output_type": "stream",
          "name": "stdout",
          "text": [
            "\n",
            "\n",
            "RANDOM FOREST CLASSIFIER\n",
            "Accuracy: 0.828 \tPrecision: 0.872 \tRecall: 0.828 \t F1 Score: 0.823\n"
          ]
        },
        {
          "output_type": "stream",
          "name": "stderr",
          "text": [
            "/usr/local/lib/python3.7/dist-packages/sklearn/utils/deprecation.py:87: FutureWarning: Function plot_confusion_matrix is deprecated; Function `plot_confusion_matrix` is deprecated in 1.0 and will be removed in 1.2. Use one of the class methods: ConfusionMatrixDisplay.from_predictions or ConfusionMatrixDisplay.from_estimator.\n",
            "  warnings.warn(msg, category=FutureWarning)\n"
          ]
        },
        {
          "output_type": "display_data",
          "data": {
            "text/plain": [
              "<Figure size 432x288 with 2 Axes>"
            ],
            "image/png": "[encoded data removed]"
          },
          "metadata": {
            "needs_background": "light"
          }
        },
        {
          "output_type": "stream",
          "name": "stdout",
          "text": [
            "\n",
            "\n",
            "XG BOOST CLASSIFIER\n",
            "Accuracy: 0.828 \tPrecision: 0.872 \tRecall: 0.828 \t F1 Score: 0.823\n"
          ]
        },
        {
          "output_type": "stream",
          "name": "stderr",
          "text": [
            "/usr/local/lib/python3.7/dist-packages/sklearn/utils/deprecation.py:87: FutureWarning: Function plot_confusion_matrix is deprecated; Function `plot_confusion_matrix` is deprecated in 1.0 and will be removed in 1.2. Use one of the class methods: ConfusionMatrixDisplay.from_predictions or ConfusionMatrixDisplay.from_estimator.\n",
            "  warnings.warn(msg, category=FutureWarning)\n"
          ]
        },
        {
          "output_type": "display_data",
          "data": {
            "text/plain": [
              "<Figure size 432x288 with 2 Axes>"
            ],
            "image/png": "[encoded data removed]"
          },
          "metadata": {
            "needs_background": "light"
          }
        },
        {
          "output_type": "stream",
          "name": "stdout",
          "text": [
            "\n",
            "\n",
            "CAT BOOST CLASSIFIER\n",
            "Accuracy: 0.828 \tPrecision: 0.872 \tRecall: 0.828 \t F1 Score: 0.823\n"
          ]
        },
        {
          "output_type": "stream",
          "name": "stderr",
          "text": [
            "/usr/local/lib/python3.7/dist-packages/sklearn/utils/deprecation.py:87: FutureWarning: Function plot_confusion_matrix is deprecated; Function `plot_confusion_matrix` is deprecated in 1.0 and will be removed in 1.2. Use one of the class methods: ConfusionMatrixDisplay.from_predictions or ConfusionMatrixDisplay.from_estimator.\n",
            "  warnings.warn(msg, category=FutureWarning)\n"
          ]
        },
        {
          "output_type": "display_data",
          "data": {
            "text/plain": [
              "<Figure size 432x288 with 2 Axes>"
            ],
            "image/png": "[encoded data removed]"
          },
          "metadata": {
            "needs_background": "light"
          }
        }
      ]
    },
    {
      "cell_type": "markdown",
      "source": [
        "# ONLY CLASSIFICATIONS "
      ],
      "metadata": {
        "id": "uWcn3B3DjFI4"
      }
    },
    {
      "cell_type": "code",
      "source": [
        "clust(X_train).classify_logreg()\n",
        "clust(X_train).classify_nb()\n",
        "clust(X_train).classify_knn()\n",
        "clust(X_train).classify_rf()\n",
        "clust(X_train).classify_xg()\n",
        "clust(X_train).classify_cat()"
      ],
      "metadata": {
        "colab": {
          "base_uri": "https://localhost:8080/",
          "height": 1000
        },
        "id": "drXf6dBSMXrF",
        "outputId": "6b97be45-3f84-4748-eafc-cc68d343a8a8"
      },
      "execution_count": null,
      "outputs": [
        {
          "output_type": "stream",
          "name": "stdout",
          "text": [
            "\n",
            "\n",
            "LOGISTIC REGRESSION CLASSIFIER\n",
            "Accuracy: 0.969 \tPrecision: 0.971 \tRecall: 0.969 \t F1 Score: 0.969\n"
          ]
        },
        {
          "output_type": "stream",
          "name": "stderr",
          "text": [
            "/usr/local/lib/python3.7/dist-packages/sklearn/utils/deprecation.py:87: FutureWarning: Function plot_confusion_matrix is deprecated; Function `plot_confusion_matrix` is deprecated in 1.0 and will be removed in 1.2. Use one of the class methods: ConfusionMatrixDisplay.from_predictions or ConfusionMatrixDisplay.from_estimator.\n",
            "  warnings.warn(msg, category=FutureWarning)\n"
          ]
        },
        {
          "output_type": "display_data",
          "data": {
            "text/plain": [
              "<Figure size 432x288 with 2 Axes>"
            ],
            "image/png": "[encoded data removed]"
          },
          "metadata": {
            "needs_background": "light"
          }
        },
        {
          "output_type": "stream",
          "name": "stdout",
          "text": [
            "\n",
            "\n",
            "NAIVE BAYES CLASSIFIER\n",
            "Accuracy: 0.906 \tPrecision: 0.913 \tRecall: 0.906 \t F1 Score: 0.906\n"
          ]
        },
        {
          "output_type": "stream",
          "name": "stderr",
          "text": [
            "/usr/local/lib/python3.7/dist-packages/sklearn/utils/deprecation.py:87: FutureWarning: Function plot_confusion_matrix is deprecated; Function `plot_confusion_matrix` is deprecated in 1.0 and will be removed in 1.2. Use one of the class methods: ConfusionMatrixDisplay.from_predictions or ConfusionMatrixDisplay.from_estimator.\n",
            "  warnings.warn(msg, category=FutureWarning)\n"
          ]
        },
        {
          "output_type": "display_data",
          "data": {
            "text/plain": [
              "<Figure size 432x288 with 2 Axes>"
            ],
            "image/png": "[encoded data removed]"
          },
          "metadata": {
            "needs_background": "light"
          }
        },
        {
          "output_type": "stream",
          "name": "stdout",
          "text": [
            "\n",
            "\n",
            "KNN CLASSIFIER\n",
            "Accuracy: 0.953 \tPrecision: 0.954 \tRecall: 0.953 \t F1 Score: 0.953\n"
          ]
        },
        {
          "output_type": "stream",
          "name": "stderr",
          "text": [
            "/usr/local/lib/python3.7/dist-packages/sklearn/utils/deprecation.py:87: FutureWarning: Function plot_confusion_matrix is deprecated; Function `plot_confusion_matrix` is deprecated in 1.0 and will be removed in 1.2. Use one of the class methods: ConfusionMatrixDisplay.from_predictions or ConfusionMatrixDisplay.from_estimator.\n",
            "  warnings.warn(msg, category=FutureWarning)\n"
          ]
        },
        {
          "output_type": "display_data",
          "data": {
            "text/plain": [
              "<Figure size 432x288 with 2 Axes>"
            ],
            "image/png": "[encoded data removed]"
          },
          "metadata": {
            "needs_background": "light"
          }
        },
        {
          "output_type": "stream",
          "name": "stdout",
          "text": [
            "\n",
            "\n",
            "RANDOM FOREST CLASSIFIER\n",
            "Accuracy: 0.984 \tPrecision: 0.985 \tRecall: 0.984 \t F1 Score: 0.984\n"
          ]
        },
        {
          "output_type": "stream",
          "name": "stderr",
          "text": [
            "/usr/local/lib/python3.7/dist-packages/sklearn/utils/deprecation.py:87: FutureWarning: Function plot_confusion_matrix is deprecated; Function `plot_confusion_matrix` is deprecated in 1.0 and will be removed in 1.2. Use one of the class methods: ConfusionMatrixDisplay.from_predictions or ConfusionMatrixDisplay.from_estimator.\n",
            "  warnings.warn(msg, category=FutureWarning)\n"
          ]
        },
        {
          "output_type": "display_data",
          "data": {
            "text/plain": [
              "<Figure size 432x288 with 2 Axes>"
            ],
            "image/png": "[encoded data removed]"
          },
          "metadata": {
            "needs_background": "light"
          }
        },
        {
          "output_type": "stream",
          "name": "stdout",
          "text": [
            "\n",
            "\n",
            "XG BOOST CLASSIFIER\n",
            "Accuracy: 0.969 \tPrecision: 0.969 \tRecall: 0.969 \t F1 Score: 0.969\n"
          ]
        },
        {
          "output_type": "stream",
          "name": "stderr",
          "text": [
            "/usr/local/lib/python3.7/dist-packages/sklearn/utils/deprecation.py:87: FutureWarning: Function plot_confusion_matrix is deprecated; Function `plot_confusion_matrix` is deprecated in 1.0 and will be removed in 1.2. Use one of the class methods: ConfusionMatrixDisplay.from_predictions or ConfusionMatrixDisplay.from_estimator.\n",
            "  warnings.warn(msg, category=FutureWarning)\n"
          ]
        },
        {
          "output_type": "display_data",
          "data": {
            "text/plain": [
              "<Figure size 432x288 with 2 Axes>"
            ],
            "image/png": "[encoded data removed]"
          },
          "metadata": {
            "needs_background": "light"
          }
        },
        {
          "output_type": "stream",
          "name": "stdout",
          "text": [
            "\n",
            "\n",
            "CAT BOOST CLASSIFIER\n",
            "Accuracy: 0.969 \tPrecision: 0.969 \tRecall: 0.969 \t F1 Score: 0.969\n"
          ]
        },
        {
          "output_type": "stream",
          "name": "stderr",
          "text": [
            "/usr/local/lib/python3.7/dist-packages/sklearn/utils/deprecation.py:87: FutureWarning: Function plot_confusion_matrix is deprecated; Function `plot_confusion_matrix` is deprecated in 1.0 and will be removed in 1.2. Use one of the class methods: ConfusionMatrixDisplay.from_predictions or ConfusionMatrixDisplay.from_estimator.\n",
            "  warnings.warn(msg, category=FutureWarning)\n"
          ]
        },
        {
          "output_type": "display_data",
          "data": {
            "text/plain": [
              "<Figure size 432x288 with 2 Axes>"
            ],
            "image/png": "[encoded data removed]"
          },
          "metadata": {
            "needs_background": "light"
          }
        }
      ]
    },
    {
      "cell_type": "markdown",
      "source": [
        "# KMEANS CLUSTERING AND THEN CLASSIFICATIONS WITH ADDING THE LABELS AS FEATURES"
      ],
      "metadata": {
        "id": "qHqApntcjLcd"
      }
    },
    {
      "cell_type": "code",
      "source": [
        "clust(X_train).Kmeans(output='add').classify_logreg()\n",
        "clust(X_train).Kmeans(output='add').classify_nb()\n",
        "clust(X_train).Kmeans(output='add').classify_knn()\n",
        "clust(X_train).Kmeans(output='add').classify_rf()\n",
        "clust(X_train).Kmeans(output='add').classify_xg()\n",
        "clust(X_train).Kmeans(output='add').classify_cat()"
      ],
      "metadata": {
        "colab": {
          "base_uri": "https://localhost:8080/",
          "height": 1000
        },
        "id": "_wlkXlr3MrfV",
        "outputId": "818cf8d3-8b75-4d8e-9704-c202a78193b8"
      },
      "execution_count": null,
      "outputs": [
        {
          "output_type": "stream",
          "name": "stderr",
          "text": [
            "/usr/local/lib/python3.7/dist-packages/sklearn/utils/validation.py:1692: FutureWarning: Feature names only support names that are all strings. Got feature names with dtypes: ['int', 'str']. An error will be raised in 1.2.\n",
            "  FutureWarning,\n",
            "/usr/local/lib/python3.7/dist-packages/sklearn/utils/validation.py:1692: FutureWarning: Feature names only support names that are all strings. Got feature names with dtypes: ['int', 'str']. An error will be raised in 1.2.\n",
            "  FutureWarning,\n",
            "/usr/local/lib/python3.7/dist-packages/sklearn/utils/deprecation.py:87: FutureWarning: Function plot_confusion_matrix is deprecated; Function `plot_confusion_matrix` is deprecated in 1.0 and will be removed in 1.2. Use one of the class methods: ConfusionMatrixDisplay.from_predictions or ConfusionMatrixDisplay.from_estimator.\n",
            "  warnings.warn(msg, category=FutureWarning)\n",
            "/usr/local/lib/python3.7/dist-packages/sklearn/utils/validation.py:1692: FutureWarning: Feature names only support names that are all strings. Got feature names with dtypes: ['int', 'str']. An error will be raised in 1.2.\n",
            "  FutureWarning,\n"
          ]
        },
        {
          "output_type": "stream",
          "name": "stdout",
          "text": [
            "\n",
            "\n",
            "LOGISTIC REGRESSION CLASSIFIER\n",
            "Accuracy: 0.969 \tPrecision: 0.971 \tRecall: 0.969 \t F1 Score: 0.969\n"
          ]
        },
        {
          "output_type": "display_data",
          "data": {
            "text/plain": [
              "<Figure size 432x288 with 2 Axes>"
            ],
            "image/png": "[encoded data removed]"
          },
          "metadata": {
            "needs_background": "light"
          }
        },
        {
          "output_type": "stream",
          "name": "stderr",
          "text": [
            "/usr/local/lib/python3.7/dist-packages/sklearn/utils/validation.py:1692: FutureWarning: Feature names only support names that are all strings. Got feature names with dtypes: ['int', 'str']. An error will be raised in 1.2.\n",
            "  FutureWarning,\n",
            "/usr/local/lib/python3.7/dist-packages/sklearn/utils/validation.py:1692: FutureWarning: Feature names only support names that are all strings. Got feature names with dtypes: ['int', 'str']. An error will be raised in 1.2.\n",
            "  FutureWarning,\n",
            "/usr/local/lib/python3.7/dist-packages/sklearn/utils/deprecation.py:87: FutureWarning: Function plot_confusion_matrix is deprecated; Function `plot_confusion_matrix` is deprecated in 1.0 and will be removed in 1.2. Use one of the class methods: ConfusionMatrixDisplay.from_predictions or ConfusionMatrixDisplay.from_estimator.\n",
            "  warnings.warn(msg, category=FutureWarning)\n",
            "/usr/local/lib/python3.7/dist-packages/sklearn/utils/validation.py:1692: FutureWarning: Feature names only support names that are all strings. Got feature names with dtypes: ['int', 'str']. An error will be raised in 1.2.\n",
            "  FutureWarning,\n"
          ]
        },
        {
          "output_type": "stream",
          "name": "stdout",
          "text": [
            "\n",
            "\n",
            "NAIVE BAYES CLASSIFIER\n",
            "Accuracy: 0.906 \tPrecision: 0.913 \tRecall: 0.906 \t F1 Score: 0.906\n"
          ]
        },
        {
          "output_type": "display_data",
          "data": {
            "text/plain": [
              "<Figure size 432x288 with 2 Axes>"
            ],
            "image/png": "[encoded data removed]"
          },
          "metadata": {
            "needs_background": "light"
          }
        },
        {
          "output_type": "stream",
          "name": "stderr",
          "text": [
            "/usr/local/lib/python3.7/dist-packages/sklearn/utils/validation.py:1692: FutureWarning: Feature names only support names that are all strings. Got feature names with dtypes: ['int', 'str']. An error will be raised in 1.2.\n",
            "  FutureWarning,\n",
            "/usr/local/lib/python3.7/dist-packages/sklearn/utils/validation.py:1692: FutureWarning: Feature names only support names that are all strings. Got feature names with dtypes: ['int', 'str']. An error will be raised in 1.2.\n",
            "  FutureWarning,\n",
            "/usr/local/lib/python3.7/dist-packages/sklearn/utils/deprecation.py:87: FutureWarning: Function plot_confusion_matrix is deprecated; Function `plot_confusion_matrix` is deprecated in 1.0 and will be removed in 1.2. Use one of the class methods: ConfusionMatrixDisplay.from_predictions or ConfusionMatrixDisplay.from_estimator.\n",
            "  warnings.warn(msg, category=FutureWarning)\n",
            "/usr/local/lib/python3.7/dist-packages/sklearn/utils/validation.py:1692: FutureWarning: Feature names only support names that are all strings. Got feature names with dtypes: ['int', 'str']. An error will be raised in 1.2.\n",
            "  FutureWarning,\n"
          ]
        },
        {
          "output_type": "stream",
          "name": "stdout",
          "text": [
            "\n",
            "\n",
            "KNN CLASSIFIER\n",
            "Accuracy: 0.953 \tPrecision: 0.954 \tRecall: 0.953 \t F1 Score: 0.953\n"
          ]
        },
        {
          "output_type": "display_data",
          "data": {
            "text/plain": [
              "<Figure size 432x288 with 2 Axes>"
            ],
            "image/png": "[encoded data removed]"
          },
          "metadata": {
            "needs_background": "light"
          }
        },
        {
          "output_type": "stream",
          "name": "stderr",
          "text": [
            "/usr/local/lib/python3.7/dist-packages/sklearn/utils/validation.py:1692: FutureWarning: Feature names only support names that are all strings. Got feature names with dtypes: ['int', 'str']. An error will be raised in 1.2.\n",
            "  FutureWarning,\n",
            "/usr/local/lib/python3.7/dist-packages/sklearn/utils/validation.py:1692: FutureWarning: Feature names only support names that are all strings. Got feature names with dtypes: ['int', 'str']. An error will be raised in 1.2.\n",
            "  FutureWarning,\n",
            "/usr/local/lib/python3.7/dist-packages/sklearn/utils/deprecation.py:87: FutureWarning: Function plot_confusion_matrix is deprecated; Function `plot_confusion_matrix` is deprecated in 1.0 and will be removed in 1.2. Use one of the class methods: ConfusionMatrixDisplay.from_predictions or ConfusionMatrixDisplay.from_estimator.\n",
            "  warnings.warn(msg, category=FutureWarning)\n",
            "/usr/local/lib/python3.7/dist-packages/sklearn/utils/validation.py:1692: FutureWarning: Feature names only support names that are all strings. Got feature names with dtypes: ['int', 'str']. An error will be raised in 1.2.\n",
            "  FutureWarning,\n"
          ]
        },
        {
          "output_type": "stream",
          "name": "stdout",
          "text": [
            "\n",
            "\n",
            "RANDOM FOREST CLASSIFIER\n",
            "Accuracy: 0.984 \tPrecision: 0.985 \tRecall: 0.984 \t F1 Score: 0.984\n"
          ]
        },
        {
          "output_type": "display_data",
          "data": {
            "text/plain": [
              "<Figure size 432x288 with 2 Axes>"
            ],
            "image/png": "[encoded data removed]"
          },
          "metadata": {
            "needs_background": "light"
          }
        },
        {
          "output_type": "stream",
          "name": "stdout",
          "text": [
            "\n",
            "\n",
            "XG BOOST CLASSIFIER\n",
            "Accuracy: 0.969 \tPrecision: 0.969 \tRecall: 0.969 \t F1 Score: 0.969\n"
          ]
        },
        {
          "output_type": "stream",
          "name": "stderr",
          "text": [
            "/usr/local/lib/python3.7/dist-packages/sklearn/utils/deprecation.py:87: FutureWarning: Function plot_confusion_matrix is deprecated; Function `plot_confusion_matrix` is deprecated in 1.0 and will be removed in 1.2. Use one of the class methods: ConfusionMatrixDisplay.from_predictions or ConfusionMatrixDisplay.from_estimator.\n",
            "  warnings.warn(msg, category=FutureWarning)\n"
          ]
        },
        {
          "output_type": "display_data",
          "data": {
            "text/plain": [
              "<Figure size 432x288 with 2 Axes>"
            ],
            "image/png": "[encoded data removed]"
          },
          "metadata": {
            "needs_background": "light"
          }
        },
        {
          "output_type": "stream",
          "name": "stdout",
          "text": [
            "\n",
            "\n",
            "CAT BOOST CLASSIFIER\n",
            "Accuracy: 0.984 \tPrecision: 0.985 \tRecall: 0.984 \t F1 Score: 0.984\n"
          ]
        },
        {
          "output_type": "stream",
          "name": "stderr",
          "text": [
            "/usr/local/lib/python3.7/dist-packages/sklearn/utils/deprecation.py:87: FutureWarning: Function plot_confusion_matrix is deprecated; Function `plot_confusion_matrix` is deprecated in 1.0 and will be removed in 1.2. Use one of the class methods: ConfusionMatrixDisplay.from_predictions or ConfusionMatrixDisplay.from_estimator.\n",
            "  warnings.warn(msg, category=FutureWarning)\n"
          ]
        },
        {
          "output_type": "display_data",
          "data": {
            "text/plain": [
              "<Figure size 432x288 with 2 Axes>"
            ],
            "image/png": "[encoded data removed]"
          },
          "metadata": {
            "needs_background": "light"
          }
        }
      ]
    },
    {
      "cell_type": "code",
      "source": [],
      "metadata": {
        "id": "i0JgLPC_Mw7z"
      },
      "execution_count": null,
      "outputs": []
    },
    {
      "cell_type": "markdown",
      "source": [
        "# EM CLUSTERING"
      ],
      "metadata": {
        "id": "Q7ahZTh0hxnR"
      }
    },
    {
      "cell_type": "code",
      "source": [
        "import numpy as np\n",
        "import pandas as pd\n",
        "from sklearn.model_selection import train_test_split\n",
        "from sklearn.linear_model import LogisticRegression\n",
        "\n",
        "from sklearn.cluster import KMeans\n",
        "from sklearn.cluster import DBSCAN\n",
        "from sklearn.mixture import GaussianMixture\n",
        "\n",
        "\n",
        "from sklearn.metrics import accuracy_score\n",
        "from sklearn.ensemble import RandomForestClassifier\n",
        "from sklearn.naive_bayes import GaussianNB\n",
        "from sklearn.neighbors import KNeighborsClassifier\n",
        "from sklearn.ensemble import GradientBoostingClassifier\n",
        "from xgboost import XGBClassifier\n",
        "from catboost import CatBoostClassifier\n",
        "import matplotlib.pyplot as plt\n",
        "from sklearn.metrics import plot_confusion_matrix\n",
        "\n",
        "\n",
        "class clust():\n",
        "    def _load_data(self, sklearn_load_ds):\n",
        "        data = sklearn_load_ds\n",
        "        # X = pd.DataFrame(data.data)\n",
        "        # X = data\n",
        "        self.X_train, self.X_test, self.y_train, self.y_test = train_test_split(final_X_train, y_train, test_size=0.2, random_state=42)\n",
        "        \n",
        "        \n",
        "    def __init__(self, sklearn_load_ds):\n",
        "        self._load_data(sklearn_load_ds)\n",
        "    \n",
        "    # Logistic Regression\n",
        "    def classify_logreg(self, model=LogisticRegression(random_state=42)):\n",
        "        model.fit(self.X_train, self.y_train)\n",
        "        y_pred = model.predict(self.X_test)\n",
        "        print(\"\\n\\nLOGISTIC REGRESSION CLASSIFIER\")\n",
        "        print(\"Accuracy: %1.3f \\tPrecision: %1.3f \\tRecall: %1.3f \\t F1 Score: %1.3f\" % (accuracy_score(self.y_test, y_pred), precision_score(self.y_test, y_pred, average='weighted'), recall_score(self. y_test, y_pred, average='weighted'), (f1_score(self.y_test, y_pred, average='weighted'))))\n",
        "\n",
        "        plot_confusion_matrix(model, self.X_test, self.y_test)  \n",
        "        plt.show()\n",
        "\n",
        "    # Naive Bayes\n",
        "    def classify_nb(self, model=GaussianNB()):\n",
        "        model.fit(self.X_train, self.y_train)\n",
        "        y_pred = model.predict(self.X_test)\n",
        "        print(\"\\n\\nNAIVE BAYES CLASSIFIER\")\n",
        "        print(\"Accuracy: %1.3f \\tPrecision: %1.3f \\tRecall: %1.3f \\t F1 Score: %1.3f\" % (accuracy_score(self.y_test, y_pred), precision_score(self.y_test, y_pred, average='weighted'), recall_score(self. y_test, y_pred, average='weighted'), (f1_score(self.y_test, y_pred, average='weighted'))))\n",
        "\n",
        "        plot_confusion_matrix(model, self.X_test, self.y_test)  \n",
        "        plt.show()\n",
        "\n",
        "    # KNN \n",
        "    def classify_knn(self, model=KNeighborsClassifier(n_neighbors=5)):\n",
        "        model.fit(self.X_train, self.y_train)\n",
        "        y_pred = model.predict(self.X_test)\n",
        "        print(\"\\n\\nKNN CLASSIFIER\")\n",
        "        print(\"Accuracy: %1.3f \\tPrecision: %1.3f \\tRecall: %1.3f \\t F1 Score: %1.3f\" % (accuracy_score(self.y_test, y_pred), precision_score(self.y_test, y_pred, average='weighted'), recall_score(self. y_test, y_pred, average='weighted'), (f1_score(self.y_test, y_pred, average='weighted'))))\n",
        "\n",
        "        plot_confusion_matrix(model, self.X_test, self.y_test)  \n",
        "        plt.show()\n",
        "\n",
        "    # Random Forest \n",
        "    def classify_rf(self, model=RandomForestClassifier(max_depth=2, random_state=0)):\n",
        "        model.fit(self.X_train, self.y_train)\n",
        "        y_pred = model.predict(self.X_test)\n",
        "        print(\"\\n\\nRANDOM FOREST CLASSIFIER\")\n",
        "        print(\"Accuracy: %1.3f \\tPrecision: %1.3f \\tRecall: %1.3f \\t F1 Score: %1.3f\" % (accuracy_score(self.y_test, y_pred), precision_score(self.y_test, y_pred, average='weighted'), recall_score(self. y_test, y_pred, average='weighted'), (f1_score(self.y_test, y_pred, average='weighted'))))\n",
        "\n",
        "        plot_confusion_matrix(model, self.X_test, self.y_test)  \n",
        "        plt.show()\n",
        "\n",
        "    # XG Boost \n",
        "    def classify_xg(self, model=XGBClassifier()):\n",
        "        model.fit(self.X_train, self.y_train)\n",
        "        y_pred = model.predict(self.X_test)\n",
        "        print(\"\\n\\nXG BOOST CLASSIFIER\")\n",
        "        print(\"Accuracy: %1.3f \\tPrecision: %1.3f \\tRecall: %1.3f \\t F1 Score: %1.3f\" % (accuracy_score(self.y_test, y_pred), precision_score(self.y_test, y_pred, average='weighted'), recall_score(self. y_test, y_pred, average='weighted'), (f1_score(self.y_test, y_pred, average='weighted'))))\n",
        "\n",
        "        plot_confusion_matrix(model, self.X_test, self.y_test)  \n",
        "        plt.show()\n",
        "\n",
        "    # Cat Boost\n",
        "    def classify_cat(self, model=CatBoostClassifier(verbose=0, n_estimators=100)):\n",
        "        model.fit(self.X_train, self.y_train)\n",
        "        y_pred = model.predict(self.X_test)\n",
        "        print(\"\\n\\nCAT BOOST CLASSIFIER\")\n",
        "        print(\"Accuracy: %1.3f \\tPrecision: %1.3f \\tRecall: %1.3f \\t F1 Score: %1.3f\" % (accuracy_score(self.y_test, y_pred), precision_score(self.y_test, y_pred, average='weighted'), recall_score(self. y_test, y_pred, average='weighted'), (f1_score(self.y_test, y_pred, average='weighted'))))\n",
        "\n",
        "        plot_confusion_matrix(model, self.X_test, self.y_test)  \n",
        "        plt.show()\n",
        "\n",
        "\n",
        "    def EMClust(self, output='add'):\n",
        "        # n_clusters = len(np.unique(self.y_train))\n",
        "        clf = GaussianMixture(n_components=2)\n",
        "        \n",
        "        y_labels_train = clf.fit_predict(self.X_train)\n",
        "        y_labels_test = clf.predict(self.X_test)\n",
        "\n",
        "        # print(self.X_train['clust'])\n",
        "\n",
        "        if output == 'add':\n",
        "            self.X_train['km_clust'] = y_labels_train\n",
        "            self.X_test['km_clust'] = y_labels_test\n",
        "        elif output == 'replace':\n",
        "            self.X_train = y_labels_train[:, np.newaxis]\n",
        "            self.X_test = y_labels_test[:, np.newaxis]\n",
        "        else:\n",
        "            raise ValueError('output should be either add or replace')\n",
        "        return self"
      ],
      "metadata": {
        "id": "Ugp16DL7kgWO"
      },
      "execution_count": null,
      "outputs": []
    },
    {
      "cell_type": "markdown",
      "source": [
        "# EM CLUSTERING AND THEN CLASSIFICATIONS WITHOUT ADDING THE LABELS AS FEATURES"
      ],
      "metadata": {
        "id": "4uvPCH5sluoE"
      }
    },
    {
      "cell_type": "code",
      "source": [
        "clust(X_train).EMClust(output='replace').classify_logreg()\n",
        "clust(X_train).EMClust(output='replace').classify_nb()\n",
        "clust(X_train).EMClust(output='replace').classify_knn()\n",
        "clust(X_train).EMClust(output='replace').classify_rf()\n",
        "clust(X_train).EMClust(output='replace').classify_xg()\n",
        "clust(X_train).EMClust(output='replace').classify_cat()"
      ],
      "metadata": {
        "id": "Iw38rTG31De_",
        "colab": {
          "base_uri": "https://localhost:8080/",
          "height": 1000
        },
        "outputId": "a0aee74c-8f1a-4cec-ea3b-ffd90f5e801e"
      },
      "execution_count": null,
      "outputs": [
        {
          "output_type": "stream",
          "name": "stdout",
          "text": [
            "\n",
            "\n",
            "LOGISTIC REGRESSION CLASSIFIER\n",
            "Accuracy: 0.875 \tPrecision: 0.900 \tRecall: 0.875 \t F1 Score: 0.873\n"
          ]
        },
        {
          "output_type": "stream",
          "name": "stderr",
          "text": [
            "/usr/local/lib/python3.7/dist-packages/sklearn/utils/deprecation.py:87: FutureWarning: Function plot_confusion_matrix is deprecated; Function `plot_confusion_matrix` is deprecated in 1.0 and will be removed in 1.2. Use one of the class methods: ConfusionMatrixDisplay.from_predictions or ConfusionMatrixDisplay.from_estimator.\n",
            "  warnings.warn(msg, category=FutureWarning)\n"
          ]
        },
        {
          "output_type": "display_data",
          "data": {
            "text/plain": [
              "<Figure size 432x288 with 2 Axes>"
            ],
            "image/png": "[encoded data removed]"
          },
          "metadata": {
            "needs_background": "light"
          }
        },
        {
          "output_type": "stream",
          "name": "stdout",
          "text": [
            "\n",
            "\n",
            "NAIVE BAYES CLASSIFIER\n",
            "Accuracy: 0.875 \tPrecision: 0.900 \tRecall: 0.875 \t F1 Score: 0.873\n"
          ]
        },
        {
          "output_type": "stream",
          "name": "stderr",
          "text": [
            "/usr/local/lib/python3.7/dist-packages/sklearn/utils/deprecation.py:87: FutureWarning: Function plot_confusion_matrix is deprecated; Function `plot_confusion_matrix` is deprecated in 1.0 and will be removed in 1.2. Use one of the class methods: ConfusionMatrixDisplay.from_predictions or ConfusionMatrixDisplay.from_estimator.\n",
            "  warnings.warn(msg, category=FutureWarning)\n"
          ]
        },
        {
          "output_type": "display_data",
          "data": {
            "text/plain": [
              "<Figure size 432x288 with 2 Axes>"
            ],
            "image/png": "[encoded data removed]"
          },
          "metadata": {
            "needs_background": "light"
          }
        },
        {
          "output_type": "stream",
          "name": "stdout",
          "text": [
            "\n",
            "\n",
            "KNN CLASSIFIER\n",
            "Accuracy: 0.875 \tPrecision: 0.900 \tRecall: 0.875 \t F1 Score: 0.873\n"
          ]
        },
        {
          "output_type": "stream",
          "name": "stderr",
          "text": [
            "/usr/local/lib/python3.7/dist-packages/sklearn/utils/deprecation.py:87: FutureWarning: Function plot_confusion_matrix is deprecated; Function `plot_confusion_matrix` is deprecated in 1.0 and will be removed in 1.2. Use one of the class methods: ConfusionMatrixDisplay.from_predictions or ConfusionMatrixDisplay.from_estimator.\n",
            "  warnings.warn(msg, category=FutureWarning)\n"
          ]
        },
        {
          "output_type": "display_data",
          "data": {
            "text/plain": [
              "<Figure size 432x288 with 2 Axes>"
            ],
            "image/png": "[encoded data removed]"
          },
          "metadata": {
            "needs_background": "light"
          }
        },
        {
          "output_type": "stream",
          "name": "stdout",
          "text": [
            "\n",
            "\n",
            "RANDOM FOREST CLASSIFIER\n",
            "Accuracy: 0.875 \tPrecision: 0.900 \tRecall: 0.875 \t F1 Score: 0.873\n"
          ]
        },
        {
          "output_type": "stream",
          "name": "stderr",
          "text": [
            "/usr/local/lib/python3.7/dist-packages/sklearn/utils/deprecation.py:87: FutureWarning: Function plot_confusion_matrix is deprecated; Function `plot_confusion_matrix` is deprecated in 1.0 and will be removed in 1.2. Use one of the class methods: ConfusionMatrixDisplay.from_predictions or ConfusionMatrixDisplay.from_estimator.\n",
            "  warnings.warn(msg, category=FutureWarning)\n"
          ]
        },
        {
          "output_type": "display_data",
          "data": {
            "text/plain": [
              "<Figure size 432x288 with 2 Axes>"
            ],
            "image/png": "[encoded data removed]"
          },
          "metadata": {
            "needs_background": "light"
          }
        },
        {
          "output_type": "stream",
          "name": "stdout",
          "text": [
            "\n",
            "\n",
            "XG BOOST CLASSIFIER\n",
            "Accuracy: 0.875 \tPrecision: 0.900 \tRecall: 0.875 \t F1 Score: 0.873\n"
          ]
        },
        {
          "output_type": "stream",
          "name": "stderr",
          "text": [
            "/usr/local/lib/python3.7/dist-packages/sklearn/utils/deprecation.py:87: FutureWarning: Function plot_confusion_matrix is deprecated; Function `plot_confusion_matrix` is deprecated in 1.0 and will be removed in 1.2. Use one of the class methods: ConfusionMatrixDisplay.from_predictions or ConfusionMatrixDisplay.from_estimator.\n",
            "  warnings.warn(msg, category=FutureWarning)\n"
          ]
        },
        {
          "output_type": "display_data",
          "data": {
            "text/plain": [
              "<Figure size 432x288 with 2 Axes>"
            ],
            "image/png": "[encoded data removed]"
          },
          "metadata": {
            "needs_background": "light"
          }
        },
        {
          "output_type": "stream",
          "name": "stdout",
          "text": [
            "\n",
            "\n",
            "CAT BOOST CLASSIFIER\n",
            "Accuracy: 0.875 \tPrecision: 0.900 \tRecall: 0.875 \t F1 Score: 0.873\n"
          ]
        },
        {
          "output_type": "stream",
          "name": "stderr",
          "text": [
            "/usr/local/lib/python3.7/dist-packages/sklearn/utils/deprecation.py:87: FutureWarning: Function plot_confusion_matrix is deprecated; Function `plot_confusion_matrix` is deprecated in 1.0 and will be removed in 1.2. Use one of the class methods: ConfusionMatrixDisplay.from_predictions or ConfusionMatrixDisplay.from_estimator.\n",
            "  warnings.warn(msg, category=FutureWarning)\n"
          ]
        },
        {
          "output_type": "display_data",
          "data": {
            "text/plain": [
              "<Figure size 432x288 with 2 Axes>"
            ],
            "image/png": "[encoded data removed]"
          },
          "metadata": {
            "needs_background": "light"
          }
        }
      ]
    },
    {
      "cell_type": "markdown",
      "source": [
        "# Only Classification"
      ],
      "metadata": {
        "id": "_7JU03xFl-Cz"
      }
    },
    {
      "cell_type": "code",
      "source": [
        "clust(X_train).classify_logreg()\n",
        "clust(X_train).classify_nb()\n",
        "clust(X_train).classify_knn()\n",
        "clust(X_train).classify_rf()\n",
        "clust(X_train).classify_xg()\n",
        "clust(X_train).classify_cat()"
      ],
      "metadata": {
        "colab": {
          "base_uri": "https://localhost:8080/",
          "height": 1000
        },
        "id": "bpypgmR5h3mh",
        "outputId": "47c4c2e0-3016-4398-92da-d60ea4cd45d5"
      },
      "execution_count": null,
      "outputs": [
        {
          "output_type": "stream",
          "name": "stdout",
          "text": [
            "\n",
            "\n",
            "LOGISTIC REGRESSION CLASSIFIER\n",
            "Accuracy: 0.969 \tPrecision: 0.971 \tRecall: 0.969 \t F1 Score: 0.969\n"
          ]
        },
        {
          "output_type": "stream",
          "name": "stderr",
          "text": [
            "/usr/local/lib/python3.7/dist-packages/sklearn/utils/deprecation.py:87: FutureWarning: Function plot_confusion_matrix is deprecated; Function `plot_confusion_matrix` is deprecated in 1.0 and will be removed in 1.2. Use one of the class methods: ConfusionMatrixDisplay.from_predictions or ConfusionMatrixDisplay.from_estimator.\n",
            "  warnings.warn(msg, category=FutureWarning)\n"
          ]
        },
        {
          "output_type": "display_data",
          "data": {
            "text/plain": [
              "<Figure size 432x288 with 2 Axes>"
            ],
            "image/png": "[encoded data removed]"
          },
          "metadata": {
            "needs_background": "light"
          }
        },
        {
          "output_type": "stream",
          "name": "stdout",
          "text": [
            "\n",
            "\n",
            "NAIVE BAYES CLASSIFIER\n",
            "Accuracy: 0.906 \tPrecision: 0.913 \tRecall: 0.906 \t F1 Score: 0.906\n"
          ]
        },
        {
          "output_type": "stream",
          "name": "stderr",
          "text": [
            "/usr/local/lib/python3.7/dist-packages/sklearn/utils/deprecation.py:87: FutureWarning: Function plot_confusion_matrix is deprecated; Function `plot_confusion_matrix` is deprecated in 1.0 and will be removed in 1.2. Use one of the class methods: ConfusionMatrixDisplay.from_predictions or ConfusionMatrixDisplay.from_estimator.\n",
            "  warnings.warn(msg, category=FutureWarning)\n"
          ]
        },
        {
          "output_type": "display_data",
          "data": {
            "text/plain": [
              "<Figure size 432x288 with 2 Axes>"
            ],
            "image/png": "[encoded data removed]"
          },
          "metadata": {
            "needs_background": "light"
          }
        },
        {
          "output_type": "stream",
          "name": "stdout",
          "text": [
            "\n",
            "\n",
            "KNN CLASSIFIER\n",
            "Accuracy: 0.953 \tPrecision: 0.954 \tRecall: 0.953 \t F1 Score: 0.953\n"
          ]
        },
        {
          "output_type": "stream",
          "name": "stderr",
          "text": [
            "/usr/local/lib/python3.7/dist-packages/sklearn/utils/deprecation.py:87: FutureWarning: Function plot_confusion_matrix is deprecated; Function `plot_confusion_matrix` is deprecated in 1.0 and will be removed in 1.2. Use one of the class methods: ConfusionMatrixDisplay.from_predictions or ConfusionMatrixDisplay.from_estimator.\n",
            "  warnings.warn(msg, category=FutureWarning)\n"
          ]
        },
        {
          "output_type": "display_data",
          "data": {
            "text/plain": [
              "<Figure size 432x288 with 2 Axes>"
            ],
            "image/png": "[encoded data removed]"
          },
          "metadata": {
            "needs_background": "light"
          }
        },
        {
          "output_type": "stream",
          "name": "stdout",
          "text": [
            "\n",
            "\n",
            "RANDOM FOREST CLASSIFIER\n",
            "Accuracy: 0.984 \tPrecision: 0.985 \tRecall: 0.984 \t F1 Score: 0.984\n"
          ]
        },
        {
          "output_type": "stream",
          "name": "stderr",
          "text": [
            "/usr/local/lib/python3.7/dist-packages/sklearn/utils/deprecation.py:87: FutureWarning: Function plot_confusion_matrix is deprecated; Function `plot_confusion_matrix` is deprecated in 1.0 and will be removed in 1.2. Use one of the class methods: ConfusionMatrixDisplay.from_predictions or ConfusionMatrixDisplay.from_estimator.\n",
            "  warnings.warn(msg, category=FutureWarning)\n"
          ]
        },
        {
          "output_type": "display_data",
          "data": {
            "text/plain": [
              "<Figure size 432x288 with 2 Axes>"
            ],
            "image/png": "[encoded data removed]"
          },
          "metadata": {
            "needs_background": "light"
          }
        },
        {
          "output_type": "stream",
          "name": "stdout",
          "text": [
            "\n",
            "\n",
            "XG BOOST CLASSIFIER\n",
            "Accuracy: 0.969 \tPrecision: 0.969 \tRecall: 0.969 \t F1 Score: 0.969\n"
          ]
        },
        {
          "output_type": "stream",
          "name": "stderr",
          "text": [
            "/usr/local/lib/python3.7/dist-packages/sklearn/utils/deprecation.py:87: FutureWarning: Function plot_confusion_matrix is deprecated; Function `plot_confusion_matrix` is deprecated in 1.0 and will be removed in 1.2. Use one of the class methods: ConfusionMatrixDisplay.from_predictions or ConfusionMatrixDisplay.from_estimator.\n",
            "  warnings.warn(msg, category=FutureWarning)\n"
          ]
        },
        {
          "output_type": "display_data",
          "data": {
            "text/plain": [
              "<Figure size 432x288 with 2 Axes>"
            ],
            "image/png": "[encoded data removed]"
          },
          "metadata": {
            "needs_background": "light"
          }
        },
        {
          "output_type": "stream",
          "name": "stdout",
          "text": [
            "\n",
            "\n",
            "CAT BOOST CLASSIFIER\n",
            "Accuracy: 0.969 \tPrecision: 0.969 \tRecall: 0.969 \t F1 Score: 0.969\n"
          ]
        },
        {
          "output_type": "stream",
          "name": "stderr",
          "text": [
            "/usr/local/lib/python3.7/dist-packages/sklearn/utils/deprecation.py:87: FutureWarning: Function plot_confusion_matrix is deprecated; Function `plot_confusion_matrix` is deprecated in 1.0 and will be removed in 1.2. Use one of the class methods: ConfusionMatrixDisplay.from_predictions or ConfusionMatrixDisplay.from_estimator.\n",
            "  warnings.warn(msg, category=FutureWarning)\n"
          ]
        },
        {
          "output_type": "display_data",
          "data": {
            "text/plain": [
              "<Figure size 432x288 with 2 Axes>"
            ],
            "image/png": "[encoded data removed]"
          },
          "metadata": {
            "needs_background": "light"
          }
        }
      ]
    },
    {
      "cell_type": "markdown",
      "source": [
        "# EM CLUSTERING AND THEN CLASSIFICATIONS WITH ADDING THE LABELS AS FEATURES"
      ],
      "metadata": {
        "id": "GLfVF5rbmB2S"
      }
    },
    {
      "cell_type": "code",
      "source": [
        "clust(X_train).EMClust(output='add').classify_logreg()\n",
        "clust(X_train).EMClust(output='add').classify_nb()\n",
        "clust(X_train).EMClust(output='add').classify_knn()\n",
        "clust(X_train).EMClust(output='add').classify_rf()\n",
        "clust(X_train).EMClust(output='add').classify_xg()\n",
        "clust(X_train).EMClust(output='add').classify_cat()"
      ],
      "metadata": {
        "colab": {
          "base_uri": "https://localhost:8080/",
          "height": 1000
        },
        "id": "nHo4qJRhlGyL",
        "outputId": "2a1b2f99-7226-477b-9055-cea918922ccf"
      },
      "execution_count": null,
      "outputs": [
        {
          "output_type": "stream",
          "name": "stderr",
          "text": [
            "/usr/local/lib/python3.7/dist-packages/sklearn/utils/validation.py:1692: FutureWarning: Feature names only support names that are all strings. Got feature names with dtypes: ['int', 'str']. An error will be raised in 1.2.\n",
            "  FutureWarning,\n",
            "/usr/local/lib/python3.7/dist-packages/sklearn/utils/validation.py:1692: FutureWarning: Feature names only support names that are all strings. Got feature names with dtypes: ['int', 'str']. An error will be raised in 1.2.\n",
            "  FutureWarning,\n",
            "/usr/local/lib/python3.7/dist-packages/sklearn/utils/deprecation.py:87: FutureWarning: Function plot_confusion_matrix is deprecated; Function `plot_confusion_matrix` is deprecated in 1.0 and will be removed in 1.2. Use one of the class methods: ConfusionMatrixDisplay.from_predictions or ConfusionMatrixDisplay.from_estimator.\n",
            "  warnings.warn(msg, category=FutureWarning)\n",
            "/usr/local/lib/python3.7/dist-packages/sklearn/utils/validation.py:1692: FutureWarning: Feature names only support names that are all strings. Got feature names with dtypes: ['int', 'str']. An error will be raised in 1.2.\n",
            "  FutureWarning,\n"
          ]
        },
        {
          "output_type": "stream",
          "name": "stdout",
          "text": [
            "\n",
            "\n",
            "LOGISTIC REGRESSION CLASSIFIER\n",
            "Accuracy: 0.969 \tPrecision: 0.971 \tRecall: 0.969 \t F1 Score: 0.969\n"
          ]
        },
        {
          "output_type": "display_data",
          "data": {
            "text/plain": [
              "<Figure size 432x288 with 2 Axes>"
            ],
            "image/png": "[encoded data removed]"
          },
          "metadata": {
            "needs_background": "light"
          }
        },
        {
          "output_type": "stream",
          "name": "stderr",
          "text": [
            "/usr/local/lib/python3.7/dist-packages/sklearn/utils/validation.py:1692: FutureWarning: Feature names only support names that are all strings. Got feature names with dtypes: ['int', 'str']. An error will be raised in 1.2.\n",
            "  FutureWarning,\n",
            "/usr/local/lib/python3.7/dist-packages/sklearn/utils/validation.py:1692: FutureWarning: Feature names only support names that are all strings. Got feature names with dtypes: ['int', 'str']. An error will be raised in 1.2.\n",
            "  FutureWarning,\n",
            "/usr/local/lib/python3.7/dist-packages/sklearn/utils/deprecation.py:87: FutureWarning: Function plot_confusion_matrix is deprecated; Function `plot_confusion_matrix` is deprecated in 1.0 and will be removed in 1.2. Use one of the class methods: ConfusionMatrixDisplay.from_predictions or ConfusionMatrixDisplay.from_estimator.\n",
            "  warnings.warn(msg, category=FutureWarning)\n",
            "/usr/local/lib/python3.7/dist-packages/sklearn/utils/validation.py:1692: FutureWarning: Feature names only support names that are all strings. Got feature names with dtypes: ['int', 'str']. An error will be raised in 1.2.\n",
            "  FutureWarning,\n"
          ]
        },
        {
          "output_type": "stream",
          "name": "stdout",
          "text": [
            "\n",
            "\n",
            "NAIVE BAYES CLASSIFIER\n",
            "Accuracy: 0.906 \tPrecision: 0.913 \tRecall: 0.906 \t F1 Score: 0.906\n"
          ]
        },
        {
          "output_type": "display_data",
          "data": {
            "text/plain": [
              "<Figure size 432x288 with 2 Axes>"
            ],
            "image/png": "[encoded data removed]"
          },
          "metadata": {
            "needs_background": "light"
          }
        },
        {
          "output_type": "stream",
          "name": "stderr",
          "text": [
            "/usr/local/lib/python3.7/dist-packages/sklearn/utils/validation.py:1692: FutureWarning: Feature names only support names that are all strings. Got feature names with dtypes: ['int', 'str']. An error will be raised in 1.2.\n",
            "  FutureWarning,\n",
            "/usr/local/lib/python3.7/dist-packages/sklearn/utils/validation.py:1692: FutureWarning: Feature names only support names that are all strings. Got feature names with dtypes: ['int', 'str']. An error will be raised in 1.2.\n",
            "  FutureWarning,\n",
            "/usr/local/lib/python3.7/dist-packages/sklearn/utils/deprecation.py:87: FutureWarning: Function plot_confusion_matrix is deprecated; Function `plot_confusion_matrix` is deprecated in 1.0 and will be removed in 1.2. Use one of the class methods: ConfusionMatrixDisplay.from_predictions or ConfusionMatrixDisplay.from_estimator.\n",
            "  warnings.warn(msg, category=FutureWarning)\n",
            "/usr/local/lib/python3.7/dist-packages/sklearn/utils/validation.py:1692: FutureWarning: Feature names only support names that are all strings. Got feature names with dtypes: ['int', 'str']. An error will be raised in 1.2.\n",
            "  FutureWarning,\n"
          ]
        },
        {
          "output_type": "stream",
          "name": "stdout",
          "text": [
            "\n",
            "\n",
            "KNN CLASSIFIER\n",
            "Accuracy: 0.953 \tPrecision: 0.954 \tRecall: 0.953 \t F1 Score: 0.953\n"
          ]
        },
        {
          "output_type": "display_data",
          "data": {
            "text/plain": [
              "<Figure size 432x288 with 2 Axes>"
            ],
            "image/png": "[encoded data removed]"
          },
          "metadata": {
            "needs_background": "light"
          }
        },
        {
          "output_type": "stream",
          "name": "stderr",
          "text": [
            "/usr/local/lib/python3.7/dist-packages/sklearn/utils/validation.py:1692: FutureWarning: Feature names only support names that are all strings. Got feature names with dtypes: ['int', 'str']. An error will be raised in 1.2.\n",
            "  FutureWarning,\n",
            "/usr/local/lib/python3.7/dist-packages/sklearn/utils/validation.py:1692: FutureWarning: Feature names only support names that are all strings. Got feature names with dtypes: ['int', 'str']. An error will be raised in 1.2.\n",
            "  FutureWarning,\n",
            "/usr/local/lib/python3.7/dist-packages/sklearn/utils/deprecation.py:87: FutureWarning: Function plot_confusion_matrix is deprecated; Function `plot_confusion_matrix` is deprecated in 1.0 and will be removed in 1.2. Use one of the class methods: ConfusionMatrixDisplay.from_predictions or ConfusionMatrixDisplay.from_estimator.\n",
            "  warnings.warn(msg, category=FutureWarning)\n",
            "/usr/local/lib/python3.7/dist-packages/sklearn/utils/validation.py:1692: FutureWarning: Feature names only support names that are all strings. Got feature names with dtypes: ['int', 'str']. An error will be raised in 1.2.\n",
            "  FutureWarning,\n"
          ]
        },
        {
          "output_type": "stream",
          "name": "stdout",
          "text": [
            "\n",
            "\n",
            "RANDOM FOREST CLASSIFIER\n",
            "Accuracy: 0.984 \tPrecision: 0.985 \tRecall: 0.984 \t F1 Score: 0.984\n"
          ]
        },
        {
          "output_type": "display_data",
          "data": {
            "text/plain": [
              "<Figure size 432x288 with 2 Axes>"
            ],
            "image/png": "[encoded data removed]"
          },
          "metadata": {
            "needs_background": "light"
          }
        },
        {
          "output_type": "stream",
          "name": "stdout",
          "text": [
            "\n",
            "\n",
            "XG BOOST CLASSIFIER\n",
            "Accuracy: 0.969 \tPrecision: 0.969 \tRecall: 0.969 \t F1 Score: 0.969\n"
          ]
        },
        {
          "output_type": "stream",
          "name": "stderr",
          "text": [
            "/usr/local/lib/python3.7/dist-packages/sklearn/utils/deprecation.py:87: FutureWarning: Function plot_confusion_matrix is deprecated; Function `plot_confusion_matrix` is deprecated in 1.0 and will be removed in 1.2. Use one of the class methods: ConfusionMatrixDisplay.from_predictions or ConfusionMatrixDisplay.from_estimator.\n",
            "  warnings.warn(msg, category=FutureWarning)\n"
          ]
        },
        {
          "output_type": "display_data",
          "data": {
            "text/plain": [
              "<Figure size 432x288 with 2 Axes>"
            ],
            "image/png": "[encoded data removed]"
          },
          "metadata": {
            "needs_background": "light"
          }
        },
        {
          "output_type": "stream",
          "name": "stdout",
          "text": [
            "\n",
            "\n",
            "CAT BOOST CLASSIFIER\n",
            "Accuracy: 0.984 \tPrecision: 0.985 \tRecall: 0.984 \t F1 Score: 0.984\n"
          ]
        },
        {
          "output_type": "stream",
          "name": "stderr",
          "text": [
            "/usr/local/lib/python3.7/dist-packages/sklearn/utils/deprecation.py:87: FutureWarning: Function plot_confusion_matrix is deprecated; Function `plot_confusion_matrix` is deprecated in 1.0 and will be removed in 1.2. Use one of the class methods: ConfusionMatrixDisplay.from_predictions or ConfusionMatrixDisplay.from_estimator.\n",
            "  warnings.warn(msg, category=FutureWarning)\n"
          ]
        },
        {
          "output_type": "display_data",
          "data": {
            "text/plain": [
              "<Figure size 432x288 with 2 Axes>"
            ],
            "image/png": "[encoded data removed]"
          },
          "metadata": {
            "needs_background": "light"
          }
        }
      ]
    },
    {
      "cell_type": "markdown",
      "source": [
        "# DB SCAN"
      ],
      "metadata": {
        "id": "sSSCU9Ytmh8r"
      }
    },
    {
      "cell_type": "code",
      "source": [
        "import numpy as np\n",
        "import pandas as pd\n",
        "from sklearn.model_selection import train_test_split\n",
        "from sklearn.linear_model import LogisticRegression\n",
        "\n",
        "from sklearn.cluster import KMeans\n",
        "from sklearn.cluster import DBSCAN\n",
        "from sklearn.mixture import GaussianMixture\n",
        "\n",
        "\n",
        "from sklearn.metrics import accuracy_score\n",
        "from sklearn.ensemble import RandomForestClassifier\n",
        "from sklearn.naive_bayes import GaussianNB\n",
        "from sklearn.neighbors import KNeighborsClassifier\n",
        "from sklearn.ensemble import GradientBoostingClassifier\n",
        "from xgboost import XGBClassifier\n",
        "from catboost import CatBoostClassifier\n",
        "import matplotlib.pyplot as plt\n",
        "from sklearn.metrics import plot_confusion_matrix\n",
        "\n",
        "\n",
        "class clust():\n",
        "    def _load_data(self, sklearn_load_ds):\n",
        "        data = sklearn_load_ds\n",
        "        # X = pd.DataFrame(data.data)\n",
        "        # X = data\n",
        "        self.X_train, self.X_test, self.y_train, self.y_test = train_test_split(final_X_train, y_train, test_size=0.2, random_state=42)\n",
        "        \n",
        "        \n",
        "    def __init__(self, sklearn_load_ds):\n",
        "        self._load_data(sklearn_load_ds)\n",
        "    \n",
        "    # Logistic Regression\n",
        "    def classify_logreg(self, model=LogisticRegression(random_state=42)):\n",
        "        model.fit(self.X_train, self.y_train)\n",
        "        y_pred = model.predict(self.X_test)\n",
        "        print(\"\\n\\nLOGISTIC REGRESSION CLASSIFIER\")\n",
        "        print('Accuracy: {}'.format(accuracy_score(self.y_test, y_pred)))\n",
        "        plot_confusion_matrix(model, self.X_test, self.y_test)  \n",
        "        plt.show()\n",
        "\n",
        "    # Naive Bayes\n",
        "    def classify_nb(self, model=GaussianNB()):\n",
        "        model.fit(self.X_train, self.y_train)\n",
        "        y_pred = model.predict(self.X_test)\n",
        "        print(\"\\n\\nNAIVE BAYES CLASSIFIER\")\n",
        "        print('Accuracy: {}'.format(accuracy_score(self.y_test, y_pred)))\n",
        "        plot_confusion_matrix(model, self.X_test, self.y_test)  \n",
        "        plt.show()\n",
        "\n",
        "    # KNN \n",
        "    def classify_knn(self, model=KNeighborsClassifier(n_neighbors=5)):\n",
        "        model.fit(self.X_train, self.y_train)\n",
        "        y_pred = model.predict(self.X_test)\n",
        "        print(\"\\n\\nKNN CLASSIFIER\")\n",
        "        print('Accuracy: {}'.format(accuracy_score(self.y_test, y_pred)))\n",
        "        plot_confusion_matrix(model, self.X_test, self.y_test)  \n",
        "        plt.show()\n",
        "\n",
        "    # Random Forest \n",
        "    def classify_rf(self, model=RandomForestClassifier(max_depth=2, random_state=0)):\n",
        "        model.fit(self.X_train, self.y_train)\n",
        "        y_pred = model.predict(self.X_test)\n",
        "        print(\"\\n\\nRANDOM FOREST CLASSIFIER\")\n",
        "        print('Accuracy: {}'.format(accuracy_score(self.y_test, y_pred)))\n",
        "        plot_confusion_matrix(model, self.X_test, self.y_test)  \n",
        "        plt.show()\n",
        "\n",
        "    # XG Boost \n",
        "    def classify_xg(self, model=XGBClassifier()):\n",
        "        model.fit(self.X_train, self.y_train)\n",
        "        y_pred = model.predict(self.X_test)\n",
        "        print(\"\\n\\nXG BOOST CLASSIFIER\")\n",
        "        print('Accuracy: {}'.format(accuracy_score(self.y_test, y_pred)))\n",
        "        plot_confusion_matrix(model, self.X_test, self.y_test)  \n",
        "        plt.show()\n",
        "\n",
        "    # Cat Boost\n",
        "    def classify_cat(self, model=CatBoostClassifier(verbose=0, n_estimators=100)):\n",
        "        model.fit(self.X_train, self.y_train)\n",
        "        y_pred = model.predict(self.X_test)\n",
        "        print(\"\\n\\nCAT BOOST CLASSIFIER\")\n",
        "        print('Accuracy: {}'.format(accuracy_score(self.y_test, y_pred)))\n",
        "        plot_confusion_matrix(model, self.X_test, self.y_test)  \n",
        "        plt.show()\n",
        "\n",
        "\n",
        "    def Kmeans(self, output='add'):\n",
        "        n_clusters = len(np.unique(self.y_train))\n",
        "        clf = KMeans(n_clusters = n_clusters, random_state=42)\n",
        "        clf.fit(self.X_train)\n",
        "        y_labels_train = clf.labels_\n",
        "        y_labels_test = clf.predict(self.X_test)\n",
        "\n",
        "        # print(self.X_train['clust'])\n",
        "\n",
        "        if output == 'add':\n",
        "            self.X_train['km_clust'] = y_labels_train\n",
        "            self.X_test['km_clust'] = y_labels_test\n",
        "        elif output == 'replace':\n",
        "            self.X_train = y_labels_train[:, np.newaxis]\n",
        "            self.X_test = y_labels_test[:, np.newaxis]\n",
        "        else:\n",
        "            raise ValueError('output should be either add or replace')\n",
        "        return self\n",
        "\n",
        "    def DBscan(self, output='add'):\n",
        "        epsilon = 0.5\n",
        "        minimumSamples = 5\n",
        "        db = DBSCAN(eps=epsilon, min_samples=minimumSamples).fit(self.X_train)\n",
        "        y_labels_train = db.labels_\n",
        "        \n",
        "        # print(y_labels_train)\n",
        "\n",
        "        epsilon = 0.5\n",
        "        minimumSamples = 5\n",
        "        db = DBSCAN(eps=epsilon, min_samples=minimumSamples).fit(self.X_test)\n",
        "        y_labels_test = db.labels_\n",
        "        \n",
        "        # print(y_labels_test)\n",
        "\n",
        "        if output == 'add':\n",
        "            self.X_train['km_clust'] = y_labels_train\n",
        "            self.X_test['km_clust'] = y_labels_test\n",
        "        elif output == 'replace':\n",
        "            self.X_train = y_labels_train[:, np.newaxis]\n",
        "            self.X_test = y_labels_test[:, np.newaxis]\n",
        "        else:\n",
        "            raise ValueError('output should be either add or replace')\n",
        "        return self\n",
        "      \n",
        "    "
      ],
      "metadata": {
        "id": "ZbUwACVWlXKR"
      },
      "execution_count": null,
      "outputs": []
    },
    {
      "cell_type": "code",
      "source": [
        "clust(X_train).DBscan(output='replace').classify_logreg()\n",
        "clust(X_train).DBscan(output='replace').classify_nb()\n",
        "clust(X_train).DBscan(output='replace').classify_knn()\n",
        "clust(X_train).DBscan(output='replace').classify_rf()\n",
        "clust(X_train).DBscan(output='replace').classify_xg()\n",
        "clust(X_train).DBscan(output='replace').classify_cat()"
      ],
      "metadata": {
        "colab": {
          "base_uri": "https://localhost:8080/",
          "height": 1000
        },
        "id": "08XtOiyemkAm",
        "outputId": "0818cbaa-3c2d-4bf7-ad29-c8cf1c69e794"
      },
      "execution_count": null,
      "outputs": [
        {
          "output_type": "stream",
          "name": "stdout",
          "text": [
            "\n",
            "\n",
            "LOGISTIC REGRESSION CLASSIFIER\n",
            "Accuracy: 0.78125\n"
          ]
        },
        {
          "output_type": "stream",
          "name": "stderr",
          "text": [
            "/usr/local/lib/python3.7/dist-packages/sklearn/utils/deprecation.py:87: FutureWarning: Function plot_confusion_matrix is deprecated; Function `plot_confusion_matrix` is deprecated in 1.0 and will be removed in 1.2. Use one of the class methods: ConfusionMatrixDisplay.from_predictions or ConfusionMatrixDisplay.from_estimator.\n",
            "  warnings.warn(msg, category=FutureWarning)\n"
          ]
        },
        {
          "output_type": "display_data",
          "data": {
            "text/plain": [
              "<Figure size 432x288 with 2 Axes>"
            ],
            "image/png": "[encoded data removed]"
          },
          "metadata": {
            "needs_background": "light"
          }
        },
        {
          "output_type": "stream",
          "name": "stdout",
          "text": [
            "\n",
            "\n",
            "NAIVE BAYES CLASSIFIER\n",
            "Accuracy: 0.78125\n"
          ]
        },
        {
          "output_type": "stream",
          "name": "stderr",
          "text": [
            "/usr/local/lib/python3.7/dist-packages/sklearn/utils/deprecation.py:87: FutureWarning: Function plot_confusion_matrix is deprecated; Function `plot_confusion_matrix` is deprecated in 1.0 and will be removed in 1.2. Use one of the class methods: ConfusionMatrixDisplay.from_predictions or ConfusionMatrixDisplay.from_estimator.\n",
            "  warnings.warn(msg, category=FutureWarning)\n"
          ]
        },
        {
          "output_type": "display_data",
          "data": {
            "text/plain": [
              "<Figure size 432x288 with 2 Axes>"
            ],
            "image/png": "[encoded data removed]"
          },
          "metadata": {
            "needs_background": "light"
          }
        },
        {
          "output_type": "stream",
          "name": "stdout",
          "text": [
            "\n",
            "\n",
            "KNN CLASSIFIER\n",
            "Accuracy: 0.78125\n"
          ]
        },
        {
          "output_type": "stream",
          "name": "stderr",
          "text": [
            "/usr/local/lib/python3.7/dist-packages/sklearn/utils/deprecation.py:87: FutureWarning: Function plot_confusion_matrix is deprecated; Function `plot_confusion_matrix` is deprecated in 1.0 and will be removed in 1.2. Use one of the class methods: ConfusionMatrixDisplay.from_predictions or ConfusionMatrixDisplay.from_estimator.\n",
            "  warnings.warn(msg, category=FutureWarning)\n"
          ]
        },
        {
          "output_type": "display_data",
          "data": {
            "text/plain": [
              "<Figure size 432x288 with 2 Axes>"
            ],
            "image/png": "[encoded data removed]"
          },
          "metadata": {
            "needs_background": "light"
          }
        },
        {
          "output_type": "stream",
          "name": "stdout",
          "text": [
            "\n",
            "\n",
            "RANDOM FOREST CLASSIFIER\n",
            "Accuracy: 0.78125\n"
          ]
        },
        {
          "output_type": "stream",
          "name": "stderr",
          "text": [
            "/usr/local/lib/python3.7/dist-packages/sklearn/utils/deprecation.py:87: FutureWarning: Function plot_confusion_matrix is deprecated; Function `plot_confusion_matrix` is deprecated in 1.0 and will be removed in 1.2. Use one of the class methods: ConfusionMatrixDisplay.from_predictions or ConfusionMatrixDisplay.from_estimator.\n",
            "  warnings.warn(msg, category=FutureWarning)\n"
          ]
        },
        {
          "output_type": "display_data",
          "data": {
            "text/plain": [
              "<Figure size 432x288 with 2 Axes>"
            ],
            "image/png": "[encoded data removed]"
          },
          "metadata": {
            "needs_background": "light"
          }
        },
        {
          "output_type": "stream",
          "name": "stdout",
          "text": [
            "\n",
            "\n",
            "XG BOOST CLASSIFIER\n",
            "Accuracy: 0.78125\n"
          ]
        },
        {
          "output_type": "stream",
          "name": "stderr",
          "text": [
            "/usr/local/lib/python3.7/dist-packages/sklearn/utils/deprecation.py:87: FutureWarning: Function plot_confusion_matrix is deprecated; Function `plot_confusion_matrix` is deprecated in 1.0 and will be removed in 1.2. Use one of the class methods: ConfusionMatrixDisplay.from_predictions or ConfusionMatrixDisplay.from_estimator.\n",
            "  warnings.warn(msg, category=FutureWarning)\n"
          ]
        },
        {
          "output_type": "display_data",
          "data": {
            "text/plain": [
              "<Figure size 432x288 with 2 Axes>"
            ],
            "image/png": "[encoded data removed]"
          },
          "metadata": {
            "needs_background": "light"
          }
        },
        {
          "output_type": "stream",
          "name": "stdout",
          "text": [
            "\n",
            "\n",
            "CAT BOOST CLASSIFIER\n",
            "Accuracy: 0.78125\n"
          ]
        },
        {
          "output_type": "stream",
          "name": "stderr",
          "text": [
            "/usr/local/lib/python3.7/dist-packages/sklearn/utils/deprecation.py:87: FutureWarning: Function plot_confusion_matrix is deprecated; Function `plot_confusion_matrix` is deprecated in 1.0 and will be removed in 1.2. Use one of the class methods: ConfusionMatrixDisplay.from_predictions or ConfusionMatrixDisplay.from_estimator.\n",
            "  warnings.warn(msg, category=FutureWarning)\n"
          ]
        },
        {
          "output_type": "display_data",
          "data": {
            "text/plain": [
              "<Figure size 432x288 with 2 Axes>"
            ],
            "image/png": "[encoded data removed]"
          },
          "metadata": {
            "needs_background": "light"
          }
        }
      ]
    },
    {
      "cell_type": "code",
      "source": [
        "clust(X_train).DBscan(output='add').classify_logreg()\n",
        "clust(X_train).DBscan(output='add').classify_nb()\n",
        "clust(X_train).DBscan(output='add').classify_knn()\n",
        "clust(X_train).DBscan(output='add').classify_rf()\n",
        "clust(X_train).DBscan(output='add').classify_xg()\n",
        "clust(X_train).DBscan(output='add').classify_cat()"
      ],
      "metadata": {
        "id": "XgVTK7qumogC",
        "colab": {
          "base_uri": "https://localhost:8080/",
          "height": 1000
        },
        "outputId": "a82ba53f-a37d-41b3-842c-b50c39535768"
      },
      "execution_count": null,
      "outputs": [
        {
          "output_type": "stream",
          "name": "stderr",
          "text": [
            "/usr/local/lib/python3.7/dist-packages/sklearn/utils/validation.py:1692: FutureWarning: Feature names only support names that are all strings. Got feature names with dtypes: ['int', 'str']. An error will be raised in 1.2.\n",
            "  FutureWarning,\n",
            "/usr/local/lib/python3.7/dist-packages/sklearn/utils/validation.py:1692: FutureWarning: Feature names only support names that are all strings. Got feature names with dtypes: ['int', 'str']. An error will be raised in 1.2.\n",
            "  FutureWarning,\n",
            "/usr/local/lib/python3.7/dist-packages/sklearn/utils/deprecation.py:87: FutureWarning: Function plot_confusion_matrix is deprecated; Function `plot_confusion_matrix` is deprecated in 1.0 and will be removed in 1.2. Use one of the class methods: ConfusionMatrixDisplay.from_predictions or ConfusionMatrixDisplay.from_estimator.\n",
            "  warnings.warn(msg, category=FutureWarning)\n",
            "/usr/local/lib/python3.7/dist-packages/sklearn/utils/validation.py:1692: FutureWarning: Feature names only support names that are all strings. Got feature names with dtypes: ['int', 'str']. An error will be raised in 1.2.\n",
            "  FutureWarning,\n"
          ]
        },
        {
          "output_type": "stream",
          "name": "stdout",
          "text": [
            "\n",
            "\n",
            "LOGISTIC REGRESSION CLASSIFIER\n",
            "Accuracy: 0.96875\n"
          ]
        },
        {
          "output_type": "display_data",
          "data": {
            "text/plain": [
              "<Figure size 432x288 with 2 Axes>"
            ],
            "image/png": "[encoded data removed]"
          },
          "metadata": {
            "needs_background": "light"
          }
        },
        {
          "output_type": "stream",
          "name": "stderr",
          "text": [
            "/usr/local/lib/python3.7/dist-packages/sklearn/utils/validation.py:1692: FutureWarning: Feature names only support names that are all strings. Got feature names with dtypes: ['int', 'str']. An error will be raised in 1.2.\n",
            "  FutureWarning,\n",
            "/usr/local/lib/python3.7/dist-packages/sklearn/utils/validation.py:1692: FutureWarning: Feature names only support names that are all strings. Got feature names with dtypes: ['int', 'str']. An error will be raised in 1.2.\n",
            "  FutureWarning,\n",
            "/usr/local/lib/python3.7/dist-packages/sklearn/utils/deprecation.py:87: FutureWarning: Function plot_confusion_matrix is deprecated; Function `plot_confusion_matrix` is deprecated in 1.0 and will be removed in 1.2. Use one of the class methods: ConfusionMatrixDisplay.from_predictions or ConfusionMatrixDisplay.from_estimator.\n",
            "  warnings.warn(msg, category=FutureWarning)\n",
            "/usr/local/lib/python3.7/dist-packages/sklearn/utils/validation.py:1692: FutureWarning: Feature names only support names that are all strings. Got feature names with dtypes: ['int', 'str']. An error will be raised in 1.2.\n",
            "  FutureWarning,\n"
          ]
        },
        {
          "output_type": "stream",
          "name": "stdout",
          "text": [
            "\n",
            "\n",
            "NAIVE BAYES CLASSIFIER\n",
            "Accuracy: 0.875\n"
          ]
        },
        {
          "output_type": "display_data",
          "data": {
            "text/plain": [
              "<Figure size 432x288 with 2 Axes>"
            ],
            "image/png": "[encoded data removed]"
          },
          "metadata": {
            "needs_background": "light"
          }
        },
        {
          "output_type": "stream",
          "name": "stderr",
          "text": [
            "/usr/local/lib/python3.7/dist-packages/sklearn/utils/validation.py:1692: FutureWarning: Feature names only support names that are all strings. Got feature names with dtypes: ['int', 'str']. An error will be raised in 1.2.\n",
            "  FutureWarning,\n",
            "/usr/local/lib/python3.7/dist-packages/sklearn/utils/validation.py:1692: FutureWarning: Feature names only support names that are all strings. Got feature names with dtypes: ['int', 'str']. An error will be raised in 1.2.\n",
            "  FutureWarning,\n",
            "/usr/local/lib/python3.7/dist-packages/sklearn/utils/deprecation.py:87: FutureWarning: Function plot_confusion_matrix is deprecated; Function `plot_confusion_matrix` is deprecated in 1.0 and will be removed in 1.2. Use one of the class methods: ConfusionMatrixDisplay.from_predictions or ConfusionMatrixDisplay.from_estimator.\n",
            "  warnings.warn(msg, category=FutureWarning)\n",
            "/usr/local/lib/python3.7/dist-packages/sklearn/utils/validation.py:1692: FutureWarning: Feature names only support names that are all strings. Got feature names with dtypes: ['int', 'str']. An error will be raised in 1.2.\n",
            "  FutureWarning,\n"
          ]
        },
        {
          "output_type": "stream",
          "name": "stdout",
          "text": [
            "\n",
            "\n",
            "KNN CLASSIFIER\n",
            "Accuracy: 0.984375\n"
          ]
        },
        {
          "output_type": "display_data",
          "data": {
            "text/plain": [
              "<Figure size 432x288 with 2 Axes>"
            ],
            "image/png": "[encoded data removed]"
          },
          "metadata": {
            "needs_background": "light"
          }
        },
        {
          "output_type": "stream",
          "name": "stderr",
          "text": [
            "/usr/local/lib/python3.7/dist-packages/sklearn/utils/validation.py:1692: FutureWarning: Feature names only support names that are all strings. Got feature names with dtypes: ['int', 'str']. An error will be raised in 1.2.\n",
            "  FutureWarning,\n",
            "/usr/local/lib/python3.7/dist-packages/sklearn/utils/validation.py:1692: FutureWarning: Feature names only support names that are all strings. Got feature names with dtypes: ['int', 'str']. An error will be raised in 1.2.\n",
            "  FutureWarning,\n",
            "/usr/local/lib/python3.7/dist-packages/sklearn/utils/deprecation.py:87: FutureWarning: Function plot_confusion_matrix is deprecated; Function `plot_confusion_matrix` is deprecated in 1.0 and will be removed in 1.2. Use one of the class methods: ConfusionMatrixDisplay.from_predictions or ConfusionMatrixDisplay.from_estimator.\n",
            "  warnings.warn(msg, category=FutureWarning)\n",
            "/usr/local/lib/python3.7/dist-packages/sklearn/utils/validation.py:1692: FutureWarning: Feature names only support names that are all strings. Got feature names with dtypes: ['int', 'str']. An error will be raised in 1.2.\n",
            "  FutureWarning,\n"
          ]
        },
        {
          "output_type": "stream",
          "name": "stdout",
          "text": [
            "\n",
            "\n",
            "RANDOM FOREST CLASSIFIER\n",
            "Accuracy: 1.0\n"
          ]
        },
        {
          "output_type": "display_data",
          "data": {
            "text/plain": [
              "<Figure size 432x288 with 2 Axes>"
            ],
            "image/png": "[encoded data removed]"
          },
          "metadata": {
            "needs_background": "light"
          }
        },
        {
          "output_type": "stream",
          "name": "stdout",
          "text": [
            "\n",
            "\n",
            "XG BOOST CLASSIFIER\n",
            "Accuracy: 1.0\n"
          ]
        },
        {
          "output_type": "stream",
          "name": "stderr",
          "text": [
            "/usr/local/lib/python3.7/dist-packages/sklearn/utils/deprecation.py:87: FutureWarning: Function plot_confusion_matrix is deprecated; Function `plot_confusion_matrix` is deprecated in 1.0 and will be removed in 1.2. Use one of the class methods: ConfusionMatrixDisplay.from_predictions or ConfusionMatrixDisplay.from_estimator.\n",
            "  warnings.warn(msg, category=FutureWarning)\n"
          ]
        },
        {
          "output_type": "display_data",
          "data": {
            "text/plain": [
              "<Figure size 432x288 with 2 Axes>"
            ],
            "image/png": "[encoded data removed]"
          },
          "metadata": {
            "needs_background": "light"
          }
        },
        {
          "output_type": "stream",
          "name": "stdout",
          "text": [
            "\n",
            "\n",
            "CAT BOOST CLASSIFIER\n",
            "Accuracy: 1.0\n"
          ]
        },
        {
          "output_type": "stream",
          "name": "stderr",
          "text": [
            "/usr/local/lib/python3.7/dist-packages/sklearn/utils/deprecation.py:87: FutureWarning: Function plot_confusion_matrix is deprecated; Function `plot_confusion_matrix` is deprecated in 1.0 and will be removed in 1.2. Use one of the class methods: ConfusionMatrixDisplay.from_predictions or ConfusionMatrixDisplay.from_estimator.\n",
            "  warnings.warn(msg, category=FutureWarning)\n"
          ]
        },
        {
          "output_type": "display_data",
          "data": {
            "text/plain": [
              "<Figure size 432x288 with 2 Axes>"
            ],
            "image/png": "[encoded data removed]"
          },
          "metadata": {
            "needs_background": "light"
          }
        }
      ]
    },
    {
      "cell_type": "code",
      "source": [],
      "metadata": {
        "id": "Yu-42A9duWYC"
      },
      "execution_count": null,
      "outputs": []
    }
  ]
}