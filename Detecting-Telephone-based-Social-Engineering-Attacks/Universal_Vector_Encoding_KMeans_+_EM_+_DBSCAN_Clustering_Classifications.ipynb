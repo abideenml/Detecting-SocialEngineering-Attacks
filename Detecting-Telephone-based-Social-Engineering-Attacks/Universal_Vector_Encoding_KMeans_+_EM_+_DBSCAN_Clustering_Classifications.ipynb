{
  "nbformat": 4,
  "nbformat_minor": 0,
  "metadata": {
    "colab": {
      "provenance": [],
      "collapsed_sections": []
    },
    "kernelspec": {
      "name": "python3",
      "display_name": "Python 3"
    },
    "language_info": {
      "name": "python"
    }
  },
  "cells": [
    {
      "cell_type": "markdown",
      "source": [
        "# Doc To Vec To K-Means"
      ],
      "metadata": {
        "id": "-_Cl_AYu6wbf"
      }
    },
    {
      "cell_type": "code",
      "source": [
        "from google.colab import drive\n",
        "drive.mount('/content/drive/')"
      ],
      "metadata": {
        "colab": {
          "base_uri": "https://localhost:8080/"
        },
        "id": "5QKxb760DtZr",
        "outputId": "c6b59c05-24ee-449b-c5b7-a51f0207f371"
      },
      "execution_count": null,
      "outputs": [
        {
          "output_type": "stream",
          "name": "stdout",
          "text": [
            "Mounted at /content/drive/\n"
          ]
        }
      ]
    },
    {
      "cell_type": "markdown",
      "source": [
        "## Combining all the spam and Non spam into single dataframe"
      ],
      "metadata": {
        "id": "n2zCHTYfDRj3"
      }
    },
    {
      "cell_type": "code",
      "source": [
        "import pickle\n",
        "import pandas as pd\n",
        "import numpy\n",
        "import re\n",
        "import os\n",
        "import glob\n",
        "import numpy as np\n",
        "import gensim\n",
        "from sklearn.cluster import KMeans\n",
        "from sklearn.decomposition import PCA\n",
        "from gensim.models import Doc2Vec"
      ],
      "metadata": {
        "id": "YwPOsneQ601W"
      },
      "execution_count": null,
      "outputs": []
    },
    {
      "cell_type": "code",
      "source": [
        "spam_path = \"/content/drive/MyDrive/Projects/Thuiraj/clean_spam/\"\n",
        "\n",
        "files = os.path.join(\"/content/drive/MyDrive/Projects/Thuiraj/clean_spam/\", \"*.csv\")\n",
        "\n",
        "files = glob.glob(files)\n",
        "\n",
        "\n",
        "df_spam = pd.concat(map(pd.read_csv, files), ignore_index=True)\n",
        "\n",
        "\n"
      ],
      "metadata": {
        "id": "bTj7H-lv7DAE"
      },
      "execution_count": null,
      "outputs": []
    },
    {
      "cell_type": "code",
      "source": [
        "# type(df_spam)\n",
        "\n",
        "labels_spam = []\n",
        "\n",
        "for i in range(len(df_spam.index)):\n",
        "  labels_spam.append(0)\n",
        "\n",
        "# labels_spam = pd.Series(labels_spam)\n",
        "# labels_spam"
      ],
      "metadata": {
        "id": "DEfG-41K2pJu"
      },
      "execution_count": null,
      "outputs": []
    },
    {
      "cell_type": "code",
      "source": [
        "# len(df_spam.index)\n",
        "df_spam = df_spam.assign(labels=labels_spam)\n",
        "\n",
        "# df_spam['0']\n",
        "\n"
      ],
      "metadata": {
        "id": "t_wzaJfTASkO"
      },
      "execution_count": null,
      "outputs": []
    },
    {
      "cell_type": "code",
      "source": [
        "df_spam"
      ],
      "metadata": {
        "colab": {
          "base_uri": "https://localhost:8080/",
          "height": 424
        },
        "id": "lH_EtzPbFMTp",
        "outputId": "64415f43-11ff-4167-845e-ff44748f92cc"
      },
      "execution_count": null,
      "outputs": [
        {
          "output_type": "execute_result",
          "data": {
            "text/plain": [
              "     Unnamed: 0                                                  0  labels\n",
              "0             0  Your social security number has been suspended...       0\n",
              "1             1                          Hello, is this Bob Smith?       0\n",
              "2             2  Hi. I’m a representative of the Social Securit...       0\n",
              "3             3  Hello Mr/Mrs. X, my name is Y and I work with ...       0\n",
              "4             4  I'm speaking from the Department of Homeland S...       0\n",
              "..          ...                                                ...     ...\n",
              "195          70  I can give you all the information that you ne...       0\n",
              "196          71  The truth, Mrs. Johnson, is that CDs are for s...       0\n",
              "197          72  Is Our information very clear? I can say lots ...       0\n",
              "198          73  Our information is very clear or not. I have p...       0\n",
              "199          74  have I done my job and our information is very...       0\n",
              "\n",
              "[200 rows x 3 columns]"
            ],
            "text/html": [
              "\n",
              "  <div id=\"df-8b49eae6-a3a6-47f0-a952-f5e4d615b385\">\n",
              "    <div class=\"colab-df-container\">\n",
              "      <div>\n",
              "<style scoped>\n",
              "    .dataframe tbody tr th:only-of-type {\n",
              "        vertical-align: middle;\n",
              "    }\n",
              "\n",
              "    .dataframe tbody tr th {\n",
              "        vertical-align: top;\n",
              "    }\n",
              "\n",
              "    .dataframe thead th {\n",
              "        text-align: right;\n",
              "    }\n",
              "</style>\n",
              "<table border=\"1\" class=\"dataframe\">\n",
              "  <thead>\n",
              "    <tr style=\"text-align: right;\">\n",
              "      <th></th>\n",
              "      <th>Unnamed: 0</th>\n",
              "      <th>0</th>\n",
              "      <th>labels</th>\n",
              "    </tr>\n",
              "  </thead>\n",
              "  <tbody>\n",
              "    <tr>\n",
              "      <th>0</th>\n",
              "      <td>0</td>\n",
              "      <td>Your social security number has been suspended...</td>\n",
              "      <td>0</td>\n",
              "    </tr>\n",
              "    <tr>\n",
              "      <th>1</th>\n",
              "      <td>1</td>\n",
              "      <td>Hello, is this Bob Smith?</td>\n",
              "      <td>0</td>\n",
              "    </tr>\n",
              "    <tr>\n",
              "      <th>2</th>\n",
              "      <td>2</td>\n",
              "      <td>Hi. I’m a representative of the Social Securit...</td>\n",
              "      <td>0</td>\n",
              "    </tr>\n",
              "    <tr>\n",
              "      <th>3</th>\n",
              "      <td>3</td>\n",
              "      <td>Hello Mr/Mrs. X, my name is Y and I work with ...</td>\n",
              "      <td>0</td>\n",
              "    </tr>\n",
              "    <tr>\n",
              "      <th>4</th>\n",
              "      <td>4</td>\n",
              "      <td>I'm speaking from the Department of Homeland S...</td>\n",
              "      <td>0</td>\n",
              "    </tr>\n",
              "    <tr>\n",
              "      <th>...</th>\n",
              "      <td>...</td>\n",
              "      <td>...</td>\n",
              "      <td>...</td>\n",
              "    </tr>\n",
              "    <tr>\n",
              "      <th>195</th>\n",
              "      <td>70</td>\n",
              "      <td>I can give you all the information that you ne...</td>\n",
              "      <td>0</td>\n",
              "    </tr>\n",
              "    <tr>\n",
              "      <th>196</th>\n",
              "      <td>71</td>\n",
              "      <td>The truth, Mrs. Johnson, is that CDs are for s...</td>\n",
              "      <td>0</td>\n",
              "    </tr>\n",
              "    <tr>\n",
              "      <th>197</th>\n",
              "      <td>72</td>\n",
              "      <td>Is Our information very clear? I can say lots ...</td>\n",
              "      <td>0</td>\n",
              "    </tr>\n",
              "    <tr>\n",
              "      <th>198</th>\n",
              "      <td>73</td>\n",
              "      <td>Our information is very clear or not. I have p...</td>\n",
              "      <td>0</td>\n",
              "    </tr>\n",
              "    <tr>\n",
              "      <th>199</th>\n",
              "      <td>74</td>\n",
              "      <td>have I done my job and our information is very...</td>\n",
              "      <td>0</td>\n",
              "    </tr>\n",
              "  </tbody>\n",
              "</table>\n",
              "<p>200 rows × 3 columns</p>\n",
              "</div>\n",
              "      <button class=\"colab-df-convert\" onclick=\"convertToInteractive('df-8b49eae6-a3a6-47f0-a952-f5e4d615b385')\"\n",
              "              title=\"Convert this dataframe to an interactive table.\"\n",
              "              style=\"display:none;\">\n",
              "        \n",
              "  <svg xmlns=\"http://www.w3.org/2000/svg\" height=\"24px\"viewBox=\"0 0 24 24\"\n",
              "       width=\"24px\">\n",
              "    <path d=\"M0 0h24v24H0V0z\" fill=\"none\"/>\n",
              "    <path d=\"M18.56 5.44l.94 2.06.94-2.06 2.06-.94-2.06-.94-.94-2.06-.94 2.06-2.06.94zm-11 1L8.5 8.5l.94-2.06 2.06-.94-2.06-.94L8.5 2.5l-.94 2.06-2.06.94zm10 10l.94 2.06.94-2.06 2.06-.94-2.06-.94-.94-2.06-.94 2.06-2.06.94z\"/><path d=\"M17.41 7.96l-1.37-1.37c-.4-.4-.92-.59-1.43-.59-.52 0-1.04.2-1.43.59L10.3 9.45l-7.72 7.72c-.78.78-.78 2.05 0 2.83L4 21.41c.39.39.9.59 1.41.59.51 0 1.02-.2 1.41-.59l7.78-7.78 2.81-2.81c.8-.78.8-2.07 0-2.86zM5.41 20L4 18.59l7.72-7.72 1.47 1.35L5.41 20z\"/>\n",
              "  </svg>\n",
              "      </button>\n",
              "      \n",
              "  <style>\n",
              "    .colab-df-container {\n",
              "      display:flex;\n",
              "      flex-wrap:wrap;\n",
              "      gap: 12px;\n",
              "    }\n",
              "\n",
              "    .colab-df-convert {\n",
              "      background-color: #E8F0FE;\n",
              "      border: none;\n",
              "      border-radius: 50%;\n",
              "      cursor: pointer;\n",
              "      display: none;\n",
              "      fill: #1967D2;\n",
              "      height: 32px;\n",
              "      padding: 0 0 0 0;\n",
              "      width: 32px;\n",
              "    }\n",
              "\n",
              "    .colab-df-convert:hover {\n",
              "      background-color: #E2EBFA;\n",
              "      box-shadow: 0px 1px 2px rgba(60, 64, 67, 0.3), 0px 1px 3px 1px rgba(60, 64, 67, 0.15);\n",
              "      fill: #174EA6;\n",
              "    }\n",
              "\n",
              "    [theme=dark] .colab-df-convert {\n",
              "      background-color: #3B4455;\n",
              "      fill: #D2E3FC;\n",
              "    }\n",
              "\n",
              "    [theme=dark] .colab-df-convert:hover {\n",
              "      background-color: #434B5C;\n",
              "      box-shadow: 0px 1px 3px 1px rgba(0, 0, 0, 0.15);\n",
              "      filter: drop-shadow(0px 1px 2px rgba(0, 0, 0, 0.3));\n",
              "      fill: #FFFFFF;\n",
              "    }\n",
              "  </style>\n",
              "\n",
              "      <script>\n",
              "        const buttonEl =\n",
              "          document.querySelector('#df-8b49eae6-a3a6-47f0-a952-f5e4d615b385 button.colab-df-convert');\n",
              "        buttonEl.style.display =\n",
              "          google.colab.kernel.accessAllowed ? 'block' : 'none';\n",
              "\n",
              "        async function convertToInteractive(key) {\n",
              "          const element = document.querySelector('#df-8b49eae6-a3a6-47f0-a952-f5e4d615b385');\n",
              "          const dataTable =\n",
              "            await google.colab.kernel.invokeFunction('convertToInteractive',\n",
              "                                                     [key], {});\n",
              "          if (!dataTable) return;\n",
              "\n",
              "          const docLinkHtml = 'Like what you see? Visit the ' +\n",
              "            '<a target=\"_blank\" href=https://colab.research.google.com/notebooks/data_table.ipynb>data table notebook</a>'\n",
              "            + ' to learn more about interactive tables.';\n",
              "          element.innerHTML = '';\n",
              "          dataTable['output_type'] = 'display_data';\n",
              "          await google.colab.output.renderOutput(dataTable, element);\n",
              "          const docLink = document.createElement('div');\n",
              "          docLink.innerHTML = docLinkHtml;\n",
              "          element.appendChild(docLink);\n",
              "        }\n",
              "      </script>\n",
              "    </div>\n",
              "  </div>\n",
              "  "
            ]
          },
          "metadata": {},
          "execution_count": 6
        }
      ]
    },
    {
      "cell_type": "code",
      "source": [
        "non_spam_path = \"/content/drive/MyDrive/Projects/Thuiraj/clean_non_spam/\"\n",
        "\n",
        "files = os.path.join(\"/content/drive/MyDrive/Projects/Thuiraj/clean_non_spam/\", \"*.csv\")\n",
        "\n",
        "files = glob.glob(files)\n",
        "\n",
        "df_non_spam = pd.concat(map(pd.read_csv, files), ignore_index=True)\n"
      ],
      "metadata": {
        "id": "CRtppfquBWq7"
      },
      "execution_count": null,
      "outputs": []
    },
    {
      "cell_type": "code",
      "source": [
        "df_non_spam = df_non_spam[:200]\n",
        "\n",
        "df_non_spam"
      ],
      "metadata": {
        "colab": {
          "base_uri": "https://localhost:8080/",
          "height": 424
        },
        "id": "xPvRd3jvCC-k",
        "outputId": "820f1bfb-c85f-45bd-826d-7fa5b5ca2981"
      },
      "execution_count": null,
      "outputs": [
        {
          "output_type": "execute_result",
          "data": {
            "text/plain": [
              "     Unnamed: 0                                             0\n",
              "0             0                                        solar \n",
              "1             1                                           mm \n",
              "2             2                                              \n",
              "3             3                              lipsmack anyway \n",
              "4             4                                          xxx \n",
              "..          ...                                           ...\n",
              "195         195                              lipsmack breath \n",
              "196         196   so I will be picking you up November first \n",
              "197         197                                  oh okay xxx \n",
              "198         198                            Three twenty five \n",
              "199         199                                          xxx \n",
              "\n",
              "[200 rows x 2 columns]"
            ],
            "text/html": [
              "\n",
              "  <div id=\"df-32083f5e-814c-4caf-a92a-a7c4580de546\">\n",
              "    <div class=\"colab-df-container\">\n",
              "      <div>\n",
              "<style scoped>\n",
              "    .dataframe tbody tr th:only-of-type {\n",
              "        vertical-align: middle;\n",
              "    }\n",
              "\n",
              "    .dataframe tbody tr th {\n",
              "        vertical-align: top;\n",
              "    }\n",
              "\n",
              "    .dataframe thead th {\n",
              "        text-align: right;\n",
              "    }\n",
              "</style>\n",
              "<table border=\"1\" class=\"dataframe\">\n",
              "  <thead>\n",
              "    <tr style=\"text-align: right;\">\n",
              "      <th></th>\n",
              "      <th>Unnamed: 0</th>\n",
              "      <th>0</th>\n",
              "    </tr>\n",
              "  </thead>\n",
              "  <tbody>\n",
              "    <tr>\n",
              "      <th>0</th>\n",
              "      <td>0</td>\n",
              "      <td>solar</td>\n",
              "    </tr>\n",
              "    <tr>\n",
              "      <th>1</th>\n",
              "      <td>1</td>\n",
              "      <td>mm</td>\n",
              "    </tr>\n",
              "    <tr>\n",
              "      <th>2</th>\n",
              "      <td>2</td>\n",
              "      <td></td>\n",
              "    </tr>\n",
              "    <tr>\n",
              "      <th>3</th>\n",
              "      <td>3</td>\n",
              "      <td>lipsmack anyway</td>\n",
              "    </tr>\n",
              "    <tr>\n",
              "      <th>4</th>\n",
              "      <td>4</td>\n",
              "      <td>xxx</td>\n",
              "    </tr>\n",
              "    <tr>\n",
              "      <th>...</th>\n",
              "      <td>...</td>\n",
              "      <td>...</td>\n",
              "    </tr>\n",
              "    <tr>\n",
              "      <th>195</th>\n",
              "      <td>195</td>\n",
              "      <td>lipsmack breath</td>\n",
              "    </tr>\n",
              "    <tr>\n",
              "      <th>196</th>\n",
              "      <td>196</td>\n",
              "      <td>so I will be picking you up November first</td>\n",
              "    </tr>\n",
              "    <tr>\n",
              "      <th>197</th>\n",
              "      <td>197</td>\n",
              "      <td>oh okay xxx</td>\n",
              "    </tr>\n",
              "    <tr>\n",
              "      <th>198</th>\n",
              "      <td>198</td>\n",
              "      <td>Three twenty five</td>\n",
              "    </tr>\n",
              "    <tr>\n",
              "      <th>199</th>\n",
              "      <td>199</td>\n",
              "      <td>xxx</td>\n",
              "    </tr>\n",
              "  </tbody>\n",
              "</table>\n",
              "<p>200 rows × 2 columns</p>\n",
              "</div>\n",
              "      <button class=\"colab-df-convert\" onclick=\"convertToInteractive('df-32083f5e-814c-4caf-a92a-a7c4580de546')\"\n",
              "              title=\"Convert this dataframe to an interactive table.\"\n",
              "              style=\"display:none;\">\n",
              "        \n",
              "  <svg xmlns=\"http://www.w3.org/2000/svg\" height=\"24px\"viewBox=\"0 0 24 24\"\n",
              "       width=\"24px\">\n",
              "    <path d=\"M0 0h24v24H0V0z\" fill=\"none\"/>\n",
              "    <path d=\"M18.56 5.44l.94 2.06.94-2.06 2.06-.94-2.06-.94-.94-2.06-.94 2.06-2.06.94zm-11 1L8.5 8.5l.94-2.06 2.06-.94-2.06-.94L8.5 2.5l-.94 2.06-2.06.94zm10 10l.94 2.06.94-2.06 2.06-.94-2.06-.94-.94-2.06-.94 2.06-2.06.94z\"/><path d=\"M17.41 7.96l-1.37-1.37c-.4-.4-.92-.59-1.43-.59-.52 0-1.04.2-1.43.59L10.3 9.45l-7.72 7.72c-.78.78-.78 2.05 0 2.83L4 21.41c.39.39.9.59 1.41.59.51 0 1.02-.2 1.41-.59l7.78-7.78 2.81-2.81c.8-.78.8-2.07 0-2.86zM5.41 20L4 18.59l7.72-7.72 1.47 1.35L5.41 20z\"/>\n",
              "  </svg>\n",
              "      </button>\n",
              "      \n",
              "  <style>\n",
              "    .colab-df-container {\n",
              "      display:flex;\n",
              "      flex-wrap:wrap;\n",
              "      gap: 12px;\n",
              "    }\n",
              "\n",
              "    .colab-df-convert {\n",
              "      background-color: #E8F0FE;\n",
              "      border: none;\n",
              "      border-radius: 50%;\n",
              "      cursor: pointer;\n",
              "      display: none;\n",
              "      fill: #1967D2;\n",
              "      height: 32px;\n",
              "      padding: 0 0 0 0;\n",
              "      width: 32px;\n",
              "    }\n",
              "\n",
              "    .colab-df-convert:hover {\n",
              "      background-color: #E2EBFA;\n",
              "      box-shadow: 0px 1px 2px rgba(60, 64, 67, 0.3), 0px 1px 3px 1px rgba(60, 64, 67, 0.15);\n",
              "      fill: #174EA6;\n",
              "    }\n",
              "\n",
              "    [theme=dark] .colab-df-convert {\n",
              "      background-color: #3B4455;\n",
              "      fill: #D2E3FC;\n",
              "    }\n",
              "\n",
              "    [theme=dark] .colab-df-convert:hover {\n",
              "      background-color: #434B5C;\n",
              "      box-shadow: 0px 1px 3px 1px rgba(0, 0, 0, 0.15);\n",
              "      filter: drop-shadow(0px 1px 2px rgba(0, 0, 0, 0.3));\n",
              "      fill: #FFFFFF;\n",
              "    }\n",
              "  </style>\n",
              "\n",
              "      <script>\n",
              "        const buttonEl =\n",
              "          document.querySelector('#df-32083f5e-814c-4caf-a92a-a7c4580de546 button.colab-df-convert');\n",
              "        buttonEl.style.display =\n",
              "          google.colab.kernel.accessAllowed ? 'block' : 'none';\n",
              "\n",
              "        async function convertToInteractive(key) {\n",
              "          const element = document.querySelector('#df-32083f5e-814c-4caf-a92a-a7c4580de546');\n",
              "          const dataTable =\n",
              "            await google.colab.kernel.invokeFunction('convertToInteractive',\n",
              "                                                     [key], {});\n",
              "          if (!dataTable) return;\n",
              "\n",
              "          const docLinkHtml = 'Like what you see? Visit the ' +\n",
              "            '<a target=\"_blank\" href=https://colab.research.google.com/notebooks/data_table.ipynb>data table notebook</a>'\n",
              "            + ' to learn more about interactive tables.';\n",
              "          element.innerHTML = '';\n",
              "          dataTable['output_type'] = 'display_data';\n",
              "          await google.colab.output.renderOutput(dataTable, element);\n",
              "          const docLink = document.createElement('div');\n",
              "          docLink.innerHTML = docLinkHtml;\n",
              "          element.appendChild(docLink);\n",
              "        }\n",
              "      </script>\n",
              "    </div>\n",
              "  </div>\n",
              "  "
            ]
          },
          "metadata": {},
          "execution_count": 8
        }
      ]
    },
    {
      "cell_type": "code",
      "source": [
        "\n",
        "labels_non_spam = []\n",
        "\n",
        "for i in range(len(df_non_spam.index)):\n",
        "  labels_non_spam.append(1)\n"
      ],
      "metadata": {
        "id": "G6R1SdxVFV3x"
      },
      "execution_count": null,
      "outputs": []
    },
    {
      "cell_type": "code",
      "source": [
        "df_non_spam = df_non_spam.assign(labels=labels_non_spam)\n"
      ],
      "metadata": {
        "id": "T8Uf_x-6FiR7"
      },
      "execution_count": null,
      "outputs": []
    },
    {
      "cell_type": "code",
      "source": [
        "df_non_spam"
      ],
      "metadata": {
        "colab": {
          "base_uri": "https://localhost:8080/",
          "height": 424
        },
        "id": "oQ4phWImFs6i",
        "outputId": "fd3a3284-f4dd-45da-ead4-c6fbe6b42ff9"
      },
      "execution_count": null,
      "outputs": [
        {
          "output_type": "execute_result",
          "data": {
            "text/plain": [
              "     Unnamed: 0                                             0  labels\n",
              "0             0                                        solar        1\n",
              "1             1                                           mm        1\n",
              "2             2                                                     1\n",
              "3             3                              lipsmack anyway        1\n",
              "4             4                                          xxx        1\n",
              "..          ...                                           ...     ...\n",
              "195         195                              lipsmack breath        1\n",
              "196         196   so I will be picking you up November first        1\n",
              "197         197                                  oh okay xxx        1\n",
              "198         198                            Three twenty five        1\n",
              "199         199                                          xxx        1\n",
              "\n",
              "[200 rows x 3 columns]"
            ],
            "text/html": [
              "\n",
              "  <div id=\"df-54629bdd-2916-42cb-9e6a-d205d9619af5\">\n",
              "    <div class=\"colab-df-container\">\n",
              "      <div>\n",
              "<style scoped>\n",
              "    .dataframe tbody tr th:only-of-type {\n",
              "        vertical-align: middle;\n",
              "    }\n",
              "\n",
              "    .dataframe tbody tr th {\n",
              "        vertical-align: top;\n",
              "    }\n",
              "\n",
              "    .dataframe thead th {\n",
              "        text-align: right;\n",
              "    }\n",
              "</style>\n",
              "<table border=\"1\" class=\"dataframe\">\n",
              "  <thead>\n",
              "    <tr style=\"text-align: right;\">\n",
              "      <th></th>\n",
              "      <th>Unnamed: 0</th>\n",
              "      <th>0</th>\n",
              "      <th>labels</th>\n",
              "    </tr>\n",
              "  </thead>\n",
              "  <tbody>\n",
              "    <tr>\n",
              "      <th>0</th>\n",
              "      <td>0</td>\n",
              "      <td>solar</td>\n",
              "      <td>1</td>\n",
              "    </tr>\n",
              "    <tr>\n",
              "      <th>1</th>\n",
              "      <td>1</td>\n",
              "      <td>mm</td>\n",
              "      <td>1</td>\n",
              "    </tr>\n",
              "    <tr>\n",
              "      <th>2</th>\n",
              "      <td>2</td>\n",
              "      <td></td>\n",
              "      <td>1</td>\n",
              "    </tr>\n",
              "    <tr>\n",
              "      <th>3</th>\n",
              "      <td>3</td>\n",
              "      <td>lipsmack anyway</td>\n",
              "      <td>1</td>\n",
              "    </tr>\n",
              "    <tr>\n",
              "      <th>4</th>\n",
              "      <td>4</td>\n",
              "      <td>xxx</td>\n",
              "      <td>1</td>\n",
              "    </tr>\n",
              "    <tr>\n",
              "      <th>...</th>\n",
              "      <td>...</td>\n",
              "      <td>...</td>\n",
              "      <td>...</td>\n",
              "    </tr>\n",
              "    <tr>\n",
              "      <th>195</th>\n",
              "      <td>195</td>\n",
              "      <td>lipsmack breath</td>\n",
              "      <td>1</td>\n",
              "    </tr>\n",
              "    <tr>\n",
              "      <th>196</th>\n",
              "      <td>196</td>\n",
              "      <td>so I will be picking you up November first</td>\n",
              "      <td>1</td>\n",
              "    </tr>\n",
              "    <tr>\n",
              "      <th>197</th>\n",
              "      <td>197</td>\n",
              "      <td>oh okay xxx</td>\n",
              "      <td>1</td>\n",
              "    </tr>\n",
              "    <tr>\n",
              "      <th>198</th>\n",
              "      <td>198</td>\n",
              "      <td>Three twenty five</td>\n",
              "      <td>1</td>\n",
              "    </tr>\n",
              "    <tr>\n",
              "      <th>199</th>\n",
              "      <td>199</td>\n",
              "      <td>xxx</td>\n",
              "      <td>1</td>\n",
              "    </tr>\n",
              "  </tbody>\n",
              "</table>\n",
              "<p>200 rows × 3 columns</p>\n",
              "</div>\n",
              "      <button class=\"colab-df-convert\" onclick=\"convertToInteractive('df-54629bdd-2916-42cb-9e6a-d205d9619af5')\"\n",
              "              title=\"Convert this dataframe to an interactive table.\"\n",
              "              style=\"display:none;\">\n",
              "        \n",
              "  <svg xmlns=\"http://www.w3.org/2000/svg\" height=\"24px\"viewBox=\"0 0 24 24\"\n",
              "       width=\"24px\">\n",
              "    <path d=\"M0 0h24v24H0V0z\" fill=\"none\"/>\n",
              "    <path d=\"M18.56 5.44l.94 2.06.94-2.06 2.06-.94-2.06-.94-.94-2.06-.94 2.06-2.06.94zm-11 1L8.5 8.5l.94-2.06 2.06-.94-2.06-.94L8.5 2.5l-.94 2.06-2.06.94zm10 10l.94 2.06.94-2.06 2.06-.94-2.06-.94-.94-2.06-.94 2.06-2.06.94z\"/><path d=\"M17.41 7.96l-1.37-1.37c-.4-.4-.92-.59-1.43-.59-.52 0-1.04.2-1.43.59L10.3 9.45l-7.72 7.72c-.78.78-.78 2.05 0 2.83L4 21.41c.39.39.9.59 1.41.59.51 0 1.02-.2 1.41-.59l7.78-7.78 2.81-2.81c.8-.78.8-2.07 0-2.86zM5.41 20L4 18.59l7.72-7.72 1.47 1.35L5.41 20z\"/>\n",
              "  </svg>\n",
              "      </button>\n",
              "      \n",
              "  <style>\n",
              "    .colab-df-container {\n",
              "      display:flex;\n",
              "      flex-wrap:wrap;\n",
              "      gap: 12px;\n",
              "    }\n",
              "\n",
              "    .colab-df-convert {\n",
              "      background-color: #E8F0FE;\n",
              "      border: none;\n",
              "      border-radius: 50%;\n",
              "      cursor: pointer;\n",
              "      display: none;\n",
              "      fill: #1967D2;\n",
              "      height: 32px;\n",
              "      padding: 0 0 0 0;\n",
              "      width: 32px;\n",
              "    }\n",
              "\n",
              "    .colab-df-convert:hover {\n",
              "      background-color: #E2EBFA;\n",
              "      box-shadow: 0px 1px 2px rgba(60, 64, 67, 0.3), 0px 1px 3px 1px rgba(60, 64, 67, 0.15);\n",
              "      fill: #174EA6;\n",
              "    }\n",
              "\n",
              "    [theme=dark] .colab-df-convert {\n",
              "      background-color: #3B4455;\n",
              "      fill: #D2E3FC;\n",
              "    }\n",
              "\n",
              "    [theme=dark] .colab-df-convert:hover {\n",
              "      background-color: #434B5C;\n",
              "      box-shadow: 0px 1px 3px 1px rgba(0, 0, 0, 0.15);\n",
              "      filter: drop-shadow(0px 1px 2px rgba(0, 0, 0, 0.3));\n",
              "      fill: #FFFFFF;\n",
              "    }\n",
              "  </style>\n",
              "\n",
              "      <script>\n",
              "        const buttonEl =\n",
              "          document.querySelector('#df-54629bdd-2916-42cb-9e6a-d205d9619af5 button.colab-df-convert');\n",
              "        buttonEl.style.display =\n",
              "          google.colab.kernel.accessAllowed ? 'block' : 'none';\n",
              "\n",
              "        async function convertToInteractive(key) {\n",
              "          const element = document.querySelector('#df-54629bdd-2916-42cb-9e6a-d205d9619af5');\n",
              "          const dataTable =\n",
              "            await google.colab.kernel.invokeFunction('convertToInteractive',\n",
              "                                                     [key], {});\n",
              "          if (!dataTable) return;\n",
              "\n",
              "          const docLinkHtml = 'Like what you see? Visit the ' +\n",
              "            '<a target=\"_blank\" href=https://colab.research.google.com/notebooks/data_table.ipynb>data table notebook</a>'\n",
              "            + ' to learn more about interactive tables.';\n",
              "          element.innerHTML = '';\n",
              "          dataTable['output_type'] = 'display_data';\n",
              "          await google.colab.output.renderOutput(dataTable, element);\n",
              "          const docLink = document.createElement('div');\n",
              "          docLink.innerHTML = docLinkHtml;\n",
              "          element.appendChild(docLink);\n",
              "        }\n",
              "      </script>\n",
              "    </div>\n",
              "  </div>\n",
              "  "
            ]
          },
          "metadata": {},
          "execution_count": 11
        }
      ]
    },
    {
      "cell_type": "code",
      "source": [
        "final_df = pd.concat([df_spam, df_non_spam], axis=0)\n",
        "\n",
        "final_df = final_df[['0','labels']]\n",
        "\n",
        "final_df = final_df.dropna()"
      ],
      "metadata": {
        "id": "tI1FPbucCFI1"
      },
      "execution_count": null,
      "outputs": []
    },
    {
      "cell_type": "code",
      "source": [
        "final_df"
      ],
      "metadata": {
        "colab": {
          "base_uri": "https://localhost:8080/",
          "height": 424
        },
        "id": "hBDzo3BJCY00",
        "outputId": "dd3c529d-c6d7-4d13-d0fa-4df75ec2da3f"
      },
      "execution_count": null,
      "outputs": [
        {
          "output_type": "execute_result",
          "data": {
            "text/plain": [
              "                                                     0  labels\n",
              "0    Your social security number has been suspended...       0\n",
              "1                            Hello, is this Bob Smith?       0\n",
              "2    Hi. I’m a representative of the Social Securit...       0\n",
              "3    Hello Mr/Mrs. X, my name is Y and I work with ...       0\n",
              "4    I'm speaking from the Department of Homeland S...       0\n",
              "..                                                 ...     ...\n",
              "195                                   lipsmack breath        1\n",
              "196        so I will be picking you up November first        1\n",
              "197                                       oh okay xxx        1\n",
              "198                                 Three twenty five        1\n",
              "199                                               xxx        1\n",
              "\n",
              "[400 rows x 2 columns]"
            ],
            "text/html": [
              "\n",
              "  <div id=\"df-d797dd6c-3488-44cf-a834-d04a9db49852\">\n",
              "    <div class=\"colab-df-container\">\n",
              "      <div>\n",
              "<style scoped>\n",
              "    .dataframe tbody tr th:only-of-type {\n",
              "        vertical-align: middle;\n",
              "    }\n",
              "\n",
              "    .dataframe tbody tr th {\n",
              "        vertical-align: top;\n",
              "    }\n",
              "\n",
              "    .dataframe thead th {\n",
              "        text-align: right;\n",
              "    }\n",
              "</style>\n",
              "<table border=\"1\" class=\"dataframe\">\n",
              "  <thead>\n",
              "    <tr style=\"text-align: right;\">\n",
              "      <th></th>\n",
              "      <th>0</th>\n",
              "      <th>labels</th>\n",
              "    </tr>\n",
              "  </thead>\n",
              "  <tbody>\n",
              "    <tr>\n",
              "      <th>0</th>\n",
              "      <td>Your social security number has been suspended...</td>\n",
              "      <td>0</td>\n",
              "    </tr>\n",
              "    <tr>\n",
              "      <th>1</th>\n",
              "      <td>Hello, is this Bob Smith?</td>\n",
              "      <td>0</td>\n",
              "    </tr>\n",
              "    <tr>\n",
              "      <th>2</th>\n",
              "      <td>Hi. I’m a representative of the Social Securit...</td>\n",
              "      <td>0</td>\n",
              "    </tr>\n",
              "    <tr>\n",
              "      <th>3</th>\n",
              "      <td>Hello Mr/Mrs. X, my name is Y and I work with ...</td>\n",
              "      <td>0</td>\n",
              "    </tr>\n",
              "    <tr>\n",
              "      <th>4</th>\n",
              "      <td>I'm speaking from the Department of Homeland S...</td>\n",
              "      <td>0</td>\n",
              "    </tr>\n",
              "    <tr>\n",
              "      <th>...</th>\n",
              "      <td>...</td>\n",
              "      <td>...</td>\n",
              "    </tr>\n",
              "    <tr>\n",
              "      <th>195</th>\n",
              "      <td>lipsmack breath</td>\n",
              "      <td>1</td>\n",
              "    </tr>\n",
              "    <tr>\n",
              "      <th>196</th>\n",
              "      <td>so I will be picking you up November first</td>\n",
              "      <td>1</td>\n",
              "    </tr>\n",
              "    <tr>\n",
              "      <th>197</th>\n",
              "      <td>oh okay xxx</td>\n",
              "      <td>1</td>\n",
              "    </tr>\n",
              "    <tr>\n",
              "      <th>198</th>\n",
              "      <td>Three twenty five</td>\n",
              "      <td>1</td>\n",
              "    </tr>\n",
              "    <tr>\n",
              "      <th>199</th>\n",
              "      <td>xxx</td>\n",
              "      <td>1</td>\n",
              "    </tr>\n",
              "  </tbody>\n",
              "</table>\n",
              "<p>400 rows × 2 columns</p>\n",
              "</div>\n",
              "      <button class=\"colab-df-convert\" onclick=\"convertToInteractive('df-d797dd6c-3488-44cf-a834-d04a9db49852')\"\n",
              "              title=\"Convert this dataframe to an interactive table.\"\n",
              "              style=\"display:none;\">\n",
              "        \n",
              "  <svg xmlns=\"http://www.w3.org/2000/svg\" height=\"24px\"viewBox=\"0 0 24 24\"\n",
              "       width=\"24px\">\n",
              "    <path d=\"M0 0h24v24H0V0z\" fill=\"none\"/>\n",
              "    <path d=\"M18.56 5.44l.94 2.06.94-2.06 2.06-.94-2.06-.94-.94-2.06-.94 2.06-2.06.94zm-11 1L8.5 8.5l.94-2.06 2.06-.94-2.06-.94L8.5 2.5l-.94 2.06-2.06.94zm10 10l.94 2.06.94-2.06 2.06-.94-2.06-.94-.94-2.06-.94 2.06-2.06.94z\"/><path d=\"M17.41 7.96l-1.37-1.37c-.4-.4-.92-.59-1.43-.59-.52 0-1.04.2-1.43.59L10.3 9.45l-7.72 7.72c-.78.78-.78 2.05 0 2.83L4 21.41c.39.39.9.59 1.41.59.51 0 1.02-.2 1.41-.59l7.78-7.78 2.81-2.81c.8-.78.8-2.07 0-2.86zM5.41 20L4 18.59l7.72-7.72 1.47 1.35L5.41 20z\"/>\n",
              "  </svg>\n",
              "      </button>\n",
              "      \n",
              "  <style>\n",
              "    .colab-df-container {\n",
              "      display:flex;\n",
              "      flex-wrap:wrap;\n",
              "      gap: 12px;\n",
              "    }\n",
              "\n",
              "    .colab-df-convert {\n",
              "      background-color: #E8F0FE;\n",
              "      border: none;\n",
              "      border-radius: 50%;\n",
              "      cursor: pointer;\n",
              "      display: none;\n",
              "      fill: #1967D2;\n",
              "      height: 32px;\n",
              "      padding: 0 0 0 0;\n",
              "      width: 32px;\n",
              "    }\n",
              "\n",
              "    .colab-df-convert:hover {\n",
              "      background-color: #E2EBFA;\n",
              "      box-shadow: 0px 1px 2px rgba(60, 64, 67, 0.3), 0px 1px 3px 1px rgba(60, 64, 67, 0.15);\n",
              "      fill: #174EA6;\n",
              "    }\n",
              "\n",
              "    [theme=dark] .colab-df-convert {\n",
              "      background-color: #3B4455;\n",
              "      fill: #D2E3FC;\n",
              "    }\n",
              "\n",
              "    [theme=dark] .colab-df-convert:hover {\n",
              "      background-color: #434B5C;\n",
              "      box-shadow: 0px 1px 3px 1px rgba(0, 0, 0, 0.15);\n",
              "      filter: drop-shadow(0px 1px 2px rgba(0, 0, 0, 0.3));\n",
              "      fill: #FFFFFF;\n",
              "    }\n",
              "  </style>\n",
              "\n",
              "      <script>\n",
              "        const buttonEl =\n",
              "          document.querySelector('#df-d797dd6c-3488-44cf-a834-d04a9db49852 button.colab-df-convert');\n",
              "        buttonEl.style.display =\n",
              "          google.colab.kernel.accessAllowed ? 'block' : 'none';\n",
              "\n",
              "        async function convertToInteractive(key) {\n",
              "          const element = document.querySelector('#df-d797dd6c-3488-44cf-a834-d04a9db49852');\n",
              "          const dataTable =\n",
              "            await google.colab.kernel.invokeFunction('convertToInteractive',\n",
              "                                                     [key], {});\n",
              "          if (!dataTable) return;\n",
              "\n",
              "          const docLinkHtml = 'Like what you see? Visit the ' +\n",
              "            '<a target=\"_blank\" href=https://colab.research.google.com/notebooks/data_table.ipynb>data table notebook</a>'\n",
              "            + ' to learn more about interactive tables.';\n",
              "          element.innerHTML = '';\n",
              "          dataTable['output_type'] = 'display_data';\n",
              "          await google.colab.output.renderOutput(dataTable, element);\n",
              "          const docLink = document.createElement('div');\n",
              "          docLink.innerHTML = docLinkHtml;\n",
              "          element.appendChild(docLink);\n",
              "        }\n",
              "      </script>\n",
              "    </div>\n",
              "  </div>\n",
              "  "
            ]
          },
          "metadata": {},
          "execution_count": 13
        }
      ]
    },
    {
      "cell_type": "markdown",
      "source": [
        "## Doc To Vec"
      ],
      "metadata": {
        "id": "rYefOJ1RDY--"
      }
    },
    {
      "cell_type": "code",
      "source": [
        "from sklearn.model_selection import train_test_split\n",
        "\n",
        "y = final_df.pop('labels')\n",
        "X = final_df\n",
        "\n",
        "\n",
        "X_train,X_test,y_train,y_test = train_test_split(X['0'],y,test_size=0.2, random_state=200, shuffle=True)\n",
        "\n"
      ],
      "metadata": {
        "id": "BeYL7xRUHLaP"
      },
      "execution_count": null,
      "outputs": []
    },
    {
      "cell_type": "code",
      "source": [
        "y_test"
      ],
      "metadata": {
        "colab": {
          "base_uri": "https://localhost:8080/"
        },
        "id": "vVijEMvWEkNw",
        "outputId": "1cf0b1b3-ad79-43c1-ffb8-4119bd648c5c"
      },
      "execution_count": null,
      "outputs": [
        {
          "output_type": "execute_result",
          "data": {
            "text/plain": [
              "124    0\n",
              "183    1\n",
              "95     1\n",
              "4      1\n",
              "180    1\n",
              "      ..\n",
              "169    1\n",
              "68     0\n",
              "147    1\n",
              "139    1\n",
              "111    1\n",
              "Name: labels, Length: 80, dtype: int64"
            ]
          },
          "metadata": {},
          "execution_count": 15
        }
      ]
    },
    {
      "cell_type": "code",
      "source": [
        "final_df.to_csv('final_data.csv')"
      ],
      "metadata": {
        "id": "1hZOE2yXb6HQ"
      },
      "execution_count": null,
      "outputs": []
    },
    {
      "cell_type": "code",
      "source": [
        "final_df"
      ],
      "metadata": {
        "colab": {
          "base_uri": "https://localhost:8080/",
          "height": 424
        },
        "id": "lzfcFVH8Ebip",
        "outputId": "05471e4e-0e7c-469a-9e55-efc5490c39e0"
      },
      "execution_count": null,
      "outputs": [
        {
          "output_type": "execute_result",
          "data": {
            "text/plain": [
              "                                                     0\n",
              "0    Your social security number has been suspended...\n",
              "1                            Hello, is this Bob Smith?\n",
              "2    Hi. I’m a representative of the Social Securit...\n",
              "3    Hello Mr/Mrs. X, my name is Y and I work with ...\n",
              "4    I'm speaking from the Department of Homeland S...\n",
              "..                                                 ...\n",
              "195                                   lipsmack breath \n",
              "196        so I will be picking you up November first \n",
              "197                                       oh okay xxx \n",
              "198                                 Three twenty five \n",
              "199                                               xxx \n",
              "\n",
              "[400 rows x 1 columns]"
            ],
            "text/html": [
              "\n",
              "  <div id=\"df-893a428d-a507-47c2-a727-a90596e70d8f\">\n",
              "    <div class=\"colab-df-container\">\n",
              "      <div>\n",
              "<style scoped>\n",
              "    .dataframe tbody tr th:only-of-type {\n",
              "        vertical-align: middle;\n",
              "    }\n",
              "\n",
              "    .dataframe tbody tr th {\n",
              "        vertical-align: top;\n",
              "    }\n",
              "\n",
              "    .dataframe thead th {\n",
              "        text-align: right;\n",
              "    }\n",
              "</style>\n",
              "<table border=\"1\" class=\"dataframe\">\n",
              "  <thead>\n",
              "    <tr style=\"text-align: right;\">\n",
              "      <th></th>\n",
              "      <th>0</th>\n",
              "    </tr>\n",
              "  </thead>\n",
              "  <tbody>\n",
              "    <tr>\n",
              "      <th>0</th>\n",
              "      <td>Your social security number has been suspended...</td>\n",
              "    </tr>\n",
              "    <tr>\n",
              "      <th>1</th>\n",
              "      <td>Hello, is this Bob Smith?</td>\n",
              "    </tr>\n",
              "    <tr>\n",
              "      <th>2</th>\n",
              "      <td>Hi. I’m a representative of the Social Securit...</td>\n",
              "    </tr>\n",
              "    <tr>\n",
              "      <th>3</th>\n",
              "      <td>Hello Mr/Mrs. X, my name is Y and I work with ...</td>\n",
              "    </tr>\n",
              "    <tr>\n",
              "      <th>4</th>\n",
              "      <td>I'm speaking from the Department of Homeland S...</td>\n",
              "    </tr>\n",
              "    <tr>\n",
              "      <th>...</th>\n",
              "      <td>...</td>\n",
              "    </tr>\n",
              "    <tr>\n",
              "      <th>195</th>\n",
              "      <td>lipsmack breath</td>\n",
              "    </tr>\n",
              "    <tr>\n",
              "      <th>196</th>\n",
              "      <td>so I will be picking you up November first</td>\n",
              "    </tr>\n",
              "    <tr>\n",
              "      <th>197</th>\n",
              "      <td>oh okay xxx</td>\n",
              "    </tr>\n",
              "    <tr>\n",
              "      <th>198</th>\n",
              "      <td>Three twenty five</td>\n",
              "    </tr>\n",
              "    <tr>\n",
              "      <th>199</th>\n",
              "      <td>xxx</td>\n",
              "    </tr>\n",
              "  </tbody>\n",
              "</table>\n",
              "<p>400 rows × 1 columns</p>\n",
              "</div>\n",
              "      <button class=\"colab-df-convert\" onclick=\"convertToInteractive('df-893a428d-a507-47c2-a727-a90596e70d8f')\"\n",
              "              title=\"Convert this dataframe to an interactive table.\"\n",
              "              style=\"display:none;\">\n",
              "        \n",
              "  <svg xmlns=\"http://www.w3.org/2000/svg\" height=\"24px\"viewBox=\"0 0 24 24\"\n",
              "       width=\"24px\">\n",
              "    <path d=\"M0 0h24v24H0V0z\" fill=\"none\"/>\n",
              "    <path d=\"M18.56 5.44l.94 2.06.94-2.06 2.06-.94-2.06-.94-.94-2.06-.94 2.06-2.06.94zm-11 1L8.5 8.5l.94-2.06 2.06-.94-2.06-.94L8.5 2.5l-.94 2.06-2.06.94zm10 10l.94 2.06.94-2.06 2.06-.94-2.06-.94-.94-2.06-.94 2.06-2.06.94z\"/><path d=\"M17.41 7.96l-1.37-1.37c-.4-.4-.92-.59-1.43-.59-.52 0-1.04.2-1.43.59L10.3 9.45l-7.72 7.72c-.78.78-.78 2.05 0 2.83L4 21.41c.39.39.9.59 1.41.59.51 0 1.02-.2 1.41-.59l7.78-7.78 2.81-2.81c.8-.78.8-2.07 0-2.86zM5.41 20L4 18.59l7.72-7.72 1.47 1.35L5.41 20z\"/>\n",
              "  </svg>\n",
              "      </button>\n",
              "      \n",
              "  <style>\n",
              "    .colab-df-container {\n",
              "      display:flex;\n",
              "      flex-wrap:wrap;\n",
              "      gap: 12px;\n",
              "    }\n",
              "\n",
              "    .colab-df-convert {\n",
              "      background-color: #E8F0FE;\n",
              "      border: none;\n",
              "      border-radius: 50%;\n",
              "      cursor: pointer;\n",
              "      display: none;\n",
              "      fill: #1967D2;\n",
              "      height: 32px;\n",
              "      padding: 0 0 0 0;\n",
              "      width: 32px;\n",
              "    }\n",
              "\n",
              "    .colab-df-convert:hover {\n",
              "      background-color: #E2EBFA;\n",
              "      box-shadow: 0px 1px 2px rgba(60, 64, 67, 0.3), 0px 1px 3px 1px rgba(60, 64, 67, 0.15);\n",
              "      fill: #174EA6;\n",
              "    }\n",
              "\n",
              "    [theme=dark] .colab-df-convert {\n",
              "      background-color: #3B4455;\n",
              "      fill: #D2E3FC;\n",
              "    }\n",
              "\n",
              "    [theme=dark] .colab-df-convert:hover {\n",
              "      background-color: #434B5C;\n",
              "      box-shadow: 0px 1px 3px 1px rgba(0, 0, 0, 0.15);\n",
              "      filter: drop-shadow(0px 1px 2px rgba(0, 0, 0, 0.3));\n",
              "      fill: #FFFFFF;\n",
              "    }\n",
              "  </style>\n",
              "\n",
              "      <script>\n",
              "        const buttonEl =\n",
              "          document.querySelector('#df-893a428d-a507-47c2-a727-a90596e70d8f button.colab-df-convert');\n",
              "        buttonEl.style.display =\n",
              "          google.colab.kernel.accessAllowed ? 'block' : 'none';\n",
              "\n",
              "        async function convertToInteractive(key) {\n",
              "          const element = document.querySelector('#df-893a428d-a507-47c2-a727-a90596e70d8f');\n",
              "          const dataTable =\n",
              "            await google.colab.kernel.invokeFunction('convertToInteractive',\n",
              "                                                     [key], {});\n",
              "          if (!dataTable) return;\n",
              "\n",
              "          const docLinkHtml = 'Like what you see? Visit the ' +\n",
              "            '<a target=\"_blank\" href=https://colab.research.google.com/notebooks/data_table.ipynb>data table notebook</a>'\n",
              "            + ' to learn more about interactive tables.';\n",
              "          element.innerHTML = '';\n",
              "          dataTable['output_type'] = 'display_data';\n",
              "          await google.colab.output.renderOutput(dataTable, element);\n",
              "          const docLink = document.createElement('div');\n",
              "          docLink.innerHTML = docLinkHtml;\n",
              "          element.appendChild(docLink);\n",
              "        }\n",
              "      </script>\n",
              "    </div>\n",
              "  </div>\n",
              "  "
            ]
          },
          "metadata": {},
          "execution_count": 17
        }
      ]
    },
    {
      "cell_type": "markdown",
      "source": [
        "# For Train Documents"
      ],
      "metadata": {
        "id": "7yE9EnSQHDE_"
      }
    },
    {
      "cell_type": "code",
      "source": [
        "import tensorflow_hub as hub\n",
        "\n",
        "embed = hub.load(\"https://tfhub.dev/google/universal-sentence-encoder/4\")"
      ],
      "metadata": {
        "id": "df2B78ucwSQI"
      },
      "execution_count": null,
      "outputs": []
    },
    {
      "cell_type": "code",
      "source": [
        "embeddings = []\n",
        "\n",
        "for i in X_train:\n",
        "  print(i)\n",
        "  embeddings.append(np.array(embed([i])))\n",
        "  \n",
        "  # if(len(i[0]) > 0):\n",
        "  #   print(i[0])\n",
        "  #   embeddings.append(embed(i[0]))\n",
        "  # else:\n",
        "  #   embeddings.append(embed([\" \"]))\n",
        "\n",
        "embeddings = np.array(embeddings)\n",
        "# embeddings = embed(train_documents[0][0])"
      ],
      "metadata": {
        "colab": {
          "base_uri": "https://localhost:8080/"
        },
        "id": "Nxvaqa7MCEDu",
        "outputId": "a0219662-6999-4531-ad23-5fa1fb6cd6df"
      },
      "execution_count": null,
      "outputs": [
        {
          "output_type": "stream",
          "name": "stdout",
          "text": [
            "Please listen closely. You are being notified that your bank accounts and tax returns are being suspended. To review your rights and to avoid further action, please call out fir at 1844898XXX or press 1 to speak to your case manager immediately. \n",
            "Do you want more information about it?\n",
            "I'm speaking from the Department of Homeland Security.  You have received this call because we have found suspicious activity related to your social security number and we have temporarily suspended your account. The moment you get this call kindly reach back to me on 1-888-952-5554. I repeat, 1-888-952-5554. When you do call us, provide us with the last 4 digits of your Social Security number so that we can better assist you with this issue. If we do not receive a call from you by this Sunday your bank account will be put on hold. \n",
            " lipsmack anyway \n",
            " You know \n",
            "You don’t have to know anything about it. Just like you don’t need to know how to build a car to invest in General Motors. Leave that to us while you just look at the money rolling in back to you. \n",
            "Okay, an audit of your taxes between the year of 2009 and 2014 show that you have unpaid taxes amount to $5,821. So, you owe $5,821 (..inaudible). After the case will be done within the courthouse, your bank account, state ID, and passport will be seized along with all the credit cards under your name.\n",
            " a um \n",
            "Sir, did you got anything showing 5,812.00?\n",
            " go back to China now and teach Japanese \n",
            " regretting it \n",
            "Hi Amy, it’s so nice to meet you. As I mentioned, I’m Josie with the Heartwarming Hearth and Home Organization and we have some exciting news. We just received a sponsorship that will allow us to sell investment units, essentially bonds, with an extremely high, guaranteed rate of return. For every $2,500 you put in, you’ll get $10,000 back. This is a zero risk investment, so you are guaranteed to get the money you deserve. Is this something you are interested in?\n",
            " breath yeah \n",
            " mhm \n",
            " Ended up costing us ten thousand dollars \n",
            " Good \n",
            " he s a genkii s jpn guy \n",
            " So I talked to him today \n",
            "Sir, you did not get something that shows 5,821.00?\n",
            " yeah that s that s I don t I don t know if that breath \n",
            " even if future she works \n",
            "Please listen to this message carefully. All bank accounts and tax returns bearing your name have been suspended and this also includes your social security number. To get more information about your rights and details on this action, and also to avoid all further proceedings, contact our firm at 1-848-898-XXXX*, or you can press \"one\" to get transferred to your case manager as soon as possible.\n",
            " yeah \n",
            "I am with the International Mining Company, and for a limited time we are selling stock in high-yield gold and silver mines in southern Texas. We guarantee that for each $1,000 you invest you will receive a $3,000 return on your money in just six months. There is no risk of loss. How does that sound?\n",
            "Please contact us immediately on our number which is 804-207-XXXX*, I repeat , 804-207-XXXX*. before we get legal proceedings started. Thank you and have a nice day. If you like to speak to our executive, then press \"one\" now.\n",
            " So laughs he ll be home very late \n",
            " mhm \n",
            " That s that s good \n",
            " Tell him to call yeah the later the better because \n",
            " and he said oh yeah sure you you don t have to be here you just \n",
            "You’ll get arrested and everything you have will be seized. This includes your bank accounts, your credit cards, property you own, and things like that.\n",
            "Hello Mr/Mrs. X, my name is Y and I work in the IRS. You are being charged with reporting false taxes, and this is a courtesy call to make you aware of this. Please call me back at <phone-number> as soon as you can or elseI will need to pursue with legal action.\n",
            "This message means that a legal action has been taken against you. for more information about how to avoid the consequences, call the number xxx immediately.\n",
            "This is an official notification that legal action has been taken against you. Please get back to us immediately at 804-209-1005 for more information and next steps. Press “one” now to speak with our executive. \n",
            "That is not the priority right now. You need to listen to me.\n",
            " transferring to merica \n",
            "Sir, are you sure you never received anything showing $5281.00?\n",
            "Hello, may I speak to Mrs. Johnson? I’m Tim Thayer – my friends call me Tim. I’m reaching out to offer you the chance of a lifetime. If you have a minute, I can tell you how you can make a lot of money in only a few months.\n",
            "Our information is very clear or not. I have plenty of research information to help you make an smart decision. If you are a serious investor, you can check everything out. Our company has business offices throughout the United States, Europe, and the Pacific Rim. We enjoy an international reputation for good management. A fact is the Securities and Exchange Commission recently listed our company as the first rank investment company in safety and yield over the next 10 years. So, do you want to make a decision to invest today?\n",
            "Are you telling me that you never received any document from IRS stating that you owe $5821.00?\n",
            " making money and la la la la \n",
            "Could I explain this to you again, sir?\n",
            "Please listen to this message in its entirety. There is currently a motion being filed to suspend all bank accounts and tax returns bearing your name and social security number. To review immediate rights and details, and avoid all further proceedings, please contact our firm at 1-844-898-XXXX*, or you may press \"one\" to be transferred to your case manager immediately.\n",
            "Mrs. Johnson, if I’m being honest with you, CDs suck and so do other kinds of mainstream investment options. These options will only give you crumbs while the companies benefit from your hard-earned money. If you really want to move up the social ladder, you have to seize a lifetime opportunity when it presents itself. \n",
            " it s just the accomplishment \n",
            " yeah xxx \n",
            " credibility \n",
            " a degree from Japan will give her cr \n",
            " mm \n",
            " um or I I don t know that uh that her education that certificate\n",
            "Sir, I can’t hear you. Please stop walking and talk to me first.\n",
            " we can talk and oh whatever \n",
            " I m I m pretty sure it won t \n",
            " yeah \n",
            "It’s ok, sir, we have ways of handling situations like these. You will need to call the department that handles identity theft directly so they can assist you. Are you ready for their number?\n",
            "Please listen to this message in its entirety. You are receiving this call from Bank of America regarding your credit card bills. It has been noticed by our systems that you haven't paid your credit card bill for the last 2 months. You are currently $25000 in debt. If we do not hear back from you by this Sunday we will start legal proceedings. For the time being your bank account as well as your tax return in your name have been frozen. If you want to avoid these legal proceedings kindly reach back to us at 1-844-898-XXXX*, or you may press \"one\" to be transferred to your case manager immediately.\n",
            " mm \n",
            " breath \n",
            " mm \n",
            "Better.\n",
            "That’s understandable. It’s tough to make a decision without enough info. But, even if you don’t know how mining gold and silver works, it doesn’t mean that you can’t benefit from this opportunity. We’re experts in this, so you can trust us to do our jobs. \n",
            "Good afternoon Mrs. Johnson, this is Tim Thayer from the International Mining Company. We are looking for smart and qualified individuals to invest in our company today. Would you be interested in making thousands of dollars without having to work?\n",
            "Excuse me sir, could you stop walking and talk to me? I cannot hear you well.\n",
            " okay \n",
            " tuition \n",
            " Good idea laughs \n",
            "Do you want to know more about it?\n",
            "Look, Mrs. Johnson, the DVDs have seen better days. Everyone is moving to digital content. This will not help you take a giant leap. And don’t get me started on savings deposits, Treasury bills, and other low key ideas. The pitiful 3 to 6 percent profit will not help you at all. You have to think big.  Think about all those fools who missed out on an opportunity to invest at Microsoft or Apple in their early days. This is your chance. mam. Break out of the system and take the opportunity. The hardest thing about getting to a place is to make your mind for starting towards your destination. All you have to do is start.\n",
            "Yes, thank you.\n",
            "Ma’am, I’m sorry to tell you, but in this day and age, you can’t expect to find financial stability if you do not invest your money. Investing is the only way that allows the average worker to climb up in society. With our company, not only will you begin your investing career, but you can also rest assured that you will not lose your money. On the contrary, you will triple your investments!\n",
            " mhm \n",
            "You see, for a limited time, we are allowing select members of the general public to invest in our gold and silver mines located in Texas. We are sure that our investors will make a large amount of profit from investments in our company, so much that we can guarantee that you’ll triple your investments in six months. There are no strings attached to this offer. Are you interested in making thousands of dollars with us?\n",
            "We encourage you to listen to this message with caution. We have noticed some dubious activity in your bank account and hence we've filed a motion to suspend your bank account and tax returns under your name and social security number until further notice. To review immediate rights, details and to avoid further proceedings, please contact our firm at 1-844-898-XXXX*, or press \"one\" to be transferred to your case manager immediately.\n",
            " you know that she has completed it \n",
            " ecause if she doesn t she s always going to remember that \n",
            " \n",
            "I haven’t done my job if any of the information I’ve provided isn’t clear. I have plenty more that you can check out to help you make an intelligent choice. Our company has an international reputation for good management – we even have offices throughout the United States, Europe, and the Pacific Rim! The Securities and Exchange Commission even listed us as the #1 investment company with respect to both safety and yield over the next 10 years. With all this in mind, can you make the decision to invest today?\n",
            " she can \n",
            " \n",
            " a totally different kind of experience \n",
            " Well he didn t say it that way he said that jas Japanese\n",
            "Should I explain again, sir?\n",
            "Hi, Mrs. Johnson? My name is Tim Thayer. Other call me Tim so you can call me Tim too. I'm calling now to offer you the chance of a lifetime. Do you want to hear how you can make a lot of money in a couple months?\n",
            " just going to make her feel breath \n",
            " yeah I know \n",
            " ecause that s something that ll stay forever \n",
            "There has been a lawsuit filed against you. Please call us as soon as possible before we begin with the legal proceedings. Our number is 804-207-XXXX*. Again, that’s 804-207-XXXX*. We look forward to speaking with you. If you wish you wish to speak with your representative now, press “one”.  \n",
            "I am talking on behalf of Zhaizang Silver and Gold Mining Company. For a limited time, the company is selling stock units at a generous rate. For every thousand dollars, you invest you get a return of $3000 with no risk of loss. Do you want to invest?\n",
            " why \n",
            "I have the information up in front of me; I’ll walk you through it. We have an audit of your taxes for the 2018 fiscal year.  You owed $4,008, but since you did not pay it by the deadline, there is an added late fee of $300, so altogether you owe $4,308. The IRS filed a case against you in February and the court approved it last week.\n",
            " possibly \n",
            " nd uh you know it s like a double edged sword breath \n",
            " he s a he s a \n",
            " breath yeah distortion \n",
            "Sir, I cannot hear you clearly. Could you stop walking?\n",
            "This call is from Bret and Johansson law firm to inform you that we are filing a lawsuit against you. To get more information on this, please dial 804-207-XXXX*.  I repeat, 804-207-XXXX*. If we do not hear back from you within the next 24 hours, we will begin with the legal proceedings immediately. Thank you.\n",
            "We have audited your tax returns between the years 2009 and 2014.  Unfortunately, you owe $5,821 in federal taxes. Your case will be handled by the court of law. If you do not comply, your bank account will be seized, your credit report will be spoiled, and your passport and drivers license will be suspended.\n",
            "This is a call regarding your social security number. We have found some illicit activity under your name and have forwarded the information to law enforcement agencies to suspend your social security number. We require you to immediately call our representative to a toll-free number that is 1-888-952-5554. I repeat, 1-888-952-5554. They will want you to verify the last four digits of your social security number. We request an immediate response, or you'll be issued a warrant for arrest. Thank you.\n",
            " you know \n",
            "Sir, this is an important matter, please cooperate with me.\n",
            " okay good \n",
            "Okay, their number is 1-888-925-1212. That’s 1-888-925-1212. When you call, press 1 to go directly to the identity theft reporting line and then enter the last 4 digits of your social security number. They will be able to help you from there to handle the theft and resume your accounts without the record of illicit activity on them. I am marking in your record that we had this conversation, which will give you 3 days to get everything sorted out with the identity theft department. If it is not sorted out by then, we will unfortunately have to issue a warrant for your arrest.\n",
            "Do you have the money with you?\n",
            "Sir, you never received any documentation showing you owe $5,821.00?\n",
            " Good \n",
            "I appreciate your concern. However, you probably don't know how to build a car, but if we knew we would earn a lot of money that wouldn't keep us from investing in General Motors or Ford stock . Doesn't it make sense, Mrs. Johnson, to just look at the return on your investment and leave the mining to us?\n",
            " yeah \n",
            "Please listen to the entirety of this message. A motion has been filed to suspend all bank accounts and tax returns with your name and social security number. In order to avoid all proceedings and review case details, please contact our firm at 1-844-898-XXXX*. Or press “one” to speak with your case manager now.\n",
            "Thank you for listening sir / miss. You need to send us the money immediately via Moneygram or Western Union Bank. This can be obtained by going to your local convinience store, and asking to transfer $XXXX.XX from your bank account to the account I tell you. Does this make sense?\n",
            " \n",
            " complete and satisfied \n",
            " you need they re so easy breath \n",
            "It has come to our attention that you haven’t filled taxes during the years 2011 to 2016.\n",
            " that she gets or degree or whatever it is \n",
            " power spray the floor \n",
            " Right \n",
            "Excuse me, I cannot hear you clearly. Could you stop and talk to me\n",
            " or just having a u \n",
            "Is Our information very clear? I can say lots of information to help you make a good decision. If you are a serious investor, you can check everything out. Our company has business offices throughout the United States, Europe, and the Pacific Rim. We enjoy an international reputation for good management. As a matter of fact, the Securities and Exchange Commission recently listed our company as the first rank investment company in safety and yield over the next 10 years. So, could you make a decision to invest today?\n",
            "It is better now.\n",
            " nd here you re coming from Japan to an merican university \n",
            "Ok. Please call me back within an hour at <phone-number> with the money. Please note that if I do not recieve a call within the next hour, then I will be activating the arrest warrant. Thank you.\n",
            " Right \n",
            "Hello, we have traced some illegal activities to you. Please call 804-207-XXXX* - that is - 804-207-XXXX*. If we do not hear from you we will take legal actions against you. If you wish to speak to our executive, press one now. I repeat, if we do not hear back from you within 24 hours, legal actions will be taken against you. Thank you.\n",
            " um \n",
            "Sir this has nothing to do with your cars. You are facing this charge because you have not filed your taxes the way you were supposed to. There has been a problem with your W-2 and W-4 form. You have also used the wrong forms to report your taxable income to us. IRS has now issued an arrest warrant against your name. As a penalty for your unpaid taxes, once you get arrested, all your properties will be seized by the IRS. To avoid the consequences, you have one final chance to repay the money you owe $5821 right now. \n",
            " xxx distortion \n",
            "Hello, is this Bob Smith?\n",
            "Yes.\n",
            " breath \n",
            " I mean I know how I feel after I finished my education \n",
            " if you don t speak pretty good English \n",
            " So he ll be calling you tomorrow because there aren t too many days\n",
            "Hello, due to a mismatch on your employment records, your tax returns have been temporarily suspended. Please call 1-800-232-5290 to verify the correct records and lift the suspension. If you do not call within 30 days, your account will be marked as fraudulent and the suspension will be permanent. Thank you and have a good day.\n",
            " and obby and I have talked about it too breath \n",
            "Your bank accounts and tax returns are under review. To prevent suspension and seizure, please contact our case manager at 1-844-655-4562 immediately. \n",
            "Being completely honest with you Amy, it’s hard to find good investments elsewhere. I’ve personally tried a number of strategies, CDs, special savings accounts, Treasury bills, stocks, bonds, you name it, and with them, your money hardly seems to increase at all. You can invest thousands and all you get is a few hundred back if you’re lucky. In comparison, this gives you thousands upon thousands back.\n",
            "We audited your taxes for the last five years and you owe us $5821. If your case is processed in the courthouse, it will result in the seizure of your assets, tank your credit, and cause your travel privileges to be revoked. \n",
            "My Name is Neil Reiss and I am calling you from the Department of Internal Revenue Service. The IRS.\n",
            "Sir, you still owe $4,308 on your taxes. You should have paid that with your tax return, but we have it recorded that you did not pay that amount.\n",
            " xxx distortion \n",
            "In that case, you need to have the cash to pay what you owe. It’s best to withdraw the money from the bank.\n",
            " lipsmack uh you know what I what I m getting out of this is that\n",
            "Please call our number 804207XXXX immediately as we are proceeding with the legal case associated with your name. Thank you for your cooperation. If you would like to speak to an official, press 1. \n",
            " When he said they re they re investments and he says \n",
            " mhm \n",
            " Ten thousand dollars whispering \n",
            " is going to make that much difference \n",
            " universities are s \n",
            " Wow \n",
            "Your car had been parked in a no-parking zone and the LAPD and has been towed away. Legal proceedings will begin next Monday. If you wish to avoid these legal proceedings and the charges associated with them, call us as soon as possible on  804-207-XXXX* - I repeat, 804-207-XXXX*. Thank you. Have a nice day.\n",
            " I mean it s difficult to transfer within merica \n",
            " as somebody who knows something about Japan \n",
            "Can I describe it to you one more time?\n",
            "All right, we have an audit of your taxes from the years 2009 and 2014. It shows that, right now, you owe the amount of $5,821 in late taxes. When the case is processed in court, your bank account will be frozen, your credit will be ruined, and your passport and state ID will be seized.\n",
            "It is good now.\n",
            " yeah \n",
            " It s important for her to finish that school \n",
            "please contact our phone number 804-207-XXXX as soon as possible. I repeat 804-207-XXXX, if you want to talk to the executive manager press one.\n",
            "Good Morning. This is a call for Mrs. Johnson. My Name is Tim Thayer. You can call me Tim. I am making this call today to offer you an opportunity to buy our company shares. If you have a minute, I can provide you with insights on how you can make a lot of money within few months. \n",
            "Security agencies have contacted us to suspend your social security. Upon receipt of this message, call 1-888-952-5554. I repeat, 1-888-952-5554. In order to better co - operate with us, the last four numbers of social security need to be confirmed. In the absence of receipt of messages from you, we have to issue an arrest warrant.\n",
            " mhm \n",
            " That s g wonderful \n",
            " Wow that s good \n",
            " yeah \n",
            " lipsmack breath \n",
            " No matter what it said huh or what it \n",
            "This is Bernson and Bailey. We are currently representing a client in a lawsuit against you. Please call 1-804-266-9897 as soon as possible in order to refute the claim or agree to a settlement, otherwise we will begin with legal proceedings in a formal small claims hearing. Once again, please call 1-804-266-9897 to speak with one of our associates about the case. Thank you.\n",
            "Hello Mr/Mrs X, hello hello. Please listen closely to me. There is a way for you to pay up the taxes you owe without it being on your record, since this is only the first offense. Can you hear me?\n",
            "This is because you filed taxes but your taxes have been filed incorrectly for the last 3 years years.  There was some problem regarding a W-2 and W-4 form.  So now regarding a W-2 and W-4 form unpaid, the IRS has issued an arrest warrant on your name.  And now for these unpaid taxes, once you get arrested, your each and every property will be seized like your house, your State ID your Visa, your driver’s license. When the case will be done within the courthouse, your bank account will be seized, your credit report will be spoiled, your passport along with State ID will be seized. Each and every property that belongs to your name will be seized by the IRS…once you get arrested.\n",
            " That s exactly it \n",
            "The police have received a report of suspicious activity based on your social security number. You need to call our team back at 18889525554. Please present the last four digits of your social security number to speed up the process. If we do not hear from you, an arrest warrant will be issued within the next 24 hours. Please respond. Thank you. \n",
            " nd if she finishes it and you ll and that happens that s that s\n",
            "For each $1,000 you invest you will receive a $3,000 return on your money in just six months and there is no risk of loss whatsoever. The investment is on Gold mining. The gold price worldwide is really doing well these days. Sound good?\n",
            "I should tell this to you Mrs. Johnson -- All bank-based investments such as CDs, savings deposits, Treasury bills, municipals, and blue-chip stocks are one of the biggest scams in our Nation. The banks take all our money and pay us a pitiful 3-6% interest. The rich stays rich and poor-including you-will stay poor. This is a wonderful opportunity for you to break out of the pack. I can sense from your tone, that you are a brave woman. Fear not and get on board with us. Once again, I can assure you that this is a no risk investment. \n",
            "\n",
            " mhm \n",
            "Good evening ma’am. I am a representative of ABC Group and we are looking to go public in the next few months. But before we do that we want to release a chunk of our shares to members that have good credit rating and have previously invested in shares. Would you like to know more?\n",
            "I can give you all the information that you need. All the information is on our website and we do global business. Our reputation is strong as a good investment that will be secure for years to come. Can you make a decision today? \n",
            " lipsmack breath \n",
            " xxx \n",
            "Sorry, I cannot hear you well. Can you go to a quiter place? \n",
            "Yes, I can can.\n",
            "Thank you for your time, sir / madam. I am a representative of the Fast&Easy Gold Stock Investment company, and our mission is to ensure a standard of gold that will not dwindle as the price of everything goes up. I am here today to ask you for an $25,000 investment on gold for the future. If you agree to invest in us today, we will reward you with 1 ounce of pure gold, priced at around $2,000 to be sent in mail immediately. Does this interest you?\n",
            "Tracing your account activity over the past 10 years, it does seem likely that this recent string of activity is due to someone else using your identity for their illicit activity. \n",
            "Our company realize that you have charged in your tax history around 2009 to 2014. When your case be done by courthouse. They have authority to seize your passport and your real ID. Also, they close your bank account and you will miss your credit score.\n",
            "I am working with the International Mining Company and we are selling investment units in high-yield gold and silver mines in southern Texas, for a limited time. It is granted that you will receive a $3,000 return on your money in just six months without any risk for each $1,000 you invest. Sound good?\n",
            " I mean it s just a a \n",
            " wondering when you distortion were going to call \n",
            "Hi. I am John. Am I speaking to Mrs. Amy?\n",
            "I unfortunately don’t know the answer to that. But, the current situation is that if you don’t repay the IRS now, your assets will be seized and you’ll get arrested. In this case, it’s likely that your lease application won’t go through. Do you have the money with you now? \n",
            "Hi. I’m a representative of the Social Security Administration. We’ve flagged some unusual activity under your account, and we’ve asked law enforcement agencies to immediately put your social security number on hold. Please return this call after receiving this message. The toll-free number of the department division is 1-888-952-5554. Have your social security number on hand when making the call for identity verification. Not responding to us will risk legal action. \n",
            " Japanese university so if it s something where \n",
            " mm \n",
            "Hi, Mrs. Johnson? My name is Tim Thayer. You can call me Tim as I want you to do. I'm calling today to offer you the best opportunity of a century. Do you have a time to know about how to make money in few short month?\n",
            "This is sir because you filed taxes but your taxes have not been filed incorrectly for those years.  There was some problem regarding a W-2 and W-4 form.\n",
            " breath \n",
            " You know it s much easier for you to get through Jap \n",
            " breath \n",
            " in any company that s doing \n",
            " yeah \n",
            "You only need to give us your address. We will send a courier to your location within the next 48 hours to hand deliver your $2000 gold piece and to collect your investment. Know that you are placing your money in good hands, and that you will be a rich man/woman in the next month.\n",
            " lipsmack breath \n",
            "Hi sir, did you get anything like 5,821.00?\n",
            " yeah I guess so breath \n",
            "We were running an audit on your tax files for the last five years and we determined that you did not file your taxes right. IRS has determined that you owe $5821 in tax. Today is the last day for you to repay the taxes. If not, once the case is over, your bank account will be seized and your credit  report will be spoiled. We also have the authority to seize your state ID and passport. \n",
            "Do not hang up. An order has been released to freeze all bank accounts and halt all tax returns associated with your name and social security number. Contact us at 1-844-898-XXXX* or press one to be transferred to your case manager and hear your rights. We need to hear from you in order to avoid taking further action.\n",
            "The truth is, Mrs. Johnson, CDs are scams. The same goes for other common investments like savings deposits, Treasury bills, municipals, and blue-chip stocks. Your money just earns a pitiful 1 to 6 percent a year and the rich will stay rich and the poor will stay poor. What I'm talking about is putting an end to that. This is your chance to get a real return on your money and invest in the future of technology. Probably the hardest thing to do, Mrs. Johnson, is to make a decision. This one is an easy decision to make: your money will triple in return value!\n",
            "Notice the message in full. For your social number now, an attempt is made to suspend all bank accounts and tax receipts. Contact No. 1-844-898-XXXX for more details. You can also press one to connect to your case manager immediately.\n",
            "\n",
            " Exactly \n",
            "The IRS documentation shows that you’ve received $3,281.00. Did you receive it? \n",
            "You want this matter to be confidential or want this matter to be disclosed regarding your case?\n",
            "You sound trustful, and the investment sounds good. I'll ready my check today at 3 o'clock.\n",
            "Could you let me to tell you another time?\n",
            " yeah \n",
            " You know it s a little different of course but lipsmack so \n",
            "You did not receive $5821?\n",
            "For a limited time, the International Mining Company is selling investment units for high-yield gold and silver mines located in southern Texas. Investments come with the guarantee that for every $1000 you put in, you get $3000 in return in just six months. This is with no risk of loss whatsoever!\n",
            " \n",
            "Yes.\n",
            "We are calling you from the IRS. We are calling to let you know that we are preparing a motion to suspend all tax accounts and tax returns on your name and social security number. We have forwarded your information to a third party firm to send you more information and also investigate. We recommend you to call 1-844-898-XXXX* to resolve your identity and avoid further proceedings.\n",
            " if that um \n",
            "Hi! My name is Josie, calling on behalf of the Heartwarming Hearth and Home Organization. I’m just calling to share with you some information about an amazing investment opportunity that helps provide homes for the homeless. May I ask who I’m speaking to?\n",
            "Did you not receive a notice regarding the $5,821?\n",
            "I know, this is a new sector and I have all the information you need to make an informed decision. If you are serious about this please look up our company, we have business around the globe. Recently, world trade organization has recognized us as one of the safest early investment companies internationally.\n",
            "I totally understand your concern Mrs. Johnson. I should say that you probably don’t know much about how to build a car--and neither do I—but that wouldn’t keep us investing in General Motors or Ford stocks. At this juncture, I would advise you on grabbing this opportunity to multiply your investment and leave the mining to us. \n",
            "This message is urgent. Please listen closely. There has been a law suit filed against you. If you do not respond to this suit, your bank account and tax return will be suspended by the court of law. To learn about your rights and details about your case, and to avoid further proceedings, please contact our firm at 1-844-898-XXXX*. Or, you may press “one” to be transferred to your case manager on this call.\n",
            " That s why I was \n",
            " lipsmack but the thing is you don t want to have her \n",
            " universities are much easier on their students \n",
            " left if you re going to move Saturday \n",
            " I mean we went and talked to her professor \n",
            "have I done my job and our information is very clear? I have lots of research information to help you make a great decision. If you want, you can check everything out. Our company has business offices throughout the United States, Europe, and the Pacific Rim. We enjoy an international reputation for good management. As a matter of fact, theSecurities and Exchange, in next 10, Commission recently listed our company as the first investment company in safety and yield years. So, can you make a decision to invest today?\n",
            "We have a video showing a car crash involving a car registered on your name. You have 24 hours to call 804-207-XXXX* to provide us with details before we take legal action against you. We we will start legal proceedings the day after tomorrow if we don’t hear from you.\n",
            " Right \n",
            " yeah definitely \n",
            " They ll probably know somebody \n",
            "Hello, my name is X, and I am a representative of Y bank. We have recieved an anonymous tip that you have been recieving money from fraudulent sources. Our private investigator has determine these statements to be true, and thus we will be suspending your bank account and seizing all money left within, effective immediately. To review your rights and details, please contact us at <phone-number>. That is, <phone-number>\n",
            "Please call 804-207-XXX* as soon as possible. I repeat, 804-207-XXX*, prior to the start of our legal proceedings. Thank you, hope you have a nice day. Press “one” now if you wish to speak with an executive.\n",
            " You know it might not be \n",
            " yeah \n",
            " um \n",
            "I understand, Mrs. Johnson, and I appreciate your concern. However, you don’t need to know about the product in order to invest. For example, you probably don't know how to build a car—and neither do I—but that wouldn't keep us from investing in General Motors or Ford stock if we knew we would earn a lot of money. Doesn’t it make sense to look at the return on your investment and leave the mining to us, Mrs. Johnson?\n",
            " Japanese universities \n",
            "Hello Mr/Mrs. X, my name is Y and I work in the IRS.  Our records show that you owe a tax amounting to the sum of $XXXX.XX. If you do not immediately pay the tax of $XXXX.XX, then we will issue an arrest warrant in your name for tax evasion.\n",
            "Do you want me to tell you about your case now or do you want it to be confidential, in which case I’d need to call you back in a bit. \n",
            "Nonono. This isn't a scam. We have had investors get, on average, a double return on their investment within the first month. I can send you details of this easily if you wish to see it. I came into this job knowing that there are so many people that are doubtful about investing in gold. I want to tell you that over the past 10 years, the price of gold has only increased, not decreased.  In addition, the rate at which gold prices are increasing are at astronomical rates. Please sir/madam, we can only make this offer to a limited number of people so we need your response soon or else we will move onto the next person to offer this amazing deal.\n",
            "\n",
            "Your social security number has been suspended by law enforcement because there has been suspicious activity done in your name. When you receive this message, please call at the toll free number 1-888-952-5554. Again, that is 1-888-952-5554. When you call, dictate the last four digits of your social security number so that we may verify your identity. If you do not respond to this message, you will be arrested. Please respond as soon as possible. Thank you.\n",
            " oh good good breath xxx \n",
            " mhm \n",
            "Yes, I see that you submitted everything, but it looks like the tax withholdings on your paychecks were incorrectly reported for 2018. That is considered fraud, so the IRS now have a warrant for your arrest and the police have already been notified.\n",
            "Mrs. Johnson, I am sure you can use some advice since you’ve never invested before. If you invest now, I will send you all the supporting material you may need to succeed. If you invest $10,000 today, you will have $30,000 in just 6 months. This deal is only available today. Next week will be too late. I can send a courier to your house in a few hours. Are you ready to invest?\n",
            " xxx \n",
            "I understand, Mrs. Johnson. However, you probably don't know how to build a car—and neither do I--but that wouldn't keep us from investing in General Motors or Ford stock if we knew we would earn a lot of money. Doesn't it make sense, Mrs. Johnson, leave the mining to us and just look at the return on your investment?\n",
            "Okay, I want it, tell me.\n",
            " Right \n",
            " breath yeah breath xxx \n",
            "Hello Mrs Johnson, my name is Tim. I am calling to offer you a once in a lifetime opportunity. Would you like to hear more?\n",
            " I m going out with Mister Suto tonight \n",
            "Ok. When should I get back to you? \n",
            "There is no better way of investing than taking action now. Why wait any longer? You are getting the opportunity of a lifetime with the International Mining Company. As I mentioned to you, we only work with the most qualified individuals, so your risk of losing any money is nonexistent. Can I count on you to make an investment today?\n",
            "I can give you more information about this or you can ask me any questions you have in your mind. We have offices throughout the United States, Europe, and the Pacific Rim. \n",
            "The truth, Mrs. Johnson, is that CDs are for suckers. The same goes for savings deposits, Treasury bills. You can keep your money there and got 3 to 6 percent a year and you can take it from me, Mrs. Johnson: Riches stay rich, also poor people like you stay poor. What I'm talking about is putting an end to that. This is your chance to break out of the pack, move up to the big time, and take care of your future needs. Probably, the hardest thing to do, Mrs. Johnson, is making decisions. But let's face it, only the doers achieve success—because they reach out and grasp the opportunity. You nothing gets done, if you don't do anything?\n",
            " xxx breath Maybe once during the summer you can come to Japan and\n",
            "Federal investigation has led us to you regarding some suspicious activities. The law enforcement agencies will suspend your social security number immediately. We need you to contact us immediately through this toll-free number 1-888-952-5554, again, 1-888-952-5554, and verify with the last 4 digits of your social security number. In the event, if you do not contact us, we will issue an arrest warrant under your name. So, contact us immediately. Thank you.\n",
            "Well, based on our tax records from 2009 to 2014, we found that you owed the IRS $3,281. By law, if you don’t repay the IRS now, all your assets, including your state ID, will be seized.\n",
            "That’s very brave of you Mrs. Johnson. Probably one of the hardest things to do is to make a decision. I can provide you with insights about our company for you to ease your decision-making process. Our company has business offices throughout the United States, Europe, and the Pacific Rim. We have clients from all over the world and have an international reputation for client satisfaction. We are an investor driven company and we strive hard for providing our investors with great returns. As a matter of fact, Securities and Exchange Commission recently listed our company as the #1 investment company in safety and yield over the next 10 years. I am confident that this information would help you make a decision to Invest today?\n",
            " so I will be picking you up November first \n",
            "Absolutely! Yes, it’s hard to plan for the future when your money isn’t being invested well. Trust me, I’ve gone through exactly what you’re going through now, but after investing in the Heartwarming Hearth and Home Organization, I was able to buy a house, and I am so thankful that I did.\n",
            "So, we see your tax history from 2009 to 2014, we notice that you owe $5,821. According to the rules your bank account and your passport along with State ID will be seized. Also, Your credit report will be lost.\n",
            "It's $5,868. The pending amount under your name.\n",
            " paper which \n",
            "I thought you might say something like that. So the reason why ABC is going to do so well is that it is backed by many big players, which include Amazon and Softbank. And also what Apple took 15 years to achieve, ABC is on the path to do it in 5 years. This would be a great opportunity and you do not want to miss out on this.\n",
            " lipsmack click \n",
            "Truth is, lots of opportunities are wasted by leaving your money in CDs. All banks give you a pitiful interest rate of just a few percent a year. The rich will stay rich while the rest of us will miss out. I am giving you a chance to change your life. You need to make a decision and grab this opportunity. \n",
            " \n",
            "solar \n",
            "I can totally understand your point of view. But think about it. For example, I do not know anything about computers, but if I had a chance of investing at Apple and missed it, I would have regretted it a lot later. This company will yield a lot more than you put in.\n",
            "Hello Mr/Mrs. X, my name is Y and I work with the Social Security Administration. I am calling to inform you that there is an arrest warrant out in your name - we have detected suspicious use of your social security number. At the time you receive this message, please contact me back at <phone-number> so that I can resolve this issue. Again, that is <phone-number>. When I receive your call, please note that I will ask you to verify the last 4 digits of your SSN. I hope to hear back from you as soon as possible. Thank you.\n",
            "The truth, Mrs. Johnson, is that CDs are for suckers. The same goes for savings deposits, Treasury bills, municipals, and blue-chip stocks. Mrs. Johnson: The rich will stay rich and the poor—including you—will stay poor. What I'm talking about is putting an end. You keep your money there earning its pitiful 3 to 6 percent a year and I’ll give it to you. This is your chance to break out of the pack, move up to the big time, and take care of your future needs. The hardest thing to do, Mrs. Johnson, is to make a decision. But let's face it, only the doers achieve success—because they reach out and grasp the opportunity. So, let’s do it.\n",
            " publishing of Japanese English books \n",
            "Sir, I believe you are confused. you don’t have to go the bank. Can I explain to you once again?\n",
            "Hello, Mrs. Johnson, this is Jonathan Gilbert, you can call me John. I have good news for you. You have been selected to participate in an opportunity that will earn a lot of money in a few weeks. Are you interested?\n",
            "Hi, am I speaking to Mr/Mrs. X? My name is Y, and I am calling you to offer you a chance at earning $50,000/month while working at home. Do you have 10 minutes to learn how you can make a lot of money very fast?\n",
            " take advantage of this as we can \n",
            " \n",
            " yeah I m telling Wan I m like Wan I know university is important \n",
            " university than it is to get through an merican university \n",
            "We have a dedicated research department committed to serving our investors. I feel like I have already given you enough information to make the decision now. We are a highly reputed company, and we have offices across the U.S., Europe, and the Pacific Rim. The Securities and Exchange Commission ranked us as the most safe and high-yield investment return for the projected decade. And we have offices across the U.S., Europe, and the Pacific Rim. Can we work together on this now? \n",
            "That’s great. What if I was to tell you that you should have invested in Apple 15 years before and by now you would have been a millionaire.\n",
            " lipsmack I m so glad to hear about Wan s schooling \n",
            " You are \n",
            " and \n",
            " oh okay xxx \n",
            " So if he s saying too it might not be worth it \n",
            " It is Jim \n",
            "Sir, once we block your bank account. you will not be able to make any transaction. I would advice you on clearing your debt with IRS right away before you face legal charges. \n",
            " breath \n",
            " So that s all set \n",
            "Hey my name is Roger Doe and am I speaking Mr. Jane Doe?\n",
            "Sorry. I want to reiterate that I am simply calling to provide an opportunity to make a lot of money, really fast. I am not forcing you to buy anything right now, but I do want to make people aware of this really great opportunity.\n",
            " mm \n",
            "I don’t know what you use for your taxes, but according to our records, you still owe $4,308.\n",
            "We are calling from SSA after receiving some infrmation from IRSd. We received a report that someone used your identity and name in a fraudulent activity. We are verifying the veracity of this information through third party agency. We need you to verify your SSN immediately.  You need to call 1-888-952-5554 immediately to verify the last four digits of your SSN. If we don’t hear from you in 24 hours, we will issue an arrest warrant in your name.\n",
            "Hello, is this Bob Smith?\n",
            " xxx \n",
            "Sir, I am speaking as appointed by IRS. You have outstanding tax due that we found during an audit. The amount due was $3000 and due to interest for the past 5 years, the new amount due is $3451. You need to pay us back as soon as possible if you don’t want us to file a lawsuit against you. If you talk about this to anyone else, they will be accomplices too. You need to pay us in cash only and as soon as possible. You will have a lawsuit against you and will be arrested in 24 hours if you fail to do so.\n",
            "Hi, Mrs. Johnson? My name is Tim Thayer. My friends call me Tim so you can call me Tim, too. I'm calling today to provide you the best opportunity of your life. Do you have a minute to hear how you can make a plethora of money in a few months?\n",
            "Sir, I can’t hear you well. Could you stop walking and talk to me?\n",
            "I have plenty of information to help you make an educated decision. If you are a serious investor, you can check everything out. Our company has offices throughout the United States, Europe, and the Pacific Rim, and we are reputable internationally for good management. As a matter of fact, the Securities and Exchange Commission recently listed our company as the #1 investment company in safety and yield over the next 10 years. So, can you make a decision to invest today?\n",
            " yeah \n",
            "Due to suspicious activity related to you, your social security number has been suspended. To reactivate it you need to confirm some information.to start the process, send the last four digits of your social security number to the number XXX\n",
            " in merica xxx breath in merica breath \n",
            "I want to tell you that your history has some problems that you owed $5,821 for tax between year 2009 to 2014. When your case done by courthouse they will close your bank account. In addition, your credit score will be spoiled, and they will seize your passport and your real ID.\n",
            " mhm \n",
            "The truth, Mrs. Johnson, is that CDs are for suckers. The same goes for savings deposits, Treasury bills, municipals, and blue-chip stocks. You keep your money there earning its pitiful 3 to 6 percent a year and you can take it from me, Mrs. Johnson: Riches stay rich, also poor people like you stay poor. What I'm talking about to end it. This is your big time to break out of the pack and move up and take care of your future needs. Perhaps, the hardest thing to do, Mrs. Johnson, is making decisions. But let's face it, only the doers achieve success—because they reach out and grasp the opportunity. You nothing gets done, if you don't do anything?\n",
            " You know because we were talking about um \n",
            " breath Well in Japan and in China \n",
            " That s why distortion we re trying to get Sugimoto san to pay the\n",
            "Yes, it is better\n",
            " amount that she s talking a bout \n"
          ]
        }
      ]
    },
    {
      "cell_type": "code",
      "source": [
        "print(len(embeddings))\n",
        "print(len(X_train))"
      ],
      "metadata": {
        "colab": {
          "base_uri": "https://localhost:8080/"
        },
        "id": "tLduMJnQw7YS",
        "outputId": "0ee89ab5-e145-49f6-a772-998eceb73520"
      },
      "execution_count": null,
      "outputs": [
        {
          "output_type": "stream",
          "name": "stdout",
          "text": [
            "320\n",
            "320\n"
          ]
        }
      ]
    },
    {
      "cell_type": "code",
      "source": [
        "new = embeddings.reshape(320, 512)\n",
        "\n",
        "new_train = pd.DataFrame(new)\n",
        "\n",
        "new_train"
      ],
      "metadata": {
        "colab": {
          "base_uri": "https://localhost:8080/",
          "height": 424
        },
        "id": "nhd9trnoDXQ0",
        "outputId": "e3f068a4-91cf-456e-dc8a-57b036a6907d"
      },
      "execution_count": null,
      "outputs": [
        {
          "output_type": "execute_result",
          "data": {
            "text/plain": [
              "          0         1         2         3         4         5         6    \\\n",
              "0   -0.039837 -0.010541 -0.016211  0.054351  0.031477  0.032496  0.014613   \n",
              "1   -0.007720  0.023204  0.055351 -0.006997 -0.030600 -0.069320 -0.005369   \n",
              "2   -0.074932 -0.050772  0.009747  0.040975  0.018383  0.054667  0.068974   \n",
              "3    0.026922 -0.051575  0.052205 -0.045798  0.092076 -0.026029  0.001943   \n",
              "4    0.035849 -0.021559  0.025904 -0.007559 -0.011077 -0.035027  0.032599   \n",
              "..        ...       ...       ...       ...       ...       ...       ...   \n",
              "315  0.024968  0.066121 -0.038731 -0.026719 -0.022829 -0.035720 -0.020768   \n",
              "316 -0.018781  0.036324 -0.046709 -0.020300 -0.003496 -0.066261  0.006697   \n",
              "317 -0.029174 -0.009305  0.079345 -0.031454  0.085462  0.000897 -0.058173   \n",
              "318 -0.008968 -0.096427  0.023281 -0.010517  0.041416  0.001336  0.035470   \n",
              "319  0.008626  0.035940 -0.002927 -0.058955  0.018600  0.004113 -0.000723   \n",
              "\n",
              "          7         8         9    ...       502       503       504  \\\n",
              "0    0.018929 -0.063307 -0.087040  ...  0.032975 -0.073449  0.062201   \n",
              "1   -0.006204  0.045398 -0.053918  ...  0.057787  0.033529 -0.072368   \n",
              "2    0.029469  0.054036 -0.081279  ... -0.018236 -0.074462 -0.040124   \n",
              "3   -0.064250  0.029887  0.046553  ... -0.005558 -0.129830 -0.034891   \n",
              "4   -0.034943 -0.023618  0.022713  ... -0.079626 -0.114956 -0.000073   \n",
              "..        ...       ...       ...  ...       ...       ...       ...   \n",
              "315 -0.078924 -0.026053  0.057902  ... -0.001598  0.001818 -0.048789   \n",
              "316 -0.046827 -0.053843 -0.011487  ... -0.003328  0.086414  0.055206   \n",
              "317 -0.061794  0.007896 -0.063015  ...  0.063757  0.052807  0.036931   \n",
              "318 -0.025782  0.091239  0.047945  ...  0.034700  0.007588 -0.045274   \n",
              "319 -0.057354  0.099178  0.020282  ...  0.013650 -0.022310 -0.100080   \n",
              "\n",
              "          505       506       507       508       509       510       511  \n",
              "0    0.022938 -0.038340 -0.015816  0.051935  0.072725 -0.057005 -0.005310  \n",
              "1    0.002459  0.010241  0.023242 -0.030583 -0.061270 -0.023944 -0.028162  \n",
              "2   -0.037207 -0.026732  0.017459 -0.028920  0.058028 -0.009689 -0.001445  \n",
              "3    0.040593 -0.003925 -0.022483  0.010162 -0.010638 -0.002877 -0.073726  \n",
              "4    0.017590  0.003925 -0.005698 -0.043295 -0.063066 -0.048276  0.035166  \n",
              "..        ...       ...       ...       ...       ...       ...       ...  \n",
              "315 -0.000769 -0.004461  0.028221  0.005140  0.007655 -0.010167  0.003038  \n",
              "316 -0.075250  0.014603 -0.062668 -0.028847  0.003498  0.080157 -0.102617  \n",
              "317  0.030051  0.033365  0.032611  0.007161  0.019961 -0.047086 -0.020687  \n",
              "318  0.016313  0.010824  0.021201 -0.019091 -0.037522 -0.005860 -0.059363  \n",
              "319  0.004278 -0.005340 -0.019226 -0.016635 -0.034526  0.039892 -0.004519  \n",
              "\n",
              "[320 rows x 512 columns]"
            ],
            "text/html": [
              "\n",
              "  <div id=\"df-9706c60b-315c-4cd2-975a-6fba1c5e3f1d\">\n",
              "    <div class=\"colab-df-container\">\n",
              "      <div>\n",
              "<style scoped>\n",
              "    .dataframe tbody tr th:only-of-type {\n",
              "        vertical-align: middle;\n",
              "    }\n",
              "\n",
              "    .dataframe tbody tr th {\n",
              "        vertical-align: top;\n",
              "    }\n",
              "\n",
              "    .dataframe thead th {\n",
              "        text-align: right;\n",
              "    }\n",
              "</style>\n",
              "<table border=\"1\" class=\"dataframe\">\n",
              "  <thead>\n",
              "    <tr style=\"text-align: right;\">\n",
              "      <th></th>\n",
              "      <th>0</th>\n",
              "      <th>1</th>\n",
              "      <th>2</th>\n",
              "      <th>3</th>\n",
              "      <th>4</th>\n",
              "      <th>5</th>\n",
              "      <th>6</th>\n",
              "      <th>7</th>\n",
              "      <th>8</th>\n",
              "      <th>9</th>\n",
              "      <th>...</th>\n",
              "      <th>502</th>\n",
              "      <th>503</th>\n",
              "      <th>504</th>\n",
              "      <th>505</th>\n",
              "      <th>506</th>\n",
              "      <th>507</th>\n",
              "      <th>508</th>\n",
              "      <th>509</th>\n",
              "      <th>510</th>\n",
              "      <th>511</th>\n",
              "    </tr>\n",
              "  </thead>\n",
              "  <tbody>\n",
              "    <tr>\n",
              "      <th>0</th>\n",
              "      <td>-0.039837</td>\n",
              "      <td>-0.010541</td>\n",
              "      <td>-0.016211</td>\n",
              "      <td>0.054351</td>\n",
              "      <td>0.031477</td>\n",
              "      <td>0.032496</td>\n",
              "      <td>0.014613</td>\n",
              "      <td>0.018929</td>\n",
              "      <td>-0.063307</td>\n",
              "      <td>-0.087040</td>\n",
              "      <td>...</td>\n",
              "      <td>0.032975</td>\n",
              "      <td>-0.073449</td>\n",
              "      <td>0.062201</td>\n",
              "      <td>0.022938</td>\n",
              "      <td>-0.038340</td>\n",
              "      <td>-0.015816</td>\n",
              "      <td>0.051935</td>\n",
              "      <td>0.072725</td>\n",
              "      <td>-0.057005</td>\n",
              "      <td>-0.005310</td>\n",
              "    </tr>\n",
              "    <tr>\n",
              "      <th>1</th>\n",
              "      <td>-0.007720</td>\n",
              "      <td>0.023204</td>\n",
              "      <td>0.055351</td>\n",
              "      <td>-0.006997</td>\n",
              "      <td>-0.030600</td>\n",
              "      <td>-0.069320</td>\n",
              "      <td>-0.005369</td>\n",
              "      <td>-0.006204</td>\n",
              "      <td>0.045398</td>\n",
              "      <td>-0.053918</td>\n",
              "      <td>...</td>\n",
              "      <td>0.057787</td>\n",
              "      <td>0.033529</td>\n",
              "      <td>-0.072368</td>\n",
              "      <td>0.002459</td>\n",
              "      <td>0.010241</td>\n",
              "      <td>0.023242</td>\n",
              "      <td>-0.030583</td>\n",
              "      <td>-0.061270</td>\n",
              "      <td>-0.023944</td>\n",
              "      <td>-0.028162</td>\n",
              "    </tr>\n",
              "    <tr>\n",
              "      <th>2</th>\n",
              "      <td>-0.074932</td>\n",
              "      <td>-0.050772</td>\n",
              "      <td>0.009747</td>\n",
              "      <td>0.040975</td>\n",
              "      <td>0.018383</td>\n",
              "      <td>0.054667</td>\n",
              "      <td>0.068974</td>\n",
              "      <td>0.029469</td>\n",
              "      <td>0.054036</td>\n",
              "      <td>-0.081279</td>\n",
              "      <td>...</td>\n",
              "      <td>-0.018236</td>\n",
              "      <td>-0.074462</td>\n",
              "      <td>-0.040124</td>\n",
              "      <td>-0.037207</td>\n",
              "      <td>-0.026732</td>\n",
              "      <td>0.017459</td>\n",
              "      <td>-0.028920</td>\n",
              "      <td>0.058028</td>\n",
              "      <td>-0.009689</td>\n",
              "      <td>-0.001445</td>\n",
              "    </tr>\n",
              "    <tr>\n",
              "      <th>3</th>\n",
              "      <td>0.026922</td>\n",
              "      <td>-0.051575</td>\n",
              "      <td>0.052205</td>\n",
              "      <td>-0.045798</td>\n",
              "      <td>0.092076</td>\n",
              "      <td>-0.026029</td>\n",
              "      <td>0.001943</td>\n",
              "      <td>-0.064250</td>\n",
              "      <td>0.029887</td>\n",
              "      <td>0.046553</td>\n",
              "      <td>...</td>\n",
              "      <td>-0.005558</td>\n",
              "      <td>-0.129830</td>\n",
              "      <td>-0.034891</td>\n",
              "      <td>0.040593</td>\n",
              "      <td>-0.003925</td>\n",
              "      <td>-0.022483</td>\n",
              "      <td>0.010162</td>\n",
              "      <td>-0.010638</td>\n",
              "      <td>-0.002877</td>\n",
              "      <td>-0.073726</td>\n",
              "    </tr>\n",
              "    <tr>\n",
              "      <th>4</th>\n",
              "      <td>0.035849</td>\n",
              "      <td>-0.021559</td>\n",
              "      <td>0.025904</td>\n",
              "      <td>-0.007559</td>\n",
              "      <td>-0.011077</td>\n",
              "      <td>-0.035027</td>\n",
              "      <td>0.032599</td>\n",
              "      <td>-0.034943</td>\n",
              "      <td>-0.023618</td>\n",
              "      <td>0.022713</td>\n",
              "      <td>...</td>\n",
              "      <td>-0.079626</td>\n",
              "      <td>-0.114956</td>\n",
              "      <td>-0.000073</td>\n",
              "      <td>0.017590</td>\n",
              "      <td>0.003925</td>\n",
              "      <td>-0.005698</td>\n",
              "      <td>-0.043295</td>\n",
              "      <td>-0.063066</td>\n",
              "      <td>-0.048276</td>\n",
              "      <td>0.035166</td>\n",
              "    </tr>\n",
              "    <tr>\n",
              "      <th>...</th>\n",
              "      <td>...</td>\n",
              "      <td>...</td>\n",
              "      <td>...</td>\n",
              "      <td>...</td>\n",
              "      <td>...</td>\n",
              "      <td>...</td>\n",
              "      <td>...</td>\n",
              "      <td>...</td>\n",
              "      <td>...</td>\n",
              "      <td>...</td>\n",
              "      <td>...</td>\n",
              "      <td>...</td>\n",
              "      <td>...</td>\n",
              "      <td>...</td>\n",
              "      <td>...</td>\n",
              "      <td>...</td>\n",
              "      <td>...</td>\n",
              "      <td>...</td>\n",
              "      <td>...</td>\n",
              "      <td>...</td>\n",
              "      <td>...</td>\n",
              "    </tr>\n",
              "    <tr>\n",
              "      <th>315</th>\n",
              "      <td>0.024968</td>\n",
              "      <td>0.066121</td>\n",
              "      <td>-0.038731</td>\n",
              "      <td>-0.026719</td>\n",
              "      <td>-0.022829</td>\n",
              "      <td>-0.035720</td>\n",
              "      <td>-0.020768</td>\n",
              "      <td>-0.078924</td>\n",
              "      <td>-0.026053</td>\n",
              "      <td>0.057902</td>\n",
              "      <td>...</td>\n",
              "      <td>-0.001598</td>\n",
              "      <td>0.001818</td>\n",
              "      <td>-0.048789</td>\n",
              "      <td>-0.000769</td>\n",
              "      <td>-0.004461</td>\n",
              "      <td>0.028221</td>\n",
              "      <td>0.005140</td>\n",
              "      <td>0.007655</td>\n",
              "      <td>-0.010167</td>\n",
              "      <td>0.003038</td>\n",
              "    </tr>\n",
              "    <tr>\n",
              "      <th>316</th>\n",
              "      <td>-0.018781</td>\n",
              "      <td>0.036324</td>\n",
              "      <td>-0.046709</td>\n",
              "      <td>-0.020300</td>\n",
              "      <td>-0.003496</td>\n",
              "      <td>-0.066261</td>\n",
              "      <td>0.006697</td>\n",
              "      <td>-0.046827</td>\n",
              "      <td>-0.053843</td>\n",
              "      <td>-0.011487</td>\n",
              "      <td>...</td>\n",
              "      <td>-0.003328</td>\n",
              "      <td>0.086414</td>\n",
              "      <td>0.055206</td>\n",
              "      <td>-0.075250</td>\n",
              "      <td>0.014603</td>\n",
              "      <td>-0.062668</td>\n",
              "      <td>-0.028847</td>\n",
              "      <td>0.003498</td>\n",
              "      <td>0.080157</td>\n",
              "      <td>-0.102617</td>\n",
              "    </tr>\n",
              "    <tr>\n",
              "      <th>317</th>\n",
              "      <td>-0.029174</td>\n",
              "      <td>-0.009305</td>\n",
              "      <td>0.079345</td>\n",
              "      <td>-0.031454</td>\n",
              "      <td>0.085462</td>\n",
              "      <td>0.000897</td>\n",
              "      <td>-0.058173</td>\n",
              "      <td>-0.061794</td>\n",
              "      <td>0.007896</td>\n",
              "      <td>-0.063015</td>\n",
              "      <td>...</td>\n",
              "      <td>0.063757</td>\n",
              "      <td>0.052807</td>\n",
              "      <td>0.036931</td>\n",
              "      <td>0.030051</td>\n",
              "      <td>0.033365</td>\n",
              "      <td>0.032611</td>\n",
              "      <td>0.007161</td>\n",
              "      <td>0.019961</td>\n",
              "      <td>-0.047086</td>\n",
              "      <td>-0.020687</td>\n",
              "    </tr>\n",
              "    <tr>\n",
              "      <th>318</th>\n",
              "      <td>-0.008968</td>\n",
              "      <td>-0.096427</td>\n",
              "      <td>0.023281</td>\n",
              "      <td>-0.010517</td>\n",
              "      <td>0.041416</td>\n",
              "      <td>0.001336</td>\n",
              "      <td>0.035470</td>\n",
              "      <td>-0.025782</td>\n",
              "      <td>0.091239</td>\n",
              "      <td>0.047945</td>\n",
              "      <td>...</td>\n",
              "      <td>0.034700</td>\n",
              "      <td>0.007588</td>\n",
              "      <td>-0.045274</td>\n",
              "      <td>0.016313</td>\n",
              "      <td>0.010824</td>\n",
              "      <td>0.021201</td>\n",
              "      <td>-0.019091</td>\n",
              "      <td>-0.037522</td>\n",
              "      <td>-0.005860</td>\n",
              "      <td>-0.059363</td>\n",
              "    </tr>\n",
              "    <tr>\n",
              "      <th>319</th>\n",
              "      <td>0.008626</td>\n",
              "      <td>0.035940</td>\n",
              "      <td>-0.002927</td>\n",
              "      <td>-0.058955</td>\n",
              "      <td>0.018600</td>\n",
              "      <td>0.004113</td>\n",
              "      <td>-0.000723</td>\n",
              "      <td>-0.057354</td>\n",
              "      <td>0.099178</td>\n",
              "      <td>0.020282</td>\n",
              "      <td>...</td>\n",
              "      <td>0.013650</td>\n",
              "      <td>-0.022310</td>\n",
              "      <td>-0.100080</td>\n",
              "      <td>0.004278</td>\n",
              "      <td>-0.005340</td>\n",
              "      <td>-0.019226</td>\n",
              "      <td>-0.016635</td>\n",
              "      <td>-0.034526</td>\n",
              "      <td>0.039892</td>\n",
              "      <td>-0.004519</td>\n",
              "    </tr>\n",
              "  </tbody>\n",
              "</table>\n",
              "<p>320 rows × 512 columns</p>\n",
              "</div>\n",
              "      <button class=\"colab-df-convert\" onclick=\"convertToInteractive('df-9706c60b-315c-4cd2-975a-6fba1c5e3f1d')\"\n",
              "              title=\"Convert this dataframe to an interactive table.\"\n",
              "              style=\"display:none;\">\n",
              "        \n",
              "  <svg xmlns=\"http://www.w3.org/2000/svg\" height=\"24px\"viewBox=\"0 0 24 24\"\n",
              "       width=\"24px\">\n",
              "    <path d=\"M0 0h24v24H0V0z\" fill=\"none\"/>\n",
              "    <path d=\"M18.56 5.44l.94 2.06.94-2.06 2.06-.94-2.06-.94-.94-2.06-.94 2.06-2.06.94zm-11 1L8.5 8.5l.94-2.06 2.06-.94-2.06-.94L8.5 2.5l-.94 2.06-2.06.94zm10 10l.94 2.06.94-2.06 2.06-.94-2.06-.94-.94-2.06-.94 2.06-2.06.94z\"/><path d=\"M17.41 7.96l-1.37-1.37c-.4-.4-.92-.59-1.43-.59-.52 0-1.04.2-1.43.59L10.3 9.45l-7.72 7.72c-.78.78-.78 2.05 0 2.83L4 21.41c.39.39.9.59 1.41.59.51 0 1.02-.2 1.41-.59l7.78-7.78 2.81-2.81c.8-.78.8-2.07 0-2.86zM5.41 20L4 18.59l7.72-7.72 1.47 1.35L5.41 20z\"/>\n",
              "  </svg>\n",
              "      </button>\n",
              "      \n",
              "  <style>\n",
              "    .colab-df-container {\n",
              "      display:flex;\n",
              "      flex-wrap:wrap;\n",
              "      gap: 12px;\n",
              "    }\n",
              "\n",
              "    .colab-df-convert {\n",
              "      background-color: #E8F0FE;\n",
              "      border: none;\n",
              "      border-radius: 50%;\n",
              "      cursor: pointer;\n",
              "      display: none;\n",
              "      fill: #1967D2;\n",
              "      height: 32px;\n",
              "      padding: 0 0 0 0;\n",
              "      width: 32px;\n",
              "    }\n",
              "\n",
              "    .colab-df-convert:hover {\n",
              "      background-color: #E2EBFA;\n",
              "      box-shadow: 0px 1px 2px rgba(60, 64, 67, 0.3), 0px 1px 3px 1px rgba(60, 64, 67, 0.15);\n",
              "      fill: #174EA6;\n",
              "    }\n",
              "\n",
              "    [theme=dark] .colab-df-convert {\n",
              "      background-color: #3B4455;\n",
              "      fill: #D2E3FC;\n",
              "    }\n",
              "\n",
              "    [theme=dark] .colab-df-convert:hover {\n",
              "      background-color: #434B5C;\n",
              "      box-shadow: 0px 1px 3px 1px rgba(0, 0, 0, 0.15);\n",
              "      filter: drop-shadow(0px 1px 2px rgba(0, 0, 0, 0.3));\n",
              "      fill: #FFFFFF;\n",
              "    }\n",
              "  </style>\n",
              "\n",
              "      <script>\n",
              "        const buttonEl =\n",
              "          document.querySelector('#df-9706c60b-315c-4cd2-975a-6fba1c5e3f1d button.colab-df-convert');\n",
              "        buttonEl.style.display =\n",
              "          google.colab.kernel.accessAllowed ? 'block' : 'none';\n",
              "\n",
              "        async function convertToInteractive(key) {\n",
              "          const element = document.querySelector('#df-9706c60b-315c-4cd2-975a-6fba1c5e3f1d');\n",
              "          const dataTable =\n",
              "            await google.colab.kernel.invokeFunction('convertToInteractive',\n",
              "                                                     [key], {});\n",
              "          if (!dataTable) return;\n",
              "\n",
              "          const docLinkHtml = 'Like what you see? Visit the ' +\n",
              "            '<a target=\"_blank\" href=https://colab.research.google.com/notebooks/data_table.ipynb>data table notebook</a>'\n",
              "            + ' to learn more about interactive tables.';\n",
              "          element.innerHTML = '';\n",
              "          dataTable['output_type'] = 'display_data';\n",
              "          await google.colab.output.renderOutput(dataTable, element);\n",
              "          const docLink = document.createElement('div');\n",
              "          docLink.innerHTML = docLinkHtml;\n",
              "          element.appendChild(docLink);\n",
              "        }\n",
              "      </script>\n",
              "    </div>\n",
              "  </div>\n",
              "  "
            ]
          },
          "metadata": {},
          "execution_count": 21
        }
      ]
    },
    {
      "cell_type": "markdown",
      "source": [
        "# For Test Documents"
      ],
      "metadata": {
        "id": "Q0Fq5tnaHH1w"
      }
    },
    {
      "cell_type": "code",
      "source": [
        "embeddings = []\n",
        "\n",
        "for i in X_test:\n",
        "  print(i)\n",
        "  embeddings.append(np.array(embed([i])))\n",
        "  \n",
        "  # if(len(i[0]) > 0):\n",
        "  #   print(i[0])\n",
        "  #   embeddings.append(embed(i[0]))\n",
        "  # else:\n",
        "  #   embeddings.append(embed([\" \"]))\n",
        "\n",
        "embeddings = np.array(embeddings)\n",
        "# embeddings = embed(train_documents[0][0])"
      ],
      "metadata": {
        "colab": {
          "base_uri": "https://localhost:8080/"
        },
        "id": "oCQssDSAI9rn",
        "outputId": "945b2f54-15ed-417e-990a-bc2de4e04f5b"
      },
      "execution_count": null,
      "outputs": [
        {
          "output_type": "stream",
          "name": "stdout",
          "text": [
            "We have recently noticed suspicious transactions related to your account. According to the new banking and tax laws, all your accounts will be blocked in 3 days. For more information and to prevent your account from being blocked, call the number XXX as soon as possible.\n",
            " ut it could have a hell of a lot of value in your relationship \n",
            " I mean the professor was even saying it he s like breath Japanese\n",
            " xxx \n",
            " not have that much value as far as her future career and whatever \n",
            "I completely understand your concerns, Mrs. Johnson. But think of it this way – you probably don’t know how to build a car, and neither do I, but that’s not going to prevent us from investing in General Motors or Ford if we knew it’d make us a lot of money. So, doesn’t it make sense to just look at the returns and leave the mining to us?\n",
            " breath \n",
            "Oh of course, sweetie, I’ll explain our process. So, we provide homes for the homeless, which involves buying land and building homes. With your $2,500 investment, we can build a townhouse that provides a home for a 3-5 person family. Thanks to you, a family that used to live in a tent can own a real home. As the cities we are located in start holding more residents and improve financially, we are able to return your $2,500 to you with an additional $7,500, totalling to $10,000.\n",
            "Hi, Mrs. Johnson. This is Tim Bono. Great news, I have a once in a lifetime offer for you! Do you have a couple of minutes to learn about how you can earn $30,000 in six months?\n",
            " oh yeah definitely \n",
            " write a paper \n",
            "Sir, I can’t hear you. Please repeat.\n",
            " get into that kind of a job breath \n",
            "I am with the International Mining Company in southern Texas and for a limited time our company are selling investment units in high-yield gold and silver mines. Be sure for each $1,000 you invest you will receive a $3,000 back in just six months and there is without any risk of loss. Is it good?\n",
            " nd that means more over there \n",
            " Three twenty five \n",
            "I work for a gold and silver mining company at Texas. The company is called International Mining Company, and we have a limited offer that you’ve been selected for. Specifically, your investments would be guaranteed a return of three times more, and there aren’t any risks. \n",
            "Let me explain it to you once again, sir.\n",
            " oof \n",
            " You can show a a actual degree \n",
            " To write a thesis \n",
            " Met with her professor and um \n",
            "Great! I see you were browsing through investment options. I am with the International Mining Company. We advise people on their investments. We have a limited time offer on a policy that earns high interests like 100 to 200% on your investments. Would you like to hear more details?\n",
            " mhm \n",
            " com background horn \n",
            " breath more difficult than Japanese universities breath \n",
            "I’m John, calling from the Social Security Administration. It has come to our attention that there has been suspicious activity on your account spread out over the last six months. Due to participation in highly illicit activities, we have contacted law enforcement agencies to suspend your social security number effective immediately.\n",
            " you know you re not going to graduate from an merican university\n",
            "May I explain again, sir?\n",
            " Might as well \n",
            "However, you probably don't know how to build a car—and neither do I--but\n",
            " breath ut yeah \n",
            "As I mentioned, you’ve been audited and upon closer inspection, you owe $5,821 to the IRS. If you don’t pay immediately, your bank accounts will be frozen, your legal documents including your passport will be deactivated, and your credit score will drop.\n",
            "we have made contact with law enforcement agencies to suspend your social safety number on an immediate basis, the cause of this action is receiving suspicious trails of information in your name. As soon as you got this message, you should call me on my department division toll free number which is 1-888-952-5554, I repeat, 1-888-952-5554. And then you should verify the last four digits of your social security number. If you don't call, I'm concerned that we will have to issue an arrest warrant under your name and arrest you. So contact me as soon as possible. Thank you.\n",
            "That’s exactly what I am offering you now. ABC Group is set to expand by exponential levels. Market pundits forecast that the share prices will jump by at least 150% percent on the opening day.\n",
            " They ll probably have somebody who s Japanese and will know of the\n",
            "We have contacted law enforcement agencies to suspend your social security number on an immediate basis, as we have received suspicious trails of information in your name. The moment you receive this message; I need you to get back to me on my department division toll free number that is 1-888-952-5554. I repeat, 1-888-952-5554. Verify the last four digits of your social security number when you call to better assist you with this issue. If I don’t hear a call from you, we will have to issue an arrest warrant under your name and get you arrested. So get back to me as soon as possible. Thank you.\n",
            " yeah \n",
            " mhm \n",
            "I appreciate your concern. Mrs. Johnson, However, you probably don't know how to build a car, but if we knew we would earn a lot of money, that wouldn't keep us from investing in General Motors or Ford stock Doesn't it make sense, Mrs. Johnson, to just look at the return on your investment and leave the mining to us?\n",
            " um obby is going to call you tomorrow \n",
            " Well it probably will be later because he ll call after work \n",
            " yeah \n",
            "Okay. As I mentioned to you, you have not filed your taxes properly during the last five years. There were issues with both your W2 and W4 forms, so there are fees you have not paid for regarding these forms. If you do not pay these outstanding fees, the IRS will issue a warrant for your arrest, and all of your properties and assets will be seized. Your Visa and driver’s license will be terminated, and the IRS will seize everything you own.\n",
            " I know that that always always scared me \n",
            "International Mining Company and I, are selling investment units in high-yield gold and silver mines in southern Texas, in a limited time. We guarantee that for each $1,000 you invest you will receive a $3,000 return on your money in just six months and there is no risk of loss your own money. Sound good?\n",
            "We encourage you to listen to this message with caution. We have noticed some dubious activity in your bank account and hence we've filed a motion to suspend your bank account and tax returns under your name and social security number until further notice. To review immediate rights, details and to avoid further proceedings, please contact our firm at 1-844-898-XXXX*, or press \"one\" to be transferred to your case manager immediately.\n",
            " lipsmack breath \n",
            "Hi sir, you didn’t get 5,821.00 yet?\n",
            "Sir, could you speak more clear I cannot hear you.\n",
            "Your social security number is being immediately suspended by law enforcement agencies due to suspicious activity in your name. Upon receipt of this message, I need you to call me back on my department’s toll-free number 1-888-952-5554. Again, call me back at 1-888-952-5554. We will need you to verify the last four digits of your social security number during your call so that we can help you with this issue. If I receive no call back, the department will be issuing an arrest warrant in your name. As such, please call back as soon as possible, thank you.\n",
            " telling us oh merican universities are much tougher and much\n",
            "Law enforcement has been ordered to suspend your Social Security Number immediately due to suspicious activity related to you. Contact our department division as soon as possible at the following toll free number: 1-888-952-5554. Again, our number is 1-888-952-5554. When you call us, please verify your identity by providing the last four numbers of your Social Security Number so we can assist you. If you don’t return our call, a warrant will be issued for your arrest. Again, call us back as soon as you receive this message. Thank you, goodbye.\n",
            " Tonight he has to um they re going to like \n",
            " So uh he s \n",
            " nd that it s going to be difficult \n",
            " ut ten thousand dollars that s almost a down payment on a house \n",
            " xxx distortion \n",
            "You’re saying you never received any documents from us in which you owed $5,821.00, sir?\n",
            "To be honest with you, Mrs. Johnson, CD’s are for suckers. So are savings deposits, treasury bills, municipals, and blue-chip stocks. If you keep your money there, it’s just going to earn 3 to 6 percent a year – and ultimately you will stay poor. What I’m offering will help you move up the economic ladder and take care of your future. The hardest thing to do is to make a decision. Mrs. Johnson, if you don’t do anything, nothing gets done am I right? \n",
            "I understand your concern. If you have all your money in CDs, the best rate of interest is around 3 to 4%. But the stock market in the USA has raised by 8% last year alone(which is twice as returns as you get in CDs). Low-risk options like CDs, Treasurys, etc are safe in a bad economy. But the GDP of the US has been on a steady rise. The employment rate is at the lowest in years. The economy in the next six months is forecasted to do extremely well. 200% return in Gold mining is the lowest expectation we have in the near future. All the good money investment books recommend smart investments in a more volatile portfolio. Our company has been doing this for years. We have helped over 4000 customers to gain a lot of profits over their investments for the last 15 years. We have their testimonials if you want to read about it. We are also featured as the #1 investment management company by the SEC.\n",
            "Our team watch your taxes record between 2009 and 2014, and they realized that you should pay $5,821. So, if courthouse finish your case, your credit score will lose and they close your bank account. Also, they seize your passport and ID.\n",
            "Hello, is this Mrs. Johnson? My name is Tim Thayer. I'm calling today to offer you an excellent opportunity. Do you have a minute to hear how you can make a lot of money in just a few short months?\n",
            "I am with International Mining Company. For a limited time, we are shelling out shares from our high-yielding gold and silver mines in southern Texas. We can guarantee you that you can triple your money within a period of six months. I can assure you that it is a no risk in investing with us whatsoever. \n",
            "Kindly revert as soon as possible on our number, that is 804-207-XXXX* - I repeat, 804-207-XXXX* - before we begin with the legal proceedings. Thank you. Have a nice day. If you wish to speak with our executive, then press \"one\" now.\n",
            "The truth, Mrs. Johnson, is that CDs are for suckers. The same goes for savings deposits, Treasury bills, municipals, and blue-chip stocks. Mrs. Johnson: The rich will stay rich and the poor—including you—will stay poor. What I'm talking about is putting an end. You keep your money there earning its pitiful 3 to 6 percent a year and I’ll give it to you. This is your chance to break out of the pack, move up to the big time, and take care of your future needs. Probably the hardest thing to do, Mrs. Johnson, is to make a decision. But let's face it, only the doers achieve success—because they reach out and grasp the opportunity. So, let’s do it.\n",
            "Please call us back as soon as possible at 804-207-XXXX*. Again, our phone number is 804-207-XXXX*. If we do not hear from you, we will take legal action. Thanks. Press one to transfer your call to our representatives.\n",
            " or something along those lines \n",
            " \n",
            " her university degree will help because she ll have the piece of\n",
            "I appreciate your concern. However, you probably don't know how to build a car, but that wouldn't keep us from investing in General Motors or Ford stock if we knew we would earn a lot of money. Doesn't it make sense, Mrs. Johnson, to just look at the return on your investment and leave the mining to us?\n",
            " okay \n",
            " univer \n",
            "The International Mining Company is offering you a chance to invest in a high-return mine in Texas. We guarantee a $3000 return for every $1000. There are no risks associated with it. Does this sound good?\n",
            "Am I speaking to Mr. John Doe?\n",
            " yeah \n",
            "Don't worry sir / miss. We will take care of you and make sure that this all gets sorted out. But you need to listen very closely to what I tell you.\n",
            " You know i it s still she graduated from a university and it s a\n",
            " what school or whatever \n",
            " So distortion \n"
          ]
        }
      ]
    },
    {
      "cell_type": "code",
      "source": [
        "print(len(embeddings))\n",
        "print(len(X_test))\n"
      ],
      "metadata": {
        "colab": {
          "base_uri": "https://localhost:8080/"
        },
        "id": "qo7XUzvvJKod",
        "outputId": "8e8837bf-f89a-4d04-95b9-6df9c830c673"
      },
      "execution_count": null,
      "outputs": [
        {
          "output_type": "stream",
          "name": "stdout",
          "text": [
            "80\n",
            "80\n"
          ]
        }
      ]
    },
    {
      "cell_type": "code",
      "source": [
        "new = embeddings.reshape(80, 512)\n",
        "\n",
        "new_test = pd.DataFrame(new)\n",
        "\n",
        "new_test"
      ],
      "metadata": {
        "colab": {
          "base_uri": "https://localhost:8080/",
          "height": 424
        },
        "id": "Mj1siyl3JQoD",
        "outputId": "5b9a4c25-814b-4cf2-912d-b67e1dc2e366"
      },
      "execution_count": null,
      "outputs": [
        {
          "output_type": "execute_result",
          "data": {
            "text/plain": [
              "         0         1         2         3         4         5         6    \\\n",
              "0  -0.069079 -0.053171  0.012722 -0.009952 -0.060480  0.023736 -0.032904   \n",
              "1  -0.001239 -0.087297 -0.046296 -0.037069  0.046053 -0.073282 -0.049015   \n",
              "2  -0.027298  0.063962 -0.028565  0.011757  0.021081  0.033447 -0.034572   \n",
              "3  -0.019552 -0.008071  0.022331 -0.018312  0.056008  0.030852  0.019770   \n",
              "4  -0.015329 -0.106865 -0.015550 -0.053802 -0.036544 -0.049736 -0.008956   \n",
              "..       ...       ...       ...       ...       ...       ...       ...   \n",
              "75  0.019162 -0.047082  0.060561  0.023314  0.022320  0.032465  0.051834   \n",
              "76 -0.021871  0.035761  0.021348 -0.001291 -0.055246 -0.059694  0.017155   \n",
              "77 -0.024468 -0.054076  0.023978  0.032172 -0.022948 -0.004165  0.029181   \n",
              "78 -0.059642  0.014174 -0.029724 -0.027898 -0.030514  0.073368  0.018417   \n",
              "79  0.023883 -0.017378  0.088960 -0.012367  0.088883  0.013791  0.009885   \n",
              "\n",
              "         7         8         9    ...       502       503       504       505  \\\n",
              "0   0.003736  0.018403 -0.079503  ... -0.075005 -0.038074  0.021771  0.049288   \n",
              "1  -0.023905  0.021886 -0.015882  ... -0.055481  0.075011 -0.090645 -0.002222   \n",
              "2  -0.021789  0.057989  0.061066  ...  0.046561  0.050683 -0.011632 -0.074274   \n",
              "3   0.021881  0.005318  0.028158  ...  0.007895 -0.109465  0.030780  0.000663   \n",
              "4   0.016234  0.033010 -0.111980  ...  0.014460  0.038917 -0.031171  0.029374   \n",
              "..       ...       ...       ...  ...       ...       ...       ...       ...   \n",
              "75 -0.039131 -0.010961  0.047909  ... -0.013387 -0.105626  0.000862  0.024641   \n",
              "76  0.035582 -0.015070 -0.027379  ...  0.014380 -0.050552  0.024367 -0.015628   \n",
              "77  0.020659  0.044379 -0.081458  ... -0.020808  0.087895  0.018164 -0.000003   \n",
              "78 -0.048121  0.018802 -0.027917  ...  0.045658  0.081282  0.026680  0.016169   \n",
              "79  0.044609  0.026312  0.073840  ...  0.011171 -0.058702  0.054244  0.051716   \n",
              "\n",
              "         506       507       508       509       510       511  \n",
              "0   0.024309  0.055887 -0.017112  0.023416 -0.017081 -0.052640  \n",
              "1   0.039894  0.069539 -0.044805 -0.025735 -0.069497  0.005132  \n",
              "2  -0.023873 -0.055575 -0.011513 -0.009071  0.090226 -0.083524  \n",
              "3  -0.023124 -0.024178 -0.044906 -0.062750  0.037002 -0.058991  \n",
              "4  -0.006420  0.003327 -0.001458 -0.070604 -0.009718 -0.014487  \n",
              "..       ...       ...       ...       ...       ...       ...  \n",
              "75  0.031170 -0.040120 -0.051104 -0.048555 -0.003501 -0.006858  \n",
              "76 -0.014156 -0.049874  0.043249  0.021207 -0.062449 -0.005798  \n",
              "77  0.072270  0.013648 -0.033807 -0.051053  0.005061 -0.011089  \n",
              "78  0.049041  0.046177 -0.030502 -0.058571 -0.026428  0.013424  \n",
              "79 -0.027404  0.018539  0.031822 -0.041737  0.011084 -0.020537  \n",
              "\n",
              "[80 rows x 512 columns]"
            ],
            "text/html": [
              "\n",
              "  <div id=\"df-164df8b2-b670-490c-8cdd-06bf7f5af23f\">\n",
              "    <div class=\"colab-df-container\">\n",
              "      <div>\n",
              "<style scoped>\n",
              "    .dataframe tbody tr th:only-of-type {\n",
              "        vertical-align: middle;\n",
              "    }\n",
              "\n",
              "    .dataframe tbody tr th {\n",
              "        vertical-align: top;\n",
              "    }\n",
              "\n",
              "    .dataframe thead th {\n",
              "        text-align: right;\n",
              "    }\n",
              "</style>\n",
              "<table border=\"1\" class=\"dataframe\">\n",
              "  <thead>\n",
              "    <tr style=\"text-align: right;\">\n",
              "      <th></th>\n",
              "      <th>0</th>\n",
              "      <th>1</th>\n",
              "      <th>2</th>\n",
              "      <th>3</th>\n",
              "      <th>4</th>\n",
              "      <th>5</th>\n",
              "      <th>6</th>\n",
              "      <th>7</th>\n",
              "      <th>8</th>\n",
              "      <th>9</th>\n",
              "      <th>...</th>\n",
              "      <th>502</th>\n",
              "      <th>503</th>\n",
              "      <th>504</th>\n",
              "      <th>505</th>\n",
              "      <th>506</th>\n",
              "      <th>507</th>\n",
              "      <th>508</th>\n",
              "      <th>509</th>\n",
              "      <th>510</th>\n",
              "      <th>511</th>\n",
              "    </tr>\n",
              "  </thead>\n",
              "  <tbody>\n",
              "    <tr>\n",
              "      <th>0</th>\n",
              "      <td>-0.069079</td>\n",
              "      <td>-0.053171</td>\n",
              "      <td>0.012722</td>\n",
              "      <td>-0.009952</td>\n",
              "      <td>-0.060480</td>\n",
              "      <td>0.023736</td>\n",
              "      <td>-0.032904</td>\n",
              "      <td>0.003736</td>\n",
              "      <td>0.018403</td>\n",
              "      <td>-0.079503</td>\n",
              "      <td>...</td>\n",
              "      <td>-0.075005</td>\n",
              "      <td>-0.038074</td>\n",
              "      <td>0.021771</td>\n",
              "      <td>0.049288</td>\n",
              "      <td>0.024309</td>\n",
              "      <td>0.055887</td>\n",
              "      <td>-0.017112</td>\n",
              "      <td>0.023416</td>\n",
              "      <td>-0.017081</td>\n",
              "      <td>-0.052640</td>\n",
              "    </tr>\n",
              "    <tr>\n",
              "      <th>1</th>\n",
              "      <td>-0.001239</td>\n",
              "      <td>-0.087297</td>\n",
              "      <td>-0.046296</td>\n",
              "      <td>-0.037069</td>\n",
              "      <td>0.046053</td>\n",
              "      <td>-0.073282</td>\n",
              "      <td>-0.049015</td>\n",
              "      <td>-0.023905</td>\n",
              "      <td>0.021886</td>\n",
              "      <td>-0.015882</td>\n",
              "      <td>...</td>\n",
              "      <td>-0.055481</td>\n",
              "      <td>0.075011</td>\n",
              "      <td>-0.090645</td>\n",
              "      <td>-0.002222</td>\n",
              "      <td>0.039894</td>\n",
              "      <td>0.069539</td>\n",
              "      <td>-0.044805</td>\n",
              "      <td>-0.025735</td>\n",
              "      <td>-0.069497</td>\n",
              "      <td>0.005132</td>\n",
              "    </tr>\n",
              "    <tr>\n",
              "      <th>2</th>\n",
              "      <td>-0.027298</td>\n",
              "      <td>0.063962</td>\n",
              "      <td>-0.028565</td>\n",
              "      <td>0.011757</td>\n",
              "      <td>0.021081</td>\n",
              "      <td>0.033447</td>\n",
              "      <td>-0.034572</td>\n",
              "      <td>-0.021789</td>\n",
              "      <td>0.057989</td>\n",
              "      <td>0.061066</td>\n",
              "      <td>...</td>\n",
              "      <td>0.046561</td>\n",
              "      <td>0.050683</td>\n",
              "      <td>-0.011632</td>\n",
              "      <td>-0.074274</td>\n",
              "      <td>-0.023873</td>\n",
              "      <td>-0.055575</td>\n",
              "      <td>-0.011513</td>\n",
              "      <td>-0.009071</td>\n",
              "      <td>0.090226</td>\n",
              "      <td>-0.083524</td>\n",
              "    </tr>\n",
              "    <tr>\n",
              "      <th>3</th>\n",
              "      <td>-0.019552</td>\n",
              "      <td>-0.008071</td>\n",
              "      <td>0.022331</td>\n",
              "      <td>-0.018312</td>\n",
              "      <td>0.056008</td>\n",
              "      <td>0.030852</td>\n",
              "      <td>0.019770</td>\n",
              "      <td>0.021881</td>\n",
              "      <td>0.005318</td>\n",
              "      <td>0.028158</td>\n",
              "      <td>...</td>\n",
              "      <td>0.007895</td>\n",
              "      <td>-0.109465</td>\n",
              "      <td>0.030780</td>\n",
              "      <td>0.000663</td>\n",
              "      <td>-0.023124</td>\n",
              "      <td>-0.024178</td>\n",
              "      <td>-0.044906</td>\n",
              "      <td>-0.062750</td>\n",
              "      <td>0.037002</td>\n",
              "      <td>-0.058991</td>\n",
              "    </tr>\n",
              "    <tr>\n",
              "      <th>4</th>\n",
              "      <td>-0.015329</td>\n",
              "      <td>-0.106865</td>\n",
              "      <td>-0.015550</td>\n",
              "      <td>-0.053802</td>\n",
              "      <td>-0.036544</td>\n",
              "      <td>-0.049736</td>\n",
              "      <td>-0.008956</td>\n",
              "      <td>0.016234</td>\n",
              "      <td>0.033010</td>\n",
              "      <td>-0.111980</td>\n",
              "      <td>...</td>\n",
              "      <td>0.014460</td>\n",
              "      <td>0.038917</td>\n",
              "      <td>-0.031171</td>\n",
              "      <td>0.029374</td>\n",
              "      <td>-0.006420</td>\n",
              "      <td>0.003327</td>\n",
              "      <td>-0.001458</td>\n",
              "      <td>-0.070604</td>\n",
              "      <td>-0.009718</td>\n",
              "      <td>-0.014487</td>\n",
              "    </tr>\n",
              "    <tr>\n",
              "      <th>...</th>\n",
              "      <td>...</td>\n",
              "      <td>...</td>\n",
              "      <td>...</td>\n",
              "      <td>...</td>\n",
              "      <td>...</td>\n",
              "      <td>...</td>\n",
              "      <td>...</td>\n",
              "      <td>...</td>\n",
              "      <td>...</td>\n",
              "      <td>...</td>\n",
              "      <td>...</td>\n",
              "      <td>...</td>\n",
              "      <td>...</td>\n",
              "      <td>...</td>\n",
              "      <td>...</td>\n",
              "      <td>...</td>\n",
              "      <td>...</td>\n",
              "      <td>...</td>\n",
              "      <td>...</td>\n",
              "      <td>...</td>\n",
              "      <td>...</td>\n",
              "    </tr>\n",
              "    <tr>\n",
              "      <th>75</th>\n",
              "      <td>0.019162</td>\n",
              "      <td>-0.047082</td>\n",
              "      <td>0.060561</td>\n",
              "      <td>0.023314</td>\n",
              "      <td>0.022320</td>\n",
              "      <td>0.032465</td>\n",
              "      <td>0.051834</td>\n",
              "      <td>-0.039131</td>\n",
              "      <td>-0.010961</td>\n",
              "      <td>0.047909</td>\n",
              "      <td>...</td>\n",
              "      <td>-0.013387</td>\n",
              "      <td>-0.105626</td>\n",
              "      <td>0.000862</td>\n",
              "      <td>0.024641</td>\n",
              "      <td>0.031170</td>\n",
              "      <td>-0.040120</td>\n",
              "      <td>-0.051104</td>\n",
              "      <td>-0.048555</td>\n",
              "      <td>-0.003501</td>\n",
              "      <td>-0.006858</td>\n",
              "    </tr>\n",
              "    <tr>\n",
              "      <th>76</th>\n",
              "      <td>-0.021871</td>\n",
              "      <td>0.035761</td>\n",
              "      <td>0.021348</td>\n",
              "      <td>-0.001291</td>\n",
              "      <td>-0.055246</td>\n",
              "      <td>-0.059694</td>\n",
              "      <td>0.017155</td>\n",
              "      <td>0.035582</td>\n",
              "      <td>-0.015070</td>\n",
              "      <td>-0.027379</td>\n",
              "      <td>...</td>\n",
              "      <td>0.014380</td>\n",
              "      <td>-0.050552</td>\n",
              "      <td>0.024367</td>\n",
              "      <td>-0.015628</td>\n",
              "      <td>-0.014156</td>\n",
              "      <td>-0.049874</td>\n",
              "      <td>0.043249</td>\n",
              "      <td>0.021207</td>\n",
              "      <td>-0.062449</td>\n",
              "      <td>-0.005798</td>\n",
              "    </tr>\n",
              "    <tr>\n",
              "      <th>77</th>\n",
              "      <td>-0.024468</td>\n",
              "      <td>-0.054076</td>\n",
              "      <td>0.023978</td>\n",
              "      <td>0.032172</td>\n",
              "      <td>-0.022948</td>\n",
              "      <td>-0.004165</td>\n",
              "      <td>0.029181</td>\n",
              "      <td>0.020659</td>\n",
              "      <td>0.044379</td>\n",
              "      <td>-0.081458</td>\n",
              "      <td>...</td>\n",
              "      <td>-0.020808</td>\n",
              "      <td>0.087895</td>\n",
              "      <td>0.018164</td>\n",
              "      <td>-0.000003</td>\n",
              "      <td>0.072270</td>\n",
              "      <td>0.013648</td>\n",
              "      <td>-0.033807</td>\n",
              "      <td>-0.051053</td>\n",
              "      <td>0.005061</td>\n",
              "      <td>-0.011089</td>\n",
              "    </tr>\n",
              "    <tr>\n",
              "      <th>78</th>\n",
              "      <td>-0.059642</td>\n",
              "      <td>0.014174</td>\n",
              "      <td>-0.029724</td>\n",
              "      <td>-0.027898</td>\n",
              "      <td>-0.030514</td>\n",
              "      <td>0.073368</td>\n",
              "      <td>0.018417</td>\n",
              "      <td>-0.048121</td>\n",
              "      <td>0.018802</td>\n",
              "      <td>-0.027917</td>\n",
              "      <td>...</td>\n",
              "      <td>0.045658</td>\n",
              "      <td>0.081282</td>\n",
              "      <td>0.026680</td>\n",
              "      <td>0.016169</td>\n",
              "      <td>0.049041</td>\n",
              "      <td>0.046177</td>\n",
              "      <td>-0.030502</td>\n",
              "      <td>-0.058571</td>\n",
              "      <td>-0.026428</td>\n",
              "      <td>0.013424</td>\n",
              "    </tr>\n",
              "    <tr>\n",
              "      <th>79</th>\n",
              "      <td>0.023883</td>\n",
              "      <td>-0.017378</td>\n",
              "      <td>0.088960</td>\n",
              "      <td>-0.012367</td>\n",
              "      <td>0.088883</td>\n",
              "      <td>0.013791</td>\n",
              "      <td>0.009885</td>\n",
              "      <td>0.044609</td>\n",
              "      <td>0.026312</td>\n",
              "      <td>0.073840</td>\n",
              "      <td>...</td>\n",
              "      <td>0.011171</td>\n",
              "      <td>-0.058702</td>\n",
              "      <td>0.054244</td>\n",
              "      <td>0.051716</td>\n",
              "      <td>-0.027404</td>\n",
              "      <td>0.018539</td>\n",
              "      <td>0.031822</td>\n",
              "      <td>-0.041737</td>\n",
              "      <td>0.011084</td>\n",
              "      <td>-0.020537</td>\n",
              "    </tr>\n",
              "  </tbody>\n",
              "</table>\n",
              "<p>80 rows × 512 columns</p>\n",
              "</div>\n",
              "      <button class=\"colab-df-convert\" onclick=\"convertToInteractive('df-164df8b2-b670-490c-8cdd-06bf7f5af23f')\"\n",
              "              title=\"Convert this dataframe to an interactive table.\"\n",
              "              style=\"display:none;\">\n",
              "        \n",
              "  <svg xmlns=\"http://www.w3.org/2000/svg\" height=\"24px\"viewBox=\"0 0 24 24\"\n",
              "       width=\"24px\">\n",
              "    <path d=\"M0 0h24v24H0V0z\" fill=\"none\"/>\n",
              "    <path d=\"M18.56 5.44l.94 2.06.94-2.06 2.06-.94-2.06-.94-.94-2.06-.94 2.06-2.06.94zm-11 1L8.5 8.5l.94-2.06 2.06-.94-2.06-.94L8.5 2.5l-.94 2.06-2.06.94zm10 10l.94 2.06.94-2.06 2.06-.94-2.06-.94-.94-2.06-.94 2.06-2.06.94z\"/><path d=\"M17.41 7.96l-1.37-1.37c-.4-.4-.92-.59-1.43-.59-.52 0-1.04.2-1.43.59L10.3 9.45l-7.72 7.72c-.78.78-.78 2.05 0 2.83L4 21.41c.39.39.9.59 1.41.59.51 0 1.02-.2 1.41-.59l7.78-7.78 2.81-2.81c.8-.78.8-2.07 0-2.86zM5.41 20L4 18.59l7.72-7.72 1.47 1.35L5.41 20z\"/>\n",
              "  </svg>\n",
              "      </button>\n",
              "      \n",
              "  <style>\n",
              "    .colab-df-container {\n",
              "      display:flex;\n",
              "      flex-wrap:wrap;\n",
              "      gap: 12px;\n",
              "    }\n",
              "\n",
              "    .colab-df-convert {\n",
              "      background-color: #E8F0FE;\n",
              "      border: none;\n",
              "      border-radius: 50%;\n",
              "      cursor: pointer;\n",
              "      display: none;\n",
              "      fill: #1967D2;\n",
              "      height: 32px;\n",
              "      padding: 0 0 0 0;\n",
              "      width: 32px;\n",
              "    }\n",
              "\n",
              "    .colab-df-convert:hover {\n",
              "      background-color: #E2EBFA;\n",
              "      box-shadow: 0px 1px 2px rgba(60, 64, 67, 0.3), 0px 1px 3px 1px rgba(60, 64, 67, 0.15);\n",
              "      fill: #174EA6;\n",
              "    }\n",
              "\n",
              "    [theme=dark] .colab-df-convert {\n",
              "      background-color: #3B4455;\n",
              "      fill: #D2E3FC;\n",
              "    }\n",
              "\n",
              "    [theme=dark] .colab-df-convert:hover {\n",
              "      background-color: #434B5C;\n",
              "      box-shadow: 0px 1px 3px 1px rgba(0, 0, 0, 0.15);\n",
              "      filter: drop-shadow(0px 1px 2px rgba(0, 0, 0, 0.3));\n",
              "      fill: #FFFFFF;\n",
              "    }\n",
              "  </style>\n",
              "\n",
              "      <script>\n",
              "        const buttonEl =\n",
              "          document.querySelector('#df-164df8b2-b670-490c-8cdd-06bf7f5af23f button.colab-df-convert');\n",
              "        buttonEl.style.display =\n",
              "          google.colab.kernel.accessAllowed ? 'block' : 'none';\n",
              "\n",
              "        async function convertToInteractive(key) {\n",
              "          const element = document.querySelector('#df-164df8b2-b670-490c-8cdd-06bf7f5af23f');\n",
              "          const dataTable =\n",
              "            await google.colab.kernel.invokeFunction('convertToInteractive',\n",
              "                                                     [key], {});\n",
              "          if (!dataTable) return;\n",
              "\n",
              "          const docLinkHtml = 'Like what you see? Visit the ' +\n",
              "            '<a target=\"_blank\" href=https://colab.research.google.com/notebooks/data_table.ipynb>data table notebook</a>'\n",
              "            + ' to learn more about interactive tables.';\n",
              "          element.innerHTML = '';\n",
              "          dataTable['output_type'] = 'display_data';\n",
              "          await google.colab.output.renderOutput(dataTable, element);\n",
              "          const docLink = document.createElement('div');\n",
              "          docLink.innerHTML = docLinkHtml;\n",
              "          element.appendChild(docLink);\n",
              "        }\n",
              "      </script>\n",
              "    </div>\n",
              "  </div>\n",
              "  "
            ]
          },
          "metadata": {},
          "execution_count": 24
        }
      ]
    },
    {
      "cell_type": "markdown",
      "source": [
        "## K-Means Clustering"
      ],
      "metadata": {
        "id": "Fs7jd_vsK7IK"
      }
    },
    {
      "cell_type": "code",
      "source": [
        "!pip install catboost\n",
        "!pip install xgboost"
      ],
      "metadata": {
        "colab": {
          "base_uri": "https://localhost:8080/"
        },
        "id": "958Dj0aShrmB",
        "outputId": "0cb9d06c-f543-4255-a056-51e4dbdfdd56"
      },
      "execution_count": null,
      "outputs": [
        {
          "output_type": "stream",
          "name": "stdout",
          "text": [
            "Looking in indexes: https://pypi.org/simple, https://us-python.pkg.dev/colab-wheels/public/simple/\n",
            "Collecting catboost\n",
            "  Downloading catboost-1.1.1-cp37-none-manylinux1_x86_64.whl (76.6 MB)\n",
            "\u001b[K     |████████████████████████████████| 76.6 MB 1.1 MB/s \n",
            "\u001b[?25hRequirement already satisfied: graphviz in /usr/local/lib/python3.7/dist-packages (from catboost) (0.10.1)\n",
            "Requirement already satisfied: numpy>=1.16.0 in /usr/local/lib/python3.7/dist-packages (from catboost) (1.21.6)\n",
            "Requirement already satisfied: six in /usr/local/lib/python3.7/dist-packages (from catboost) (1.15.0)\n",
            "Requirement already satisfied: plotly in /usr/local/lib/python3.7/dist-packages (from catboost) (5.5.0)\n",
            "Requirement already satisfied: scipy in /usr/local/lib/python3.7/dist-packages (from catboost) (1.7.3)\n",
            "Requirement already satisfied: matplotlib in /usr/local/lib/python3.7/dist-packages (from catboost) (3.2.2)\n",
            "Requirement already satisfied: pandas>=0.24.0 in /usr/local/lib/python3.7/dist-packages (from catboost) (1.3.5)\n",
            "Requirement already satisfied: pytz>=2017.3 in /usr/local/lib/python3.7/dist-packages (from pandas>=0.24.0->catboost) (2022.5)\n",
            "Requirement already satisfied: python-dateutil>=2.7.3 in /usr/local/lib/python3.7/dist-packages (from pandas>=0.24.0->catboost) (2.8.2)\n",
            "Requirement already satisfied: cycler>=0.10 in /usr/local/lib/python3.7/dist-packages (from matplotlib->catboost) (0.11.0)\n",
            "Requirement already satisfied: kiwisolver>=1.0.1 in /usr/local/lib/python3.7/dist-packages (from matplotlib->catboost) (1.4.4)\n",
            "Requirement already satisfied: pyparsing!=2.0.4,!=2.1.2,!=2.1.6,>=2.0.1 in /usr/local/lib/python3.7/dist-packages (from matplotlib->catboost) (3.0.9)\n",
            "Requirement already satisfied: typing-extensions in /usr/local/lib/python3.7/dist-packages (from kiwisolver>=1.0.1->matplotlib->catboost) (4.1.1)\n",
            "Requirement already satisfied: tenacity>=6.2.0 in /usr/local/lib/python3.7/dist-packages (from plotly->catboost) (8.1.0)\n",
            "Installing collected packages: catboost\n",
            "Successfully installed catboost-1.1.1\n",
            "Looking in indexes: https://pypi.org/simple, https://us-python.pkg.dev/colab-wheels/public/simple/\n",
            "Requirement already satisfied: xgboost in /usr/local/lib/python3.7/dist-packages (0.90)\n",
            "Requirement already satisfied: scipy in /usr/local/lib/python3.7/dist-packages (from xgboost) (1.7.3)\n",
            "Requirement already satisfied: numpy in /usr/local/lib/python3.7/dist-packages (from xgboost) (1.21.6)\n"
          ]
        }
      ]
    },
    {
      "cell_type": "code",
      "source": [
        "import numpy as np\n",
        "import pandas as pd\n",
        "from sklearn.model_selection import train_test_split\n",
        "from sklearn.linear_model import LogisticRegression\n",
        "\n",
        "from sklearn.cluster import KMeans\n",
        "from sklearn.cluster import DBSCAN\n",
        "from sklearn.mixture import GaussianMixture\n",
        "\n",
        "\n",
        "from sklearn.metrics import accuracy_score, precision_score, recall_score, f1_score\n",
        "from sklearn.ensemble import RandomForestClassifier\n",
        "from sklearn.naive_bayes import GaussianNB\n",
        "from sklearn.neighbors import KNeighborsClassifier\n",
        "from sklearn.ensemble import GradientBoostingClassifier\n",
        "from xgboost import XGBClassifier\n",
        "from catboost import CatBoostClassifier\n",
        "import matplotlib.pyplot as plt\n",
        "from sklearn.metrics import plot_confusion_matrix\n",
        "\n",
        "\n",
        "class clust():\n",
        "    def _load_data(self, sklearn_load_ds):\n",
        "        data = sklearn_load_ds\n",
        "        # X = pd.DataFrame(data.data)\n",
        "        # X = data\n",
        "        self.X_train, self.X_test, self.y_train, self.y_test = train_test_split(new_train, y_train, test_size=0.2, random_state=42)\n",
        "        \n",
        "        \n",
        "    def __init__(self, sklearn_load_ds):\n",
        "        self._load_data(sklearn_load_ds)\n",
        "    \n",
        "    # Logistic Regression\n",
        "    def classify_logreg(self, model=LogisticRegression(random_state=42)):\n",
        "        model.fit(self.X_train, self.y_train)\n",
        "        y_pred = model.predict(self.X_test)\n",
        "        print(\"\\n\\nLOGISTIC REGRESSION CLASSIFIER\")\n",
        "        print(\"Accuracy: %1.3f \\tPrecision: %1.3f \\tRecall: %1.3f \\t F1 Score: %1.3f\" % (accuracy_score(self.y_test, y_pred), precision_score(self.y_test, y_pred, average='weighted'), recall_score(self. y_test, y_pred, average='weighted'), (f1_score(self.y_test, y_pred, average='weighted'))))\n",
        "\n",
        "        plot_confusion_matrix(model, self.X_test, self.y_test)  \n",
        "        plt.show()\n",
        "\n",
        "    # Naive Bayes\n",
        "    def classify_nb(self, model=GaussianNB()):\n",
        "        model.fit(self.X_train, self.y_train)\n",
        "        y_pred = model.predict(self.X_test)\n",
        "        print(\"\\n\\nNAIVE BAYES CLASSIFIER\")\n",
        "        print(\"Accuracy: %1.3f \\tPrecision: %1.3f \\tRecall: %1.3f \\t F1 Score: %1.3f\" % (accuracy_score(self.y_test, y_pred), precision_score(self.y_test, y_pred, average='weighted'), recall_score(self. y_test, y_pred, average='weighted'), (f1_score(self.y_test, y_pred, average='weighted'))))\n",
        "        plot_confusion_matrix(model, self.X_test, self.y_test)  \n",
        "        plt.show()\n",
        "\n",
        "    # KNN \n",
        "    def classify_knn(self, model=KNeighborsClassifier(n_neighbors=5)):\n",
        "        model.fit(self.X_train, self.y_train)\n",
        "        y_pred = model.predict(self.X_test)\n",
        "        print(\"\\n\\nKNN CLASSIFIER\")\n",
        "        print(\"Accuracy: %1.3f \\tPrecision: %1.3f \\tRecall: %1.3f \\t F1 Score: %1.3f\" % (accuracy_score(self.y_test, y_pred), precision_score(self.y_test, y_pred, average='weighted'), recall_score(self. y_test, y_pred, average='weighted'), (f1_score(self.y_test, y_pred, average='weighted'))))\n",
        "\n",
        "        plot_confusion_matrix(model, self.X_test, self.y_test)  \n",
        "        plt.show()\n",
        "\n",
        "    # Random Forest \n",
        "    def classify_rf(self, model=RandomForestClassifier(max_depth=2, random_state=0)):\n",
        "        model.fit(self.X_train, self.y_train)\n",
        "        y_pred = model.predict(self.X_test)\n",
        "        print(\"\\n\\nRANDOM FOREST CLASSIFIER\")\n",
        "        print(\"Accuracy: %1.3f \\tPrecision: %1.3f \\tRecall: %1.3f \\t F1 Score: %1.3f\" % (accuracy_score(self.y_test, y_pred), precision_score(self.y_test, y_pred, average='weighted'), recall_score(self. y_test, y_pred, average='weighted'), (f1_score(self.y_test, y_pred, average='weighted'))))\n",
        "\n",
        "        plot_confusion_matrix(model, self.X_test, self.y_test)  \n",
        "        plt.show()\n",
        "\n",
        "    # XG Boost \n",
        "    def classify_xg(self, model=XGBClassifier()):\n",
        "        model.fit(self.X_train, self.y_train)\n",
        "        y_pred = model.predict(self.X_test)\n",
        "        print(\"\\n\\nXG BOOST CLASSIFIER\")\n",
        "        print(\"Accuracy: %1.3f \\tPrecision: %1.3f \\tRecall: %1.3f \\t F1 Score: %1.3f\" % (accuracy_score(self.y_test, y_pred), precision_score(self.y_test, y_pred, average='weighted'), recall_score(self. y_test, y_pred, average='weighted'), (f1_score(self.y_test, y_pred, average='weighted'))))\n",
        "\n",
        "        plot_confusion_matrix(model, self.X_test, self.y_test)  \n",
        "        plt.show()\n",
        "\n",
        "    # Cat Boost\n",
        "    def classify_cat(self, model=CatBoostClassifier(verbose=0, n_estimators=100)):\n",
        "        model.fit(self.X_train, self.y_train)\n",
        "        y_pred = model.predict(self.X_test)\n",
        "        print(\"\\n\\nCAT BOOST CLASSIFIER\")\n",
        "        print(\"Accuracy: %1.3f \\tPrecision: %1.3f \\tRecall: %1.3f \\t F1 Score: %1.3f\" % (accuracy_score(self.y_test, y_pred), precision_score(self.y_test, y_pred, average='weighted'), recall_score(self. y_test, y_pred, average='weighted'), (f1_score(self.y_test, y_pred, average='weighted'))))\n",
        "\n",
        "        plot_confusion_matrix(model, self.X_test, self.y_test)  \n",
        "        plt.show()\n",
        "\n",
        "\n",
        "    def Kmeans(self, output='add'):\n",
        "        n_clusters = len(np.unique(self.y_train))\n",
        "        clf = KMeans(n_clusters = n_clusters, random_state=42)\n",
        "        clf.fit(self.X_train)\n",
        "        y_labels_train = clf.labels_\n",
        "        y_labels_test = clf.predict(self.X_test)\n",
        "\n",
        "        # print(self.X_train['clust'])\n",
        "\n",
        "        if output == 'add':\n",
        "            self.X_train['km_clust'] = y_labels_train\n",
        "            self.X_test['km_clust'] = y_labels_test\n",
        "        elif output == 'replace':\n",
        "            self.X_train = y_labels_train[:, np.newaxis]\n",
        "            self.X_test = y_labels_test[:, np.newaxis]\n",
        "        else:\n",
        "            raise ValueError('output should be either add or replace')\n",
        "        return self\n"
      ],
      "metadata": {
        "id": "TajGAtTwr954"
      },
      "execution_count": null,
      "outputs": []
    },
    {
      "cell_type": "markdown",
      "source": [
        "# KMEANS CLUSTERING AND THEN CLASSIFICATIONS WITHOUT ADDING THE LABELS AS FEATURES"
      ],
      "metadata": {
        "id": "qWQpIg9Ai5JK"
      }
    },
    {
      "cell_type": "code",
      "source": [
        "clust(X_train).Kmeans(output='replace').classify_logreg()\n",
        "clust(X_train).Kmeans(output='replace').classify_nb()\n",
        "clust(X_train).Kmeans(output='replace').classify_knn()\n",
        "clust(X_train).Kmeans(output='replace').classify_rf()\n",
        "clust(X_train).Kmeans(output='replace').classify_xg()\n",
        "clust(X_train).Kmeans(output='replace').classify_cat()"
      ],
      "metadata": {
        "colab": {
          "base_uri": "https://localhost:8080/",
          "height": 1000
        },
        "id": "bFnAIGVSK9pa",
        "outputId": "5f3f77d1-8742-432e-e75e-afbc0edd28ba"
      },
      "execution_count": null,
      "outputs": [
        {
          "output_type": "stream",
          "name": "stdout",
          "text": [
            "\n",
            "\n",
            "LOGISTIC REGRESSION CLASSIFIER\n",
            "Accuracy: 0.906 \tPrecision: 0.920 \tRecall: 0.906 \t F1 Score: 0.905\n"
          ]
        },
        {
          "output_type": "stream",
          "name": "stderr",
          "text": [
            "/usr/local/lib/python3.7/dist-packages/sklearn/utils/deprecation.py:87: FutureWarning: Function plot_confusion_matrix is deprecated; Function `plot_confusion_matrix` is deprecated in 1.0 and will be removed in 1.2. Use one of the class methods: ConfusionMatrixDisplay.from_predictions or ConfusionMatrixDisplay.from_estimator.\n",
            "  warnings.warn(msg, category=FutureWarning)\n"
          ]
        },
        {
          "output_type": "display_data",
          "data": {
            "text/plain": [
              "<Figure size 432x288 with 2 Axes>"
            ],
            "image/png": "[encoded data removed]"
          },
          "metadata": {
            "needs_background": "light"
          }
        },
        {
          "output_type": "stream",
          "name": "stdout",
          "text": [
            "\n",
            "\n",
            "NAIVE BAYES CLASSIFIER\n",
            "Accuracy: 0.906 \tPrecision: 0.920 \tRecall: 0.906 \t F1 Score: 0.905\n"
          ]
        },
        {
          "output_type": "stream",
          "name": "stderr",
          "text": [
            "/usr/local/lib/python3.7/dist-packages/sklearn/utils/deprecation.py:87: FutureWarning: Function plot_confusion_matrix is deprecated; Function `plot_confusion_matrix` is deprecated in 1.0 and will be removed in 1.2. Use one of the class methods: ConfusionMatrixDisplay.from_predictions or ConfusionMatrixDisplay.from_estimator.\n",
            "  warnings.warn(msg, category=FutureWarning)\n"
          ]
        },
        {
          "output_type": "display_data",
          "data": {
            "text/plain": [
              "<Figure size 432x288 with 2 Axes>"
            ],
            "image/png": "[encoded data removed]"
          },
          "metadata": {
            "needs_background": "light"
          }
        },
        {
          "output_type": "stream",
          "name": "stdout",
          "text": [
            "\n",
            "\n",
            "KNN CLASSIFIER\n",
            "Accuracy: 0.906 \tPrecision: 0.920 \tRecall: 0.906 \t F1 Score: 0.905\n"
          ]
        },
        {
          "output_type": "stream",
          "name": "stderr",
          "text": [
            "/usr/local/lib/python3.7/dist-packages/sklearn/utils/deprecation.py:87: FutureWarning: Function plot_confusion_matrix is deprecated; Function `plot_confusion_matrix` is deprecated in 1.0 and will be removed in 1.2. Use one of the class methods: ConfusionMatrixDisplay.from_predictions or ConfusionMatrixDisplay.from_estimator.\n",
            "  warnings.warn(msg, category=FutureWarning)\n"
          ]
        },
        {
          "output_type": "display_data",
          "data": {
            "text/plain": [
              "<Figure size 432x288 with 2 Axes>"
            ],
            "image/png": "[encoded data removed]"
          },
          "metadata": {
            "needs_background": "light"
          }
        },
        {
          "output_type": "stream",
          "name": "stdout",
          "text": [
            "\n",
            "\n",
            "RANDOM FOREST CLASSIFIER\n",
            "Accuracy: 0.906 \tPrecision: 0.920 \tRecall: 0.906 \t F1 Score: 0.905\n"
          ]
        },
        {
          "output_type": "stream",
          "name": "stderr",
          "text": [
            "/usr/local/lib/python3.7/dist-packages/sklearn/utils/deprecation.py:87: FutureWarning: Function plot_confusion_matrix is deprecated; Function `plot_confusion_matrix` is deprecated in 1.0 and will be removed in 1.2. Use one of the class methods: ConfusionMatrixDisplay.from_predictions or ConfusionMatrixDisplay.from_estimator.\n",
            "  warnings.warn(msg, category=FutureWarning)\n"
          ]
        },
        {
          "output_type": "display_data",
          "data": {
            "text/plain": [
              "<Figure size 432x288 with 2 Axes>"
            ],
            "image/png": "[encoded data removed]"
          },
          "metadata": {
            "needs_background": "light"
          }
        },
        {
          "output_type": "stream",
          "name": "stdout",
          "text": [
            "\n",
            "\n",
            "XG BOOST CLASSIFIER\n",
            "Accuracy: 0.906 \tPrecision: 0.920 \tRecall: 0.906 \t F1 Score: 0.905\n"
          ]
        },
        {
          "output_type": "stream",
          "name": "stderr",
          "text": [
            "/usr/local/lib/python3.7/dist-packages/sklearn/utils/deprecation.py:87: FutureWarning: Function plot_confusion_matrix is deprecated; Function `plot_confusion_matrix` is deprecated in 1.0 and will be removed in 1.2. Use one of the class methods: ConfusionMatrixDisplay.from_predictions or ConfusionMatrixDisplay.from_estimator.\n",
            "  warnings.warn(msg, category=FutureWarning)\n"
          ]
        },
        {
          "output_type": "display_data",
          "data": {
            "text/plain": [
              "<Figure size 432x288 with 2 Axes>"
            ],
            "image/png": "[encoded data removed]"
          },
          "metadata": {
            "needs_background": "light"
          }
        },
        {
          "output_type": "stream",
          "name": "stdout",
          "text": [
            "\n",
            "\n",
            "CAT BOOST CLASSIFIER\n",
            "Accuracy: 0.906 \tPrecision: 0.920 \tRecall: 0.906 \t F1 Score: 0.905\n"
          ]
        },
        {
          "output_type": "stream",
          "name": "stderr",
          "text": [
            "/usr/local/lib/python3.7/dist-packages/sklearn/utils/deprecation.py:87: FutureWarning: Function plot_confusion_matrix is deprecated; Function `plot_confusion_matrix` is deprecated in 1.0 and will be removed in 1.2. Use one of the class methods: ConfusionMatrixDisplay.from_predictions or ConfusionMatrixDisplay.from_estimator.\n",
            "  warnings.warn(msg, category=FutureWarning)\n"
          ]
        },
        {
          "output_type": "display_data",
          "data": {
            "text/plain": [
              "<Figure size 432x288 with 2 Axes>"
            ],
            "image/png": "[encoded data removed]"
          },
          "metadata": {
            "needs_background": "light"
          }
        }
      ]
    },
    {
      "cell_type": "markdown",
      "source": [
        "# ONLY CLASSIFICATIONS "
      ],
      "metadata": {
        "id": "uWcn3B3DjFI4"
      }
    },
    {
      "cell_type": "code",
      "source": [
        "clust(X_train).classify_logreg()\n",
        "clust(X_train).classify_nb()\n",
        "clust(X_train).classify_knn()\n",
        "clust(X_train).classify_rf()\n",
        "clust(X_train).classify_xg()\n",
        "clust(X_train).classify_cat()"
      ],
      "metadata": {
        "colab": {
          "base_uri": "https://localhost:8080/",
          "height": 1000
        },
        "id": "drXf6dBSMXrF",
        "outputId": "3d8734be-0f56-45c3-902f-c340fda7c5ad"
      },
      "execution_count": null,
      "outputs": [
        {
          "output_type": "stream",
          "name": "stdout",
          "text": [
            "\n",
            "\n",
            "LOGISTIC REGRESSION CLASSIFIER\n",
            "Accuracy: 0.984 \tPrecision: 0.985 \tRecall: 0.984 \t F1 Score: 0.984\n"
          ]
        },
        {
          "output_type": "stream",
          "name": "stderr",
          "text": [
            "/usr/local/lib/python3.7/dist-packages/sklearn/utils/deprecation.py:87: FutureWarning: Function plot_confusion_matrix is deprecated; Function `plot_confusion_matrix` is deprecated in 1.0 and will be removed in 1.2. Use one of the class methods: ConfusionMatrixDisplay.from_predictions or ConfusionMatrixDisplay.from_estimator.\n",
            "  warnings.warn(msg, category=FutureWarning)\n"
          ]
        },
        {
          "output_type": "display_data",
          "data": {
            "text/plain": [
              "<Figure size 432x288 with 2 Axes>"
            ],
            "image/png": "[encoded data removed]"
          },
          "metadata": {
            "needs_background": "light"
          }
        },
        {
          "output_type": "stream",
          "name": "stdout",
          "text": [
            "\n",
            "\n",
            "NAIVE BAYES CLASSIFIER\n",
            "Accuracy: 0.969 \tPrecision: 0.970 \tRecall: 0.969 \t F1 Score: 0.969\n"
          ]
        },
        {
          "output_type": "stream",
          "name": "stderr",
          "text": [
            "/usr/local/lib/python3.7/dist-packages/sklearn/utils/deprecation.py:87: FutureWarning: Function plot_confusion_matrix is deprecated; Function `plot_confusion_matrix` is deprecated in 1.0 and will be removed in 1.2. Use one of the class methods: ConfusionMatrixDisplay.from_predictions or ConfusionMatrixDisplay.from_estimator.\n",
            "  warnings.warn(msg, category=FutureWarning)\n"
          ]
        },
        {
          "output_type": "display_data",
          "data": {
            "text/plain": [
              "<Figure size 432x288 with 2 Axes>"
            ],
            "image/png": "[encoded data removed]"
          },
          "metadata": {
            "needs_background": "light"
          }
        },
        {
          "output_type": "stream",
          "name": "stdout",
          "text": [
            "\n",
            "\n",
            "KNN CLASSIFIER\n"
          ]
        },
        {
          "output_type": "stream",
          "name": "stderr",
          "text": [
            "/usr/local/lib/python3.7/dist-packages/sklearn/utils/deprecation.py:87: FutureWarning: Function plot_confusion_matrix is deprecated; Function `plot_confusion_matrix` is deprecated in 1.0 and will be removed in 1.2. Use one of the class methods: ConfusionMatrixDisplay.from_predictions or ConfusionMatrixDisplay.from_estimator.\n",
            "  warnings.warn(msg, category=FutureWarning)\n"
          ]
        },
        {
          "output_type": "stream",
          "name": "stdout",
          "text": [
            "Accuracy: 0.984 \tPrecision: 0.985 \tRecall: 0.984 \t F1 Score: 0.984\n"
          ]
        },
        {
          "output_type": "display_data",
          "data": {
            "text/plain": [
              "<Figure size 432x288 with 2 Axes>"
            ],
            "image/png": "[encoded data removed]"
          },
          "metadata": {
            "needs_background": "light"
          }
        },
        {
          "output_type": "stream",
          "name": "stdout",
          "text": [
            "\n",
            "\n",
            "RANDOM FOREST CLASSIFIER\n",
            "Accuracy: 0.984 \tPrecision: 0.985 \tRecall: 0.984 \t F1 Score: 0.984\n"
          ]
        },
        {
          "output_type": "stream",
          "name": "stderr",
          "text": [
            "/usr/local/lib/python3.7/dist-packages/sklearn/utils/deprecation.py:87: FutureWarning: Function plot_confusion_matrix is deprecated; Function `plot_confusion_matrix` is deprecated in 1.0 and will be removed in 1.2. Use one of the class methods: ConfusionMatrixDisplay.from_predictions or ConfusionMatrixDisplay.from_estimator.\n",
            "  warnings.warn(msg, category=FutureWarning)\n"
          ]
        },
        {
          "output_type": "display_data",
          "data": {
            "text/plain": [
              "<Figure size 432x288 with 2 Axes>"
            ],
            "image/png": "[encoded data removed]"
          },
          "metadata": {
            "needs_background": "light"
          }
        },
        {
          "output_type": "stream",
          "name": "stdout",
          "text": [
            "\n",
            "\n",
            "XG BOOST CLASSIFIER\n",
            "Accuracy: 0.984 \tPrecision: 0.985 \tRecall: 0.984 \t F1 Score: 0.984\n"
          ]
        },
        {
          "output_type": "stream",
          "name": "stderr",
          "text": [
            "/usr/local/lib/python3.7/dist-packages/sklearn/utils/deprecation.py:87: FutureWarning: Function plot_confusion_matrix is deprecated; Function `plot_confusion_matrix` is deprecated in 1.0 and will be removed in 1.2. Use one of the class methods: ConfusionMatrixDisplay.from_predictions or ConfusionMatrixDisplay.from_estimator.\n",
            "  warnings.warn(msg, category=FutureWarning)\n"
          ]
        },
        {
          "output_type": "display_data",
          "data": {
            "text/plain": [
              "<Figure size 432x288 with 2 Axes>"
            ],
            "image/png": "[encoded data removed]"
          },
          "metadata": {
            "needs_background": "light"
          }
        },
        {
          "output_type": "stream",
          "name": "stdout",
          "text": [
            "\n",
            "\n",
            "CAT BOOST CLASSIFIER\n",
            "Accuracy: 1.000 \tPrecision: 1.000 \tRecall: 1.000 \t F1 Score: 1.000\n"
          ]
        },
        {
          "output_type": "stream",
          "name": "stderr",
          "text": [
            "/usr/local/lib/python3.7/dist-packages/sklearn/utils/deprecation.py:87: FutureWarning: Function plot_confusion_matrix is deprecated; Function `plot_confusion_matrix` is deprecated in 1.0 and will be removed in 1.2. Use one of the class methods: ConfusionMatrixDisplay.from_predictions or ConfusionMatrixDisplay.from_estimator.\n",
            "  warnings.warn(msg, category=FutureWarning)\n"
          ]
        },
        {
          "output_type": "display_data",
          "data": {
            "text/plain": [
              "<Figure size 432x288 with 2 Axes>"
            ],
            "image/png": "[encoded data removed]"
          },
          "metadata": {
            "needs_background": "light"
          }
        }
      ]
    },
    {
      "cell_type": "markdown",
      "source": [
        "# KMEANS CLUSTERING AND THEN CLASSIFICATIONS WITH ADDING THE LABELS AS FEATURES"
      ],
      "metadata": {
        "id": "qHqApntcjLcd"
      }
    },
    {
      "cell_type": "code",
      "source": [
        "clust(X_train).Kmeans(output='add').classify_logreg()\n",
        "clust(X_train).Kmeans(output='add').classify_nb()\n",
        "clust(X_train).Kmeans(output='add').classify_knn()\n",
        "clust(X_train).Kmeans(output='add').classify_rf()\n",
        "clust(X_train).Kmeans(output='add').classify_xg()\n",
        "clust(X_train).Kmeans(output='add').classify_cat()"
      ],
      "metadata": {
        "colab": {
          "base_uri": "https://localhost:8080/",
          "height": 1000
        },
        "id": "_wlkXlr3MrfV",
        "outputId": "baa15499-7aa2-451e-dee2-7488e66c29a0"
      },
      "execution_count": null,
      "outputs": [
        {
          "output_type": "stream",
          "name": "stderr",
          "text": [
            "/usr/local/lib/python3.7/dist-packages/sklearn/utils/validation.py:1692: FutureWarning: Feature names only support names that are all strings. Got feature names with dtypes: ['int', 'str']. An error will be raised in 1.2.\n",
            "  FutureWarning,\n",
            "/usr/local/lib/python3.7/dist-packages/sklearn/utils/validation.py:1692: FutureWarning: Feature names only support names that are all strings. Got feature names with dtypes: ['int', 'str']. An error will be raised in 1.2.\n",
            "  FutureWarning,\n",
            "/usr/local/lib/python3.7/dist-packages/sklearn/utils/deprecation.py:87: FutureWarning: Function plot_confusion_matrix is deprecated; Function `plot_confusion_matrix` is deprecated in 1.0 and will be removed in 1.2. Use one of the class methods: ConfusionMatrixDisplay.from_predictions or ConfusionMatrixDisplay.from_estimator.\n",
            "  warnings.warn(msg, category=FutureWarning)\n",
            "/usr/local/lib/python3.7/dist-packages/sklearn/utils/validation.py:1692: FutureWarning: Feature names only support names that are all strings. Got feature names with dtypes: ['int', 'str']. An error will be raised in 1.2.\n",
            "  FutureWarning,\n"
          ]
        },
        {
          "output_type": "stream",
          "name": "stdout",
          "text": [
            "\n",
            "\n",
            "LOGISTIC REGRESSION CLASSIFIER\n",
            "Accuracy: 0.984 \tPrecision: 0.985 \tRecall: 0.984 \t F1 Score: 0.984\n"
          ]
        },
        {
          "output_type": "display_data",
          "data": {
            "text/plain": [
              "<Figure size 432x288 with 2 Axes>"
            ],
            "image/png": "[encoded data removed]"
          },
          "metadata": {
            "needs_background": "light"
          }
        },
        {
          "output_type": "stream",
          "name": "stderr",
          "text": [
            "/usr/local/lib/python3.7/dist-packages/sklearn/utils/validation.py:1692: FutureWarning: Feature names only support names that are all strings. Got feature names with dtypes: ['int', 'str']. An error will be raised in 1.2.\n",
            "  FutureWarning,\n",
            "/usr/local/lib/python3.7/dist-packages/sklearn/utils/validation.py:1692: FutureWarning: Feature names only support names that are all strings. Got feature names with dtypes: ['int', 'str']. An error will be raised in 1.2.\n",
            "  FutureWarning,\n",
            "/usr/local/lib/python3.7/dist-packages/sklearn/utils/deprecation.py:87: FutureWarning: Function plot_confusion_matrix is deprecated; Function `plot_confusion_matrix` is deprecated in 1.0 and will be removed in 1.2. Use one of the class methods: ConfusionMatrixDisplay.from_predictions or ConfusionMatrixDisplay.from_estimator.\n",
            "  warnings.warn(msg, category=FutureWarning)\n",
            "/usr/local/lib/python3.7/dist-packages/sklearn/utils/validation.py:1692: FutureWarning: Feature names only support names that are all strings. Got feature names with dtypes: ['int', 'str']. An error will be raised in 1.2.\n",
            "  FutureWarning,\n"
          ]
        },
        {
          "output_type": "stream",
          "name": "stdout",
          "text": [
            "\n",
            "\n",
            "NAIVE BAYES CLASSIFIER\n",
            "Accuracy: 0.969 \tPrecision: 0.970 \tRecall: 0.969 \t F1 Score: 0.969\n"
          ]
        },
        {
          "output_type": "display_data",
          "data": {
            "text/plain": [
              "<Figure size 432x288 with 2 Axes>"
            ],
            "image/png": "[encoded data removed]"
          },
          "metadata": {
            "needs_background": "light"
          }
        },
        {
          "output_type": "stream",
          "name": "stderr",
          "text": [
            "/usr/local/lib/python3.7/dist-packages/sklearn/utils/validation.py:1692: FutureWarning: Feature names only support names that are all strings. Got feature names with dtypes: ['int', 'str']. An error will be raised in 1.2.\n",
            "  FutureWarning,\n",
            "/usr/local/lib/python3.7/dist-packages/sklearn/utils/validation.py:1692: FutureWarning: Feature names only support names that are all strings. Got feature names with dtypes: ['int', 'str']. An error will be raised in 1.2.\n",
            "  FutureWarning,\n",
            "/usr/local/lib/python3.7/dist-packages/sklearn/utils/deprecation.py:87: FutureWarning: Function plot_confusion_matrix is deprecated; Function `plot_confusion_matrix` is deprecated in 1.0 and will be removed in 1.2. Use one of the class methods: ConfusionMatrixDisplay.from_predictions or ConfusionMatrixDisplay.from_estimator.\n",
            "  warnings.warn(msg, category=FutureWarning)\n",
            "/usr/local/lib/python3.7/dist-packages/sklearn/utils/validation.py:1692: FutureWarning: Feature names only support names that are all strings. Got feature names with dtypes: ['int', 'str']. An error will be raised in 1.2.\n",
            "  FutureWarning,\n"
          ]
        },
        {
          "output_type": "stream",
          "name": "stdout",
          "text": [
            "\n",
            "\n",
            "KNN CLASSIFIER\n",
            "Accuracy: 1.000 \tPrecision: 1.000 \tRecall: 1.000 \t F1 Score: 1.000\n"
          ]
        },
        {
          "output_type": "display_data",
          "data": {
            "text/plain": [
              "<Figure size 432x288 with 2 Axes>"
            ],
            "image/png": "[encoded data removed]"
          },
          "metadata": {
            "needs_background": "light"
          }
        },
        {
          "output_type": "stream",
          "name": "stderr",
          "text": [
            "/usr/local/lib/python3.7/dist-packages/sklearn/utils/validation.py:1692: FutureWarning: Feature names only support names that are all strings. Got feature names with dtypes: ['int', 'str']. An error will be raised in 1.2.\n",
            "  FutureWarning,\n",
            "/usr/local/lib/python3.7/dist-packages/sklearn/utils/validation.py:1692: FutureWarning: Feature names only support names that are all strings. Got feature names with dtypes: ['int', 'str']. An error will be raised in 1.2.\n",
            "  FutureWarning,\n",
            "/usr/local/lib/python3.7/dist-packages/sklearn/utils/deprecation.py:87: FutureWarning: Function plot_confusion_matrix is deprecated; Function `plot_confusion_matrix` is deprecated in 1.0 and will be removed in 1.2. Use one of the class methods: ConfusionMatrixDisplay.from_predictions or ConfusionMatrixDisplay.from_estimator.\n",
            "  warnings.warn(msg, category=FutureWarning)\n",
            "/usr/local/lib/python3.7/dist-packages/sklearn/utils/validation.py:1692: FutureWarning: Feature names only support names that are all strings. Got feature names with dtypes: ['int', 'str']. An error will be raised in 1.2.\n",
            "  FutureWarning,\n"
          ]
        },
        {
          "output_type": "stream",
          "name": "stdout",
          "text": [
            "\n",
            "\n",
            "RANDOM FOREST CLASSIFIER\n",
            "Accuracy: 0.984 \tPrecision: 0.985 \tRecall: 0.984 \t F1 Score: 0.984\n"
          ]
        },
        {
          "output_type": "display_data",
          "data": {
            "text/plain": [
              "<Figure size 432x288 with 2 Axes>"
            ],
            "image/png": "[encoded data removed]"
          },
          "metadata": {
            "needs_background": "light"
          }
        },
        {
          "output_type": "stream",
          "name": "stdout",
          "text": [
            "\n",
            "\n",
            "XG BOOST CLASSIFIER\n",
            "Accuracy: 0.984 \tPrecision: 0.985 \tRecall: 0.984 \t F1 Score: 0.984\n"
          ]
        },
        {
          "output_type": "stream",
          "name": "stderr",
          "text": [
            "/usr/local/lib/python3.7/dist-packages/sklearn/utils/deprecation.py:87: FutureWarning: Function plot_confusion_matrix is deprecated; Function `plot_confusion_matrix` is deprecated in 1.0 and will be removed in 1.2. Use one of the class methods: ConfusionMatrixDisplay.from_predictions or ConfusionMatrixDisplay.from_estimator.\n",
            "  warnings.warn(msg, category=FutureWarning)\n"
          ]
        },
        {
          "output_type": "display_data",
          "data": {
            "text/plain": [
              "<Figure size 432x288 with 2 Axes>"
            ],
            "image/png": "[encoded data removed]"
          },
          "metadata": {
            "needs_background": "light"
          }
        },
        {
          "output_type": "stream",
          "name": "stdout",
          "text": [
            "\n",
            "\n",
            "CAT BOOST CLASSIFIER\n",
            "Accuracy: 1.000 \tPrecision: 1.000 \tRecall: 1.000 \t F1 Score: 1.000\n"
          ]
        },
        {
          "output_type": "stream",
          "name": "stderr",
          "text": [
            "/usr/local/lib/python3.7/dist-packages/sklearn/utils/deprecation.py:87: FutureWarning: Function plot_confusion_matrix is deprecated; Function `plot_confusion_matrix` is deprecated in 1.0 and will be removed in 1.2. Use one of the class methods: ConfusionMatrixDisplay.from_predictions or ConfusionMatrixDisplay.from_estimator.\n",
            "  warnings.warn(msg, category=FutureWarning)\n"
          ]
        },
        {
          "output_type": "display_data",
          "data": {
            "text/plain": [
              "<Figure size 432x288 with 2 Axes>"
            ],
            "image/png": "[encoded data removed]"
          },
          "metadata": {
            "needs_background": "light"
          }
        }
      ]
    },
    {
      "cell_type": "markdown",
      "source": [
        "# EM CLUSTERING"
      ],
      "metadata": {
        "id": "Q7ahZTh0hxnR"
      }
    },
    {
      "cell_type": "code",
      "source": [
        "import numpy as np\n",
        "import pandas as pd\n",
        "from sklearn.model_selection import train_test_split\n",
        "from sklearn.linear_model import LogisticRegression\n",
        "\n",
        "from sklearn.cluster import KMeans\n",
        "from sklearn.cluster import DBSCAN\n",
        "from sklearn.mixture import GaussianMixture\n",
        "\n",
        "\n",
        "from sklearn.metrics import accuracy_score\n",
        "from sklearn.ensemble import RandomForestClassifier\n",
        "from sklearn.naive_bayes import GaussianNB\n",
        "from sklearn.neighbors import KNeighborsClassifier\n",
        "from sklearn.ensemble import GradientBoostingClassifier\n",
        "from xgboost import XGBClassifier\n",
        "from catboost import CatBoostClassifier\n",
        "import matplotlib.pyplot as plt\n",
        "from sklearn.metrics import plot_confusion_matrix\n",
        "\n",
        "\n",
        "class clust():\n",
        "    def _load_data(self, sklearn_load_ds):\n",
        "        data = sklearn_load_ds\n",
        "        # X = pd.DataFrame(data.data)\n",
        "        # X = data\n",
        "        self.X_train, self.X_test, self.y_train, self.y_test = train_test_split(new_train, y_train, test_size=0.2, random_state=42)\n",
        "        \n",
        "        \n",
        "    def __init__(self, sklearn_load_ds):\n",
        "        self._load_data(sklearn_load_ds)\n",
        "    \n",
        "    # Logistic Regression\n",
        "    def classify_logreg(self, model=LogisticRegression(random_state=42)):\n",
        "        model.fit(self.X_train, self.y_train)\n",
        "        y_pred = model.predict(self.X_test)\n",
        "        print(\"\\n\\nLOGISTIC REGRESSION CLASSIFIER\")\n",
        "        print(\"Accuracy: %1.3f \\tPrecision: %1.3f \\tRecall: %1.3f \\t F1 Score: %1.3f\" % (accuracy_score(self.y_test, y_pred), precision_score(self.y_test, y_pred, average='weighted'), recall_score(self. y_test, y_pred, average='weighted'), (f1_score(self.y_test, y_pred, average='weighted'))))\n",
        "\n",
        "        plot_confusion_matrix(model, self.X_test, self.y_test)  \n",
        "        plt.show()\n",
        "\n",
        "    # Naive Bayes\n",
        "    def classify_nb(self, model=GaussianNB()):\n",
        "        model.fit(self.X_train, self.y_train)\n",
        "        y_pred = model.predict(self.X_test)\n",
        "        print(\"\\n\\nNAIVE BAYES CLASSIFIER\")\n",
        "        print(\"Accuracy: %1.3f \\tPrecision: %1.3f \\tRecall: %1.3f \\t F1 Score: %1.3f\" % (accuracy_score(self.y_test, y_pred), precision_score(self.y_test, y_pred, average='weighted'), recall_score(self. y_test, y_pred, average='weighted'), (f1_score(self.y_test, y_pred, average='weighted'))))\n",
        "\n",
        "        plot_confusion_matrix(model, self.X_test, self.y_test)  \n",
        "        plt.show()\n",
        "\n",
        "    # KNN \n",
        "    def classify_knn(self, model=KNeighborsClassifier(n_neighbors=5)):\n",
        "        model.fit(self.X_train, self.y_train)\n",
        "        y_pred = model.predict(self.X_test)\n",
        "        print(\"\\n\\nKNN CLASSIFIER\")\n",
        "        print(\"Accuracy: %1.3f \\tPrecision: %1.3f \\tRecall: %1.3f \\t F1 Score: %1.3f\" % (accuracy_score(self.y_test, y_pred), precision_score(self.y_test, y_pred, average='weighted'), recall_score(self. y_test, y_pred, average='weighted'), (f1_score(self.y_test, y_pred, average='weighted'))))\n",
        "\n",
        "        plot_confusion_matrix(model, self.X_test, self.y_test)  \n",
        "        plt.show()\n",
        "\n",
        "    # Random Forest \n",
        "    def classify_rf(self, model=RandomForestClassifier(max_depth=2, random_state=0)):\n",
        "        model.fit(self.X_train, self.y_train)\n",
        "        y_pred = model.predict(self.X_test)\n",
        "        print(\"\\n\\nRANDOM FOREST CLASSIFIER\")\n",
        "        print(\"Accuracy: %1.3f \\tPrecision: %1.3f \\tRecall: %1.3f \\t F1 Score: %1.3f\" % (accuracy_score(self.y_test, y_pred), precision_score(self.y_test, y_pred, average='weighted'), recall_score(self. y_test, y_pred, average='weighted'), (f1_score(self.y_test, y_pred, average='weighted'))))\n",
        "\n",
        "        plot_confusion_matrix(model, self.X_test, self.y_test)  \n",
        "        plt.show()\n",
        "\n",
        "    # XG Boost \n",
        "    def classify_xg(self, model=XGBClassifier()):\n",
        "        model.fit(self.X_train, self.y_train)\n",
        "        y_pred = model.predict(self.X_test)\n",
        "        print(\"\\n\\nXG BOOST CLASSIFIER\")\n",
        "        print(\"Accuracy: %1.3f \\tPrecision: %1.3f \\tRecall: %1.3f \\t F1 Score: %1.3f\" % (accuracy_score(self.y_test, y_pred), precision_score(self.y_test, y_pred, average='weighted'), recall_score(self. y_test, y_pred, average='weighted'), (f1_score(self.y_test, y_pred, average='weighted'))))\n",
        "\n",
        "        plot_confusion_matrix(model, self.X_test, self.y_test)  \n",
        "        plt.show()\n",
        "\n",
        "    # Cat Boost\n",
        "    def classify_cat(self, model=CatBoostClassifier(verbose=0, n_estimators=100)):\n",
        "        model.fit(self.X_train, self.y_train)\n",
        "        y_pred = model.predict(self.X_test)\n",
        "        print(\"\\n\\nCAT BOOST CLASSIFIER\")\n",
        "        print(\"Accuracy: %1.3f \\tPrecision: %1.3f \\tRecall: %1.3f \\t F1 Score: %1.3f\" % (accuracy_score(self.y_test, y_pred), precision_score(self.y_test, y_pred, average='weighted'), recall_score(self. y_test, y_pred, average='weighted'), (f1_score(self.y_test, y_pred, average='weighted'))))\n",
        "\n",
        "        plot_confusion_matrix(model, self.X_test, self.y_test)  \n",
        "        plt.show()\n",
        "\n",
        "\n",
        "    def EMClust(self, output='add'):\n",
        "        # n_clusters = len(np.unique(self.y_train))\n",
        "        clf = GaussianMixture(n_components=2)\n",
        "        \n",
        "        y_labels_train = clf.fit_predict(self.X_train)\n",
        "        y_labels_test = clf.predict(self.X_test)\n",
        "\n",
        "        # print(self.X_train['clust'])\n",
        "\n",
        "        if output == 'add':\n",
        "            self.X_train['km_clust'] = y_labels_train\n",
        "            self.X_test['km_clust'] = y_labels_test\n",
        "        elif output == 'replace':\n",
        "            self.X_train = y_labels_train[:, np.newaxis]\n",
        "            self.X_test = y_labels_test[:, np.newaxis]\n",
        "        else:\n",
        "            raise ValueError('output should be either add or replace')\n",
        "        return self"
      ],
      "metadata": {
        "id": "Ugp16DL7kgWO"
      },
      "execution_count": null,
      "outputs": []
    },
    {
      "cell_type": "markdown",
      "source": [
        "# EM CLUSTERING AND THEN CLASSIFICATIONS WITHOUT ADDING THE LABELS AS FEATURES"
      ],
      "metadata": {
        "id": "4uvPCH5sluoE"
      }
    },
    {
      "cell_type": "code",
      "source": [
        "clust(X_train).EMClust(output='replace').classify_logreg()\n",
        "clust(X_train).EMClust(output='replace').classify_nb()\n",
        "clust(X_train).EMClust(output='replace').classify_knn()\n",
        "clust(X_train).EMClust(output='replace').classify_rf()\n",
        "clust(X_train).EMClust(output='replace').classify_xg()\n",
        "clust(X_train).EMClust(output='replace').classify_cat()"
      ],
      "metadata": {
        "id": "Iw38rTG31De_",
        "colab": {
          "base_uri": "https://localhost:8080/",
          "height": 1000
        },
        "outputId": "81300b25-c8b6-4225-b36a-3a46c2316dc8"
      },
      "execution_count": null,
      "outputs": [
        {
          "output_type": "stream",
          "name": "stdout",
          "text": [
            "\n",
            "\n",
            "LOGISTIC REGRESSION CLASSIFIER\n",
            "Accuracy: 0.891 \tPrecision: 0.909 \tRecall: 0.891 \t F1 Score: 0.889\n"
          ]
        },
        {
          "output_type": "stream",
          "name": "stderr",
          "text": [
            "/usr/local/lib/python3.7/dist-packages/sklearn/utils/deprecation.py:87: FutureWarning: Function plot_confusion_matrix is deprecated; Function `plot_confusion_matrix` is deprecated in 1.0 and will be removed in 1.2. Use one of the class methods: ConfusionMatrixDisplay.from_predictions or ConfusionMatrixDisplay.from_estimator.\n",
            "  warnings.warn(msg, category=FutureWarning)\n"
          ]
        },
        {
          "output_type": "display_data",
          "data": {
            "text/plain": [
              "<Figure size 432x288 with 2 Axes>"
            ],
            "image/png": "[encoded data removed]"
          },
          "metadata": {
            "needs_background": "light"
          }
        },
        {
          "output_type": "stream",
          "name": "stdout",
          "text": [
            "\n",
            "\n",
            "NAIVE BAYES CLASSIFIER\n",
            "Accuracy: 0.891 \tPrecision: 0.909 \tRecall: 0.891 \t F1 Score: 0.889\n"
          ]
        },
        {
          "output_type": "stream",
          "name": "stderr",
          "text": [
            "/usr/local/lib/python3.7/dist-packages/sklearn/utils/deprecation.py:87: FutureWarning: Function plot_confusion_matrix is deprecated; Function `plot_confusion_matrix` is deprecated in 1.0 and will be removed in 1.2. Use one of the class methods: ConfusionMatrixDisplay.from_predictions or ConfusionMatrixDisplay.from_estimator.\n",
            "  warnings.warn(msg, category=FutureWarning)\n"
          ]
        },
        {
          "output_type": "display_data",
          "data": {
            "text/plain": [
              "<Figure size 432x288 with 2 Axes>"
            ],
            "image/png": "[encoded data removed]"
          },
          "metadata": {
            "needs_background": "light"
          }
        },
        {
          "output_type": "stream",
          "name": "stdout",
          "text": [
            "\n",
            "\n",
            "KNN CLASSIFIER\n",
            "Accuracy: 0.891 \tPrecision: 0.909 \tRecall: 0.891 \t F1 Score: 0.889\n"
          ]
        },
        {
          "output_type": "stream",
          "name": "stderr",
          "text": [
            "/usr/local/lib/python3.7/dist-packages/sklearn/utils/deprecation.py:87: FutureWarning: Function plot_confusion_matrix is deprecated; Function `plot_confusion_matrix` is deprecated in 1.0 and will be removed in 1.2. Use one of the class methods: ConfusionMatrixDisplay.from_predictions or ConfusionMatrixDisplay.from_estimator.\n",
            "  warnings.warn(msg, category=FutureWarning)\n"
          ]
        },
        {
          "output_type": "display_data",
          "data": {
            "text/plain": [
              "<Figure size 432x288 with 2 Axes>"
            ],
            "image/png": "[encoded data removed]"
          },
          "metadata": {
            "needs_background": "light"
          }
        },
        {
          "output_type": "stream",
          "name": "stdout",
          "text": [
            "\n",
            "\n",
            "RANDOM FOREST CLASSIFIER\n",
            "Accuracy: 0.891 \tPrecision: 0.909 \tRecall: 0.891 \t F1 Score: 0.889\n"
          ]
        },
        {
          "output_type": "stream",
          "name": "stderr",
          "text": [
            "/usr/local/lib/python3.7/dist-packages/sklearn/utils/deprecation.py:87: FutureWarning: Function plot_confusion_matrix is deprecated; Function `plot_confusion_matrix` is deprecated in 1.0 and will be removed in 1.2. Use one of the class methods: ConfusionMatrixDisplay.from_predictions or ConfusionMatrixDisplay.from_estimator.\n",
            "  warnings.warn(msg, category=FutureWarning)\n"
          ]
        },
        {
          "output_type": "display_data",
          "data": {
            "text/plain": [
              "<Figure size 432x288 with 2 Axes>"
            ],
            "image/png": "[encoded data removed]"
          },
          "metadata": {
            "needs_background": "light"
          }
        },
        {
          "output_type": "stream",
          "name": "stdout",
          "text": [
            "\n",
            "\n",
            "XG BOOST CLASSIFIER\n",
            "Accuracy: 0.891 \tPrecision: 0.909 \tRecall: 0.891 \t F1 Score: 0.889\n"
          ]
        },
        {
          "output_type": "stream",
          "name": "stderr",
          "text": [
            "/usr/local/lib/python3.7/dist-packages/sklearn/utils/deprecation.py:87: FutureWarning: Function plot_confusion_matrix is deprecated; Function `plot_confusion_matrix` is deprecated in 1.0 and will be removed in 1.2. Use one of the class methods: ConfusionMatrixDisplay.from_predictions or ConfusionMatrixDisplay.from_estimator.\n",
            "  warnings.warn(msg, category=FutureWarning)\n"
          ]
        },
        {
          "output_type": "display_data",
          "data": {
            "text/plain": [
              "<Figure size 432x288 with 2 Axes>"
            ],
            "image/png": "[encoded data removed]"
          },
          "metadata": {
            "needs_background": "light"
          }
        },
        {
          "output_type": "stream",
          "name": "stdout",
          "text": [
            "\n",
            "\n",
            "CAT BOOST CLASSIFIER\n",
            "Accuracy: 0.891 \tPrecision: 0.909 \tRecall: 0.891 \t F1 Score: 0.889\n"
          ]
        },
        {
          "output_type": "stream",
          "name": "stderr",
          "text": [
            "/usr/local/lib/python3.7/dist-packages/sklearn/utils/deprecation.py:87: FutureWarning: Function plot_confusion_matrix is deprecated; Function `plot_confusion_matrix` is deprecated in 1.0 and will be removed in 1.2. Use one of the class methods: ConfusionMatrixDisplay.from_predictions or ConfusionMatrixDisplay.from_estimator.\n",
            "  warnings.warn(msg, category=FutureWarning)\n"
          ]
        },
        {
          "output_type": "display_data",
          "data": {
            "text/plain": [
              "<Figure size 432x288 with 2 Axes>"
            ],
            "image/png": "[encoded data removed]"
          },
          "metadata": {
            "needs_background": "light"
          }
        }
      ]
    },
    {
      "cell_type": "markdown",
      "source": [
        "# Only Classification"
      ],
      "metadata": {
        "id": "_7JU03xFl-Cz"
      }
    },
    {
      "cell_type": "code",
      "source": [
        "clust(X_train).classify_logreg()\n",
        "clust(X_train).classify_nb()\n",
        "clust(X_train).classify_knn()\n",
        "clust(X_train).classify_rf()\n",
        "clust(X_train).classify_xg()\n",
        "clust(X_train).classify_cat()"
      ],
      "metadata": {
        "colab": {
          "base_uri": "https://localhost:8080/",
          "height": 1000
        },
        "id": "bpypgmR5h3mh",
        "outputId": "9a1d7087-b8cc-4904-de79-a056e0aaf0df"
      },
      "execution_count": null,
      "outputs": [
        {
          "output_type": "stream",
          "name": "stdout",
          "text": [
            "\n",
            "\n",
            "LOGISTIC REGRESSION CLASSIFIER\n",
            "Accuracy: 0.984 \tPrecision: 0.985 \tRecall: 0.984 \t F1 Score: 0.984\n"
          ]
        },
        {
          "output_type": "stream",
          "name": "stderr",
          "text": [
            "/usr/local/lib/python3.7/dist-packages/sklearn/utils/deprecation.py:87: FutureWarning: Function plot_confusion_matrix is deprecated; Function `plot_confusion_matrix` is deprecated in 1.0 and will be removed in 1.2. Use one of the class methods: ConfusionMatrixDisplay.from_predictions or ConfusionMatrixDisplay.from_estimator.\n",
            "  warnings.warn(msg, category=FutureWarning)\n"
          ]
        },
        {
          "output_type": "display_data",
          "data": {
            "text/plain": [
              "<Figure size 432x288 with 2 Axes>"
            ],
            "image/png": "[encoded data removed]"
          },
          "metadata": {
            "needs_background": "light"
          }
        },
        {
          "output_type": "stream",
          "name": "stdout",
          "text": [
            "\n",
            "\n",
            "NAIVE BAYES CLASSIFIER\n",
            "Accuracy: 0.969 \tPrecision: 0.970 \tRecall: 0.969 \t F1 Score: 0.969\n"
          ]
        },
        {
          "output_type": "stream",
          "name": "stderr",
          "text": [
            "/usr/local/lib/python3.7/dist-packages/sklearn/utils/deprecation.py:87: FutureWarning: Function plot_confusion_matrix is deprecated; Function `plot_confusion_matrix` is deprecated in 1.0 and will be removed in 1.2. Use one of the class methods: ConfusionMatrixDisplay.from_predictions or ConfusionMatrixDisplay.from_estimator.\n",
            "  warnings.warn(msg, category=FutureWarning)\n"
          ]
        },
        {
          "output_type": "display_data",
          "data": {
            "text/plain": [
              "<Figure size 432x288 with 2 Axes>"
            ],
            "image/png": "[encoded data removed]"
          },
          "metadata": {
            "needs_background": "light"
          }
        },
        {
          "output_type": "stream",
          "name": "stdout",
          "text": [
            "\n",
            "\n",
            "KNN CLASSIFIER\n"
          ]
        },
        {
          "output_type": "stream",
          "name": "stderr",
          "text": [
            "/usr/local/lib/python3.7/dist-packages/sklearn/utils/deprecation.py:87: FutureWarning: Function plot_confusion_matrix is deprecated; Function `plot_confusion_matrix` is deprecated in 1.0 and will be removed in 1.2. Use one of the class methods: ConfusionMatrixDisplay.from_predictions or ConfusionMatrixDisplay.from_estimator.\n",
            "  warnings.warn(msg, category=FutureWarning)\n"
          ]
        },
        {
          "output_type": "stream",
          "name": "stdout",
          "text": [
            "Accuracy: 0.984 \tPrecision: 0.985 \tRecall: 0.984 \t F1 Score: 0.984\n"
          ]
        },
        {
          "output_type": "display_data",
          "data": {
            "text/plain": [
              "<Figure size 432x288 with 2 Axes>"
            ],
            "image/png": "[encoded data removed]"
          },
          "metadata": {
            "needs_background": "light"
          }
        },
        {
          "output_type": "stream",
          "name": "stdout",
          "text": [
            "\n",
            "\n",
            "RANDOM FOREST CLASSIFIER\n",
            "Accuracy: 0.984 \tPrecision: 0.985 \tRecall: 0.984 \t F1 Score: 0.984\n"
          ]
        },
        {
          "output_type": "stream",
          "name": "stderr",
          "text": [
            "/usr/local/lib/python3.7/dist-packages/sklearn/utils/deprecation.py:87: FutureWarning: Function plot_confusion_matrix is deprecated; Function `plot_confusion_matrix` is deprecated in 1.0 and will be removed in 1.2. Use one of the class methods: ConfusionMatrixDisplay.from_predictions or ConfusionMatrixDisplay.from_estimator.\n",
            "  warnings.warn(msg, category=FutureWarning)\n"
          ]
        },
        {
          "output_type": "display_data",
          "data": {
            "text/plain": [
              "<Figure size 432x288 with 2 Axes>"
            ],
            "image/png": "[encoded data removed]"
          },
          "metadata": {
            "needs_background": "light"
          }
        },
        {
          "output_type": "stream",
          "name": "stdout",
          "text": [
            "\n",
            "\n",
            "XG BOOST CLASSIFIER\n",
            "Accuracy: 0.984 \tPrecision: 0.985 \tRecall: 0.984 \t F1 Score: 0.984\n"
          ]
        },
        {
          "output_type": "stream",
          "name": "stderr",
          "text": [
            "/usr/local/lib/python3.7/dist-packages/sklearn/utils/deprecation.py:87: FutureWarning: Function plot_confusion_matrix is deprecated; Function `plot_confusion_matrix` is deprecated in 1.0 and will be removed in 1.2. Use one of the class methods: ConfusionMatrixDisplay.from_predictions or ConfusionMatrixDisplay.from_estimator.\n",
            "  warnings.warn(msg, category=FutureWarning)\n"
          ]
        },
        {
          "output_type": "display_data",
          "data": {
            "text/plain": [
              "<Figure size 432x288 with 2 Axes>"
            ],
            "image/png": "[encoded data removed]"
          },
          "metadata": {
            "needs_background": "light"
          }
        },
        {
          "output_type": "stream",
          "name": "stdout",
          "text": [
            "\n",
            "\n",
            "CAT BOOST CLASSIFIER\n",
            "Accuracy: 1.000 \tPrecision: 1.000 \tRecall: 1.000 \t F1 Score: 1.000\n"
          ]
        },
        {
          "output_type": "stream",
          "name": "stderr",
          "text": [
            "/usr/local/lib/python3.7/dist-packages/sklearn/utils/deprecation.py:87: FutureWarning: Function plot_confusion_matrix is deprecated; Function `plot_confusion_matrix` is deprecated in 1.0 and will be removed in 1.2. Use one of the class methods: ConfusionMatrixDisplay.from_predictions or ConfusionMatrixDisplay.from_estimator.\n",
            "  warnings.warn(msg, category=FutureWarning)\n"
          ]
        },
        {
          "output_type": "display_data",
          "data": {
            "text/plain": [
              "<Figure size 432x288 with 2 Axes>"
            ],
            "image/png": "[encoded data removed]"
          },
          "metadata": {
            "needs_background": "light"
          }
        }
      ]
    },
    {
      "cell_type": "markdown",
      "source": [
        "# EM CLUSTERING AND THEN CLASSIFICATIONS WITH ADDING THE LABELS AS FEATURES"
      ],
      "metadata": {
        "id": "GLfVF5rbmB2S"
      }
    },
    {
      "cell_type": "code",
      "source": [
        "clust(X_train).EMClust(output='add').classify_logreg()\n",
        "clust(X_train).EMClust(output='add').classify_nb()\n",
        "clust(X_train).EMClust(output='add').classify_knn()\n",
        "clust(X_train).EMClust(output='add').classify_rf()\n",
        "clust(X_train).EMClust(output='add').classify_xg()\n",
        "clust(X_train).EMClust(output='add').classify_cat()"
      ],
      "metadata": {
        "colab": {
          "base_uri": "https://localhost:8080/",
          "height": 1000
        },
        "id": "nHo4qJRhlGyL",
        "outputId": "312aa726-e537-40bc-d548-d2f1cbb4f531"
      },
      "execution_count": null,
      "outputs": [
        {
          "output_type": "stream",
          "name": "stderr",
          "text": [
            "/usr/local/lib/python3.7/dist-packages/sklearn/utils/validation.py:1692: FutureWarning: Feature names only support names that are all strings. Got feature names with dtypes: ['int', 'str']. An error will be raised in 1.2.\n",
            "  FutureWarning,\n",
            "/usr/local/lib/python3.7/dist-packages/sklearn/utils/validation.py:1692: FutureWarning: Feature names only support names that are all strings. Got feature names with dtypes: ['int', 'str']. An error will be raised in 1.2.\n",
            "  FutureWarning,\n",
            "/usr/local/lib/python3.7/dist-packages/sklearn/utils/deprecation.py:87: FutureWarning: Function plot_confusion_matrix is deprecated; Function `plot_confusion_matrix` is deprecated in 1.0 and will be removed in 1.2. Use one of the class methods: ConfusionMatrixDisplay.from_predictions or ConfusionMatrixDisplay.from_estimator.\n",
            "  warnings.warn(msg, category=FutureWarning)\n",
            "/usr/local/lib/python3.7/dist-packages/sklearn/utils/validation.py:1692: FutureWarning: Feature names only support names that are all strings. Got feature names with dtypes: ['int', 'str']. An error will be raised in 1.2.\n",
            "  FutureWarning,\n"
          ]
        },
        {
          "output_type": "stream",
          "name": "stdout",
          "text": [
            "\n",
            "\n",
            "LOGISTIC REGRESSION CLASSIFIER\n",
            "Accuracy: 0.969 \tPrecision: 0.969 \tRecall: 0.969 \t F1 Score: 0.969\n"
          ]
        },
        {
          "output_type": "display_data",
          "data": {
            "text/plain": [
              "<Figure size 432x288 with 2 Axes>"
            ],
            "image/png": "[encoded data removed]"
          },
          "metadata": {
            "needs_background": "light"
          }
        },
        {
          "output_type": "stream",
          "name": "stderr",
          "text": [
            "/usr/local/lib/python3.7/dist-packages/sklearn/utils/validation.py:1692: FutureWarning: Feature names only support names that are all strings. Got feature names with dtypes: ['int', 'str']. An error will be raised in 1.2.\n",
            "  FutureWarning,\n",
            "/usr/local/lib/python3.7/dist-packages/sklearn/utils/validation.py:1692: FutureWarning: Feature names only support names that are all strings. Got feature names with dtypes: ['int', 'str']. An error will be raised in 1.2.\n",
            "  FutureWarning,\n",
            "/usr/local/lib/python3.7/dist-packages/sklearn/utils/deprecation.py:87: FutureWarning: Function plot_confusion_matrix is deprecated; Function `plot_confusion_matrix` is deprecated in 1.0 and will be removed in 1.2. Use one of the class methods: ConfusionMatrixDisplay.from_predictions or ConfusionMatrixDisplay.from_estimator.\n",
            "  warnings.warn(msg, category=FutureWarning)\n",
            "/usr/local/lib/python3.7/dist-packages/sklearn/utils/validation.py:1692: FutureWarning: Feature names only support names that are all strings. Got feature names with dtypes: ['int', 'str']. An error will be raised in 1.2.\n",
            "  FutureWarning,\n"
          ]
        },
        {
          "output_type": "stream",
          "name": "stdout",
          "text": [
            "\n",
            "\n",
            "NAIVE BAYES CLASSIFIER\n",
            "Accuracy: 0.969 \tPrecision: 0.970 \tRecall: 0.969 \t F1 Score: 0.969\n"
          ]
        },
        {
          "output_type": "display_data",
          "data": {
            "text/plain": [
              "<Figure size 432x288 with 2 Axes>"
            ],
            "image/png": "[encoded data removed]"
          },
          "metadata": {
            "needs_background": "light"
          }
        },
        {
          "output_type": "stream",
          "name": "stderr",
          "text": [
            "/usr/local/lib/python3.7/dist-packages/sklearn/utils/validation.py:1692: FutureWarning: Feature names only support names that are all strings. Got feature names with dtypes: ['int', 'str']. An error will be raised in 1.2.\n",
            "  FutureWarning,\n",
            "/usr/local/lib/python3.7/dist-packages/sklearn/utils/validation.py:1692: FutureWarning: Feature names only support names that are all strings. Got feature names with dtypes: ['int', 'str']. An error will be raised in 1.2.\n",
            "  FutureWarning,\n",
            "/usr/local/lib/python3.7/dist-packages/sklearn/utils/deprecation.py:87: FutureWarning: Function plot_confusion_matrix is deprecated; Function `plot_confusion_matrix` is deprecated in 1.0 and will be removed in 1.2. Use one of the class methods: ConfusionMatrixDisplay.from_predictions or ConfusionMatrixDisplay.from_estimator.\n",
            "  warnings.warn(msg, category=FutureWarning)\n",
            "/usr/local/lib/python3.7/dist-packages/sklearn/utils/validation.py:1692: FutureWarning: Feature names only support names that are all strings. Got feature names with dtypes: ['int', 'str']. An error will be raised in 1.2.\n",
            "  FutureWarning,\n"
          ]
        },
        {
          "output_type": "stream",
          "name": "stdout",
          "text": [
            "\n",
            "\n",
            "KNN CLASSIFIER\n",
            "Accuracy: 1.000 \tPrecision: 1.000 \tRecall: 1.000 \t F1 Score: 1.000\n"
          ]
        },
        {
          "output_type": "display_data",
          "data": {
            "text/plain": [
              "<Figure size 432x288 with 2 Axes>"
            ],
            "image/png": "[encoded data removed]"
          },
          "metadata": {
            "needs_background": "light"
          }
        },
        {
          "output_type": "stream",
          "name": "stderr",
          "text": [
            "/usr/local/lib/python3.7/dist-packages/sklearn/utils/validation.py:1692: FutureWarning: Feature names only support names that are all strings. Got feature names with dtypes: ['int', 'str']. An error will be raised in 1.2.\n",
            "  FutureWarning,\n"
          ]
        },
        {
          "output_type": "stream",
          "name": "stdout",
          "text": [
            "\n",
            "\n",
            "RANDOM FOREST CLASSIFIER\n",
            "Accuracy: 0.984 \tPrecision: 0.985 \tRecall: 0.984 \t F1 Score: 0.984\n"
          ]
        },
        {
          "output_type": "stream",
          "name": "stderr",
          "text": [
            "/usr/local/lib/python3.7/dist-packages/sklearn/utils/validation.py:1692: FutureWarning: Feature names only support names that are all strings. Got feature names with dtypes: ['int', 'str']. An error will be raised in 1.2.\n",
            "  FutureWarning,\n",
            "/usr/local/lib/python3.7/dist-packages/sklearn/utils/deprecation.py:87: FutureWarning: Function plot_confusion_matrix is deprecated; Function `plot_confusion_matrix` is deprecated in 1.0 and will be removed in 1.2. Use one of the class methods: ConfusionMatrixDisplay.from_predictions or ConfusionMatrixDisplay.from_estimator.\n",
            "  warnings.warn(msg, category=FutureWarning)\n",
            "/usr/local/lib/python3.7/dist-packages/sklearn/utils/validation.py:1692: FutureWarning: Feature names only support names that are all strings. Got feature names with dtypes: ['int', 'str']. An error will be raised in 1.2.\n",
            "  FutureWarning,\n"
          ]
        },
        {
          "output_type": "display_data",
          "data": {
            "text/plain": [
              "<Figure size 432x288 with 2 Axes>"
            ],
            "image/png": "[encoded data removed]"
          },
          "metadata": {
            "needs_background": "light"
          }
        },
        {
          "output_type": "stream",
          "name": "stdout",
          "text": [
            "\n",
            "\n",
            "XG BOOST CLASSIFIER\n",
            "Accuracy: 0.984 \tPrecision: 0.985 \tRecall: 0.984 \t F1 Score: 0.984\n"
          ]
        },
        {
          "output_type": "stream",
          "name": "stderr",
          "text": [
            "/usr/local/lib/python3.7/dist-packages/sklearn/utils/deprecation.py:87: FutureWarning: Function plot_confusion_matrix is deprecated; Function `plot_confusion_matrix` is deprecated in 1.0 and will be removed in 1.2. Use one of the class methods: ConfusionMatrixDisplay.from_predictions or ConfusionMatrixDisplay.from_estimator.\n",
            "  warnings.warn(msg, category=FutureWarning)\n"
          ]
        },
        {
          "output_type": "display_data",
          "data": {
            "text/plain": [
              "<Figure size 432x288 with 2 Axes>"
            ],
            "image/png": "[encoded data removed]"
          },
          "metadata": {
            "needs_background": "light"
          }
        },
        {
          "output_type": "stream",
          "name": "stdout",
          "text": [
            "\n",
            "\n",
            "CAT BOOST CLASSIFIER\n",
            "Accuracy: 0.984 \tPrecision: 0.985 \tRecall: 0.984 \t F1 Score: 0.984\n"
          ]
        },
        {
          "output_type": "stream",
          "name": "stderr",
          "text": [
            "/usr/local/lib/python3.7/dist-packages/sklearn/utils/deprecation.py:87: FutureWarning: Function plot_confusion_matrix is deprecated; Function `plot_confusion_matrix` is deprecated in 1.0 and will be removed in 1.2. Use one of the class methods: ConfusionMatrixDisplay.from_predictions or ConfusionMatrixDisplay.from_estimator.\n",
            "  warnings.warn(msg, category=FutureWarning)\n"
          ]
        },
        {
          "output_type": "display_data",
          "data": {
            "text/plain": [
              "<Figure size 432x288 with 2 Axes>"
            ],
            "image/png": "[encoded data removed]"
          },
          "metadata": {
            "needs_background": "light"
          }
        }
      ]
    },
    {
      "cell_type": "markdown",
      "source": [
        "# DB SCAN"
      ],
      "metadata": {
        "id": "sSSCU9Ytmh8r"
      }
    },
    {
      "cell_type": "code",
      "source": [
        "!pip install catboost\n",
        "!pip install xgboost"
      ],
      "metadata": {
        "colab": {
          "base_uri": "https://localhost:8080/"
        },
        "id": "-1kaZPnP_mq2",
        "outputId": "3506989f-e25c-466c-d8e2-0eb2414ca0bd"
      },
      "execution_count": null,
      "outputs": [
        {
          "output_type": "stream",
          "name": "stdout",
          "text": [
            "Looking in indexes: https://pypi.org/simple, https://us-python.pkg.dev/colab-wheels/public/simple/\n",
            "Collecting catboost\n",
            "  Downloading catboost-1.1-cp37-none-manylinux1_x86_64.whl (76.8 MB)\n",
            "\u001b[K     |████████████████████████████████| 76.8 MB 10 kB/s \n",
            "\u001b[?25hRequirement already satisfied: pandas>=0.24.0 in /usr/local/lib/python3.7/dist-packages (from catboost) (1.3.5)\n",
            "Requirement already satisfied: numpy>=1.16.0 in /usr/local/lib/python3.7/dist-packages (from catboost) (1.21.6)\n",
            "Requirement already satisfied: plotly in /usr/local/lib/python3.7/dist-packages (from catboost) (5.5.0)\n",
            "Requirement already satisfied: six in /usr/local/lib/python3.7/dist-packages (from catboost) (1.15.0)\n",
            "Requirement already satisfied: matplotlib in /usr/local/lib/python3.7/dist-packages (from catboost) (3.2.2)\n",
            "Requirement already satisfied: scipy in /usr/local/lib/python3.7/dist-packages (from catboost) (1.7.3)\n",
            "Requirement already satisfied: graphviz in /usr/local/lib/python3.7/dist-packages (from catboost) (0.10.1)\n",
            "Requirement already satisfied: python-dateutil>=2.7.3 in /usr/local/lib/python3.7/dist-packages (from pandas>=0.24.0->catboost) (2.8.2)\n",
            "Requirement already satisfied: pytz>=2017.3 in /usr/local/lib/python3.7/dist-packages (from pandas>=0.24.0->catboost) (2022.4)\n",
            "Requirement already satisfied: kiwisolver>=1.0.1 in /usr/local/lib/python3.7/dist-packages (from matplotlib->catboost) (1.4.4)\n",
            "Requirement already satisfied: cycler>=0.10 in /usr/local/lib/python3.7/dist-packages (from matplotlib->catboost) (0.11.0)\n",
            "Requirement already satisfied: pyparsing!=2.0.4,!=2.1.2,!=2.1.6,>=2.0.1 in /usr/local/lib/python3.7/dist-packages (from matplotlib->catboost) (3.0.9)\n",
            "Requirement already satisfied: typing-extensions in /usr/local/lib/python3.7/dist-packages (from kiwisolver>=1.0.1->matplotlib->catboost) (4.1.1)\n",
            "Requirement already satisfied: tenacity>=6.2.0 in /usr/local/lib/python3.7/dist-packages (from plotly->catboost) (8.1.0)\n",
            "Installing collected packages: catboost\n",
            "Successfully installed catboost-1.1\n",
            "Looking in indexes: https://pypi.org/simple, https://us-python.pkg.dev/colab-wheels/public/simple/\n",
            "Requirement already satisfied: xgboost in /usr/local/lib/python3.7/dist-packages (0.90)\n",
            "Requirement already satisfied: scipy in /usr/local/lib/python3.7/dist-packages (from xgboost) (1.7.3)\n",
            "Requirement already satisfied: numpy in /usr/local/lib/python3.7/dist-packages (from xgboost) (1.21.6)\n"
          ]
        }
      ]
    },
    {
      "cell_type": "code",
      "source": [
        "import numpy as np\n",
        "import pandas as pd\n",
        "from sklearn.model_selection import train_test_split\n",
        "from sklearn.linear_model import LogisticRegression\n",
        "\n",
        "from sklearn.cluster import KMeans\n",
        "from sklearn.cluster import DBSCAN\n",
        "from sklearn.mixture import GaussianMixture\n",
        "\n",
        "\n",
        "from sklearn.metrics import accuracy_score\n",
        "from sklearn.ensemble import RandomForestClassifier\n",
        "from sklearn.naive_bayes import GaussianNB\n",
        "from sklearn.neighbors import KNeighborsClassifier\n",
        "from sklearn.ensemble import GradientBoostingClassifier\n",
        "from xgboost import XGBClassifier\n",
        "from catboost import CatBoostClassifier\n",
        "import matplotlib.pyplot as plt\n",
        "from sklearn.metrics import plot_confusion_matrix\n",
        "\n",
        "\n",
        "class clust():\n",
        "    def _load_data(self, sklearn_load_ds):\n",
        "        data = sklearn_load_ds\n",
        "        # X = pd.DataFrame(data.data)\n",
        "        # X = data\n",
        "        self.X_train, self.X_test, self.y_train, self.y_test = train_test_split(new_train, y_train, test_size=0.3, random_state=42)\n",
        "        \n",
        "        \n",
        "    def __init__(self, sklearn_load_ds):\n",
        "        self._load_data(sklearn_load_ds)\n",
        "    \n",
        "    # Logistic Regression\n",
        "    def classify_logreg(self, model=LogisticRegression(random_state=42)):\n",
        "        model.fit(self.X_train, self.y_train)\n",
        "        y_pred = model.predict(self.X_test)\n",
        "        print(\"\\n\\nLOGISTIC REGRESSION CLASSIFIER\")\n",
        "        print('Accuracy: {}'.format(accuracy_score(self.y_test, y_pred)))\n",
        "        plot_confusion_matrix(model, self.X_test, self.y_test)  \n",
        "        plt.show()\n",
        "\n",
        "    # Naive Bayes\n",
        "    def classify_nb(self, model=GaussianNB()):\n",
        "        model.fit(self.X_train, self.y_train)\n",
        "        y_pred = model.predict(self.X_test)\n",
        "        print(\"\\n\\nNAIVE BAYES CLASSIFIER\")\n",
        "        print('Accuracy: {}'.format(accuracy_score(self.y_test, y_pred)))\n",
        "        plot_confusion_matrix(model, self.X_test, self.y_test)  \n",
        "        plt.show()\n",
        "\n",
        "    # KNN \n",
        "    def classify_knn(self, model=KNeighborsClassifier(n_neighbors=5)):\n",
        "        model.fit(self.X_train, self.y_train)\n",
        "        y_pred = model.predict(self.X_test)\n",
        "        print(\"\\n\\nKNN CLASSIFIER\")\n",
        "        print('Accuracy: {}'.format(accuracy_score(self.y_test, y_pred)))\n",
        "        plot_confusion_matrix(model, self.X_test, self.y_test)  \n",
        "        plt.show()\n",
        "\n",
        "    # Random Forest \n",
        "    def classify_rf(self, model=RandomForestClassifier(max_depth=2, random_state=0)):\n",
        "        model.fit(self.X_train, self.y_train)\n",
        "        y_pred = model.predict(self.X_test)\n",
        "        print(\"\\n\\nRANDOM FOREST CLASSIFIER\")\n",
        "        print('Accuracy: {}'.format(accuracy_score(self.y_test, y_pred)))\n",
        "        plot_confusion_matrix(model, self.X_test, self.y_test)  \n",
        "        plt.show()\n",
        "\n",
        "    # XG Boost \n",
        "    def classify_xg(self, model=XGBClassifier()):\n",
        "        model.fit(self.X_train, self.y_train)\n",
        "        y_pred = model.predict(self.X_test)\n",
        "        print(\"\\n\\nXG BOOST CLASSIFIER\")\n",
        "        print('Accuracy: {}'.format(accuracy_score(self.y_test, y_pred)))\n",
        "        plot_confusion_matrix(model, self.X_test, self.y_test)  \n",
        "        plt.show()\n",
        "\n",
        "    # Cat Boost\n",
        "    def classify_cat(self, model=CatBoostClassifier(verbose=0, n_estimators=100)):\n",
        "        model.fit(self.X_train, self.y_train)\n",
        "        y_pred = model.predict(self.X_test)\n",
        "        print(\"\\n\\nCAT BOOST CLASSIFIER\")\n",
        "        print('Accuracy: {}'.format(accuracy_score(self.y_test, y_pred)))\n",
        "        plot_confusion_matrix(model, self.X_test, self.y_test)  \n",
        "        plt.show()\n",
        "\n",
        "\n",
        "    def Kmeans(self, output='add'):\n",
        "        n_clusters = len(np.unique(self.y_train))\n",
        "        clf = KMeans(n_clusters = n_clusters, random_state=42)\n",
        "        clf.fit(self.X_train)\n",
        "        y_labels_train = clf.labels_\n",
        "        y_labels_test = clf.predict(self.X_test)\n",
        "\n",
        "        # print(self.X_train['clust'])\n",
        "\n",
        "        if output == 'add':\n",
        "            self.X_train['km_clust'] = y_labels_train\n",
        "            self.X_test['km_clust'] = y_labels_test\n",
        "        elif output == 'replace':\n",
        "            self.X_train = y_labels_train[:, np.newaxis]\n",
        "            self.X_test = y_labels_test[:, np.newaxis]\n",
        "        else:\n",
        "            raise ValueError('output should be either add or replace')\n",
        "        return self\n",
        "\n",
        "    def DBscan(self, output='add'):\n",
        "        epsilon = 0.5\n",
        "        minimumSamples = 5\n",
        "        db = DBSCAN(eps=epsilon, min_samples=minimumSamples).fit(self.X_train)\n",
        "        y_labels_train = db.labels_\n",
        "        \n",
        "        # print(y_labels_train)\n",
        "\n",
        "        epsilon = 0.5\n",
        "        minimumSamples = 5\n",
        "        db = DBSCAN(eps=epsilon, min_samples=minimumSamples).fit(self.X_test)\n",
        "        y_labels_test = db.labels_\n",
        "        \n",
        "        # print(y_labels_test)\n",
        "\n",
        "        if output == 'add':\n",
        "            self.X_train['km_clust'] = y_labels_train\n",
        "            self.X_test['km_clust'] = y_labels_test\n",
        "        elif output == 'replace':\n",
        "            self.X_train = y_labels_train[:, np.newaxis]\n",
        "            self.X_test = y_labels_test[:, np.newaxis]\n",
        "        else:\n",
        "            raise ValueError('output should be either add or replace')\n",
        "        return self\n",
        "      \n",
        "    "
      ],
      "metadata": {
        "id": "ZbUwACVWlXKR"
      },
      "execution_count": null,
      "outputs": []
    },
    {
      "cell_type": "code",
      "source": [
        "clust(X_train).DBscan(output='replace').classify_logreg()\n",
        "clust(X_train).DBscan(output='replace').classify_nb()\n",
        "clust(X_train).DBscan(output='replace').classify_knn()\n",
        "clust(X_train).DBscan(output='replace').classify_rf()\n",
        "clust(X_train).DBscan(output='replace').classify_xg()\n",
        "clust(X_train).DBscan(output='replace').classify_cat()"
      ],
      "metadata": {
        "id": "XgVTK7qumogC",
        "colab": {
          "base_uri": "https://localhost:8080/",
          "height": 1000
        },
        "outputId": "b880c848-ecfc-46e8-c6d8-76cdbd15c040"
      },
      "execution_count": null,
      "outputs": [
        {
          "output_type": "stream",
          "name": "stdout",
          "text": [
            "\n",
            "\n",
            "LOGISTIC REGRESSION CLASSIFIER\n",
            "Accuracy: 0.4791666666666667\n"
          ]
        },
        {
          "output_type": "stream",
          "name": "stderr",
          "text": [
            "/usr/local/lib/python3.7/dist-packages/sklearn/utils/deprecation.py:87: FutureWarning: Function plot_confusion_matrix is deprecated; Function `plot_confusion_matrix` is deprecated in 1.0 and will be removed in 1.2. Use one of the class methods: ConfusionMatrixDisplay.from_predictions or ConfusionMatrixDisplay.from_estimator.\n",
            "  warnings.warn(msg, category=FutureWarning)\n"
          ]
        },
        {
          "output_type": "display_data",
          "data": {
            "text/plain": [
              "<Figure size 432x288 with 2 Axes>"
            ],
            "image/png": "[encoded data removed]"
          },
          "metadata": {
            "needs_background": "light"
          }
        },
        {
          "output_type": "stream",
          "name": "stdout",
          "text": [
            "\n",
            "\n",
            "NAIVE BAYES CLASSIFIER\n",
            "Accuracy: 0.4791666666666667\n"
          ]
        },
        {
          "output_type": "stream",
          "name": "stderr",
          "text": [
            "/usr/local/lib/python3.7/dist-packages/sklearn/utils/deprecation.py:87: FutureWarning: Function plot_confusion_matrix is deprecated; Function `plot_confusion_matrix` is deprecated in 1.0 and will be removed in 1.2. Use one of the class methods: ConfusionMatrixDisplay.from_predictions or ConfusionMatrixDisplay.from_estimator.\n",
            "  warnings.warn(msg, category=FutureWarning)\n"
          ]
        },
        {
          "output_type": "display_data",
          "data": {
            "text/plain": [
              "<Figure size 432x288 with 2 Axes>"
            ],
            "image/png": "[encoded data removed]"
          },
          "metadata": {
            "needs_background": "light"
          }
        },
        {
          "output_type": "stream",
          "name": "stdout",
          "text": [
            "\n",
            "\n",
            "KNN CLASSIFIER\n",
            "Accuracy: 0.5208333333333334\n"
          ]
        },
        {
          "output_type": "stream",
          "name": "stderr",
          "text": [
            "/usr/local/lib/python3.7/dist-packages/sklearn/utils/deprecation.py:87: FutureWarning: Function plot_confusion_matrix is deprecated; Function `plot_confusion_matrix` is deprecated in 1.0 and will be removed in 1.2. Use one of the class methods: ConfusionMatrixDisplay.from_predictions or ConfusionMatrixDisplay.from_estimator.\n",
            "  warnings.warn(msg, category=FutureWarning)\n"
          ]
        },
        {
          "output_type": "display_data",
          "data": {
            "text/plain": [
              "<Figure size 432x288 with 2 Axes>"
            ],
            "image/png": "[encoded data removed]"
          },
          "metadata": {
            "needs_background": "light"
          }
        },
        {
          "output_type": "stream",
          "name": "stdout",
          "text": [
            "\n",
            "\n",
            "RANDOM FOREST CLASSIFIER\n",
            "Accuracy: 0.4791666666666667\n"
          ]
        },
        {
          "output_type": "stream",
          "name": "stderr",
          "text": [
            "/usr/local/lib/python3.7/dist-packages/sklearn/utils/deprecation.py:87: FutureWarning: Function plot_confusion_matrix is deprecated; Function `plot_confusion_matrix` is deprecated in 1.0 and will be removed in 1.2. Use one of the class methods: ConfusionMatrixDisplay.from_predictions or ConfusionMatrixDisplay.from_estimator.\n",
            "  warnings.warn(msg, category=FutureWarning)\n"
          ]
        },
        {
          "output_type": "display_data",
          "data": {
            "text/plain": [
              "<Figure size 432x288 with 2 Axes>"
            ],
            "image/png": "[encoded data removed]"
          },
          "metadata": {
            "needs_background": "light"
          }
        },
        {
          "output_type": "stream",
          "name": "stdout",
          "text": [
            "\n",
            "\n",
            "XG BOOST CLASSIFIER\n",
            "Accuracy: 0.4791666666666667\n"
          ]
        },
        {
          "output_type": "stream",
          "name": "stderr",
          "text": [
            "/usr/local/lib/python3.7/dist-packages/sklearn/utils/deprecation.py:87: FutureWarning: Function plot_confusion_matrix is deprecated; Function `plot_confusion_matrix` is deprecated in 1.0 and will be removed in 1.2. Use one of the class methods: ConfusionMatrixDisplay.from_predictions or ConfusionMatrixDisplay.from_estimator.\n",
            "  warnings.warn(msg, category=FutureWarning)\n"
          ]
        },
        {
          "output_type": "display_data",
          "data": {
            "text/plain": [
              "<Figure size 432x288 with 2 Axes>"
            ],
            "image/png": "[encoded data removed]"
          },
          "metadata": {
            "needs_background": "light"
          }
        },
        {
          "output_type": "stream",
          "name": "stdout",
          "text": [
            "\n",
            "\n",
            "CAT BOOST CLASSIFIER\n",
            "Accuracy: 0.4791666666666667\n"
          ]
        },
        {
          "output_type": "stream",
          "name": "stderr",
          "text": [
            "/usr/local/lib/python3.7/dist-packages/sklearn/utils/deprecation.py:87: FutureWarning: Function plot_confusion_matrix is deprecated; Function `plot_confusion_matrix` is deprecated in 1.0 and will be removed in 1.2. Use one of the class methods: ConfusionMatrixDisplay.from_predictions or ConfusionMatrixDisplay.from_estimator.\n",
            "  warnings.warn(msg, category=FutureWarning)\n"
          ]
        },
        {
          "output_type": "display_data",
          "data": {
            "text/plain": [
              "<Figure size 432x288 with 2 Axes>"
            ],
            "image/png": "[encoded data removed]"
          },
          "metadata": {
            "needs_background": "light"
          }
        }
      ]
    },
    {
      "cell_type": "code",
      "source": [],
      "metadata": {
        "id": "Ohlbc6itkfW_"
      },
      "execution_count": null,
      "outputs": []
    }
  ]
}